{
 "cells": [
  {
   "cell_type": "markdown",
   "id": "7ee302d2",
   "metadata": {},
   "source": [
    "# Title\n",
    "The title of the notebook should be coherent with file name. Namely, file name should be:    \n",
    "*author's initials_progressive number_title.ipynb*    \n",
    "For example:    \n",
    "*EF_01_Data Exploration.ipynb*\n",
    "\n",
    "## Purpose\n",
    "State the purpose of the notebook.\n",
    "\n",
    "## Methodology\n",
    "Quickly describe assumptions and processing steps.\n",
    "\n",
    "## WIP - improvements\n",
    "Use this section only if the notebook is not final.\n",
    "\n",
    "Notable TODOs:\n",
    "- todo 1;\n",
    "- todo 2;\n",
    "- todo 3.\n",
    "\n",
    "## Results\n",
    "Describe and comment the most important results.\n",
    "\n",
    "## Suggested next steps\n",
    "State suggested next steps, based on results obtained in this notebook."
   ]
  },
  {
   "cell_type": "markdown",
   "id": "5561827e",
   "metadata": {},
   "source": [
    "# Setup\n",
    "\n",
    "## Library import\n",
    "We import all the required Python libraries"
   ]
  },
  {
   "cell_type": "code",
   "execution_count": 3,
   "id": "4c61ec23",
   "metadata": {
    "ExecuteTime": {
     "end_time": "2022-06-19T22:45:11.108031Z",
     "start_time": "2022-06-19T22:45:10.953606Z"
    }
   },
   "outputs": [
    {
     "data": {
      "text/html": [
       "        <script type=\"text/javascript\">\n",
       "        window.PlotlyConfig = {MathJaxConfig: 'local'};\n",
       "        if (window.MathJax && window.MathJax.Hub && window.MathJax.Hub.Config) {window.MathJax.Hub.Config({SVG: {font: \"STIX-Web\"}});}\n",
       "        if (typeof require !== 'undefined') {\n",
       "        require.undef(\"plotly\");\n",
       "        requirejs.config({\n",
       "            paths: {\n",
       "                'plotly': ['https://cdn.plot.ly/plotly-2.12.1.min']\n",
       "            }\n",
       "        });\n",
       "        require(['plotly'], function(Plotly) {\n",
       "            window._Plotly = Plotly;\n",
       "        });\n",
       "        }\n",
       "        </script>\n",
       "        "
      ]
     },
     "metadata": {},
     "output_type": "display_data"
    },
    {
     "name": "stdout",
     "output_type": "stream",
     "text": [
      "The autoreload extension is already loaded. To reload it, use:\n",
      "  %reload_ext autoreload\n"
     ]
    }
   ],
   "source": [
    "import os\n",
    "from typing import List\n",
    "\n",
    "# Data manipulation\n",
    "import pandas as pd\n",
    "import numpy as np\n",
    "\n",
    "# Visualizations\n",
    "import matplotlib as plt\n",
    "from pandas_profiling import ProfileReport\n",
    "import plotly\n",
    "import plotly.graph_objs as go\n",
    "import plotly.offline as ply\n",
    "import seaborn as sns\n",
    "from sklearn.linear_model import LinearRegression\n",
    "from sklearn.metrics import mean_squared_error as mse\n",
    "from sklearn.model_selection import train_test_split\n",
    "\n",
    "os.chdir('../')\n",
    "from src.utils.data_describe import breve_descricao, serie_nulos, cardinalidade\n",
    "os.chdir('./notebooks/')\n",
    "\n",
    "# Options for pandas\n",
    "pd.set_option('display.max_rows', None)\n",
    "pd.set_option('display.max_columns', None)\n",
    "\n",
    "plotly.offline.init_notebook_mode(connected=True)\n",
    "\n",
    "# Autoreload extension\n",
    "if 'autoreload' not in get_ipython().extension_manager.loaded:\n",
    "    %load_ext autoreload\n",
    "    \n",
    "%autoreload 2"
   ]
  },
  {
   "cell_type": "markdown",
   "id": "f6dc0e54",
   "metadata": {},
   "source": [
    "# Parameter definition\n",
    "We set all relevant parameters for our notebook. By convention, parameters are uppercase, while all the \n",
    "other variables follow Python's guidelines."
   ]
  },
  {
   "cell_type": "code",
   "execution_count": 4,
   "id": "77ad95f4",
   "metadata": {
    "ExecuteTime": {
     "end_time": "2022-06-19T22:45:11.956531Z",
     "start_time": "2022-06-19T22:45:11.809227Z"
    }
   },
   "outputs": [],
   "source": [
    "RAW_FOLDER = '../data/raw/'\n",
    "INTERIM_FOLDER = '../data/interim/'\n",
    "REPORTS_FOLDER = '../reports/'\n",
    "RANDOM_STATE = 42"
   ]
  },
  {
   "cell_type": "markdown",
   "id": "2949100f",
   "metadata": {},
   "source": [
    "\n",
    "# Data import\n",
    "We retrieve all the required data for the analysis."
   ]
  },
  {
   "cell_type": "code",
   "execution_count": 5,
   "id": "4496d643",
   "metadata": {
    "ExecuteTime": {
     "end_time": "2022-06-19T22:45:13.117167Z",
     "start_time": "2022-06-19T22:45:12.872588Z"
    }
   },
   "outputs": [
    {
     "data": {
      "text/plain": [
       "(1460, 19)"
      ]
     },
     "execution_count": 5,
     "metadata": {},
     "output_type": "execute_result"
    }
   ],
   "source": [
    "df = pd.read_parquet(INTERIM_FOLDER + 'df_train_interim_01_baseline.pqt')\n",
    "df_evaluation = df.copy() \n",
    "df_evaluation.shape"
   ]
  },
  {
   "cell_type": "code",
   "execution_count": 6,
   "id": "eb1a046a",
   "metadata": {
    "ExecuteTime": {
     "end_time": "2022-06-19T22:45:15.065259Z",
     "start_time": "2022-06-19T22:45:14.920252Z"
    }
   },
   "outputs": [
    {
     "data": {
      "text/plain": [
       "Index(['LotArea', 'MasVnrArea', 'BsmtFinSF1', 'BsmtFinSF2', 'BsmtUnfSF',\n",
       "       'TotalBsmtSF', '1stFlrSF', '2ndFlrSF', 'LowQualFinSF', 'GrLivArea',\n",
       "       'GarageArea', 'WoodDeckSF', 'OpenPorchSF', 'PoolArea', 'YrSold',\n",
       "       'YearBuilt_YrSold', 'YearRemodAdd_YrSold', 'GarageYrBlt_YrSold',\n",
       "       'SalePrice'],\n",
       "      dtype='object')"
      ]
     },
     "execution_count": 6,
     "metadata": {},
     "output_type": "execute_result"
    }
   ],
   "source": [
    "df_evaluation.columns"
   ]
  },
  {
   "cell_type": "markdown",
   "id": "e755722e",
   "metadata": {},
   "source": [
    "## Splitting data in training and validation datasets"
   ]
  },
  {
   "cell_type": "code",
   "execution_count": 7,
   "id": "83fb8d03",
   "metadata": {
    "ExecuteTime": {
     "end_time": "2022-06-19T22:45:18.435773Z",
     "start_time": "2022-06-19T22:45:18.287767Z"
    }
   },
   "outputs": [],
   "source": [
    "X = df_evaluation.drop(columns=['SalePrice'])\n",
    "y = df_evaluation[['SalePrice']]\n",
    "\n",
    "X_train, X_test, y_train, y_test = train_test_split(X, y, test_size=0.2, random_state=RANDOM_STATE)"
   ]
  },
  {
   "cell_type": "markdown",
   "id": "888e009b",
   "metadata": {},
   "source": [
    "# Modeling\n"
   ]
  },
  {
   "cell_type": "code",
   "execution_count": 12,
   "id": "a2e2d573",
   "metadata": {
    "ExecuteTime": {
     "end_time": "2022-06-19T22:48:32.839373Z",
     "start_time": "2022-06-19T22:48:32.687686Z"
    }
   },
   "outputs": [],
   "source": [
    "model = LinearRegression()\n",
    "model.fit(X_train, y_train)\n",
    "\n",
    "y_pred = model.predict(X_test)"
   ]
  },
  {
   "cell_type": "markdown",
   "id": "72f18d79",
   "metadata": {},
   "source": [
    "# Evaluating"
   ]
  },
  {
   "cell_type": "code",
   "execution_count": 15,
   "id": "047be475",
   "metadata": {
    "ExecuteTime": {
     "end_time": "2022-06-19T22:50:01.422595Z",
     "start_time": "2022-06-19T22:50:01.287557Z"
    }
   },
   "outputs": [
    {
     "name": "stdout",
     "output_type": "stream",
     "text": [
      "RMSE: 40198.72\n"
     ]
    }
   ],
   "source": [
    "print(f\"RMSE: {mse(y_test, y_pred)**.5:.2f}\")"
   ]
  }
 ],
 "metadata": {
  "hide_input": false,
  "kernelspec": {
   "display_name": "Python 3 (ipykernel)",
   "language": "python",
   "name": "python3"
  },
  "language_info": {
   "codemirror_mode": {
    "name": "ipython",
    "version": 3
   },
   "file_extension": ".py",
   "mimetype": "text/x-python",
   "name": "python",
   "nbconvert_exporter": "python",
   "pygments_lexer": "ipython3",
   "version": "3.9.7"
  },
  "toc": {
   "base_numbering": 1,
   "nav_menu": {},
   "number_sections": true,
   "sideBar": true,
   "skip_h1_title": false,
   "title_cell": "Table of Contents",
   "title_sidebar": "Contents",
   "toc_cell": false,
   "toc_position": {},
   "toc_section_display": true,
   "toc_window_display": false
  }
 },
 "nbformat": 4,
 "nbformat_minor": 5
}
