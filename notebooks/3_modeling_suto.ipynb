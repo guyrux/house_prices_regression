{
 "cells": [
  {
   "cell_type": "markdown",
   "id": "7ee302d2",
   "metadata": {},
   "source": [
    "# 3_modeling_suto\n",
    "\n",
    "**Purpose:** State the purpose of the notebook.\n",
    "\n",
    "**Methodology:** Quickly describe assumptions and processing steps.\n",
    "\n",
    "**Results:** Describe and comment the most important results.\n",
    "\n",
    "---\n",
    "\n",
    "**Suggested next steps**\n",
    "\n",
    "- [ ] State suggested next steps, based on results obtained in this notebook."
   ]
  },
  {
   "cell_type": "markdown",
   "id": "5561827e",
   "metadata": {},
   "source": [
    "# Setup\n",
    "\n",
    "## Library import\n",
    "We import all the required Python libraries"
   ]
  },
  {
   "cell_type": "code",
   "execution_count": 2,
   "id": "4c61ec23",
   "metadata": {
    "ExecuteTime": {
     "end_time": "2022-07-10T22:50:47.871204Z",
     "start_time": "2022-07-10T22:50:47.670202Z"
    }
   },
   "outputs": [
    {
     "name": "stdout",
     "output_type": "stream",
     "text": [
      "The autoreload extension is already loaded. To reload it, use:\n",
      "  %reload_ext autoreload\n"
     ]
    }
   ],
   "source": [
    "import joblib\n",
    "import os\n",
    "from typing import List, Union\n",
    "import warnings\n",
    "\n",
    "import lightgbm as lgb\n",
    "import matplotlib.pyplot as plt\n",
    "import numpy as np\n",
    "import pandas as pd\n",
    "from pandas_profiling import ProfileReport\n",
    "import seaborn as sns\n",
    "from sklearn.ensemble import RandomForestRegressor\n",
    "from sklearn.linear_model import LinearRegression, Lasso\n",
    "from sklearn.metrics import mean_squared_error as mse\n",
    "from sklearn.model_selection import train_test_split, RandomizedSearchCV, GridSearchCV\n",
    "\n",
    "os.chdir('../')\n",
    "from src.utils.data_describe import breve_descricao, serie_nulos, cardinalidade\n",
    "os.chdir('./notebooks/')\n",
    "\n",
    "# Options for pandas\n",
    "pd.set_option('display.max_rows', None)\n",
    "pd.set_option('display.max_columns', None)\n",
    "\n",
    "warnings.filterwarnings(\"ignore\")\n",
    "\n",
    "# Autoreload extension\n",
    "if 'autoreload' not in get_ipython().extension_manager.loaded:\n",
    "    %load_ext autoreload\n",
    "    \n",
    "%autoreload 2"
   ]
  },
  {
   "cell_type": "markdown",
   "id": "5e26e05e",
   "metadata": {},
   "source": [
    "### Custom functions"
   ]
  },
  {
   "cell_type": "code",
   "execution_count": 3,
   "id": "00fe15e8",
   "metadata": {
    "ExecuteTime": {
     "end_time": "2022-07-10T22:50:49.258647Z",
     "start_time": "2022-07-10T22:50:49.077710Z"
    }
   },
   "outputs": [],
   "source": [
    "def rfr_feature_selection(\n",
    "    df: pd.DataFrame, minimal_importance: float = 0.001, lst_columns: Union[str, List] = []\n",
    ") -> List:\n",
    "    importance = minimal_importance\n",
    "    dct_performance = {}\n",
    "    \n",
    "    if len(lst_columns) == 0:\n",
    "        lst_columns = df.columns.tolist()\n",
    "    \n",
    "    while len(lst_columns) > 1:\n",
    "        model = RandomForestRegressor(random_state=RANDOM_STATE, n_jobs=-1)\n",
    "        model.fit(X_train[lst_columns], y_train.values)\n",
    "        y_pred = model.predict(X_test[lst_columns])\n",
    "        dct_performance[len(lst_columns)] = {\"features\": lst_columns, 'RMSE': mse(y_test, y_pred)**.5}\n",
    "        lst_columns = df_importance.loc[df_importance['importance']>importance].index.tolist()\n",
    "        importance += 0.005\n",
    "        \n",
    "    return dct_performance"
   ]
  },
  {
   "cell_type": "markdown",
   "id": "f6dc0e54",
   "metadata": {},
   "source": [
    "## Parameter definition\n",
    "\n",
    "We set all relevant parameters for our notebook. By convention, parameters are uppercase, while all the \n",
    "other variables follow Python's guidelines."
   ]
  },
  {
   "cell_type": "code",
   "execution_count": 4,
   "id": "77ad95f4",
   "metadata": {
    "ExecuteTime": {
     "end_time": "2022-07-10T22:50:51.772274Z",
     "start_time": "2022-07-10T22:50:51.581570Z"
    }
   },
   "outputs": [],
   "source": [
    "RAW_FOLDER = '../data/raw/'\n",
    "INTERIM_FOLDER = '../data/interim/'\n",
    "PROCESSED_FOLDER = '../data/processed/'\n",
    "REPORTS_FOLDER = '../reports/'\n",
    "RANDOM_STATE = 42"
   ]
  },
  {
   "cell_type": "markdown",
   "id": "2949100f",
   "metadata": {},
   "source": [
    "\n",
    "# Data import\n",
    "We retrieve all the required data for the analysis."
   ]
  },
  {
   "cell_type": "code",
   "execution_count": 4,
   "id": "4496d643",
   "metadata": {
    "ExecuteTime": {
     "end_time": "2022-07-10T18:11:57.226698Z",
     "start_time": "2022-07-10T18:11:56.982162Z"
    }
   },
   "outputs": [
    {
     "name": "stdout",
     "output_type": "stream",
     "text": [
      "df_evaluation's shape: (1460, 19)\n",
      "x_test_kaggle's shape: (1459, 18)\n"
     ]
    }
   ],
   "source": [
    "df = pd.read_parquet(INTERIM_FOLDER + 'df_train_interim_01_baseline.pqt')\n",
    "df_evaluation = df.copy() \n",
    "print(f\"df_evaluation's shape: {df_evaluation.shape}\")\n",
    "\n",
    "# Importing Kaggle's test dataset.\n",
    "x_test_kaggle = pd.read_parquet(INTERIM_FOLDER + 'x_test_kaggle_prepared_baseline.pqt')\n",
    "print(f\"x_test_kaggle's shape: {x_test_kaggle.shape}\")"
   ]
  },
  {
   "cell_type": "markdown",
   "id": "e755722e",
   "metadata": {},
   "source": [
    "## Splitting data in training and validation datasets"
   ]
  },
  {
   "cell_type": "code",
   "execution_count": 6,
   "id": "83fb8d03",
   "metadata": {
    "ExecuteTime": {
     "end_time": "2022-06-26T23:45:07.419246Z",
     "start_time": "2022-06-26T23:45:07.249225Z"
    }
   },
   "outputs": [],
   "source": [
    "X = df_evaluation.drop(columns=['SalePrice'])\n",
    "y = df_evaluation[['SalePrice']]\n",
    "\n",
    "X_train, X_test, y_train, y_test = train_test_split(X, y, test_size=0.2, random_state=RANDOM_STATE)"
   ]
  },
  {
   "cell_type": "markdown",
   "id": "cf619194",
   "metadata": {},
   "source": [
    "# 1st experiment: Simple linear regression\n",
    "\n",
    "This 1st experiment has the purpose to set a baseline to our model.\n",
    "\n",
    "## Modeling and evaluating with the validation data"
   ]
  },
  {
   "cell_type": "code",
   "execution_count": 7,
   "id": "a2e2d573",
   "metadata": {
    "ExecuteTime": {
     "end_time": "2022-06-26T23:45:07.809257Z",
     "start_time": "2022-06-26T23:45:07.422252Z"
    }
   },
   "outputs": [
    {
     "name": "stdout",
     "output_type": "stream",
     "text": [
      "RMSE: 40198.72\n"
     ]
    },
    {
     "data": {
      "image/png": "[encoded data removed]",
      "text/plain": [
       "<Figure size 576x432 with 1 Axes>"
      ]
     },
     "metadata": {
      "needs_background": "light"
     },
     "output_type": "display_data"
    }
   ],
   "source": [
    "model = LinearRegression()\n",
    "model.fit(X_train, y_train)\n",
    "\n",
    "y_pred = model.predict(X_test)\n",
    "\n",
    "coef_importance = pd.DataFrame(model.coef_[0], index=X_train.columns).sort_values(by=0, ascending=True)\n",
    "coef_importance.rename(columns={0: 'importance'}, inplace=True)\n",
    "\n",
    "a4_dims = (8, 6)\n",
    "fig, ax = plt.subplots(figsize=a4_dims)\n",
    "\n",
    "sns.barplot(data=coef_importance, y=coef_importance.index, x='importance', ax=ax);\n",
    "\n",
    "print(f\"RMSE: {mse(y_test, y_pred)**.5:.2f}\")"
   ]
  },
  {
   "cell_type": "markdown",
   "id": "253976d4",
   "metadata": {},
   "source": [
    "## Testing the Kaggle's test dataset"
   ]
  },
  {
   "cell_type": "code",
   "execution_count": 8,
   "id": "1e8d23fa",
   "metadata": {
    "ExecuteTime": {
     "end_time": "2022-06-26T23:45:07.965390Z",
     "start_time": "2022-06-26T23:45:07.811257Z"
    }
   },
   "outputs": [
    {
     "name": "stdout",
     "output_type": "stream",
     "text": [
      "<class 'pandas.core.frame.DataFrame'>\n",
      "Int64Index: 1459 entries, 1461 to 2919\n",
      "Data columns (total 18 columns):\n",
      " #   Column               Non-Null Count  Dtype  \n",
      "---  ------               --------------  -----  \n",
      " 0   LotArea              1459 non-null   int64  \n",
      " 1   MasVnrArea           1459 non-null   float64\n",
      " 2   BsmtFinSF1           1459 non-null   float64\n",
      " 3   BsmtFinSF2           1459 non-null   float64\n",
      " 4   BsmtUnfSF            1459 non-null   float64\n",
      " 5   TotalBsmtSF          1459 non-null   float64\n",
      " 6   1stFlrSF             1459 non-null   int64  \n",
      " 7   2ndFlrSF             1459 non-null   int64  \n",
      " 8   LowQualFinSF         1459 non-null   int64  \n",
      " 9   GrLivArea            1459 non-null   int64  \n",
      " 10  GarageArea           1459 non-null   float64\n",
      " 11  WoodDeckSF           1459 non-null   int64  \n",
      " 12  OpenPorchSF          1459 non-null   int64  \n",
      " 13  PoolArea             1459 non-null   int64  \n",
      " 14  YrSold               1459 non-null   int64  \n",
      " 15  YearBuilt_YrSold     1459 non-null   float64\n",
      " 16  YearRemodAdd_YrSold  1459 non-null   float64\n",
      " 17  GarageYrBlt_YrSold   1459 non-null   float64\n",
      "dtypes: float64(9), int64(9)\n",
      "memory usage: 216.6 KB\n"
     ]
    }
   ],
   "source": [
    "x_test_kaggle.info()"
   ]
  },
  {
   "cell_type": "code",
   "execution_count": 9,
   "id": "6b5272c6",
   "metadata": {
    "ExecuteTime": {
     "end_time": "2022-06-26T23:45:08.136472Z",
     "start_time": "2022-06-26T23:45:07.966983Z"
    }
   },
   "outputs": [
    {
     "data": {
      "text/html": [
       "<div>\n",
       "<style scoped>\n",
       "    .dataframe tbody tr th:only-of-type {\n",
       "        vertical-align: middle;\n",
       "    }\n",
       "\n",
       "    .dataframe tbody tr th {\n",
       "        vertical-align: top;\n",
       "    }\n",
       "\n",
       "    .dataframe thead th {\n",
       "        text-align: right;\n",
       "    }\n",
       "</style>\n",
       "<table border=\"1\" class=\"dataframe\">\n",
       "  <thead>\n",
       "    <tr style=\"text-align: right;\">\n",
       "      <th></th>\n",
       "      <th>Id</th>\n",
       "      <th>SalePrice</th>\n",
       "    </tr>\n",
       "  </thead>\n",
       "  <tbody>\n",
       "    <tr>\n",
       "      <th>1321</th>\n",
       "      <td>2782</td>\n",
       "      <td>88882.905215</td>\n",
       "    </tr>\n",
       "    <tr>\n",
       "      <th>836</th>\n",
       "      <td>2297</td>\n",
       "      <td>268186.559189</td>\n",
       "    </tr>\n",
       "    <tr>\n",
       "      <th>413</th>\n",
       "      <td>1874</td>\n",
       "      <td>157618.145918</td>\n",
       "    </tr>\n",
       "    <tr>\n",
       "      <th>522</th>\n",
       "      <td>1983</td>\n",
       "      <td>202118.136560</td>\n",
       "    </tr>\n",
       "    <tr>\n",
       "      <th>1035</th>\n",
       "      <td>2496</td>\n",
       "      <td>248852.367410</td>\n",
       "    </tr>\n",
       "    <tr>\n",
       "      <th>614</th>\n",
       "      <td>2075</td>\n",
       "      <td>157944.900049</td>\n",
       "    </tr>\n",
       "    <tr>\n",
       "      <th>218</th>\n",
       "      <td>1679</td>\n",
       "      <td>317485.446384</td>\n",
       "    </tr>\n",
       "    <tr>\n",
       "      <th>1031</th>\n",
       "      <td>2492</td>\n",
       "      <td>193763.232067</td>\n",
       "    </tr>\n",
       "    <tr>\n",
       "      <th>1289</th>\n",
       "      <td>2750</td>\n",
       "      <td>110524.726125</td>\n",
       "    </tr>\n",
       "    <tr>\n",
       "      <th>886</th>\n",
       "      <td>2347</td>\n",
       "      <td>198759.393734</td>\n",
       "    </tr>\n",
       "  </tbody>\n",
       "</table>\n",
       "</div>"
      ],
      "text/plain": [
       "        Id      SalePrice\n",
       "1321  2782   88882.905215\n",
       "836   2297  268186.559189\n",
       "413   1874  157618.145918\n",
       "522   1983  202118.136560\n",
       "1035  2496  248852.367410\n",
       "614   2075  157944.900049\n",
       "218   1679  317485.446384\n",
       "1031  2492  193763.232067\n",
       "1289  2750  110524.726125\n",
       "886   2347  198759.393734"
      ]
     },
     "execution_count": 9,
     "metadata": {},
     "output_type": "execute_result"
    }
   ],
   "source": [
    "y_pred_kaggle = model.predict(x_test_kaggle)\n",
    "y_pred_kaggle = pd.DataFrame(y_pred_kaggle, index=x_test_kaggle.index, columns=['SalePrice']).reset_index()\n",
    "y_pred_kaggle.rename(columns={'index':'Id'}, inplace=True)\n",
    "y_pred_kaggle.sample(10, random_state=RANDOM_STATE)"
   ]
  },
  {
   "cell_type": "code",
   "execution_count": 10,
   "id": "fdd85280",
   "metadata": {
    "ExecuteTime": {
     "end_time": "2022-06-26T23:45:08.323530Z",
     "start_time": "2022-06-26T23:45:08.138471Z"
    }
   },
   "outputs": [],
   "source": [
    "y_pred_kaggle.to_csv(PROCESSED_FOLDER + 'y_pred_kaggle_baseline_linear_regression.csv', index=False)"
   ]
  },
  {
   "cell_type": "markdown",
   "id": "de3b1acf",
   "metadata": {},
   "source": [
    "# 2nd experiment: Random forest regressor with default hyperparameters\n",
    " \n",
    "This experiment has the purpose to compare the performance between a parametric method and a non-parametric model.\n",
    "\n",
    "## Modeling and evaluating with the validation data"
   ]
  },
  {
   "cell_type": "code",
   "execution_count": 11,
   "id": "ef146a16",
   "metadata": {
    "ExecuteTime": {
     "end_time": "2022-06-26T23:45:08.713925Z",
     "start_time": "2022-06-26T23:45:08.327531Z"
    }
   },
   "outputs": [
    {
     "name": "stdout",
     "output_type": "stream",
     "text": [
      "RMSE: 31725.89\n"
     ]
    }
   ],
   "source": [
    "model = RandomForestRegressor(n_jobs=-1, random_state=RANDOM_STATE)\n",
    "model.fit(X_train, y_train.values)\n",
    "\n",
    "y_pred = model.predict(X_test)\n",
    "\n",
    "print(f\"RMSE: {mse(y_test, y_pred)**.5:.2f}\")"
   ]
  },
  {
   "cell_type": "code",
   "execution_count": 12,
   "id": "798c97b6",
   "metadata": {
    "ExecuteTime": {
     "end_time": "2022-06-26T23:45:09.081932Z",
     "start_time": "2022-06-26T23:45:08.714927Z"
    }
   },
   "outputs": [
    {
     "data": {
      "image/png": "[encoded data removed]",
      "text/plain": [
       "<Figure size 576x432 with 1 Axes>"
      ]
     },
     "metadata": {
      "needs_background": "light"
     },
     "output_type": "display_data"
    }
   ],
   "source": [
    "df_importance = pd.DataFrame(\n",
    "    model.feature_importances_, index=model.feature_names_in_, columns=['importance']\n",
    ").sort_values(by='importance', ascending=False)\n",
    "\n",
    "\n",
    "a4_dims = (8, 6)\n",
    "fig, ax = plt.subplots(figsize=a4_dims)\n",
    "\n",
    "sns.barplot(data=df_importance, y=df_importance.index, x='importance', ax=ax);"
   ]
  },
  {
   "cell_type": "markdown",
   "id": "df5626e0",
   "metadata": {},
   "source": [
    "## Testing the Kaggle's test dataset"
   ]
  },
  {
   "cell_type": "code",
   "execution_count": 13,
   "id": "80d44e50",
   "metadata": {
    "ExecuteTime": {
     "end_time": "2022-06-26T23:45:09.255016Z",
     "start_time": "2022-06-26T23:45:09.084888Z"
    }
   },
   "outputs": [
    {
     "data": {
      "text/html": [
       "<div>\n",
       "<style scoped>\n",
       "    .dataframe tbody tr th:only-of-type {\n",
       "        vertical-align: middle;\n",
       "    }\n",
       "\n",
       "    .dataframe tbody tr th {\n",
       "        vertical-align: top;\n",
       "    }\n",
       "\n",
       "    .dataframe thead th {\n",
       "        text-align: right;\n",
       "    }\n",
       "</style>\n",
       "<table border=\"1\" class=\"dataframe\">\n",
       "  <thead>\n",
       "    <tr style=\"text-align: right;\">\n",
       "      <th></th>\n",
       "      <th>Id</th>\n",
       "      <th>SalePrice</th>\n",
       "    </tr>\n",
       "  </thead>\n",
       "  <tbody>\n",
       "    <tr>\n",
       "      <th>1321</th>\n",
       "      <td>2782</td>\n",
       "      <td>101946.000000</td>\n",
       "    </tr>\n",
       "    <tr>\n",
       "      <th>836</th>\n",
       "      <td>2297</td>\n",
       "      <td>311331.880000</td>\n",
       "    </tr>\n",
       "    <tr>\n",
       "      <th>413</th>\n",
       "      <td>1874</td>\n",
       "      <td>141880.666667</td>\n",
       "    </tr>\n",
       "    <tr>\n",
       "      <th>522</th>\n",
       "      <td>1983</td>\n",
       "      <td>201130.600000</td>\n",
       "    </tr>\n",
       "    <tr>\n",
       "      <th>1035</th>\n",
       "      <td>2496</td>\n",
       "      <td>224825.800000</td>\n",
       "    </tr>\n",
       "    <tr>\n",
       "      <th>614</th>\n",
       "      <td>2075</td>\n",
       "      <td>148259.500000</td>\n",
       "    </tr>\n",
       "    <tr>\n",
       "      <th>218</th>\n",
       "      <td>1679</td>\n",
       "      <td>395034.630000</td>\n",
       "    </tr>\n",
       "    <tr>\n",
       "      <th>1031</th>\n",
       "      <td>2492</td>\n",
       "      <td>197361.000000</td>\n",
       "    </tr>\n",
       "    <tr>\n",
       "      <th>1289</th>\n",
       "      <td>2750</td>\n",
       "      <td>135898.120000</td>\n",
       "    </tr>\n",
       "    <tr>\n",
       "      <th>886</th>\n",
       "      <td>2347</td>\n",
       "      <td>207506.060000</td>\n",
       "    </tr>\n",
       "  </tbody>\n",
       "</table>\n",
       "</div>"
      ],
      "text/plain": [
       "        Id      SalePrice\n",
       "1321  2782  101946.000000\n",
       "836   2297  311331.880000\n",
       "413   1874  141880.666667\n",
       "522   1983  201130.600000\n",
       "1035  2496  224825.800000\n",
       "614   2075  148259.500000\n",
       "218   1679  395034.630000\n",
       "1031  2492  197361.000000\n",
       "1289  2750  135898.120000\n",
       "886   2347  207506.060000"
      ]
     },
     "execution_count": 13,
     "metadata": {},
     "output_type": "execute_result"
    }
   ],
   "source": [
    "y_pred_kaggle = model.predict(x_test_kaggle)\n",
    "y_pred_kaggle = pd.DataFrame(y_pred_kaggle, index=x_test_kaggle.index, columns=['SalePrice']).reset_index()\n",
    "y_pred_kaggle.rename(columns={'index':'Id'}, inplace=True)\n",
    "y_pred_kaggle.sample(10, random_state=RANDOM_STATE)"
   ]
  },
  {
   "cell_type": "code",
   "execution_count": 14,
   "id": "b8bcfe93",
   "metadata": {
    "ExecuteTime": {
     "end_time": "2022-06-26T23:45:09.429021Z",
     "start_time": "2022-06-26T23:45:09.257147Z"
    }
   },
   "outputs": [],
   "source": [
    "y_pred_kaggle.to_csv(PROCESSED_FOLDER + 'y_pred_kaggle_baseline_random_forest_default.csv', index=False)"
   ]
  },
  {
   "cell_type": "markdown",
   "id": "075334e3",
   "metadata": {},
   "source": [
    "# 3rd experiment: Random forest regressor with grid search\n",
    "\n",
    "## Grid search\n",
    "\n",
    "I'll try to follow these steps:\n",
    "\n",
    "1. Use RandomizedSearchCV in a broader range for each hyperparameter;\n",
    "2. After find the best candidate in the previous step, search in a smaller area around the point obtained.\n",
    "\n",
    "### RandomizedSearchCV"
   ]
  },
  {
   "cell_type": "code",
   "execution_count": 15,
   "id": "84cd9827",
   "metadata": {
    "ExecuteTime": {
     "end_time": "2022-06-26T23:45:09.584071Z",
     "start_time": "2022-06-26T23:45:09.430015Z"
    }
   },
   "outputs": [
    {
     "data": {
      "text/plain": [
       "{'n_estimators': [200],\n",
       " 'max_depth': [4, 6, 8, 10, 12, 14, 16, 18],\n",
       " 'min_samples_split': [2, 4, 6, 8, 10, 12, 14, 16, 18],\n",
       " 'min_samples_leaf': [1, 3, 5, 7, 9, 11, 13, 15, 17, 19],\n",
       " 'max_features': ['sqrt', 'log2', 16, 18],\n",
       " 'ccp_alpha': [0.0, 0.005, 0.01, 0.015, 0.02, 0.025, 0.03, 0.035, 0.04, 0.045]}"
      ]
     },
     "execution_count": 15,
     "metadata": {},
     "output_type": "execute_result"
    }
   ],
   "source": [
    "hyperparameter_search_space = dict(\n",
    "    n_estimators=np.arange(200, 1000, 1000).tolist(),\n",
    "    max_depth=np.arange(int(len(X_train.columns)**.5), int(len(X_train.columns))+1, 2).tolist(),\n",
    "    min_samples_split=np.arange(2, 20, 2).tolist(),\n",
    "    min_samples_leaf=np.arange(1, 20, 2).tolist(),\n",
    "    max_features=['sqrt', 'log2', len(X_train.columns)-2, len(X_train.columns)],\n",
    "    ccp_alpha=np.arange(0, 0.05, 0.005).tolist(),\n",
    ")\n",
    "\n",
    "hyperparameter_search_space"
   ]
  },
  {
   "cell_type": "code",
   "execution_count": 16,
   "id": "d2c8ee90",
   "metadata": {
    "ExecuteTime": {
     "end_time": "2022-06-26T23:46:10.016118Z",
     "start_time": "2022-06-26T23:45:09.586075Z"
    }
   },
   "outputs": [
    {
     "data": {
      "text/plain": [
       "{'n_estimators': 200,\n",
       " 'min_samples_split': 8,\n",
       " 'min_samples_leaf': 1,\n",
       " 'max_features': 18,\n",
       " 'max_depth': 16,\n",
       " 'ccp_alpha': 0.0}"
      ]
     },
     "execution_count": 16,
     "metadata": {},
     "output_type": "execute_result"
    }
   ],
   "source": [
    "model = RandomForestRegressor(n_jobs=-1, random_state=RANDOM_STATE)\n",
    "\n",
    "random_grid_search = RandomizedSearchCV(model, hyperparameter_search_space, random_state=RANDOM_STATE, n_iter=50)\n",
    "search = random_grid_search.fit(X_train, y_train)\n",
    "search.best_params_"
   ]
  },
  {
   "cell_type": "markdown",
   "id": "0b3587b7",
   "metadata": {},
   "source": [
    "### Modeling and evaluating with the validation data"
   ]
  },
  {
   "cell_type": "code",
   "execution_count": 17,
   "id": "899eafaf",
   "metadata": {
    "ExecuteTime": {
     "end_time": "2022-06-26T23:46:10.574713Z",
     "start_time": "2022-06-26T23:46:10.018117Z"
    }
   },
   "outputs": [
    {
     "name": "stdout",
     "output_type": "stream",
     "text": [
      "RMSE: 31994.30\n"
     ]
    }
   ],
   "source": [
    "model = RandomForestRegressor(n_jobs=-1, random_state=RANDOM_STATE, **search.best_params_)\n",
    "model.fit(X_train, y_train.values)\n",
    "\n",
    "y_pred = model.predict(X_test)\n",
    "\n",
    "print(f\"RMSE: {mse(y_test, y_pred)**.5:.2f}\")"
   ]
  },
  {
   "cell_type": "code",
   "execution_count": 18,
   "id": "82896d4d",
   "metadata": {
    "ExecuteTime": {
     "end_time": "2022-06-26T23:46:10.779361Z",
     "start_time": "2022-06-26T23:46:10.577278Z"
    }
   },
   "outputs": [
    {
     "data": {
      "text/html": [
       "<div>\n",
       "<style scoped>\n",
       "    .dataframe tbody tr th:only-of-type {\n",
       "        vertical-align: middle;\n",
       "    }\n",
       "\n",
       "    .dataframe tbody tr th {\n",
       "        vertical-align: top;\n",
       "    }\n",
       "\n",
       "    .dataframe thead th {\n",
       "        text-align: right;\n",
       "    }\n",
       "</style>\n",
       "<table border=\"1\" class=\"dataframe\">\n",
       "  <thead>\n",
       "    <tr style=\"text-align: right;\">\n",
       "      <th></th>\n",
       "      <th>Id</th>\n",
       "      <th>SalePrice</th>\n",
       "    </tr>\n",
       "  </thead>\n",
       "  <tbody>\n",
       "    <tr>\n",
       "      <th>1321</th>\n",
       "      <td>2782</td>\n",
       "      <td>101591.283515</td>\n",
       "    </tr>\n",
       "    <tr>\n",
       "      <th>836</th>\n",
       "      <td>2297</td>\n",
       "      <td>302812.574188</td>\n",
       "    </tr>\n",
       "    <tr>\n",
       "      <th>413</th>\n",
       "      <td>1874</td>\n",
       "      <td>141381.879851</td>\n",
       "    </tr>\n",
       "    <tr>\n",
       "      <th>522</th>\n",
       "      <td>1983</td>\n",
       "      <td>201842.053327</td>\n",
       "    </tr>\n",
       "    <tr>\n",
       "      <th>1035</th>\n",
       "      <td>2496</td>\n",
       "      <td>237629.387447</td>\n",
       "    </tr>\n",
       "    <tr>\n",
       "      <th>614</th>\n",
       "      <td>2075</td>\n",
       "      <td>150311.746399</td>\n",
       "    </tr>\n",
       "    <tr>\n",
       "      <th>218</th>\n",
       "      <td>1679</td>\n",
       "      <td>390212.902104</td>\n",
       "    </tr>\n",
       "    <tr>\n",
       "      <th>1031</th>\n",
       "      <td>2492</td>\n",
       "      <td>197390.003635</td>\n",
       "    </tr>\n",
       "    <tr>\n",
       "      <th>1289</th>\n",
       "      <td>2750</td>\n",
       "      <td>136082.106259</td>\n",
       "    </tr>\n",
       "    <tr>\n",
       "      <th>886</th>\n",
       "      <td>2347</td>\n",
       "      <td>210196.614681</td>\n",
       "    </tr>\n",
       "  </tbody>\n",
       "</table>\n",
       "</div>"
      ],
      "text/plain": [
       "        Id      SalePrice\n",
       "1321  2782  101591.283515\n",
       "836   2297  302812.574188\n",
       "413   1874  141381.879851\n",
       "522   1983  201842.053327\n",
       "1035  2496  237629.387447\n",
       "614   2075  150311.746399\n",
       "218   1679  390212.902104\n",
       "1031  2492  197390.003635\n",
       "1289  2750  136082.106259\n",
       "886   2347  210196.614681"
      ]
     },
     "execution_count": 18,
     "metadata": {},
     "output_type": "execute_result"
    }
   ],
   "source": [
    "y_pred_kaggle = model.predict(x_test_kaggle)\n",
    "y_pred_kaggle = pd.DataFrame(y_pred_kaggle, index=x_test_kaggle.index, columns=['SalePrice']).reset_index()\n",
    "y_pred_kaggle.rename(columns={'index':'Id'}, inplace=True)\n",
    "y_pred_kaggle.sample(10, random_state=RANDOM_STATE)"
   ]
  },
  {
   "cell_type": "code",
   "execution_count": 19,
   "id": "4e034edf",
   "metadata": {
    "ExecuteTime": {
     "end_time": "2022-06-26T23:46:10.951528Z",
     "start_time": "2022-06-26T23:46:10.781365Z"
    }
   },
   "outputs": [
    {
     "data": {
      "text/plain": [
       "<bound method BaseEstimator.get_params of RandomForestRegressor(max_depth=16, max_features=18, min_samples_split=8,\n",
       "                      n_estimators=200, n_jobs=-1, random_state=42)>"
      ]
     },
     "execution_count": 19,
     "metadata": {},
     "output_type": "execute_result"
    }
   ],
   "source": [
    "model.get_params"
   ]
  },
  {
   "cell_type": "code",
   "execution_count": 20,
   "id": "da08729c",
   "metadata": {
    "ExecuteTime": {
     "end_time": "2022-06-26T23:46:11.150533Z",
     "start_time": "2022-06-26T23:46:10.953531Z"
    }
   },
   "outputs": [],
   "source": [
    "y_pred_kaggle.to_csv(PROCESSED_FOLDER + 'y_pred_kaggle_baseline_random_forest_random_grid_search.csv', index=False)"
   ]
  },
  {
   "cell_type": "markdown",
   "id": "78fc51c2",
   "metadata": {},
   "source": [
    "### Partial concluision\n",
    "\n",
    "The hyperparameters obtained by the random search do not reduced the RMSE. So I will not try the grid search for now."
   ]
  },
  {
   "cell_type": "markdown",
   "id": "bcf3a164",
   "metadata": {},
   "source": [
    "# 4th experiment: Feature selection + Random Forest Regressor\n",
    "\n",
    "Using the same baseline dataset, remove some of the features with less importance and evaluate the impact in RMSE.\n",
    "\n",
    "## Getting the feature importance"
   ]
  },
  {
   "cell_type": "code",
   "execution_count": 21,
   "id": "0c01e525",
   "metadata": {
    "ExecuteTime": {
     "end_time": "2022-06-26T23:46:11.715302Z",
     "start_time": "2022-06-26T23:46:11.152530Z"
    }
   },
   "outputs": [
    {
     "name": "stdout",
     "output_type": "stream",
     "text": [
      "RMSE: 31725.89\n"
     ]
    },
    {
     "data": {
      "image/png": "[encoded data removed]",
      "text/plain": [
       "<Figure size 576x432 with 1 Axes>"
      ]
     },
     "metadata": {
      "needs_background": "light"
     },
     "output_type": "display_data"
    }
   ],
   "source": [
    "model = RandomForestRegressor(random_state=RANDOM_STATE, n_jobs=-1)\n",
    "model.fit(X_train, y_train.values)\n",
    "\n",
    "y_pred = model.predict(X_test)\n",
    "\n",
    "print(f\"RMSE: {mse(y_test, y_pred)**.5:.2f}\")\n",
    "\n",
    "df_importance = pd.DataFrame(\n",
    "    model.feature_importances_, index=model.feature_names_in_, columns=['importance']\n",
    ").sort_values(by='importance', ascending=False)\n",
    "\n",
    "\n",
    "a4_dims = (8, 6)\n",
    "fig, ax = plt.subplots(figsize=a4_dims)\n",
    "\n",
    "sns.barplot(data=df_importance, y=df_importance.index, x='importance', ax=ax);"
   ]
  },
  {
   "cell_type": "markdown",
   "id": "aa71f6fa",
   "metadata": {},
   "source": [
    "### Evaluating the feature selection through feature importance\n",
    "\n",
    "I will see the impact of feature selection in the RMSE."
   ]
  },
  {
   "cell_type": "code",
   "execution_count": 22,
   "id": "7eacb1de",
   "metadata": {
    "ExecuteTime": {
     "end_time": "2022-06-26T23:46:18.099011Z",
     "start_time": "2022-06-26T23:46:11.716737Z"
    }
   },
   "outputs": [
    {
     "data": {
      "text/html": [
       "<div>\n",
       "<style scoped>\n",
       "    .dataframe tbody tr th:only-of-type {\n",
       "        vertical-align: middle;\n",
       "    }\n",
       "\n",
       "    .dataframe tbody tr th {\n",
       "        vertical-align: top;\n",
       "    }\n",
       "\n",
       "    .dataframe thead th {\n",
       "        text-align: right;\n",
       "    }\n",
       "</style>\n",
       "<table border=\"1\" class=\"dataframe\">\n",
       "  <thead>\n",
       "    <tr style=\"text-align: right;\">\n",
       "      <th></th>\n",
       "      <th>features</th>\n",
       "      <th>RMSE</th>\n",
       "    </tr>\n",
       "  </thead>\n",
       "  <tbody>\n",
       "    <tr>\n",
       "      <th>9</th>\n",
       "      <td>[GrLivArea, YearBuilt_YrSold, GarageArea, Tota...</td>\n",
       "      <td>30325.063697</td>\n",
       "    </tr>\n",
       "    <tr>\n",
       "      <th>10</th>\n",
       "      <td>[GrLivArea, YearBuilt_YrSold, GarageArea, Tota...</td>\n",
       "      <td>30623.545931</td>\n",
       "    </tr>\n",
       "    <tr>\n",
       "      <th>13</th>\n",
       "      <td>[GrLivArea, YearBuilt_YrSold, GarageArea, Tota...</td>\n",
       "      <td>30721.899910</td>\n",
       "    </tr>\n",
       "    <tr>\n",
       "      <th>8</th>\n",
       "      <td>[GrLivArea, YearBuilt_YrSold, GarageArea, Tota...</td>\n",
       "      <td>31046.455787</td>\n",
       "    </tr>\n",
       "    <tr>\n",
       "      <th>14</th>\n",
       "      <td>[GrLivArea, YearBuilt_YrSold, GarageArea, Tota...</td>\n",
       "      <td>31228.334743</td>\n",
       "    </tr>\n",
       "    <tr>\n",
       "      <th>18</th>\n",
       "      <td>[LotArea, MasVnrArea, BsmtFinSF1, BsmtFinSF2, ...</td>\n",
       "      <td>31725.887225</td>\n",
       "    </tr>\n",
       "    <tr>\n",
       "      <th>17</th>\n",
       "      <td>[GrLivArea, YearBuilt_YrSold, GarageArea, Tota...</td>\n",
       "      <td>31923.648801</td>\n",
       "    </tr>\n",
       "    <tr>\n",
       "      <th>6</th>\n",
       "      <td>[GrLivArea, YearBuilt_YrSold, GarageArea, Tota...</td>\n",
       "      <td>32416.133314</td>\n",
       "    </tr>\n",
       "    <tr>\n",
       "      <th>5</th>\n",
       "      <td>[GrLivArea, YearBuilt_YrSold, GarageArea, Tota...</td>\n",
       "      <td>32513.871299</td>\n",
       "    </tr>\n",
       "    <tr>\n",
       "      <th>4</th>\n",
       "      <td>[GrLivArea, YearBuilt_YrSold, GarageArea, Tota...</td>\n",
       "      <td>32708.542754</td>\n",
       "    </tr>\n",
       "    <tr>\n",
       "      <th>7</th>\n",
       "      <td>[GrLivArea, YearBuilt_YrSold, GarageArea, Tota...</td>\n",
       "      <td>33004.774121</td>\n",
       "    </tr>\n",
       "    <tr>\n",
       "      <th>3</th>\n",
       "      <td>[GrLivArea, YearBuilt_YrSold, GarageArea]</td>\n",
       "      <td>37976.162322</td>\n",
       "    </tr>\n",
       "    <tr>\n",
       "      <th>2</th>\n",
       "      <td>[GrLivArea, YearBuilt_YrSold]</td>\n",
       "      <td>41487.078196</td>\n",
       "    </tr>\n",
       "  </tbody>\n",
       "</table>\n",
       "</div>"
      ],
      "text/plain": [
       "                                             features          RMSE\n",
       "9   [GrLivArea, YearBuilt_YrSold, GarageArea, Tota...  30325.063697\n",
       "10  [GrLivArea, YearBuilt_YrSold, GarageArea, Tota...  30623.545931\n",
       "13  [GrLivArea, YearBuilt_YrSold, GarageArea, Tota...  30721.899910\n",
       "8   [GrLivArea, YearBuilt_YrSold, GarageArea, Tota...  31046.455787\n",
       "14  [GrLivArea, YearBuilt_YrSold, GarageArea, Tota...  31228.334743\n",
       "18  [LotArea, MasVnrArea, BsmtFinSF1, BsmtFinSF2, ...  31725.887225\n",
       "17  [GrLivArea, YearBuilt_YrSold, GarageArea, Tota...  31923.648801\n",
       "6   [GrLivArea, YearBuilt_YrSold, GarageArea, Tota...  32416.133314\n",
       "5   [GrLivArea, YearBuilt_YrSold, GarageArea, Tota...  32513.871299\n",
       "4   [GrLivArea, YearBuilt_YrSold, GarageArea, Tota...  32708.542754\n",
       "7   [GrLivArea, YearBuilt_YrSold, GarageArea, Tota...  33004.774121\n",
       "3           [GrLivArea, YearBuilt_YrSold, GarageArea]  37976.162322\n",
       "2                       [GrLivArea, YearBuilt_YrSold]  41487.078196"
      ]
     },
     "execution_count": 22,
     "metadata": {},
     "output_type": "execute_result"
    }
   ],
   "source": [
    "dct_performance = rfr_feature_selection(df=X_train)\n",
    "pd.DataFrame.from_dict(dct_performance, orient='index').sort_values(by='RMSE', ascending=True)"
   ]
  },
  {
   "cell_type": "code",
   "execution_count": 23,
   "id": "d1cac149",
   "metadata": {
    "ExecuteTime": {
     "end_time": "2022-06-26T23:46:18.628177Z",
     "start_time": "2022-06-26T23:46:18.101012Z"
    }
   },
   "outputs": [
    {
     "name": "stdout",
     "output_type": "stream",
     "text": [
      "RMSE: 30623.55\n"
     ]
    },
    {
     "data": {
      "image/png": "[encoded data removed]",
      "text/plain": [
       "<Figure size 576x432 with 1 Axes>"
      ]
     },
     "metadata": {
      "needs_background": "light"
     },
     "output_type": "display_data"
    }
   ],
   "source": [
    "lst_columns = dct_performance[10]['features']\n",
    "\n",
    "model = RandomForestRegressor(random_state=RANDOM_STATE, n_jobs=-1)\n",
    "model.fit(X_train[lst_columns], y_train.values)\n",
    "\n",
    "y_pred = model.predict(X_test[lst_columns])\n",
    "\n",
    "print(f\"RMSE: {mse(y_test, y_pred)**.5:.2f}\")\n",
    "\n",
    "df_importance = pd.DataFrame(\n",
    "    model.feature_importances_, index=model.feature_names_in_, columns=['importance']\n",
    ").sort_values(by='importance', ascending=False)\n",
    "\n",
    "\n",
    "a4_dims = (8, 6)\n",
    "fig, ax = plt.subplots(figsize=a4_dims)\n",
    "\n",
    "sns.barplot(data=df_importance, y=df_importance.index, x='importance', ax=ax);"
   ]
  },
  {
   "cell_type": "code",
   "execution_count": 24,
   "id": "0d8ab1aa",
   "metadata": {
    "ExecuteTime": {
     "end_time": "2022-06-26T23:46:18.816100Z",
     "start_time": "2022-06-26T23:46:18.630172Z"
    }
   },
   "outputs": [
    {
     "data": {
      "text/html": [
       "<div>\n",
       "<style scoped>\n",
       "    .dataframe tbody tr th:only-of-type {\n",
       "        vertical-align: middle;\n",
       "    }\n",
       "\n",
       "    .dataframe tbody tr th {\n",
       "        vertical-align: top;\n",
       "    }\n",
       "\n",
       "    .dataframe thead th {\n",
       "        text-align: right;\n",
       "    }\n",
       "</style>\n",
       "<table border=\"1\" class=\"dataframe\">\n",
       "  <thead>\n",
       "    <tr style=\"text-align: right;\">\n",
       "      <th></th>\n",
       "      <th>Id</th>\n",
       "      <th>SalePrice</th>\n",
       "    </tr>\n",
       "  </thead>\n",
       "  <tbody>\n",
       "    <tr>\n",
       "      <th>1321</th>\n",
       "      <td>2782</td>\n",
       "      <td>99389.00</td>\n",
       "    </tr>\n",
       "    <tr>\n",
       "      <th>836</th>\n",
       "      <td>2297</td>\n",
       "      <td>317451.67</td>\n",
       "    </tr>\n",
       "    <tr>\n",
       "      <th>413</th>\n",
       "      <td>1874</td>\n",
       "      <td>142310.00</td>\n",
       "    </tr>\n",
       "    <tr>\n",
       "      <th>522</th>\n",
       "      <td>1983</td>\n",
       "      <td>201026.55</td>\n",
       "    </tr>\n",
       "    <tr>\n",
       "      <th>1035</th>\n",
       "      <td>2496</td>\n",
       "      <td>223975.59</td>\n",
       "    </tr>\n",
       "    <tr>\n",
       "      <th>614</th>\n",
       "      <td>2075</td>\n",
       "      <td>143911.50</td>\n",
       "    </tr>\n",
       "    <tr>\n",
       "      <th>218</th>\n",
       "      <td>1679</td>\n",
       "      <td>385395.15</td>\n",
       "    </tr>\n",
       "    <tr>\n",
       "      <th>1031</th>\n",
       "      <td>2492</td>\n",
       "      <td>192156.50</td>\n",
       "    </tr>\n",
       "    <tr>\n",
       "      <th>1289</th>\n",
       "      <td>2750</td>\n",
       "      <td>135175.25</td>\n",
       "    </tr>\n",
       "    <tr>\n",
       "      <th>886</th>\n",
       "      <td>2347</td>\n",
       "      <td>208197.87</td>\n",
       "    </tr>\n",
       "  </tbody>\n",
       "</table>\n",
       "</div>"
      ],
      "text/plain": [
       "        Id  SalePrice\n",
       "1321  2782   99389.00\n",
       "836   2297  317451.67\n",
       "413   1874  142310.00\n",
       "522   1983  201026.55\n",
       "1035  2496  223975.59\n",
       "614   2075  143911.50\n",
       "218   1679  385395.15\n",
       "1031  2492  192156.50\n",
       "1289  2750  135175.25\n",
       "886   2347  208197.87"
      ]
     },
     "execution_count": 24,
     "metadata": {},
     "output_type": "execute_result"
    }
   ],
   "source": [
    "x_test_kaggle_reduced = x_test_kaggle[lst_columns].copy()\n",
    "\n",
    "y_pred_kaggle = model.predict(x_test_kaggle_reduced[lst_columns])\n",
    "y_pred_kaggle = pd.DataFrame(y_pred_kaggle, index=x_test_kaggle_reduced.index, columns=['SalePrice']).reset_index()\n",
    "y_pred_kaggle.rename(columns={'index':'Id'}, inplace=True)\n",
    "y_pred_kaggle.sample(10, random_state=RANDOM_STATE)"
   ]
  },
  {
   "cell_type": "code",
   "execution_count": 25,
   "id": "932e498c",
   "metadata": {
    "ExecuteTime": {
     "end_time": "2022-06-26T23:46:18.987624Z",
     "start_time": "2022-06-26T23:46:18.817033Z"
    }
   },
   "outputs": [],
   "source": [
    "y_pred_kaggle.to_csv(PROCESSED_FOLDER + 'y_pred_kaggle_baseline_random_forest_random_rfr_feature_selection.csv', index=False)"
   ]
  },
  {
   "cell_type": "markdown",
   "id": "7ca6b5de",
   "metadata": {},
   "source": [
    "### Partial conclusion\n",
    "\n",
    "Even with a lower RMSE for the validation dataset, the score obtained with the test score in Kaggle's leaderboard do not presented a decrease. The strategy must change once again. This time, I'm going to add some categorical attributes in a random forest regressor. "
   ]
  },
  {
   "cell_type": "markdown",
   "id": "3bd3ad17",
   "metadata": {},
   "source": [
    "# 5th experiment: Added binary attributes\n",
    "\n",
    "## Importing data"
   ]
  },
  {
   "cell_type": "code",
   "execution_count": 26,
   "id": "5fb7b4af",
   "metadata": {
    "ExecuteTime": {
     "end_time": "2022-06-26T23:50:12.145680Z",
     "start_time": "2022-06-26T23:50:11.978814Z"
    }
   },
   "outputs": [
    {
     "name": "stdout",
     "output_type": "stream",
     "text": [
      "df_evaluation's shape: (1460, 25)\n",
      "x_test_kaggle's shape: (1459, 24)\n"
     ]
    }
   ],
   "source": [
    "df = pd.read_parquet(INTERIM_FOLDER + 'df_train_interim_02_2nd_experiment.pqt')\n",
    "df_evaluation = df.copy() \n",
    "print(f\"df_evaluation's shape: {df_evaluation.shape}\")\n",
    "\n",
    "# Importing Kaggle's test dataset.\n",
    "x_test_kaggle = pd.read_parquet(INTERIM_FOLDER + 'x_test_kaggle_prepared_2nd_experiment.pqt')\n",
    "print(f\"x_test_kaggle's shape: {x_test_kaggle.shape}\")"
   ]
  },
  {
   "cell_type": "markdown",
   "id": "99a86f97",
   "metadata": {},
   "source": [
    "### Splitting data"
   ]
  },
  {
   "cell_type": "code",
   "execution_count": 27,
   "id": "40343ebb",
   "metadata": {
    "ExecuteTime": {
     "end_time": "2022-06-26T23:50:15.388484Z",
     "start_time": "2022-06-26T23:50:15.225975Z"
    }
   },
   "outputs": [],
   "source": [
    "X = df_evaluation.drop(columns=['SalePrice'])\n",
    "y = df_evaluation[['SalePrice']]\n",
    "\n",
    "X_train, X_test, y_train, y_test = train_test_split(X, y, test_size=0.2, random_state=RANDOM_STATE)"
   ]
  },
  {
   "cell_type": "markdown",
   "id": "4f1564a8",
   "metadata": {},
   "source": [
    "### Modeling"
   ]
  },
  {
   "cell_type": "code",
   "execution_count": 28,
   "id": "e754af92",
   "metadata": {
    "ExecuteTime": {
     "end_time": "2022-06-26T23:50:20.619363Z",
     "start_time": "2022-06-26T23:50:20.001826Z"
    }
   },
   "outputs": [
    {
     "name": "stdout",
     "output_type": "stream",
     "text": [
      "RMSE: 32042.66\n"
     ]
    },
    {
     "data": {
      "image/png": "[encoded data removed]",
      "text/plain": [
       "<Figure size 576x432 with 1 Axes>"
      ]
     },
     "metadata": {
      "needs_background": "light"
     },
     "output_type": "display_data"
    }
   ],
   "source": [
    "model = RandomForestRegressor(random_state=RANDOM_STATE, n_jobs=-1)\n",
    "model.fit(X_train, y_train.values)\n",
    "\n",
    "y_pred = model.predict(X_test)\n",
    "\n",
    "print(f\"RMSE: {mse(y_test, y_pred)**.5:.2f}\")\n",
    "\n",
    "df_importance = pd.DataFrame(\n",
    "    model.feature_importances_, index=model.feature_names_in_, columns=['importance']\n",
    ").sort_values(by='importance', ascending=False)\n",
    "\n",
    "\n",
    "a4_dims = (8, 6)\n",
    "fig, ax = plt.subplots(figsize=a4_dims)\n",
    "\n",
    "sns.barplot(data=df_importance, y=df_importance.index, x='importance', ax=ax);"
   ]
  },
  {
   "cell_type": "markdown",
   "id": "17bc1377",
   "metadata": {},
   "source": [
    "#### Testing different set of predictors"
   ]
  },
  {
   "cell_type": "code",
   "execution_count": 29,
   "id": "149bb23d",
   "metadata": {
    "ExecuteTime": {
     "end_time": "2022-06-26T23:50:36.449575Z",
     "start_time": "2022-06-26T23:50:30.147126Z"
    }
   },
   "outputs": [
    {
     "data": {
      "text/html": [
       "<div>\n",
       "<style scoped>\n",
       "    .dataframe tbody tr th:only-of-type {\n",
       "        vertical-align: middle;\n",
       "    }\n",
       "\n",
       "    .dataframe tbody tr th {\n",
       "        vertical-align: top;\n",
       "    }\n",
       "\n",
       "    .dataframe thead th {\n",
       "        text-align: right;\n",
       "    }\n",
       "</style>\n",
       "<table border=\"1\" class=\"dataframe\">\n",
       "  <thead>\n",
       "    <tr style=\"text-align: right;\">\n",
       "      <th></th>\n",
       "      <th>features</th>\n",
       "      <th>RMSE</th>\n",
       "    </tr>\n",
       "  </thead>\n",
       "  <tbody>\n",
       "    <tr>\n",
       "      <th>9</th>\n",
       "      <td>[GrLivArea, YearBuilt_YrSold, GarageArea, Tota...</td>\n",
       "      <td>30325.063697</td>\n",
       "    </tr>\n",
       "    <tr>\n",
       "      <th>8</th>\n",
       "      <td>[GrLivArea, YearBuilt_YrSold, GarageArea, Tota...</td>\n",
       "      <td>31046.455787</td>\n",
       "    </tr>\n",
       "    <tr>\n",
       "      <th>13</th>\n",
       "      <td>[GrLivArea, YearBuilt_YrSold, GarageArea, Tota...</td>\n",
       "      <td>31172.858137</td>\n",
       "    </tr>\n",
       "    <tr>\n",
       "      <th>24</th>\n",
       "      <td>[has_central_air, is_paved_street, is_all_pub_...</td>\n",
       "      <td>32042.661418</td>\n",
       "    </tr>\n",
       "    <tr>\n",
       "      <th>16</th>\n",
       "      <td>[GrLivArea, YearBuilt_YrSold, GarageArea, Tota...</td>\n",
       "      <td>32077.270829</td>\n",
       "    </tr>\n",
       "    <tr>\n",
       "      <th>20</th>\n",
       "      <td>[GrLivArea, YearBuilt_YrSold, GarageArea, Tota...</td>\n",
       "      <td>32239.141222</td>\n",
       "    </tr>\n",
       "    <tr>\n",
       "      <th>6</th>\n",
       "      <td>[GrLivArea, YearBuilt_YrSold, GarageArea, Tota...</td>\n",
       "      <td>32416.133314</td>\n",
       "    </tr>\n",
       "    <tr>\n",
       "      <th>5</th>\n",
       "      <td>[GrLivArea, YearBuilt_YrSold, GarageArea, Tota...</td>\n",
       "      <td>32513.871299</td>\n",
       "    </tr>\n",
       "    <tr>\n",
       "      <th>4</th>\n",
       "      <td>[GrLivArea, YearBuilt_YrSold, GarageArea, Tota...</td>\n",
       "      <td>32708.542754</td>\n",
       "    </tr>\n",
       "    <tr>\n",
       "      <th>7</th>\n",
       "      <td>[GrLivArea, YearBuilt_YrSold, GarageArea, Tota...</td>\n",
       "      <td>33004.774121</td>\n",
       "    </tr>\n",
       "    <tr>\n",
       "      <th>3</th>\n",
       "      <td>[GrLivArea, YearBuilt_YrSold, GarageArea]</td>\n",
       "      <td>37976.162322</td>\n",
       "    </tr>\n",
       "    <tr>\n",
       "      <th>2</th>\n",
       "      <td>[GrLivArea, YearBuilt_YrSold]</td>\n",
       "      <td>41487.078196</td>\n",
       "    </tr>\n",
       "  </tbody>\n",
       "</table>\n",
       "</div>"
      ],
      "text/plain": [
       "                                             features          RMSE\n",
       "9   [GrLivArea, YearBuilt_YrSold, GarageArea, Tota...  30325.063697\n",
       "8   [GrLivArea, YearBuilt_YrSold, GarageArea, Tota...  31046.455787\n",
       "13  [GrLivArea, YearBuilt_YrSold, GarageArea, Tota...  31172.858137\n",
       "24  [has_central_air, is_paved_street, is_all_pub_...  32042.661418\n",
       "16  [GrLivArea, YearBuilt_YrSold, GarageArea, Tota...  32077.270829\n",
       "20  [GrLivArea, YearBuilt_YrSold, GarageArea, Tota...  32239.141222\n",
       "6   [GrLivArea, YearBuilt_YrSold, GarageArea, Tota...  32416.133314\n",
       "5   [GrLivArea, YearBuilt_YrSold, GarageArea, Tota...  32513.871299\n",
       "4   [GrLivArea, YearBuilt_YrSold, GarageArea, Tota...  32708.542754\n",
       "7   [GrLivArea, YearBuilt_YrSold, GarageArea, Tota...  33004.774121\n",
       "3           [GrLivArea, YearBuilt_YrSold, GarageArea]  37976.162322\n",
       "2                       [GrLivArea, YearBuilt_YrSold]  41487.078196"
      ]
     },
     "execution_count": 29,
     "metadata": {},
     "output_type": "execute_result"
    }
   ],
   "source": [
    "dct_performance = rfr_feature_selection(df=X_train)\n",
    "pd.DataFrame.from_dict(dct_performance, orient='index').sort_values(by='RMSE', ascending=True)"
   ]
  },
  {
   "cell_type": "code",
   "execution_count": 31,
   "id": "c7f05030",
   "metadata": {
    "ExecuteTime": {
     "end_time": "2022-06-26T23:50:41.700990Z",
     "start_time": "2022-06-26T23:50:41.210768Z"
    }
   },
   "outputs": [
    {
     "name": "stdout",
     "output_type": "stream",
     "text": [
      "RMSE: 30325.06\n"
     ]
    },
    {
     "data": {
      "image/png": "[encoded data removed]",
      "text/plain": [
       "<Figure size 576x432 with 1 Axes>"
      ]
     },
     "metadata": {
      "needs_background": "light"
     },
     "output_type": "display_data"
    }
   ],
   "source": [
    "lst_columns = dct_performance[9]['features']\n",
    "\n",
    "model = RandomForestRegressor(random_state=RANDOM_STATE, n_jobs=-1)\n",
    "model.fit(X_train[lst_columns], y_train.values)\n",
    "\n",
    "y_pred = model.predict(X_test[lst_columns])\n",
    "\n",
    "print(f\"RMSE: {mse(y_test, y_pred)**.5:.2f}\")\n",
    "\n",
    "df_importance = pd.DataFrame(\n",
    "    model.feature_importances_, index=model.feature_names_in_, columns=['importance']\n",
    ").sort_values(by='importance', ascending=False)\n",
    "\n",
    "\n",
    "a4_dims = (8, 6)\n",
    "fig, ax = plt.subplots(figsize=a4_dims)\n",
    "\n",
    "sns.barplot(data=df_importance, y=df_importance.index, x='importance', ax=ax);"
   ]
  },
  {
   "cell_type": "code",
   "execution_count": 32,
   "id": "26ce3631",
   "metadata": {
    "ExecuteTime": {
     "end_time": "2022-06-26T23:50:45.128189Z",
     "start_time": "2022-06-26T23:50:44.938022Z"
    }
   },
   "outputs": [
    {
     "data": {
      "text/html": [
       "<div>\n",
       "<style scoped>\n",
       "    .dataframe tbody tr th:only-of-type {\n",
       "        vertical-align: middle;\n",
       "    }\n",
       "\n",
       "    .dataframe tbody tr th {\n",
       "        vertical-align: top;\n",
       "    }\n",
       "\n",
       "    .dataframe thead th {\n",
       "        text-align: right;\n",
       "    }\n",
       "</style>\n",
       "<table border=\"1\" class=\"dataframe\">\n",
       "  <thead>\n",
       "    <tr style=\"text-align: right;\">\n",
       "      <th></th>\n",
       "      <th>Id</th>\n",
       "      <th>SalePrice</th>\n",
       "    </tr>\n",
       "  </thead>\n",
       "  <tbody>\n",
       "    <tr>\n",
       "      <th>1321</th>\n",
       "      <td>2782</td>\n",
       "      <td>101934.00</td>\n",
       "    </tr>\n",
       "    <tr>\n",
       "      <th>836</th>\n",
       "      <td>2297</td>\n",
       "      <td>316040.85</td>\n",
       "    </tr>\n",
       "    <tr>\n",
       "      <th>413</th>\n",
       "      <td>1874</td>\n",
       "      <td>142658.00</td>\n",
       "    </tr>\n",
       "    <tr>\n",
       "      <th>522</th>\n",
       "      <td>1983</td>\n",
       "      <td>201500.68</td>\n",
       "    </tr>\n",
       "    <tr>\n",
       "      <th>1035</th>\n",
       "      <td>2496</td>\n",
       "      <td>224459.80</td>\n",
       "    </tr>\n",
       "    <tr>\n",
       "      <th>614</th>\n",
       "      <td>2075</td>\n",
       "      <td>144243.00</td>\n",
       "    </tr>\n",
       "    <tr>\n",
       "      <th>218</th>\n",
       "      <td>1679</td>\n",
       "      <td>396445.75</td>\n",
       "    </tr>\n",
       "    <tr>\n",
       "      <th>1031</th>\n",
       "      <td>2492</td>\n",
       "      <td>189535.32</td>\n",
       "    </tr>\n",
       "    <tr>\n",
       "      <th>1289</th>\n",
       "      <td>2750</td>\n",
       "      <td>137106.25</td>\n",
       "    </tr>\n",
       "    <tr>\n",
       "      <th>886</th>\n",
       "      <td>2347</td>\n",
       "      <td>207228.44</td>\n",
       "    </tr>\n",
       "  </tbody>\n",
       "</table>\n",
       "</div>"
      ],
      "text/plain": [
       "        Id  SalePrice\n",
       "1321  2782  101934.00\n",
       "836   2297  316040.85\n",
       "413   1874  142658.00\n",
       "522   1983  201500.68\n",
       "1035  2496  224459.80\n",
       "614   2075  144243.00\n",
       "218   1679  396445.75\n",
       "1031  2492  189535.32\n",
       "1289  2750  137106.25\n",
       "886   2347  207228.44"
      ]
     },
     "execution_count": 32,
     "metadata": {},
     "output_type": "execute_result"
    }
   ],
   "source": [
    "x_test_kaggle_reduced = x_test_kaggle[lst_columns].copy()\n",
    "\n",
    "y_pred_kaggle = model.predict(x_test_kaggle_reduced[lst_columns])\n",
    "y_pred_kaggle = pd.DataFrame(y_pred_kaggle, index=x_test_kaggle_reduced.index, columns=['SalePrice']).reset_index()\n",
    "y_pred_kaggle.rename(columns={'index':'Id'}, inplace=True)\n",
    "y_pred_kaggle.sample(10, random_state=RANDOM_STATE)"
   ]
  },
  {
   "cell_type": "code",
   "execution_count": 33,
   "id": "98143de1",
   "metadata": {
    "ExecuteTime": {
     "end_time": "2022-06-26T23:50:48.182095Z",
     "start_time": "2022-06-26T23:50:48.010511Z"
    }
   },
   "outputs": [],
   "source": [
    "y_pred_kaggle.to_csv(PROCESSED_FOLDER + 'y_pred_kaggle_2nd_dataset_rfr_feature_selection.csv', index=False)"
   ]
  },
  {
   "cell_type": "markdown",
   "id": "2244ef7c",
   "metadata": {},
   "source": [
    "# 6th experiment: Random forest regression and using floats, integer and binary attributes\n",
    "\n",
    "## Importing data"
   ]
  },
  {
   "cell_type": "code",
   "execution_count": 5,
   "id": "8bf26d7e",
   "metadata": {
    "ExecuteTime": {
     "end_time": "2022-07-10T18:12:02.391229Z",
     "start_time": "2022-07-10T18:12:02.158940Z"
    }
   },
   "outputs": [],
   "source": [
    "X_train = pd.read_parquet(INTERIM_FOLDER + 'X_train_3rd_dataprep.pqt')\n",
    "X_test = pd.read_parquet(INTERIM_FOLDER + 'X_test_3rd_dataprep.pqt')\n",
    "y_train = pd.read_parquet(INTERIM_FOLDER + 'y_train_3rd_dataprep.pqt')\n",
    "y_test = pd.read_parquet(INTERIM_FOLDER + 'y_test_3rd_dataprep.pqt')\n",
    "\n",
    "x_test_kaggle = pd.read_parquet(INTERIM_FOLDER + 'x_test_kaggle_3rd_dataprep.pqt')"
   ]
  },
  {
   "cell_type": "markdown",
   "id": "024ac452",
   "metadata": {},
   "source": [
    "## Modeling and evaluating"
   ]
  },
  {
   "cell_type": "code",
   "execution_count": 6,
   "id": "4235ed95",
   "metadata": {
    "ExecuteTime": {
     "end_time": "2022-07-10T18:12:03.862193Z",
     "start_time": "2022-07-10T18:12:02.976134Z"
    }
   },
   "outputs": [
    {
     "name": "stdout",
     "output_type": "stream",
     "text": [
      "RMSE: 28100.11\n"
     ]
    },
    {
     "data": {
      "image/png": "[encoded data removed]",
      "text/plain": [
       "<Figure size 576x432 with 1 Axes>"
      ]
     },
     "metadata": {
      "needs_background": "light"
     },
     "output_type": "display_data"
    }
   ],
   "source": [
    "model = RandomForestRegressor(n_jobs=-1, random_state=RANDOM_STATE)\n",
    "model.fit(X_train, y_train.values)\n",
    "\n",
    "y_pred = model.predict(X_test)\n",
    "\n",
    "print(f\"RMSE: {mse(y_test, y_pred)**.5:.2f}\")\n",
    "\n",
    "df_importance = pd.DataFrame(\n",
    "    model.feature_importances_, index=model.feature_names_in_, columns=['importance']\n",
    ").sort_values(by='importance', ascending=False)\n",
    "\n",
    "\n",
    "a4_dims = (8, 6)\n",
    "fig, ax = plt.subplots(figsize=a4_dims)\n",
    "\n",
    "sns.barplot(data=df_importance, y=df_importance.index, x='importance', ax=ax);"
   ]
  },
  {
   "cell_type": "markdown",
   "id": "319a3473",
   "metadata": {},
   "source": [
    "## Testing the kaggle's dataset"
   ]
  },
  {
   "cell_type": "code",
   "execution_count": 7,
   "id": "49a8ba6b",
   "metadata": {
    "ExecuteTime": {
     "end_time": "2022-07-10T18:12:04.240067Z",
     "start_time": "2022-07-10T18:12:03.965580Z"
    }
   },
   "outputs": [
    {
     "data": {
      "text/html": [
       "<div>\n",
       "<style scoped>\n",
       "    .dataframe tbody tr th:only-of-type {\n",
       "        vertical-align: middle;\n",
       "    }\n",
       "\n",
       "    .dataframe tbody tr th {\n",
       "        vertical-align: top;\n",
       "    }\n",
       "\n",
       "    .dataframe thead th {\n",
       "        text-align: right;\n",
       "    }\n",
       "</style>\n",
       "<table border=\"1\" class=\"dataframe\">\n",
       "  <thead>\n",
       "    <tr style=\"text-align: right;\">\n",
       "      <th></th>\n",
       "      <th>Id</th>\n",
       "      <th>SalePrice</th>\n",
       "    </tr>\n",
       "  </thead>\n",
       "  <tbody>\n",
       "    <tr>\n",
       "      <th>1321</th>\n",
       "      <td>2782</td>\n",
       "      <td>99708.66</td>\n",
       "    </tr>\n",
       "    <tr>\n",
       "      <th>836</th>\n",
       "      <td>2297</td>\n",
       "      <td>307046.00</td>\n",
       "    </tr>\n",
       "    <tr>\n",
       "      <th>413</th>\n",
       "      <td>1874</td>\n",
       "      <td>139029.60</td>\n",
       "    </tr>\n",
       "    <tr>\n",
       "      <th>522</th>\n",
       "      <td>1983</td>\n",
       "      <td>214939.63</td>\n",
       "    </tr>\n",
       "    <tr>\n",
       "      <th>1035</th>\n",
       "      <td>2496</td>\n",
       "      <td>217358.49</td>\n",
       "    </tr>\n",
       "    <tr>\n",
       "      <th>614</th>\n",
       "      <td>2075</td>\n",
       "      <td>149312.25</td>\n",
       "    </tr>\n",
       "    <tr>\n",
       "      <th>218</th>\n",
       "      <td>1679</td>\n",
       "      <td>387210.65</td>\n",
       "    </tr>\n",
       "    <tr>\n",
       "      <th>1031</th>\n",
       "      <td>2492</td>\n",
       "      <td>183707.50</td>\n",
       "    </tr>\n",
       "    <tr>\n",
       "      <th>1289</th>\n",
       "      <td>2750</td>\n",
       "      <td>135654.25</td>\n",
       "    </tr>\n",
       "    <tr>\n",
       "      <th>886</th>\n",
       "      <td>2347</td>\n",
       "      <td>205877.70</td>\n",
       "    </tr>\n",
       "  </tbody>\n",
       "</table>\n",
       "</div>"
      ],
      "text/plain": [
       "        Id  SalePrice\n",
       "1321  2782   99708.66\n",
       "836   2297  307046.00\n",
       "413   1874  139029.60\n",
       "522   1983  214939.63\n",
       "1035  2496  217358.49\n",
       "614   2075  149312.25\n",
       "218   1679  387210.65\n",
       "1031  2492  183707.50\n",
       "1289  2750  135654.25\n",
       "886   2347  205877.70"
      ]
     },
     "execution_count": 7,
     "metadata": {},
     "output_type": "execute_result"
    }
   ],
   "source": [
    "y_pred_kaggle = model.predict(x_test_kaggle)\n",
    "y_pred_kaggle = pd.DataFrame(y_pred_kaggle, index=x_test_kaggle.index, columns=['SalePrice']).reset_index()\n",
    "y_pred_kaggle.rename(columns={'index':'Id'}, inplace=True)\n",
    "\n",
    "y_pred_kaggle.to_csv(PROCESSED_FOLDER + 'y_pred_kaggle_6th_experiment.csv', index=False)\n",
    "\n",
    "y_pred_kaggle.sample(10, random_state=RANDOM_STATE)"
   ]
  },
  {
   "cell_type": "markdown",
   "id": "3ebba5b8",
   "metadata": {},
   "source": [
    "## Selecting attributes"
   ]
  },
  {
   "cell_type": "code",
   "execution_count": 8,
   "id": "5ad89490",
   "metadata": {
    "ExecuteTime": {
     "end_time": "2022-07-10T18:12:05.440181Z",
     "start_time": "2022-07-10T18:12:05.247232Z"
    },
    "scrolled": true
   },
   "outputs": [],
   "source": [
    "lst_selected_atributes = df_importance.loc[df_importance['importance']>0.002].index.tolist()"
   ]
  },
  {
   "cell_type": "code",
   "execution_count": 9,
   "id": "93fec109",
   "metadata": {
    "ExecuteTime": {
     "end_time": "2022-07-10T18:12:06.530944Z",
     "start_time": "2022-07-10T18:12:05.853099Z"
    }
   },
   "outputs": [
    {
     "name": "stdout",
     "output_type": "stream",
     "text": [
      "RMSE: 28079.94\n"
     ]
    },
    {
     "data": {
      "image/png": "[encoded data removed]",
      "text/plain": [
       "<Figure size 576x432 with 1 Axes>"
      ]
     },
     "metadata": {
      "needs_background": "light"
     },
     "output_type": "display_data"
    }
   ],
   "source": [
    "model = RandomForestRegressor(n_jobs=-1, random_state=RANDOM_STATE)\n",
    "model.fit(X_train[lst_selected_atributes], y_train.values)\n",
    "\n",
    "y_pred = model.predict(X_test[lst_selected_atributes])\n",
    "\n",
    "print(f\"RMSE: {mse(y_test, y_pred)**.5:.2f}\")\n",
    "\n",
    "df_importance = pd.DataFrame(\n",
    "    model.feature_importances_, index=model.feature_names_in_, columns=['importance']\n",
    ").sort_values(by='importance', ascending=False)\n",
    "\n",
    "\n",
    "a4_dims = (8, 6)\n",
    "fig, ax = plt.subplots(figsize=a4_dims)\n",
    "\n",
    "sns.barplot(data=df_importance, y=df_importance.index, x='importance', ax=ax);"
   ]
  },
  {
   "cell_type": "markdown",
   "id": "5211ff48",
   "metadata": {},
   "source": [
    "## Testing the kaggle's dataset"
   ]
  },
  {
   "cell_type": "code",
   "execution_count": 10,
   "id": "5f089994",
   "metadata": {
    "ExecuteTime": {
     "end_time": "2022-07-10T18:12:08.190172Z",
     "start_time": "2022-07-10T18:12:07.951272Z"
    }
   },
   "outputs": [
    {
     "data": {
      "text/html": [
       "<div>\n",
       "<style scoped>\n",
       "    .dataframe tbody tr th:only-of-type {\n",
       "        vertical-align: middle;\n",
       "    }\n",
       "\n",
       "    .dataframe tbody tr th {\n",
       "        vertical-align: top;\n",
       "    }\n",
       "\n",
       "    .dataframe thead th {\n",
       "        text-align: right;\n",
       "    }\n",
       "</style>\n",
       "<table border=\"1\" class=\"dataframe\">\n",
       "  <thead>\n",
       "    <tr style=\"text-align: right;\">\n",
       "      <th></th>\n",
       "      <th>Id</th>\n",
       "      <th>SalePrice</th>\n",
       "    </tr>\n",
       "  </thead>\n",
       "  <tbody>\n",
       "    <tr>\n",
       "      <th>1321</th>\n",
       "      <td>2782</td>\n",
       "      <td>100052.49</td>\n",
       "    </tr>\n",
       "    <tr>\n",
       "      <th>836</th>\n",
       "      <td>2297</td>\n",
       "      <td>306766.55</td>\n",
       "    </tr>\n",
       "    <tr>\n",
       "      <th>413</th>\n",
       "      <td>1874</td>\n",
       "      <td>139535.10</td>\n",
       "    </tr>\n",
       "    <tr>\n",
       "      <th>522</th>\n",
       "      <td>1983</td>\n",
       "      <td>217120.59</td>\n",
       "    </tr>\n",
       "    <tr>\n",
       "      <th>1035</th>\n",
       "      <td>2496</td>\n",
       "      <td>218083.06</td>\n",
       "    </tr>\n",
       "    <tr>\n",
       "      <th>614</th>\n",
       "      <td>2075</td>\n",
       "      <td>148388.50</td>\n",
       "    </tr>\n",
       "    <tr>\n",
       "      <th>218</th>\n",
       "      <td>1679</td>\n",
       "      <td>388813.75</td>\n",
       "    </tr>\n",
       "    <tr>\n",
       "      <th>1031</th>\n",
       "      <td>2492</td>\n",
       "      <td>185941.70</td>\n",
       "    </tr>\n",
       "    <tr>\n",
       "      <th>1289</th>\n",
       "      <td>2750</td>\n",
       "      <td>135140.75</td>\n",
       "    </tr>\n",
       "    <tr>\n",
       "      <th>886</th>\n",
       "      <td>2347</td>\n",
       "      <td>206286.65</td>\n",
       "    </tr>\n",
       "  </tbody>\n",
       "</table>\n",
       "</div>"
      ],
      "text/plain": [
       "        Id  SalePrice\n",
       "1321  2782  100052.49\n",
       "836   2297  306766.55\n",
       "413   1874  139535.10\n",
       "522   1983  217120.59\n",
       "1035  2496  218083.06\n",
       "614   2075  148388.50\n",
       "218   1679  388813.75\n",
       "1031  2492  185941.70\n",
       "1289  2750  135140.75\n",
       "886   2347  206286.65"
      ]
     },
     "execution_count": 10,
     "metadata": {},
     "output_type": "execute_result"
    }
   ],
   "source": [
    "y_pred_kaggle = model.predict(x_test_kaggle[lst_selected_atributes])\n",
    "y_pred_kaggle = pd.DataFrame(y_pred_kaggle, index=x_test_kaggle.index, columns=['SalePrice']).reset_index()\n",
    "y_pred_kaggle.rename(columns={'index':'Id'}, inplace=True)\n",
    "\n",
    "y_pred_kaggle.to_csv(PROCESSED_FOLDER + 'y_pred_kaggle_6th_experiment_w_feature_selection.csv', index=False)\n",
    "\n",
    "y_pred_kaggle.sample(10, random_state=RANDOM_STATE)"
   ]
  },
  {
   "cell_type": "markdown",
   "id": "b355741d",
   "metadata": {},
   "source": [
    "# 7th experiment: LightGBM and using floats, integer and binary attributes\n",
    "\n",
    "## 9.1  Importing data"
   ]
  },
  {
   "cell_type": "code",
   "execution_count": 5,
   "id": "ac770fee",
   "metadata": {
    "ExecuteTime": {
     "end_time": "2022-07-10T22:51:02.678243Z",
     "start_time": "2022-07-10T22:51:02.421837Z"
    }
   },
   "outputs": [],
   "source": [
    "X_train = pd.read_parquet(INTERIM_FOLDER + 'X_train_3rd_dataprep.pqt')\n",
    "X_test = pd.read_parquet(INTERIM_FOLDER + 'X_test_3rd_dataprep.pqt')\n",
    "y_train = pd.read_parquet(INTERIM_FOLDER + 'y_train_3rd_dataprep.pqt')\n",
    "y_test = pd.read_parquet(INTERIM_FOLDER + 'y_test_3rd_dataprep.pqt')\n",
    "\n",
    "x_test_kaggle = pd.read_parquet(INTERIM_FOLDER + 'x_test_kaggle_3rd_dataprep.pqt')"
   ]
  },
  {
   "cell_type": "markdown",
   "id": "04accd3f",
   "metadata": {},
   "source": [
    "## Modeling and evaluating"
   ]
  },
  {
   "cell_type": "code",
   "execution_count": 29,
   "id": "5e6e42f7",
   "metadata": {
    "ExecuteTime": {
     "end_time": "2022-07-10T18:24:52.825519Z",
     "start_time": "2022-07-10T18:24:44.599008Z"
    }
   },
   "outputs": [
    {
     "name": "stdout",
     "output_type": "stream",
     "text": [
      "RMSE: 29849.17\n"
     ]
    },
    {
     "data": {
      "image/png": "[encoded data removed]",
      "text/plain": [
       "<Figure size 576x432 with 1 Axes>"
      ]
     },
     "metadata": {
      "needs_background": "light"
     },
     "output_type": "display_data"
    }
   ],
   "source": [
    "model = lgb.LGBMRegressor(n_estimators=10000, n_jobs=-1, random_state=RANDOM_STATE)\n",
    "model.fit(X_train, y_train.values)\n",
    "\n",
    "y_pred = model.predict(X_test)\n",
    "\n",
    "print(f\"RMSE: {mse(y_test, y_pred)**.5:.2f}\")\n",
    "\n",
    "df_importance = pd.DataFrame(\n",
    "    model.feature_importances_, index=model.feature_name_, columns=['importance']\n",
    ").sort_values(by='importance', ascending=False)\n",
    "\n",
    "\n",
    "a4_dims = (8, 6)\n",
    "fig, ax = plt.subplots(figsize=a4_dims)\n",
    "\n",
    "sns.barplot(data=df_importance, y=df_importance.index, x='importance', ax=ax);"
   ]
  },
  {
   "cell_type": "markdown",
   "id": "a10390e3",
   "metadata": {
    "ExecuteTime": {
     "end_time": "2022-07-10T18:24:53.047522Z",
     "start_time": "2022-07-10T18:24:52.828523Z"
    }
   },
   "source": [
    "## Testing the kaggle's dataset"
   ]
  },
  {
   "cell_type": "code",
   "execution_count": 31,
   "id": "4198dcb1",
   "metadata": {
    "ExecuteTime": {
     "end_time": "2022-07-10T18:24:53.743515Z",
     "start_time": "2022-07-10T18:24:53.049516Z"
    }
   },
   "outputs": [
    {
     "data": {
      "text/html": [
       "<div>\n",
       "<style scoped>\n",
       "    .dataframe tbody tr th:only-of-type {\n",
       "        vertical-align: middle;\n",
       "    }\n",
       "\n",
       "    .dataframe tbody tr th {\n",
       "        vertical-align: top;\n",
       "    }\n",
       "\n",
       "    .dataframe thead th {\n",
       "        text-align: right;\n",
       "    }\n",
       "</style>\n",
       "<table border=\"1\" class=\"dataframe\">\n",
       "  <thead>\n",
       "    <tr style=\"text-align: right;\">\n",
       "      <th></th>\n",
       "      <th>Id</th>\n",
       "      <th>SalePrice</th>\n",
       "    </tr>\n",
       "  </thead>\n",
       "  <tbody>\n",
       "    <tr>\n",
       "      <th>1321</th>\n",
       "      <td>2782</td>\n",
       "      <td>98985.562365</td>\n",
       "    </tr>\n",
       "    <tr>\n",
       "      <th>836</th>\n",
       "      <td>2297</td>\n",
       "      <td>297859.473277</td>\n",
       "    </tr>\n",
       "    <tr>\n",
       "      <th>413</th>\n",
       "      <td>1874</td>\n",
       "      <td>132946.364151</td>\n",
       "    </tr>\n",
       "    <tr>\n",
       "      <th>522</th>\n",
       "      <td>1983</td>\n",
       "      <td>208639.438794</td>\n",
       "    </tr>\n",
       "    <tr>\n",
       "      <th>1035</th>\n",
       "      <td>2496</td>\n",
       "      <td>244255.565589</td>\n",
       "    </tr>\n",
       "    <tr>\n",
       "      <th>614</th>\n",
       "      <td>2075</td>\n",
       "      <td>145061.007678</td>\n",
       "    </tr>\n",
       "    <tr>\n",
       "      <th>218</th>\n",
       "      <td>1679</td>\n",
       "      <td>422863.713014</td>\n",
       "    </tr>\n",
       "    <tr>\n",
       "      <th>1031</th>\n",
       "      <td>2492</td>\n",
       "      <td>196240.439463</td>\n",
       "    </tr>\n",
       "    <tr>\n",
       "      <th>1289</th>\n",
       "      <td>2750</td>\n",
       "      <td>141561.796196</td>\n",
       "    </tr>\n",
       "    <tr>\n",
       "      <th>886</th>\n",
       "      <td>2347</td>\n",
       "      <td>214021.824851</td>\n",
       "    </tr>\n",
       "  </tbody>\n",
       "</table>\n",
       "</div>"
      ],
      "text/plain": [
       "        Id      SalePrice\n",
       "1321  2782   98985.562365\n",
       "836   2297  297859.473277\n",
       "413   1874  132946.364151\n",
       "522   1983  208639.438794\n",
       "1035  2496  244255.565589\n",
       "614   2075  145061.007678\n",
       "218   1679  422863.713014\n",
       "1031  2492  196240.439463\n",
       "1289  2750  141561.796196\n",
       "886   2347  214021.824851"
      ]
     },
     "execution_count": 31,
     "metadata": {},
     "output_type": "execute_result"
    }
   ],
   "source": [
    "y_pred_kaggle = model.predict(x_test_kaggle)\n",
    "y_pred_kaggle = pd.DataFrame(y_pred_kaggle, index=x_test_kaggle.index, columns=['SalePrice']).reset_index()\n",
    "y_pred_kaggle.rename(columns={'index':'Id'}, inplace=True)\n",
    "\n",
    "y_pred_kaggle.to_csv(PROCESSED_FOLDER + 'y_pred_kaggle_7th_experiment.csv', index=False)\n",
    "\n",
    "y_pred_kaggle.sample(10, random_state=RANDOM_STATE)"
   ]
  },
  {
   "cell_type": "markdown",
   "id": "32c58ebd",
   "metadata": {
    "ExecuteTime": {
     "end_time": "2022-07-10T18:24:28.787924Z",
     "start_time": "2022-07-10T18:24:28.589334Z"
    }
   },
   "source": [
    "## Modeling and evaluating with feature selection"
   ]
  },
  {
   "cell_type": "code",
   "execution_count": 52,
   "id": "f59c5d29",
   "metadata": {
    "ExecuteTime": {
     "end_time": "2022-07-10T20:31:11.045255Z",
     "start_time": "2022-07-10T20:31:05.126315Z"
    }
   },
   "outputs": [
    {
     "name": "stdout",
     "output_type": "stream",
     "text": [
      "RMSE: 31317.43\n"
     ]
    },
    {
     "data": {
      "image/png": "[encoded data removed]",
      "text/plain": [
       "<Figure size 576x432 with 1 Axes>"
      ]
     },
     "metadata": {
      "needs_background": "light"
     },
     "output_type": "display_data"
    }
   ],
   "source": [
    "lst_selected_atributes = df_importance.loc[df_importance['importance']>0.002].index.tolist()\n",
    "\n",
    "model = lgb.LGBMRegressor(n_estimators=10000, n_jobs=-1, random_state=RANDOM_STATE)\n",
    "model.fit(X_train[lst_selected_atributes], y_train.values)\n",
    "\n",
    "y_pred = model.predict(X_test[lst_selected_atributes])\n",
    "\n",
    "print(f\"RMSE: {mse(y_test, y_pred)**.5:.2f}\")\n",
    "\n",
    "df_importance = pd.DataFrame(\n",
    "    model.feature_importances_, index=model.feature_name_, columns=['importance']\n",
    ").sort_values(by='importance', ascending=False)\n",
    "\n",
    "\n",
    "a4_dims = (8, 6)\n",
    "fig, ax = plt.subplots(figsize=a4_dims)\n",
    "\n",
    "sns.barplot(data=df_importance, y=df_importance.index, x='importance', ax=ax);"
   ]
  },
  {
   "cell_type": "markdown",
   "id": "fe5a970f",
   "metadata": {},
   "source": [
    "## Testing the kaggle's dataset"
   ]
  },
  {
   "cell_type": "code",
   "execution_count": 24,
   "id": "4a16eb8f",
   "metadata": {
    "ExecuteTime": {
     "end_time": "2022-07-10T18:22:05.779575Z",
     "start_time": "2022-07-10T18:22:05.143576Z"
    }
   },
   "outputs": [
    {
     "data": {
      "text/html": [
       "<div>\n",
       "<style scoped>\n",
       "    .dataframe tbody tr th:only-of-type {\n",
       "        vertical-align: middle;\n",
       "    }\n",
       "\n",
       "    .dataframe tbody tr th {\n",
       "        vertical-align: top;\n",
       "    }\n",
       "\n",
       "    .dataframe thead th {\n",
       "        text-align: right;\n",
       "    }\n",
       "</style>\n",
       "<table border=\"1\" class=\"dataframe\">\n",
       "  <thead>\n",
       "    <tr style=\"text-align: right;\">\n",
       "      <th></th>\n",
       "      <th>Id</th>\n",
       "      <th>SalePrice</th>\n",
       "    </tr>\n",
       "  </thead>\n",
       "  <tbody>\n",
       "    <tr>\n",
       "      <th>1321</th>\n",
       "      <td>2782</td>\n",
       "      <td>98637.896604</td>\n",
       "    </tr>\n",
       "    <tr>\n",
       "      <th>836</th>\n",
       "      <td>2297</td>\n",
       "      <td>293771.672155</td>\n",
       "    </tr>\n",
       "    <tr>\n",
       "      <th>413</th>\n",
       "      <td>1874</td>\n",
       "      <td>139037.431479</td>\n",
       "    </tr>\n",
       "    <tr>\n",
       "      <th>522</th>\n",
       "      <td>1983</td>\n",
       "      <td>204560.558587</td>\n",
       "    </tr>\n",
       "    <tr>\n",
       "      <th>1035</th>\n",
       "      <td>2496</td>\n",
       "      <td>240270.310774</td>\n",
       "    </tr>\n",
       "    <tr>\n",
       "      <th>614</th>\n",
       "      <td>2075</td>\n",
       "      <td>145223.341561</td>\n",
       "    </tr>\n",
       "    <tr>\n",
       "      <th>218</th>\n",
       "      <td>1679</td>\n",
       "      <td>417390.504632</td>\n",
       "    </tr>\n",
       "    <tr>\n",
       "      <th>1031</th>\n",
       "      <td>2492</td>\n",
       "      <td>191760.611660</td>\n",
       "    </tr>\n",
       "    <tr>\n",
       "      <th>1289</th>\n",
       "      <td>2750</td>\n",
       "      <td>141873.846244</td>\n",
       "    </tr>\n",
       "    <tr>\n",
       "      <th>886</th>\n",
       "      <td>2347</td>\n",
       "      <td>209589.619004</td>\n",
       "    </tr>\n",
       "  </tbody>\n",
       "</table>\n",
       "</div>"
      ],
      "text/plain": [
       "        Id      SalePrice\n",
       "1321  2782   98637.896604\n",
       "836   2297  293771.672155\n",
       "413   1874  139037.431479\n",
       "522   1983  204560.558587\n",
       "1035  2496  240270.310774\n",
       "614   2075  145223.341561\n",
       "218   1679  417390.504632\n",
       "1031  2492  191760.611660\n",
       "1289  2750  141873.846244\n",
       "886   2347  209589.619004"
      ]
     },
     "execution_count": 24,
     "metadata": {},
     "output_type": "execute_result"
    }
   ],
   "source": [
    "y_pred_kaggle = model.predict(x_test_kaggle[lst_selected_atributes])\n",
    "y_pred_kaggle = pd.DataFrame(y_pred_kaggle, index=x_test_kaggle.index, columns=['SalePrice']).reset_index()\n",
    "y_pred_kaggle.rename(columns={'index':'Id'}, inplace=True)\n",
    "\n",
    "y_pred_kaggle.to_csv(PROCESSED_FOLDER + 'y_pred_kaggle_7th_experiment_w_feature_selection.csv', index=False)\n",
    "\n",
    "y_pred_kaggle.sample(10, random_state=RANDOM_STATE)"
   ]
  },
  {
   "cell_type": "markdown",
   "id": "64b16c51",
   "metadata": {},
   "source": [
    "## Modeling with gridsearch\n",
    "\n",
    "### Random grid search"
   ]
  },
  {
   "cell_type": "code",
   "execution_count": 80,
   "id": "c3e306fd",
   "metadata": {
    "ExecuteTime": {
     "end_time": "2022-07-10T20:48:10.836543Z",
     "start_time": "2022-07-10T20:44:38.829526Z"
    }
   },
   "outputs": [
    {
     "data": {
      "text/plain": [
       "{'reg_alpha': 0.2,\n",
       " 'n_estimators': 500,\n",
       " 'max_depth': 18,\n",
       " 'learning_rate': 0.025}"
      ]
     },
     "execution_count": 80,
     "metadata": {},
     "output_type": "execute_result"
    }
   ],
   "source": [
    "hyperparameter_search_space = dict(\n",
    "    n_estimators=np.arange(500, 1500, 250).tolist(),\n",
    "    learning_rate=np.arange(0.0, 0.1, 0.025).tolist(),\n",
    "    max_depth=np.arange(int(len(X_train.columns)**.5), int(len(X_train.columns))+1, 2).tolist(),\n",
    "    reg_alpha=np.arange(0.0, 0.5, 0.1).tolist()\n",
    ")\n",
    "\n",
    "hyperparameter_search_space\n",
    "\n",
    "model = lgb.LGBMRegressor(n_jobs=-1, random_state=RANDOM_STATE)\n",
    "\n",
    "random_grid_search = RandomizedSearchCV(\n",
    "    model, hyperparameter_search_space, scoring='neg_mean_squared_error', random_state=RANDOM_STATE, n_iter=100\n",
    ")\n",
    "\n",
    "search = random_grid_search.fit(X_train, y_train)\n",
    "print(f\"Random grid search's best params: {search.best_params_}\")"
   ]
  },
  {
   "cell_type": "markdown",
   "id": "0e211c1d",
   "metadata": {},
   "source": [
    "### Grid search around the n-dimensional point found in the previous step"
   ]
  },
  {
   "cell_type": "code",
   "execution_count": 96,
   "id": "b0ae98c9",
   "metadata": {
    "ExecuteTime": {
     "end_time": "2022-07-10T20:58:29.170414Z",
     "start_time": "2022-07-10T20:58:29.026415Z"
    }
   },
   "outputs": [
    {
     "name": "stdout",
     "output_type": "stream",
     "text": [
      "reg_alpha 0.2\n",
      "n_estimators 500\n",
      "max_depth 18\n",
      "learning_rate 0.025\n"
     ]
    },
    {
     "data": {
      "text/plain": [
       "{'reg_alpha': [0.13333333333333333,\n",
       "  0.18333333333333335,\n",
       "  0.23333333333333336,\n",
       "  0.2833333333333334],\n",
       " 'n_estimators': [333, 458, 583, 708],\n",
       " 'max_depth': [12, 16, 20, 24],\n",
       " 'learning_rate': [0.016666666666666666,\n",
       "  0.02291666666666667,\n",
       "  0.02916666666666667,\n",
       "  0.03541666666666667]}"
      ]
     },
     "execution_count": 96,
     "metadata": {},
     "output_type": "execute_result"
    }
   ],
   "source": [
    "dct_params = {}\n",
    "\n",
    "for key, item in search.best_params_.items():\n",
    "    print(key, item)\n",
    "    if key in ['n_estimators', 'max_depth']:\n",
    "        dct_params[key] = np.arange(int(item/1.5), int(item*1.5), int(0.25*item)).tolist()\n",
    "    else:\n",
    "        dct_params[key] = np.arange(item/1.5, item*1.5, 0.25*item).tolist()\n",
    "    \n",
    "dct_params"
   ]
  },
  {
   "cell_type": "code",
   "execution_count": 97,
   "id": "ac16ed03",
   "metadata": {
    "ExecuteTime": {
     "end_time": "2022-07-10T21:09:04.714941Z",
     "start_time": "2022-07-10T20:58:30.498918Z"
    }
   },
   "outputs": [
    {
     "name": "stdout",
     "output_type": "stream",
     "text": [
      "Grid search's best params: {'learning_rate': 0.03541666666666667, 'max_depth': 16, 'n_estimators': 333, 'reg_alpha': 0.2833333333333334}\n"
     ]
    }
   ],
   "source": [
    "grid_search = GridSearchCV(\n",
    "    model, dct_params, scoring='neg_mean_squared_error'\n",
    ")\n",
    "\n",
    "search = grid_search.fit(X_train, y_train)\n",
    "print(f\"Grid search's best params: {search.best_params_}\")"
   ]
  },
  {
   "cell_type": "markdown",
   "id": "a9811c09",
   "metadata": {},
   "source": [
    "### Modeling and evaluating"
   ]
  },
  {
   "cell_type": "code",
   "execution_count": 10,
   "id": "89430803",
   "metadata": {
    "ExecuteTime": {
     "end_time": "2022-07-10T22:54:48.280923Z",
     "start_time": "2022-07-10T22:54:47.618924Z"
    }
   },
   "outputs": [
    {
     "name": "stdout",
     "output_type": "stream",
     "text": [
      "RMSE: 29788.46\n"
     ]
    },
    {
     "data": {
      "image/png": "[encoded data removed]",
      "text/plain": [
       "<Figure size 576x432 with 1 Axes>"
      ]
     },
     "metadata": {
      "needs_background": "light"
     },
     "output_type": "display_data"
    }
   ],
   "source": [
    "try:\n",
    "    best_params = search.best_params_\n",
    "except:\n",
    "    best_params = {\n",
    "        'learning_rate': 0.03541666666666667, 'max_depth': 16, 'n_estimators': 333, 'reg_alpha': 0.2833333333333334\n",
    "    }\n",
    "\n",
    "model = lgb.LGBMRegressor(**best_params, n_jobs=-1, random_state=RANDOM_STATE)\n",
    "model.fit(X_train, y_train.values)\n",
    "\n",
    "joblib.dump(model, '../models/model_7th_experiment_7th_experiment_gridsearch.pkl')\n",
    "\n",
    "y_pred = model.predict(X_test)\n",
    "\n",
    "print(f\"RMSE: {mse(y_test, y_pred)**.5:.2f}\")\n",
    "\n",
    "df_importance = pd.DataFrame(\n",
    "    model.feature_importances_, index=model.feature_name_, columns=['importance']\n",
    ").sort_values(by='importance', ascending=False)\n",
    "\n",
    "\n",
    "a4_dims = (8, 6)\n",
    "fig, ax = plt.subplots(figsize=a4_dims)\n",
    "\n",
    "sns.barplot(data=df_importance, y=df_importance.index, x='importance', ax=ax);"
   ]
  },
  {
   "cell_type": "markdown",
   "id": "45a7d490",
   "metadata": {},
   "source": [
    "## Testing the kaggle's dataset"
   ]
  },
  {
   "cell_type": "code",
   "execution_count": 99,
   "id": "50f88257",
   "metadata": {
    "ExecuteTime": {
     "end_time": "2022-07-10T21:16:47.047630Z",
     "start_time": "2022-07-10T21:16:46.865631Z"
    }
   },
   "outputs": [
    {
     "data": {
      "text/html": [
       "<div>\n",
       "<style scoped>\n",
       "    .dataframe tbody tr th:only-of-type {\n",
       "        vertical-align: middle;\n",
       "    }\n",
       "\n",
       "    .dataframe tbody tr th {\n",
       "        vertical-align: top;\n",
       "    }\n",
       "\n",
       "    .dataframe thead th {\n",
       "        text-align: right;\n",
       "    }\n",
       "</style>\n",
       "<table border=\"1\" class=\"dataframe\">\n",
       "  <thead>\n",
       "    <tr style=\"text-align: right;\">\n",
       "      <th></th>\n",
       "      <th>Id</th>\n",
       "      <th>SalePrice</th>\n",
       "    </tr>\n",
       "  </thead>\n",
       "  <tbody>\n",
       "    <tr>\n",
       "      <th>1321</th>\n",
       "      <td>2782</td>\n",
       "      <td>98237.686794</td>\n",
       "    </tr>\n",
       "    <tr>\n",
       "      <th>836</th>\n",
       "      <td>2297</td>\n",
       "      <td>299741.259915</td>\n",
       "    </tr>\n",
       "    <tr>\n",
       "      <th>413</th>\n",
       "      <td>1874</td>\n",
       "      <td>139283.396283</td>\n",
       "    </tr>\n",
       "    <tr>\n",
       "      <th>522</th>\n",
       "      <td>1983</td>\n",
       "      <td>207638.196421</td>\n",
       "    </tr>\n",
       "    <tr>\n",
       "      <th>1035</th>\n",
       "      <td>2496</td>\n",
       "      <td>248473.669499</td>\n",
       "    </tr>\n",
       "    <tr>\n",
       "      <th>614</th>\n",
       "      <td>2075</td>\n",
       "      <td>147955.581440</td>\n",
       "    </tr>\n",
       "    <tr>\n",
       "      <th>218</th>\n",
       "      <td>1679</td>\n",
       "      <td>400758.746183</td>\n",
       "    </tr>\n",
       "    <tr>\n",
       "      <th>1031</th>\n",
       "      <td>2492</td>\n",
       "      <td>189796.071960</td>\n",
       "    </tr>\n",
       "    <tr>\n",
       "      <th>1289</th>\n",
       "      <td>2750</td>\n",
       "      <td>149034.511891</td>\n",
       "    </tr>\n",
       "    <tr>\n",
       "      <th>886</th>\n",
       "      <td>2347</td>\n",
       "      <td>211365.311981</td>\n",
       "    </tr>\n",
       "  </tbody>\n",
       "</table>\n",
       "</div>"
      ],
      "text/plain": [
       "        Id      SalePrice\n",
       "1321  2782   98237.686794\n",
       "836   2297  299741.259915\n",
       "413   1874  139283.396283\n",
       "522   1983  207638.196421\n",
       "1035  2496  248473.669499\n",
       "614   2075  147955.581440\n",
       "218   1679  400758.746183\n",
       "1031  2492  189796.071960\n",
       "1289  2750  149034.511891\n",
       "886   2347  211365.311981"
      ]
     },
     "execution_count": 99,
     "metadata": {},
     "output_type": "execute_result"
    }
   ],
   "source": [
    "y_pred_kaggle = model.predict(x_test_kaggle)\n",
    "y_pred_kaggle = pd.DataFrame(y_pred_kaggle, index=x_test_kaggle.index, columns=['SalePrice']).reset_index()\n",
    "y_pred_kaggle.rename(columns={'index':'Id'}, inplace=True)\n",
    "\n",
    "y_pred_kaggle.to_csv(PROCESSED_FOLDER + 'y_pred_kaggle_7th_experiment_gridsearch.csv', index=False)\n",
    "\n",
    "y_pred_kaggle.sample(10, random_state=RANDOM_STATE)"
   ]
  },
  {
   "cell_type": "markdown",
   "id": "843a87f2",
   "metadata": {},
   "source": [
    "## Modeling with grid search results and feature selection"
   ]
  },
  {
   "cell_type": "code",
   "execution_count": 101,
   "id": "badb526f",
   "metadata": {
    "ExecuteTime": {
     "end_time": "2022-07-10T22:05:26.687282Z",
     "start_time": "2022-07-10T22:05:25.941945Z"
    }
   },
   "outputs": [
    {
     "name": "stdout",
     "output_type": "stream",
     "text": [
      "RMSE: 29788.70\n"
     ]
    },
    {
     "data": {
      "image/png": "[encoded data removed]",
      "text/plain": [
       "<Figure size 576x432 with 1 Axes>"
      ]
     },
     "metadata": {
      "needs_background": "light"
     },
     "output_type": "display_data"
    }
   ],
   "source": [
    "lst_selected_atributes = df_importance.loc[df_importance['importance']>10].index.tolist()\n",
    "\n",
    "model = lgb.LGBMRegressor(**search.best_params_, n_jobs=-1, random_state=RANDOM_STATE)\n",
    "model.fit(X_train[lst_selected_atributes], y_train.values)\n",
    "\n",
    "y_pred = model.predict(X_test[lst_selected_atributes])\n",
    "\n",
    "print(f\"RMSE: {mse(y_test, y_pred)**.5:.2f}\")\n",
    "\n",
    "df_importance = pd.DataFrame(\n",
    "    model.feature_importances_, index=model.feature_name_, columns=['importance']\n",
    ").sort_values(by='importance', ascending=False)\n",
    "\n",
    "\n",
    "a4_dims = (8, 6)\n",
    "fig, ax = plt.subplots(figsize=a4_dims)\n",
    "\n",
    "sns.barplot(data=df_importance, y=df_importance.index, x='importance', ax=ax);"
   ]
  },
  {
   "cell_type": "code",
   "execution_count": 103,
   "id": "f873919d",
   "metadata": {
    "ExecuteTime": {
     "end_time": "2022-07-10T22:06:18.217589Z",
     "start_time": "2022-07-10T22:06:17.988598Z"
    }
   },
   "outputs": [
    {
     "data": {
      "text/html": [
       "<div>\n",
       "<style scoped>\n",
       "    .dataframe tbody tr th:only-of-type {\n",
       "        vertical-align: middle;\n",
       "    }\n",
       "\n",
       "    .dataframe tbody tr th {\n",
       "        vertical-align: top;\n",
       "    }\n",
       "\n",
       "    .dataframe thead th {\n",
       "        text-align: right;\n",
       "    }\n",
       "</style>\n",
       "<table border=\"1\" class=\"dataframe\">\n",
       "  <thead>\n",
       "    <tr style=\"text-align: right;\">\n",
       "      <th></th>\n",
       "      <th>Id</th>\n",
       "      <th>SalePrice</th>\n",
       "    </tr>\n",
       "  </thead>\n",
       "  <tbody>\n",
       "    <tr>\n",
       "      <th>1321</th>\n",
       "      <td>2782</td>\n",
       "      <td>97520.903723</td>\n",
       "    </tr>\n",
       "    <tr>\n",
       "      <th>836</th>\n",
       "      <td>2297</td>\n",
       "      <td>299047.592633</td>\n",
       "    </tr>\n",
       "    <tr>\n",
       "      <th>413</th>\n",
       "      <td>1874</td>\n",
       "      <td>139018.043616</td>\n",
       "    </tr>\n",
       "    <tr>\n",
       "      <th>522</th>\n",
       "      <td>1983</td>\n",
       "      <td>208782.640664</td>\n",
       "    </tr>\n",
       "    <tr>\n",
       "      <th>1035</th>\n",
       "      <td>2496</td>\n",
       "      <td>249075.477452</td>\n",
       "    </tr>\n",
       "    <tr>\n",
       "      <th>614</th>\n",
       "      <td>2075</td>\n",
       "      <td>147545.272336</td>\n",
       "    </tr>\n",
       "    <tr>\n",
       "      <th>218</th>\n",
       "      <td>1679</td>\n",
       "      <td>400980.721852</td>\n",
       "    </tr>\n",
       "    <tr>\n",
       "      <th>1031</th>\n",
       "      <td>2492</td>\n",
       "      <td>187884.952148</td>\n",
       "    </tr>\n",
       "    <tr>\n",
       "      <th>1289</th>\n",
       "      <td>2750</td>\n",
       "      <td>148585.842630</td>\n",
       "    </tr>\n",
       "    <tr>\n",
       "      <th>886</th>\n",
       "      <td>2347</td>\n",
       "      <td>210435.898778</td>\n",
       "    </tr>\n",
       "  </tbody>\n",
       "</table>\n",
       "</div>"
      ],
      "text/plain": [
       "        Id      SalePrice\n",
       "1321  2782   97520.903723\n",
       "836   2297  299047.592633\n",
       "413   1874  139018.043616\n",
       "522   1983  208782.640664\n",
       "1035  2496  249075.477452\n",
       "614   2075  147545.272336\n",
       "218   1679  400980.721852\n",
       "1031  2492  187884.952148\n",
       "1289  2750  148585.842630\n",
       "886   2347  210435.898778"
      ]
     },
     "execution_count": 103,
     "metadata": {},
     "output_type": "execute_result"
    }
   ],
   "source": [
    "y_pred_kaggle = model.predict(x_test_kaggle[lst_selected_atributes])\n",
    "y_pred_kaggle = pd.DataFrame(y_pred_kaggle, index=x_test_kaggle.index, columns=['SalePrice']).reset_index()\n",
    "y_pred_kaggle.rename(columns={'index':'Id'}, inplace=True)\n",
    "\n",
    "y_pred_kaggle.to_csv(PROCESSED_FOLDER + 'y_pred_kaggle_7th_experiment_gridsearch_feature_selection.csv', index=False)\n",
    "\n",
    "y_pred_kaggle.sample(10, random_state=RANDOM_STATE)"
   ]
  }
 ],
 "metadata": {
  "hide_input": false,
  "kernelspec": {
   "display_name": "Python 3 (ipykernel)",
   "language": "python",
   "name": "python3"
  },
  "language_info": {
   "codemirror_mode": {
    "name": "ipython",
    "version": 3
   },
   "file_extension": ".py",
   "mimetype": "text/x-python",
   "name": "python",
   "nbconvert_exporter": "python",
   "pygments_lexer": "ipython3",
   "version": "3.9.7"
  },
  "toc": {
   "base_numbering": 1,
   "nav_menu": {},
   "number_sections": true,
   "sideBar": true,
   "skip_h1_title": false,
   "title_cell": "Table of Contents",
   "title_sidebar": "Contents",
   "toc_cell": false,
   "toc_position": {
    "height": "calc(100% - 180px)",
    "left": "10px",
    "top": "150px",
    "width": "462px"
   },
   "toc_section_display": true,
   "toc_window_display": true
  }
 },
 "nbformat": 4,
 "nbformat_minor": 5
}
