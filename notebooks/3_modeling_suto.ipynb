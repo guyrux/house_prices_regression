{
 "cells": [
  {
   "cell_type": "markdown",
   "id": "7ee302d2",
   "metadata": {},
   "source": [
    "# 3_modeling_suto\n",
    "\n",
    "**Purpose:** State the purpose of the notebook.\n",
    "\n",
    "**Methodology:** Quickly describe assumptions and processing steps.\n",
    "\n",
    "**Results:** Describe and comment the most important results.\n",
    "\n",
    "---\n",
    "\n",
    "**Suggested next steps**\n",
    "\n",
    "- [ ] State suggested next steps, based on results obtained in this notebook."
   ]
  },
  {
   "cell_type": "markdown",
   "id": "5561827e",
   "metadata": {},
   "source": [
    "# Setup\n",
    "\n",
    "## Library import\n",
    "We import all the required Python libraries"
   ]
  },
  {
   "cell_type": "code",
   "execution_count": 1,
   "id": "4c61ec23",
   "metadata": {
    "ExecuteTime": {
     "end_time": "2022-08-07T22:49:08.583316Z",
     "start_time": "2022-08-07T22:48:58.488562Z"
    }
   },
   "outputs": [],
   "source": [
    "import joblib\n",
    "import os\n",
    "from typing import List, Union\n",
    "import warnings\n",
    "\n",
    "import lightgbm as lgb\n",
    "import matplotlib.pyplot as plt\n",
    "import numpy as np\n",
    "import pandas as pd\n",
    "from pandas_profiling import ProfileReport\n",
    "# from pycaret.regression import *\n",
    "import seaborn as sns\n",
    "from sklearn.ensemble import RandomForestRegressor, GradientBoostingRegressor\n",
    "from sklearn.linear_model import LinearRegression, Lasso\n",
    "from sklearn.metrics import mean_squared_error as mse\n",
    "from sklearn.model_selection import train_test_split, RandomizedSearchCV, GridSearchCV\n",
    "\n",
    "os.chdir('../')\n",
    "from src.utils.data_describe import breve_descricao, serie_nulos, cardinalidade\n",
    "os.chdir('./notebooks/')\n",
    "\n",
    "# Options for pandas\n",
    "pd.set_option('display.max_rows', None)\n",
    "pd.set_option('display.max_columns', None)\n",
    "\n",
    "warnings.filterwarnings(\"ignore\")\n",
    "\n",
    "# Autoreload extension\n",
    "if 'autoreload' not in get_ipython().extension_manager.loaded:\n",
    "    %load_ext autoreload\n",
    "    \n",
    "%autoreload 2"
   ]
  },
  {
   "cell_type": "markdown",
   "id": "5e26e05e",
   "metadata": {},
   "source": [
    "### Custom functions"
   ]
  },
  {
   "cell_type": "code",
   "execution_count": 2,
   "id": "00fe15e8",
   "metadata": {
    "ExecuteTime": {
     "end_time": "2022-08-07T22:49:08.742308Z",
     "start_time": "2022-08-07T22:49:08.585310Z"
    }
   },
   "outputs": [],
   "source": [
    "def rfr_feature_selection(\n",
    "    df: pd.DataFrame, minimal_importance: float = 0.001, lst_columns: Union[str, List] = []\n",
    ") -> List:\n",
    "    importance = minimal_importance\n",
    "    dct_performance = {}\n",
    "    \n",
    "    if len(lst_columns) == 0:\n",
    "        lst_columns = df.columns.tolist()\n",
    "    \n",
    "    while len(lst_columns) > 1:\n",
    "        model = RandomForestRegressor(random_state=RANDOM_STATE, n_jobs=-1)\n",
    "        model.fit(X_train[lst_columns], y_train.values)\n",
    "        y_pred = model.predict(X_test[lst_columns])\n",
    "        dct_performance[len(lst_columns)] = {\"features\": lst_columns, 'RMSE': mse(y_test, y_pred)**.5}\n",
    "        lst_columns = df_importance.loc[df_importance['importance']>importance].index.tolist()\n",
    "        importance += 0.005\n",
    "        \n",
    "    return dct_performance"
   ]
  },
  {
   "cell_type": "markdown",
   "id": "f6dc0e54",
   "metadata": {},
   "source": [
    "## Parameter definition\n",
    "\n",
    "We set all relevant parameters for our notebook. By convention, parameters are uppercase, while all the \n",
    "other variables follow Python's guidelines."
   ]
  },
  {
   "cell_type": "code",
   "execution_count": 3,
   "id": "77ad95f4",
   "metadata": {
    "ExecuteTime": {
     "end_time": "2022-08-07T22:49:08.886316Z",
     "start_time": "2022-08-07T22:49:08.743311Z"
    }
   },
   "outputs": [],
   "source": [
    "RAW_FOLDER = '../data/raw/'\n",
    "INTERIM_FOLDER = '../data/interim/'\n",
    "PROCESSED_FOLDER = '../data/processed/'\n",
    "MODELS_FOLDER = '../models/'\n",
    "REPORTS_FOLDER = '../reports/'\n",
    "RANDOM_STATE = 42"
   ]
  },
  {
   "cell_type": "markdown",
   "id": "2949100f",
   "metadata": {},
   "source": [
    "\n",
    "# Data import\n",
    "We retrieve all the required data for the analysis."
   ]
  },
  {
   "cell_type": "code",
   "execution_count": 4,
   "id": "4496d643",
   "metadata": {
    "ExecuteTime": {
     "end_time": "2022-08-07T22:49:09.187340Z",
     "start_time": "2022-08-07T22:49:08.888313Z"
    }
   },
   "outputs": [
    {
     "name": "stdout",
     "output_type": "stream",
     "text": [
      "df_evaluation's shape: (1460, 19)\n",
      "x_test_kaggle's shape: (1459, 18)\n"
     ]
    }
   ],
   "source": [
    "df = pd.read_parquet(INTERIM_FOLDER + 'df_train_interim_01_baseline.pqt')\n",
    "df_evaluation = df.copy() \n",
    "print(f\"df_evaluation's shape: {df_evaluation.shape}\")\n",
    "\n",
    "# Importing Kaggle's test dataset.\n",
    "x_test_kaggle = pd.read_parquet(INTERIM_FOLDER + 'x_test_kaggle_prepared_baseline.pqt')\n",
    "print(f\"x_test_kaggle's shape: {x_test_kaggle.shape}\")"
   ]
  },
  {
   "cell_type": "markdown",
   "id": "e755722e",
   "metadata": {},
   "source": [
    "## Splitting data in training and validation datasets"
   ]
  },
  {
   "cell_type": "code",
   "execution_count": 6,
   "id": "83fb8d03",
   "metadata": {
    "ExecuteTime": {
     "end_time": "2022-06-26T23:45:07.419246Z",
     "start_time": "2022-06-26T23:45:07.249225Z"
    }
   },
   "outputs": [],
   "source": [
    "X = df_evaluation.drop(columns=['SalePrice'])\n",
    "y = df_evaluation[['SalePrice']]\n",
    "\n",
    "X_train, X_test, y_train, y_test = train_test_split(X, y, test_size=0.2, random_state=RANDOM_STATE)"
   ]
  },
  {
   "cell_type": "markdown",
   "id": "cf619194",
   "metadata": {},
   "source": [
    "# 1st experiment: Simple linear regression\n",
    "\n",
    "This 1st experiment has the purpose to set a baseline to our model.\n",
    "\n",
    "## Modeling and evaluating with the validation data"
   ]
  },
  {
   "cell_type": "code",
   "execution_count": 7,
   "id": "a2e2d573",
   "metadata": {
    "ExecuteTime": {
     "end_time": "2022-06-26T23:45:07.809257Z",
     "start_time": "2022-06-26T23:45:07.422252Z"
    }
   },
   "outputs": [
    {
     "name": "stdout",
     "output_type": "stream",
     "text": [
      "RMSE: 40198.72\n"
     ]
    },
    {
     "data": {
      "image/png": "[encoded data removed]",
      "text/plain": [
       "<Figure size 576x432 with 1 Axes>"
      ]
     },
     "metadata": {
      "needs_background": "light"
     },
     "output_type": "display_data"
    }
   ],
   "source": [
    "model = LinearRegression()\n",
    "model.fit(X_train, y_train)\n",
    "\n",
    "y_pred = model.predict(X_test)\n",
    "\n",
    "coef_importance = pd.DataFrame(model.coef_[0], index=X_train.columns).sort_values(by=0, ascending=True)\n",
    "coef_importance.rename(columns={0: 'importance'}, inplace=True)\n",
    "\n",
    "a4_dims = (8, 6)\n",
    "fig, ax = plt.subplots(figsize=a4_dims)\n",
    "\n",
    "sns.barplot(data=coef_importance, y=coef_importance.index, x='importance', ax=ax);\n",
    "\n",
    "print(f\"RMSE: {mse(y_test, y_pred)**.5:.2f}\")"
   ]
  },
  {
   "cell_type": "markdown",
   "id": "253976d4",
   "metadata": {},
   "source": [
    "## Testing the Kaggle's test dataset"
   ]
  },
  {
   "cell_type": "code",
   "execution_count": 8,
   "id": "1e8d23fa",
   "metadata": {
    "ExecuteTime": {
     "end_time": "2022-06-26T23:45:07.965390Z",
     "start_time": "2022-06-26T23:45:07.811257Z"
    }
   },
   "outputs": [
    {
     "name": "stdout",
     "output_type": "stream",
     "text": [
      "<class 'pandas.core.frame.DataFrame'>\n",
      "Int64Index: 1459 entries, 1461 to 2919\n",
      "Data columns (total 18 columns):\n",
      " #   Column               Non-Null Count  Dtype  \n",
      "---  ------               --------------  -----  \n",
      " 0   LotArea              1459 non-null   int64  \n",
      " 1   MasVnrArea           1459 non-null   float64\n",
      " 2   BsmtFinSF1           1459 non-null   float64\n",
      " 3   BsmtFinSF2           1459 non-null   float64\n",
      " 4   BsmtUnfSF            1459 non-null   float64\n",
      " 5   TotalBsmtSF          1459 non-null   float64\n",
      " 6   1stFlrSF             1459 non-null   int64  \n",
      " 7   2ndFlrSF             1459 non-null   int64  \n",
      " 8   LowQualFinSF         1459 non-null   int64  \n",
      " 9   GrLivArea            1459 non-null   int64  \n",
      " 10  GarageArea           1459 non-null   float64\n",
      " 11  WoodDeckSF           1459 non-null   int64  \n",
      " 12  OpenPorchSF          1459 non-null   int64  \n",
      " 13  PoolArea             1459 non-null   int64  \n",
      " 14  YrSold               1459 non-null   int64  \n",
      " 15  YearBuilt_YrSold     1459 non-null   float64\n",
      " 16  YearRemodAdd_YrSold  1459 non-null   float64\n",
      " 17  GarageYrBlt_YrSold   1459 non-null   float64\n",
      "dtypes: float64(9), int64(9)\n",
      "memory usage: 216.6 KB\n"
     ]
    }
   ],
   "source": [
    "x_test_kaggle.info()"
   ]
  },
  {
   "cell_type": "code",
   "execution_count": 9,
   "id": "6b5272c6",
   "metadata": {
    "ExecuteTime": {
     "end_time": "2022-06-26T23:45:08.136472Z",
     "start_time": "2022-06-26T23:45:07.966983Z"
    }
   },
   "outputs": [
    {
     "data": {
      "text/html": [
       "<div>\n",
       "<style scoped>\n",
       "    .dataframe tbody tr th:only-of-type {\n",
       "        vertical-align: middle;\n",
       "    }\n",
       "\n",
       "    .dataframe tbody tr th {\n",
       "        vertical-align: top;\n",
       "    }\n",
       "\n",
       "    .dataframe thead th {\n",
       "        text-align: right;\n",
       "    }\n",
       "</style>\n",
       "<table border=\"1\" class=\"dataframe\">\n",
       "  <thead>\n",
       "    <tr style=\"text-align: right;\">\n",
       "      <th></th>\n",
       "      <th>Id</th>\n",
       "      <th>SalePrice</th>\n",
       "    </tr>\n",
       "  </thead>\n",
       "  <tbody>\n",
       "    <tr>\n",
       "      <th>1321</th>\n",
       "      <td>2782</td>\n",
       "      <td>88882.905215</td>\n",
       "    </tr>\n",
       "    <tr>\n",
       "      <th>836</th>\n",
       "      <td>2297</td>\n",
       "      <td>268186.559189</td>\n",
       "    </tr>\n",
       "    <tr>\n",
       "      <th>413</th>\n",
       "      <td>1874</td>\n",
       "      <td>157618.145918</td>\n",
       "    </tr>\n",
       "    <tr>\n",
       "      <th>522</th>\n",
       "      <td>1983</td>\n",
       "      <td>202118.136560</td>\n",
       "    </tr>\n",
       "    <tr>\n",
       "      <th>1035</th>\n",
       "      <td>2496</td>\n",
       "      <td>248852.367410</td>\n",
       "    </tr>\n",
       "    <tr>\n",
       "      <th>614</th>\n",
       "      <td>2075</td>\n",
       "      <td>157944.900049</td>\n",
       "    </tr>\n",
       "    <tr>\n",
       "      <th>218</th>\n",
       "      <td>1679</td>\n",
       "      <td>317485.446384</td>\n",
       "    </tr>\n",
       "    <tr>\n",
       "      <th>1031</th>\n",
       "      <td>2492</td>\n",
       "      <td>193763.232067</td>\n",
       "    </tr>\n",
       "    <tr>\n",
       "      <th>1289</th>\n",
       "      <td>2750</td>\n",
       "      <td>110524.726125</td>\n",
       "    </tr>\n",
       "    <tr>\n",
       "      <th>886</th>\n",
       "      <td>2347</td>\n",
       "      <td>198759.393734</td>\n",
       "    </tr>\n",
       "  </tbody>\n",
       "</table>\n",
       "</div>"
      ],
      "text/plain": [
       "        Id      SalePrice\n",
       "1321  2782   88882.905215\n",
       "836   2297  268186.559189\n",
       "413   1874  157618.145918\n",
       "522   1983  202118.136560\n",
       "1035  2496  248852.367410\n",
       "614   2075  157944.900049\n",
       "218   1679  317485.446384\n",
       "1031  2492  193763.232067\n",
       "1289  2750  110524.726125\n",
       "886   2347  198759.393734"
      ]
     },
     "execution_count": 9,
     "metadata": {},
     "output_type": "execute_result"
    }
   ],
   "source": [
    "y_pred_kaggle = model.predict(x_test_kaggle)\n",
    "y_pred_kaggle = pd.DataFrame(y_pred_kaggle, index=x_test_kaggle.index, columns=['SalePrice']).reset_index()\n",
    "y_pred_kaggle.rename(columns={'index':'Id'}, inplace=True)\n",
    "y_pred_kaggle.sample(10, random_state=RANDOM_STATE)"
   ]
  },
  {
   "cell_type": "code",
   "execution_count": 10,
   "id": "fdd85280",
   "metadata": {
    "ExecuteTime": {
     "end_time": "2022-06-26T23:45:08.323530Z",
     "start_time": "2022-06-26T23:45:08.138471Z"
    }
   },
   "outputs": [],
   "source": [
    "y_pred_kaggle.to_csv(PROCESSED_FOLDER + 'y_pred_kaggle_baseline_linear_regression.csv', index=False)"
   ]
  },
  {
   "cell_type": "markdown",
   "id": "de3b1acf",
   "metadata": {},
   "source": [
    "# 2nd experiment: Random forest regressor with default hyperparameters\n",
    " \n",
    "This experiment has the purpose to compare the performance between a parametric method and a non-parametric model.\n",
    "\n",
    "## Modeling and evaluating with the validation data"
   ]
  },
  {
   "cell_type": "code",
   "execution_count": 11,
   "id": "ef146a16",
   "metadata": {
    "ExecuteTime": {
     "end_time": "2022-06-26T23:45:08.713925Z",
     "start_time": "2022-06-26T23:45:08.327531Z"
    }
   },
   "outputs": [
    {
     "name": "stdout",
     "output_type": "stream",
     "text": [
      "RMSE: 31725.89\n"
     ]
    }
   ],
   "source": [
    "model = RandomForestRegressor(n_jobs=-1, random_state=RANDOM_STATE)\n",
    "model.fit(X_train, y_train.values)\n",
    "\n",
    "y_pred = model.predict(X_test)\n",
    "\n",
    "print(f\"RMSE: {mse(y_test, y_pred)**.5:.2f}\")"
   ]
  },
  {
   "cell_type": "code",
   "execution_count": 12,
   "id": "798c97b6",
   "metadata": {
    "ExecuteTime": {
     "end_time": "2022-06-26T23:45:09.081932Z",
     "start_time": "2022-06-26T23:45:08.714927Z"
    }
   },
   "outputs": [
    {
     "data": {
      "image/png": "[encoded data removed]",
      "text/plain": [
       "<Figure size 576x432 with 1 Axes>"
      ]
     },
     "metadata": {
      "needs_background": "light"
     },
     "output_type": "display_data"
    }
   ],
   "source": [
    "df_importance = pd.DataFrame(\n",
    "    model.feature_importances_, index=model.feature_names_in_, columns=['importance']\n",
    ").sort_values(by='importance', ascending=False)\n",
    "\n",
    "\n",
    "a4_dims = (8, 6)\n",
    "fig, ax = plt.subplots(figsize=a4_dims)\n",
    "\n",
    "sns.barplot(data=df_importance, y=df_importance.index, x='importance', ax=ax);"
   ]
  },
  {
   "cell_type": "markdown",
   "id": "df5626e0",
   "metadata": {},
   "source": [
    "## Testing the Kaggle's test dataset"
   ]
  },
  {
   "cell_type": "code",
   "execution_count": 13,
   "id": "80d44e50",
   "metadata": {
    "ExecuteTime": {
     "end_time": "2022-06-26T23:45:09.255016Z",
     "start_time": "2022-06-26T23:45:09.084888Z"
    }
   },
   "outputs": [
    {
     "data": {
      "text/html": [
       "<div>\n",
       "<style scoped>\n",
       "    .dataframe tbody tr th:only-of-type {\n",
       "        vertical-align: middle;\n",
       "    }\n",
       "\n",
       "    .dataframe tbody tr th {\n",
       "        vertical-align: top;\n",
       "    }\n",
       "\n",
       "    .dataframe thead th {\n",
       "        text-align: right;\n",
       "    }\n",
       "</style>\n",
       "<table border=\"1\" class=\"dataframe\">\n",
       "  <thead>\n",
       "    <tr style=\"text-align: right;\">\n",
       "      <th></th>\n",
       "      <th>Id</th>\n",
       "      <th>SalePrice</th>\n",
       "    </tr>\n",
       "  </thead>\n",
       "  <tbody>\n",
       "    <tr>\n",
       "      <th>1321</th>\n",
       "      <td>2782</td>\n",
       "      <td>101946.000000</td>\n",
       "    </tr>\n",
       "    <tr>\n",
       "      <th>836</th>\n",
       "      <td>2297</td>\n",
       "      <td>311331.880000</td>\n",
       "    </tr>\n",
       "    <tr>\n",
       "      <th>413</th>\n",
       "      <td>1874</td>\n",
       "      <td>141880.666667</td>\n",
       "    </tr>\n",
       "    <tr>\n",
       "      <th>522</th>\n",
       "      <td>1983</td>\n",
       "      <td>201130.600000</td>\n",
       "    </tr>\n",
       "    <tr>\n",
       "      <th>1035</th>\n",
       "      <td>2496</td>\n",
       "      <td>224825.800000</td>\n",
       "    </tr>\n",
       "    <tr>\n",
       "      <th>614</th>\n",
       "      <td>2075</td>\n",
       "      <td>148259.500000</td>\n",
       "    </tr>\n",
       "    <tr>\n",
       "      <th>218</th>\n",
       "      <td>1679</td>\n",
       "      <td>395034.630000</td>\n",
       "    </tr>\n",
       "    <tr>\n",
       "      <th>1031</th>\n",
       "      <td>2492</td>\n",
       "      <td>197361.000000</td>\n",
       "    </tr>\n",
       "    <tr>\n",
       "      <th>1289</th>\n",
       "      <td>2750</td>\n",
       "      <td>135898.120000</td>\n",
       "    </tr>\n",
       "    <tr>\n",
       "      <th>886</th>\n",
       "      <td>2347</td>\n",
       "      <td>207506.060000</td>\n",
       "    </tr>\n",
       "  </tbody>\n",
       "</table>\n",
       "</div>"
      ],
      "text/plain": [
       "        Id      SalePrice\n",
       "1321  2782  101946.000000\n",
       "836   2297  311331.880000\n",
       "413   1874  141880.666667\n",
       "522   1983  201130.600000\n",
       "1035  2496  224825.800000\n",
       "614   2075  148259.500000\n",
       "218   1679  395034.630000\n",
       "1031  2492  197361.000000\n",
       "1289  2750  135898.120000\n",
       "886   2347  207506.060000"
      ]
     },
     "execution_count": 13,
     "metadata": {},
     "output_type": "execute_result"
    }
   ],
   "source": [
    "y_pred_kaggle = model.predict(x_test_kaggle)\n",
    "y_pred_kaggle = pd.DataFrame(y_pred_kaggle, index=x_test_kaggle.index, columns=['SalePrice']).reset_index()\n",
    "y_pred_kaggle.rename(columns={'index':'Id'}, inplace=True)\n",
    "y_pred_kaggle.sample(10, random_state=RANDOM_STATE)"
   ]
  },
  {
   "cell_type": "code",
   "execution_count": 14,
   "id": "b8bcfe93",
   "metadata": {
    "ExecuteTime": {
     "end_time": "2022-06-26T23:45:09.429021Z",
     "start_time": "2022-06-26T23:45:09.257147Z"
    }
   },
   "outputs": [],
   "source": [
    "y_pred_kaggle.to_csv(PROCESSED_FOLDER + 'y_pred_kaggle_baseline_random_forest_default.csv', index=False)"
   ]
  },
  {
   "cell_type": "markdown",
   "id": "075334e3",
   "metadata": {},
   "source": [
    "# 3rd experiment: Random forest regressor with grid search\n",
    "\n",
    "## Grid search\n",
    "\n",
    "I'll try to follow these steps:\n",
    "\n",
    "1. Use RandomizedSearchCV in a broader range for each hyperparameter;\n",
    "2. After find the best candidate in the previous step, search in a smaller area around the point obtained.\n",
    "\n",
    "### RandomizedSearchCV"
   ]
  },
  {
   "cell_type": "code",
   "execution_count": 15,
   "id": "84cd9827",
   "metadata": {
    "ExecuteTime": {
     "end_time": "2022-06-26T23:45:09.584071Z",
     "start_time": "2022-06-26T23:45:09.430015Z"
    }
   },
   "outputs": [
    {
     "data": {
      "text/plain": [
       "{'n_estimators': [200],\n",
       " 'max_depth': [4, 6, 8, 10, 12, 14, 16, 18],\n",
       " 'min_samples_split': [2, 4, 6, 8, 10, 12, 14, 16, 18],\n",
       " 'min_samples_leaf': [1, 3, 5, 7, 9, 11, 13, 15, 17, 19],\n",
       " 'max_features': ['sqrt', 'log2', 16, 18],\n",
       " 'ccp_alpha': [0.0, 0.005, 0.01, 0.015, 0.02, 0.025, 0.03, 0.035, 0.04, 0.045]}"
      ]
     },
     "execution_count": 15,
     "metadata": {},
     "output_type": "execute_result"
    }
   ],
   "source": [
    "hyperparameter_search_space = dict(\n",
    "    n_estimators=np.arange(200, 1000, 1000).tolist(),\n",
    "    max_depth=np.arange(int(len(X_train.columns)**.5), int(len(X_train.columns))+1, 2).tolist(),\n",
    "    min_samples_split=np.arange(2, 20, 2).tolist(),\n",
    "    min_samples_leaf=np.arange(1, 20, 2).tolist(),\n",
    "    max_features=['sqrt', 'log2', len(X_train.columns)-2, len(X_train.columns)],\n",
    "    ccp_alpha=np.arange(0, 0.05, 0.005).tolist(),\n",
    ")\n",
    "\n",
    "hyperparameter_search_space"
   ]
  },
  {
   "cell_type": "code",
   "execution_count": 16,
   "id": "d2c8ee90",
   "metadata": {
    "ExecuteTime": {
     "end_time": "2022-06-26T23:46:10.016118Z",
     "start_time": "2022-06-26T23:45:09.586075Z"
    }
   },
   "outputs": [
    {
     "data": {
      "text/plain": [
       "{'n_estimators': 200,\n",
       " 'min_samples_split': 8,\n",
       " 'min_samples_leaf': 1,\n",
       " 'max_features': 18,\n",
       " 'max_depth': 16,\n",
       " 'ccp_alpha': 0.0}"
      ]
     },
     "execution_count": 16,
     "metadata": {},
     "output_type": "execute_result"
    }
   ],
   "source": [
    "model = RandomForestRegressor(n_jobs=-1, random_state=RANDOM_STATE)\n",
    "\n",
    "random_grid_search = RandomizedSearchCV(model, hyperparameter_search_space, random_state=RANDOM_STATE, n_iter=50)\n",
    "search = random_grid_search.fit(X_train, y_train)\n",
    "search.best_params_"
   ]
  },
  {
   "cell_type": "markdown",
   "id": "0b3587b7",
   "metadata": {},
   "source": [
    "### Modeling and evaluating with the validation data"
   ]
  },
  {
   "cell_type": "code",
   "execution_count": 17,
   "id": "899eafaf",
   "metadata": {
    "ExecuteTime": {
     "end_time": "2022-06-26T23:46:10.574713Z",
     "start_time": "2022-06-26T23:46:10.018117Z"
    }
   },
   "outputs": [
    {
     "name": "stdout",
     "output_type": "stream",
     "text": [
      "RMSE: 31994.30\n"
     ]
    }
   ],
   "source": [
    "model = RandomForestRegressor(n_jobs=-1, random_state=RANDOM_STATE, **search.best_params_)\n",
    "model.fit(X_train, y_train.values)\n",
    "\n",
    "y_pred = model.predict(X_test)\n",
    "\n",
    "print(f\"RMSE: {mse(y_test, y_pred)**.5:.2f}\")"
   ]
  },
  {
   "cell_type": "code",
   "execution_count": 18,
   "id": "82896d4d",
   "metadata": {
    "ExecuteTime": {
     "end_time": "2022-06-26T23:46:10.779361Z",
     "start_time": "2022-06-26T23:46:10.577278Z"
    }
   },
   "outputs": [
    {
     "data": {
      "text/html": [
       "<div>\n",
       "<style scoped>\n",
       "    .dataframe tbody tr th:only-of-type {\n",
       "        vertical-align: middle;\n",
       "    }\n",
       "\n",
       "    .dataframe tbody tr th {\n",
       "        vertical-align: top;\n",
       "    }\n",
       "\n",
       "    .dataframe thead th {\n",
       "        text-align: right;\n",
       "    }\n",
       "</style>\n",
       "<table border=\"1\" class=\"dataframe\">\n",
       "  <thead>\n",
       "    <tr style=\"text-align: right;\">\n",
       "      <th></th>\n",
       "      <th>Id</th>\n",
       "      <th>SalePrice</th>\n",
       "    </tr>\n",
       "  </thead>\n",
       "  <tbody>\n",
       "    <tr>\n",
       "      <th>1321</th>\n",
       "      <td>2782</td>\n",
       "      <td>101591.283515</td>\n",
       "    </tr>\n",
       "    <tr>\n",
       "      <th>836</th>\n",
       "      <td>2297</td>\n",
       "      <td>302812.574188</td>\n",
       "    </tr>\n",
       "    <tr>\n",
       "      <th>413</th>\n",
       "      <td>1874</td>\n",
       "      <td>141381.879851</td>\n",
       "    </tr>\n",
       "    <tr>\n",
       "      <th>522</th>\n",
       "      <td>1983</td>\n",
       "      <td>201842.053327</td>\n",
       "    </tr>\n",
       "    <tr>\n",
       "      <th>1035</th>\n",
       "      <td>2496</td>\n",
       "      <td>237629.387447</td>\n",
       "    </tr>\n",
       "    <tr>\n",
       "      <th>614</th>\n",
       "      <td>2075</td>\n",
       "      <td>150311.746399</td>\n",
       "    </tr>\n",
       "    <tr>\n",
       "      <th>218</th>\n",
       "      <td>1679</td>\n",
       "      <td>390212.902104</td>\n",
       "    </tr>\n",
       "    <tr>\n",
       "      <th>1031</th>\n",
       "      <td>2492</td>\n",
       "      <td>197390.003635</td>\n",
       "    </tr>\n",
       "    <tr>\n",
       "      <th>1289</th>\n",
       "      <td>2750</td>\n",
       "      <td>136082.106259</td>\n",
       "    </tr>\n",
       "    <tr>\n",
       "      <th>886</th>\n",
       "      <td>2347</td>\n",
       "      <td>210196.614681</td>\n",
       "    </tr>\n",
       "  </tbody>\n",
       "</table>\n",
       "</div>"
      ],
      "text/plain": [
       "        Id      SalePrice\n",
       "1321  2782  101591.283515\n",
       "836   2297  302812.574188\n",
       "413   1874  141381.879851\n",
       "522   1983  201842.053327\n",
       "1035  2496  237629.387447\n",
       "614   2075  150311.746399\n",
       "218   1679  390212.902104\n",
       "1031  2492  197390.003635\n",
       "1289  2750  136082.106259\n",
       "886   2347  210196.614681"
      ]
     },
     "execution_count": 18,
     "metadata": {},
     "output_type": "execute_result"
    }
   ],
   "source": [
    "y_pred_kaggle = model.predict(x_test_kaggle)\n",
    "y_pred_kaggle = pd.DataFrame(y_pred_kaggle, index=x_test_kaggle.index, columns=['SalePrice']).reset_index()\n",
    "y_pred_kaggle.rename(columns={'index':'Id'}, inplace=True)\n",
    "y_pred_kaggle.sample(10, random_state=RANDOM_STATE)"
   ]
  },
  {
   "cell_type": "code",
   "execution_count": 19,
   "id": "4e034edf",
   "metadata": {
    "ExecuteTime": {
     "end_time": "2022-06-26T23:46:10.951528Z",
     "start_time": "2022-06-26T23:46:10.781365Z"
    }
   },
   "outputs": [
    {
     "data": {
      "text/plain": [
       "<bound method BaseEstimator.get_params of RandomForestRegressor(max_depth=16, max_features=18, min_samples_split=8,\n",
       "                      n_estimators=200, n_jobs=-1, random_state=42)>"
      ]
     },
     "execution_count": 19,
     "metadata": {},
     "output_type": "execute_result"
    }
   ],
   "source": [
    "model.get_params"
   ]
  },
  {
   "cell_type": "code",
   "execution_count": 20,
   "id": "da08729c",
   "metadata": {
    "ExecuteTime": {
     "end_time": "2022-06-26T23:46:11.150533Z",
     "start_time": "2022-06-26T23:46:10.953531Z"
    }
   },
   "outputs": [],
   "source": [
    "y_pred_kaggle.to_csv(PROCESSED_FOLDER + 'y_pred_kaggle_baseline_random_forest_random_grid_search.csv', index=False)"
   ]
  },
  {
   "cell_type": "markdown",
   "id": "78fc51c2",
   "metadata": {},
   "source": [
    "### Partial concluision\n",
    "\n",
    "The hyperparameters obtained by the random search do not reduced the RMSE. So I will not try the grid search for now."
   ]
  },
  {
   "cell_type": "markdown",
   "id": "bcf3a164",
   "metadata": {},
   "source": [
    "# 4th experiment: Feature selection + Random Forest Regressor\n",
    "\n",
    "Using the same baseline dataset, remove some of the features with less importance and evaluate the impact in RMSE.\n",
    "\n",
    "## Getting the feature importance"
   ]
  },
  {
   "cell_type": "code",
   "execution_count": 21,
   "id": "0c01e525",
   "metadata": {
    "ExecuteTime": {
     "end_time": "2022-06-26T23:46:11.715302Z",
     "start_time": "2022-06-26T23:46:11.152530Z"
    }
   },
   "outputs": [
    {
     "name": "stdout",
     "output_type": "stream",
     "text": [
      "RMSE: 31725.89\n"
     ]
    },
    {
     "data": {
      "image/png": "[encoded data removed]",
      "text/plain": [
       "<Figure size 576x432 with 1 Axes>"
      ]
     },
     "metadata": {
      "needs_background": "light"
     },
     "output_type": "display_data"
    }
   ],
   "source": [
    "model = RandomForestRegressor(random_state=RANDOM_STATE, n_jobs=-1)\n",
    "model.fit(X_train, y_train.values)\n",
    "\n",
    "y_pred = model.predict(X_test)\n",
    "\n",
    "print(f\"RMSE: {mse(y_test, y_pred)**.5:.2f}\")\n",
    "\n",
    "df_importance = pd.DataFrame(\n",
    "    model.feature_importances_, index=model.feature_names_in_, columns=['importance']\n",
    ").sort_values(by='importance', ascending=False)\n",
    "\n",
    "\n",
    "a4_dims = (8, 6)\n",
    "fig, ax = plt.subplots(figsize=a4_dims)\n",
    "\n",
    "sns.barplot(data=df_importance, y=df_importance.index, x='importance', ax=ax);"
   ]
  },
  {
   "cell_type": "markdown",
   "id": "aa71f6fa",
   "metadata": {},
   "source": [
    "### Evaluating the feature selection through feature importance\n",
    "\n",
    "I will see the impact of feature selection in the RMSE."
   ]
  },
  {
   "cell_type": "code",
   "execution_count": 22,
   "id": "7eacb1de",
   "metadata": {
    "ExecuteTime": {
     "end_time": "2022-06-26T23:46:18.099011Z",
     "start_time": "2022-06-26T23:46:11.716737Z"
    }
   },
   "outputs": [
    {
     "data": {
      "text/html": [
       "<div>\n",
       "<style scoped>\n",
       "    .dataframe tbody tr th:only-of-type {\n",
       "        vertical-align: middle;\n",
       "    }\n",
       "\n",
       "    .dataframe tbody tr th {\n",
       "        vertical-align: top;\n",
       "    }\n",
       "\n",
       "    .dataframe thead th {\n",
       "        text-align: right;\n",
       "    }\n",
       "</style>\n",
       "<table border=\"1\" class=\"dataframe\">\n",
       "  <thead>\n",
       "    <tr style=\"text-align: right;\">\n",
       "      <th></th>\n",
       "      <th>features</th>\n",
       "      <th>RMSE</th>\n",
       "    </tr>\n",
       "  </thead>\n",
       "  <tbody>\n",
       "    <tr>\n",
       "      <th>9</th>\n",
       "      <td>[GrLivArea, YearBuilt_YrSold, GarageArea, Tota...</td>\n",
       "      <td>30325.063697</td>\n",
       "    </tr>\n",
       "    <tr>\n",
       "      <th>10</th>\n",
       "      <td>[GrLivArea, YearBuilt_YrSold, GarageArea, Tota...</td>\n",
       "      <td>30623.545931</td>\n",
       "    </tr>\n",
       "    <tr>\n",
       "      <th>13</th>\n",
       "      <td>[GrLivArea, YearBuilt_YrSold, GarageArea, Tota...</td>\n",
       "      <td>30721.899910</td>\n",
       "    </tr>\n",
       "    <tr>\n",
       "      <th>8</th>\n",
       "      <td>[GrLivArea, YearBuilt_YrSold, GarageArea, Tota...</td>\n",
       "      <td>31046.455787</td>\n",
       "    </tr>\n",
       "    <tr>\n",
       "      <th>14</th>\n",
       "      <td>[GrLivArea, YearBuilt_YrSold, GarageArea, Tota...</td>\n",
       "      <td>31228.334743</td>\n",
       "    </tr>\n",
       "    <tr>\n",
       "      <th>18</th>\n",
       "      <td>[LotArea, MasVnrArea, BsmtFinSF1, BsmtFinSF2, ...</td>\n",
       "      <td>31725.887225</td>\n",
       "    </tr>\n",
       "    <tr>\n",
       "      <th>17</th>\n",
       "      <td>[GrLivArea, YearBuilt_YrSold, GarageArea, Tota...</td>\n",
       "      <td>31923.648801</td>\n",
       "    </tr>\n",
       "    <tr>\n",
       "      <th>6</th>\n",
       "      <td>[GrLivArea, YearBuilt_YrSold, GarageArea, Tota...</td>\n",
       "      <td>32416.133314</td>\n",
       "    </tr>\n",
       "    <tr>\n",
       "      <th>5</th>\n",
       "      <td>[GrLivArea, YearBuilt_YrSold, GarageArea, Tota...</td>\n",
       "      <td>32513.871299</td>\n",
       "    </tr>\n",
       "    <tr>\n",
       "      <th>4</th>\n",
       "      <td>[GrLivArea, YearBuilt_YrSold, GarageArea, Tota...</td>\n",
       "      <td>32708.542754</td>\n",
       "    </tr>\n",
       "    <tr>\n",
       "      <th>7</th>\n",
       "      <td>[GrLivArea, YearBuilt_YrSold, GarageArea, Tota...</td>\n",
       "      <td>33004.774121</td>\n",
       "    </tr>\n",
       "    <tr>\n",
       "      <th>3</th>\n",
       "      <td>[GrLivArea, YearBuilt_YrSold, GarageArea]</td>\n",
       "      <td>37976.162322</td>\n",
       "    </tr>\n",
       "    <tr>\n",
       "      <th>2</th>\n",
       "      <td>[GrLivArea, YearBuilt_YrSold]</td>\n",
       "      <td>41487.078196</td>\n",
       "    </tr>\n",
       "  </tbody>\n",
       "</table>\n",
       "</div>"
      ],
      "text/plain": [
       "                                             features          RMSE\n",
       "9   [GrLivArea, YearBuilt_YrSold, GarageArea, Tota...  30325.063697\n",
       "10  [GrLivArea, YearBuilt_YrSold, GarageArea, Tota...  30623.545931\n",
       "13  [GrLivArea, YearBuilt_YrSold, GarageArea, Tota...  30721.899910\n",
       "8   [GrLivArea, YearBuilt_YrSold, GarageArea, Tota...  31046.455787\n",
       "14  [GrLivArea, YearBuilt_YrSold, GarageArea, Tota...  31228.334743\n",
       "18  [LotArea, MasVnrArea, BsmtFinSF1, BsmtFinSF2, ...  31725.887225\n",
       "17  [GrLivArea, YearBuilt_YrSold, GarageArea, Tota...  31923.648801\n",
       "6   [GrLivArea, YearBuilt_YrSold, GarageArea, Tota...  32416.133314\n",
       "5   [GrLivArea, YearBuilt_YrSold, GarageArea, Tota...  32513.871299\n",
       "4   [GrLivArea, YearBuilt_YrSold, GarageArea, Tota...  32708.542754\n",
       "7   [GrLivArea, YearBuilt_YrSold, GarageArea, Tota...  33004.774121\n",
       "3           [GrLivArea, YearBuilt_YrSold, GarageArea]  37976.162322\n",
       "2                       [GrLivArea, YearBuilt_YrSold]  41487.078196"
      ]
     },
     "execution_count": 22,
     "metadata": {},
     "output_type": "execute_result"
    }
   ],
   "source": [
    "dct_performance = rfr_feature_selection(df=X_train)\n",
    "pd.DataFrame.from_dict(dct_performance, orient='index').sort_values(by='RMSE', ascending=True)"
   ]
  },
  {
   "cell_type": "code",
   "execution_count": 23,
   "id": "d1cac149",
   "metadata": {
    "ExecuteTime": {
     "end_time": "2022-06-26T23:46:18.628177Z",
     "start_time": "2022-06-26T23:46:18.101012Z"
    }
   },
   "outputs": [
    {
     "name": "stdout",
     "output_type": "stream",
     "text": [
      "RMSE: 30623.55\n"
     ]
    },
    {
     "data": {
      "image/png": "[encoded data removed]",
      "text/plain": [
       "<Figure size 576x432 with 1 Axes>"
      ]
     },
     "metadata": {
      "needs_background": "light"
     },
     "output_type": "display_data"
    }
   ],
   "source": [
    "lst_columns = dct_performance[10]['features']\n",
    "\n",
    "model = RandomForestRegressor(random_state=RANDOM_STATE, n_jobs=-1)\n",
    "model.fit(X_train[lst_columns], y_train.values)\n",
    "\n",
    "y_pred = model.predict(X_test[lst_columns])\n",
    "\n",
    "print(f\"RMSE: {mse(y_test, y_pred)**.5:.2f}\")\n",
    "\n",
    "df_importance = pd.DataFrame(\n",
    "    model.feature_importances_, index=model.feature_names_in_, columns=['importance']\n",
    ").sort_values(by='importance', ascending=False)\n",
    "\n",
    "\n",
    "a4_dims = (8, 6)\n",
    "fig, ax = plt.subplots(figsize=a4_dims)\n",
    "\n",
    "sns.barplot(data=df_importance, y=df_importance.index, x='importance', ax=ax);"
   ]
  },
  {
   "cell_type": "code",
   "execution_count": 24,
   "id": "0d8ab1aa",
   "metadata": {
    "ExecuteTime": {
     "end_time": "2022-06-26T23:46:18.816100Z",
     "start_time": "2022-06-26T23:46:18.630172Z"
    }
   },
   "outputs": [
    {
     "data": {
      "text/html": [
       "<div>\n",
       "<style scoped>\n",
       "    .dataframe tbody tr th:only-of-type {\n",
       "        vertical-align: middle;\n",
       "    }\n",
       "\n",
       "    .dataframe tbody tr th {\n",
       "        vertical-align: top;\n",
       "    }\n",
       "\n",
       "    .dataframe thead th {\n",
       "        text-align: right;\n",
       "    }\n",
       "</style>\n",
       "<table border=\"1\" class=\"dataframe\">\n",
       "  <thead>\n",
       "    <tr style=\"text-align: right;\">\n",
       "      <th></th>\n",
       "      <th>Id</th>\n",
       "      <th>SalePrice</th>\n",
       "    </tr>\n",
       "  </thead>\n",
       "  <tbody>\n",
       "    <tr>\n",
       "      <th>1321</th>\n",
       "      <td>2782</td>\n",
       "      <td>99389.00</td>\n",
       "    </tr>\n",
       "    <tr>\n",
       "      <th>836</th>\n",
       "      <td>2297</td>\n",
       "      <td>317451.67</td>\n",
       "    </tr>\n",
       "    <tr>\n",
       "      <th>413</th>\n",
       "      <td>1874</td>\n",
       "      <td>142310.00</td>\n",
       "    </tr>\n",
       "    <tr>\n",
       "      <th>522</th>\n",
       "      <td>1983</td>\n",
       "      <td>201026.55</td>\n",
       "    </tr>\n",
       "    <tr>\n",
       "      <th>1035</th>\n",
       "      <td>2496</td>\n",
       "      <td>223975.59</td>\n",
       "    </tr>\n",
       "    <tr>\n",
       "      <th>614</th>\n",
       "      <td>2075</td>\n",
       "      <td>143911.50</td>\n",
       "    </tr>\n",
       "    <tr>\n",
       "      <th>218</th>\n",
       "      <td>1679</td>\n",
       "      <td>385395.15</td>\n",
       "    </tr>\n",
       "    <tr>\n",
       "      <th>1031</th>\n",
       "      <td>2492</td>\n",
       "      <td>192156.50</td>\n",
       "    </tr>\n",
       "    <tr>\n",
       "      <th>1289</th>\n",
       "      <td>2750</td>\n",
       "      <td>135175.25</td>\n",
       "    </tr>\n",
       "    <tr>\n",
       "      <th>886</th>\n",
       "      <td>2347</td>\n",
       "      <td>208197.87</td>\n",
       "    </tr>\n",
       "  </tbody>\n",
       "</table>\n",
       "</div>"
      ],
      "text/plain": [
       "        Id  SalePrice\n",
       "1321  2782   99389.00\n",
       "836   2297  317451.67\n",
       "413   1874  142310.00\n",
       "522   1983  201026.55\n",
       "1035  2496  223975.59\n",
       "614   2075  143911.50\n",
       "218   1679  385395.15\n",
       "1031  2492  192156.50\n",
       "1289  2750  135175.25\n",
       "886   2347  208197.87"
      ]
     },
     "execution_count": 24,
     "metadata": {},
     "output_type": "execute_result"
    }
   ],
   "source": [
    "x_test_kaggle_reduced = x_test_kaggle[lst_columns].copy()\n",
    "\n",
    "y_pred_kaggle = model.predict(x_test_kaggle_reduced[lst_columns])\n",
    "y_pred_kaggle = pd.DataFrame(y_pred_kaggle, index=x_test_kaggle_reduced.index, columns=['SalePrice']).reset_index()\n",
    "y_pred_kaggle.rename(columns={'index':'Id'}, inplace=True)\n",
    "y_pred_kaggle.sample(10, random_state=RANDOM_STATE)"
   ]
  },
  {
   "cell_type": "code",
   "execution_count": 25,
   "id": "932e498c",
   "metadata": {
    "ExecuteTime": {
     "end_time": "2022-06-26T23:46:18.987624Z",
     "start_time": "2022-06-26T23:46:18.817033Z"
    }
   },
   "outputs": [],
   "source": [
    "y_pred_kaggle.to_csv(PROCESSED_FOLDER + 'y_pred_kaggle_baseline_random_forest_random_rfr_feature_selection.csv', index=False)"
   ]
  },
  {
   "cell_type": "markdown",
   "id": "7ca6b5de",
   "metadata": {},
   "source": [
    "### Partial conclusion\n",
    "\n",
    "Even with a lower RMSE for the validation dataset, the score obtained with the test score in Kaggle's leaderboard do not presented a decrease. The strategy must change once again. This time, I'm going to add some categorical attributes in a random forest regressor. "
   ]
  },
  {
   "cell_type": "markdown",
   "id": "3bd3ad17",
   "metadata": {},
   "source": [
    "# 5th experiment: Added binary attributes\n",
    "\n",
    "## Importing data"
   ]
  },
  {
   "cell_type": "code",
   "execution_count": 26,
   "id": "5fb7b4af",
   "metadata": {
    "ExecuteTime": {
     "end_time": "2022-06-26T23:50:12.145680Z",
     "start_time": "2022-06-26T23:50:11.978814Z"
    }
   },
   "outputs": [
    {
     "name": "stdout",
     "output_type": "stream",
     "text": [
      "df_evaluation's shape: (1460, 25)\n",
      "x_test_kaggle's shape: (1459, 24)\n"
     ]
    }
   ],
   "source": [
    "df = pd.read_parquet(INTERIM_FOLDER + 'df_train_interim_02_2nd_experiment.pqt')\n",
    "df_evaluation = df.copy() \n",
    "print(f\"df_evaluation's shape: {df_evaluation.shape}\")\n",
    "\n",
    "# Importing Kaggle's test dataset.\n",
    "x_test_kaggle = pd.read_parquet(INTERIM_FOLDER + 'x_test_kaggle_prepared_2nd_experiment.pqt')\n",
    "print(f\"x_test_kaggle's shape: {x_test_kaggle.shape}\")"
   ]
  },
  {
   "cell_type": "markdown",
   "id": "99a86f97",
   "metadata": {},
   "source": [
    "### Splitting data"
   ]
  },
  {
   "cell_type": "code",
   "execution_count": 27,
   "id": "40343ebb",
   "metadata": {
    "ExecuteTime": {
     "end_time": "2022-06-26T23:50:15.388484Z",
     "start_time": "2022-06-26T23:50:15.225975Z"
    }
   },
   "outputs": [],
   "source": [
    "X = df_evaluation.drop(columns=['SalePrice'])\n",
    "y = df_evaluation[['SalePrice']]\n",
    "\n",
    "X_train, X_test, y_train, y_test = train_test_split(X, y, test_size=0.2, random_state=RANDOM_STATE)"
   ]
  },
  {
   "cell_type": "markdown",
   "id": "4f1564a8",
   "metadata": {},
   "source": [
    "### Modeling"
   ]
  },
  {
   "cell_type": "code",
   "execution_count": 28,
   "id": "e754af92",
   "metadata": {
    "ExecuteTime": {
     "end_time": "2022-06-26T23:50:20.619363Z",
     "start_time": "2022-06-26T23:50:20.001826Z"
    }
   },
   "outputs": [
    {
     "name": "stdout",
     "output_type": "stream",
     "text": [
      "RMSE: 32042.66\n"
     ]
    },
    {
     "data": {
      "image/png": "[encoded data removed]",
      "text/plain": [
       "<Figure size 576x432 with 1 Axes>"
      ]
     },
     "metadata": {
      "needs_background": "light"
     },
     "output_type": "display_data"
    }
   ],
   "source": [
    "model = RandomForestRegressor(random_state=RANDOM_STATE, n_jobs=-1)\n",
    "model.fit(X_train, y_train.values)\n",
    "\n",
    "y_pred = model.predict(X_test)\n",
    "\n",
    "print(f\"RMSE: {mse(y_test, y_pred)**.5:.2f}\")\n",
    "\n",
    "df_importance = pd.DataFrame(\n",
    "    model.feature_importances_, index=model.feature_names_in_, columns=['importance']\n",
    ").sort_values(by='importance', ascending=False)\n",
    "\n",
    "\n",
    "a4_dims = (8, 6)\n",
    "fig, ax = plt.subplots(figsize=a4_dims)\n",
    "\n",
    "sns.barplot(data=df_importance, y=df_importance.index, x='importance', ax=ax);"
   ]
  },
  {
   "cell_type": "markdown",
   "id": "17bc1377",
   "metadata": {},
   "source": [
    "#### Testing different set of predictors"
   ]
  },
  {
   "cell_type": "code",
   "execution_count": 29,
   "id": "149bb23d",
   "metadata": {
    "ExecuteTime": {
     "end_time": "2022-06-26T23:50:36.449575Z",
     "start_time": "2022-06-26T23:50:30.147126Z"
    }
   },
   "outputs": [
    {
     "data": {
      "text/html": [
       "<div>\n",
       "<style scoped>\n",
       "    .dataframe tbody tr th:only-of-type {\n",
       "        vertical-align: middle;\n",
       "    }\n",
       "\n",
       "    .dataframe tbody tr th {\n",
       "        vertical-align: top;\n",
       "    }\n",
       "\n",
       "    .dataframe thead th {\n",
       "        text-align: right;\n",
       "    }\n",
       "</style>\n",
       "<table border=\"1\" class=\"dataframe\">\n",
       "  <thead>\n",
       "    <tr style=\"text-align: right;\">\n",
       "      <th></th>\n",
       "      <th>features</th>\n",
       "      <th>RMSE</th>\n",
       "    </tr>\n",
       "  </thead>\n",
       "  <tbody>\n",
       "    <tr>\n",
       "      <th>9</th>\n",
       "      <td>[GrLivArea, YearBuilt_YrSold, GarageArea, Tota...</td>\n",
       "      <td>30325.063697</td>\n",
       "    </tr>\n",
       "    <tr>\n",
       "      <th>8</th>\n",
       "      <td>[GrLivArea, YearBuilt_YrSold, GarageArea, Tota...</td>\n",
       "      <td>31046.455787</td>\n",
       "    </tr>\n",
       "    <tr>\n",
       "      <th>13</th>\n",
       "      <td>[GrLivArea, YearBuilt_YrSold, GarageArea, Tota...</td>\n",
       "      <td>31172.858137</td>\n",
       "    </tr>\n",
       "    <tr>\n",
       "      <th>24</th>\n",
       "      <td>[has_central_air, is_paved_street, is_all_pub_...</td>\n",
       "      <td>32042.661418</td>\n",
       "    </tr>\n",
       "    <tr>\n",
       "      <th>16</th>\n",
       "      <td>[GrLivArea, YearBuilt_YrSold, GarageArea, Tota...</td>\n",
       "      <td>32077.270829</td>\n",
       "    </tr>\n",
       "    <tr>\n",
       "      <th>20</th>\n",
       "      <td>[GrLivArea, YearBuilt_YrSold, GarageArea, Tota...</td>\n",
       "      <td>32239.141222</td>\n",
       "    </tr>\n",
       "    <tr>\n",
       "      <th>6</th>\n",
       "      <td>[GrLivArea, YearBuilt_YrSold, GarageArea, Tota...</td>\n",
       "      <td>32416.133314</td>\n",
       "    </tr>\n",
       "    <tr>\n",
       "      <th>5</th>\n",
       "      <td>[GrLivArea, YearBuilt_YrSold, GarageArea, Tota...</td>\n",
       "      <td>32513.871299</td>\n",
       "    </tr>\n",
       "    <tr>\n",
       "      <th>4</th>\n",
       "      <td>[GrLivArea, YearBuilt_YrSold, GarageArea, Tota...</td>\n",
       "      <td>32708.542754</td>\n",
       "    </tr>\n",
       "    <tr>\n",
       "      <th>7</th>\n",
       "      <td>[GrLivArea, YearBuilt_YrSold, GarageArea, Tota...</td>\n",
       "      <td>33004.774121</td>\n",
       "    </tr>\n",
       "    <tr>\n",
       "      <th>3</th>\n",
       "      <td>[GrLivArea, YearBuilt_YrSold, GarageArea]</td>\n",
       "      <td>37976.162322</td>\n",
       "    </tr>\n",
       "    <tr>\n",
       "      <th>2</th>\n",
       "      <td>[GrLivArea, YearBuilt_YrSold]</td>\n",
       "      <td>41487.078196</td>\n",
       "    </tr>\n",
       "  </tbody>\n",
       "</table>\n",
       "</div>"
      ],
      "text/plain": [
       "                                             features          RMSE\n",
       "9   [GrLivArea, YearBuilt_YrSold, GarageArea, Tota...  30325.063697\n",
       "8   [GrLivArea, YearBuilt_YrSold, GarageArea, Tota...  31046.455787\n",
       "13  [GrLivArea, YearBuilt_YrSold, GarageArea, Tota...  31172.858137\n",
       "24  [has_central_air, is_paved_street, is_all_pub_...  32042.661418\n",
       "16  [GrLivArea, YearBuilt_YrSold, GarageArea, Tota...  32077.270829\n",
       "20  [GrLivArea, YearBuilt_YrSold, GarageArea, Tota...  32239.141222\n",
       "6   [GrLivArea, YearBuilt_YrSold, GarageArea, Tota...  32416.133314\n",
       "5   [GrLivArea, YearBuilt_YrSold, GarageArea, Tota...  32513.871299\n",
       "4   [GrLivArea, YearBuilt_YrSold, GarageArea, Tota...  32708.542754\n",
       "7   [GrLivArea, YearBuilt_YrSold, GarageArea, Tota...  33004.774121\n",
       "3           [GrLivArea, YearBuilt_YrSold, GarageArea]  37976.162322\n",
       "2                       [GrLivArea, YearBuilt_YrSold]  41487.078196"
      ]
     },
     "execution_count": 29,
     "metadata": {},
     "output_type": "execute_result"
    }
   ],
   "source": [
    "dct_performance = rfr_feature_selection(df=X_train)\n",
    "pd.DataFrame.from_dict(dct_performance, orient='index').sort_values(by='RMSE', ascending=True)"
   ]
  },
  {
   "cell_type": "code",
   "execution_count": 31,
   "id": "c7f05030",
   "metadata": {
    "ExecuteTime": {
     "end_time": "2022-06-26T23:50:41.700990Z",
     "start_time": "2022-06-26T23:50:41.210768Z"
    }
   },
   "outputs": [
    {
     "name": "stdout",
     "output_type": "stream",
     "text": [
      "RMSE: 30325.06\n"
     ]
    },
    {
     "data": {
      "image/png": "[encoded data removed]",
      "text/plain": [
       "<Figure size 576x432 with 1 Axes>"
      ]
     },
     "metadata": {
      "needs_background": "light"
     },
     "output_type": "display_data"
    }
   ],
   "source": [
    "lst_columns = dct_performance[9]['features']\n",
    "\n",
    "model = RandomForestRegressor(random_state=RANDOM_STATE, n_jobs=-1)\n",
    "model.fit(X_train[lst_columns], y_train.values)\n",
    "\n",
    "y_pred = model.predict(X_test[lst_columns])\n",
    "\n",
    "print(f\"RMSE: {mse(y_test, y_pred)**.5:.2f}\")\n",
    "\n",
    "df_importance = pd.DataFrame(\n",
    "    model.feature_importances_, index=model.feature_names_in_, columns=['importance']\n",
    ").sort_values(by='importance', ascending=False)\n",
    "\n",
    "\n",
    "a4_dims = (8, 6)\n",
    "fig, ax = plt.subplots(figsize=a4_dims)\n",
    "\n",
    "sns.barplot(data=df_importance, y=df_importance.index, x='importance', ax=ax);"
   ]
  },
  {
   "cell_type": "code",
   "execution_count": 32,
   "id": "26ce3631",
   "metadata": {
    "ExecuteTime": {
     "end_time": "2022-06-26T23:50:45.128189Z",
     "start_time": "2022-06-26T23:50:44.938022Z"
    }
   },
   "outputs": [
    {
     "data": {
      "text/html": [
       "<div>\n",
       "<style scoped>\n",
       "    .dataframe tbody tr th:only-of-type {\n",
       "        vertical-align: middle;\n",
       "    }\n",
       "\n",
       "    .dataframe tbody tr th {\n",
       "        vertical-align: top;\n",
       "    }\n",
       "\n",
       "    .dataframe thead th {\n",
       "        text-align: right;\n",
       "    }\n",
       "</style>\n",
       "<table border=\"1\" class=\"dataframe\">\n",
       "  <thead>\n",
       "    <tr style=\"text-align: right;\">\n",
       "      <th></th>\n",
       "      <th>Id</th>\n",
       "      <th>SalePrice</th>\n",
       "    </tr>\n",
       "  </thead>\n",
       "  <tbody>\n",
       "    <tr>\n",
       "      <th>1321</th>\n",
       "      <td>2782</td>\n",
       "      <td>101934.00</td>\n",
       "    </tr>\n",
       "    <tr>\n",
       "      <th>836</th>\n",
       "      <td>2297</td>\n",
       "      <td>316040.85</td>\n",
       "    </tr>\n",
       "    <tr>\n",
       "      <th>413</th>\n",
       "      <td>1874</td>\n",
       "      <td>142658.00</td>\n",
       "    </tr>\n",
       "    <tr>\n",
       "      <th>522</th>\n",
       "      <td>1983</td>\n",
       "      <td>201500.68</td>\n",
       "    </tr>\n",
       "    <tr>\n",
       "      <th>1035</th>\n",
       "      <td>2496</td>\n",
       "      <td>224459.80</td>\n",
       "    </tr>\n",
       "    <tr>\n",
       "      <th>614</th>\n",
       "      <td>2075</td>\n",
       "      <td>144243.00</td>\n",
       "    </tr>\n",
       "    <tr>\n",
       "      <th>218</th>\n",
       "      <td>1679</td>\n",
       "      <td>396445.75</td>\n",
       "    </tr>\n",
       "    <tr>\n",
       "      <th>1031</th>\n",
       "      <td>2492</td>\n",
       "      <td>189535.32</td>\n",
       "    </tr>\n",
       "    <tr>\n",
       "      <th>1289</th>\n",
       "      <td>2750</td>\n",
       "      <td>137106.25</td>\n",
       "    </tr>\n",
       "    <tr>\n",
       "      <th>886</th>\n",
       "      <td>2347</td>\n",
       "      <td>207228.44</td>\n",
       "    </tr>\n",
       "  </tbody>\n",
       "</table>\n",
       "</div>"
      ],
      "text/plain": [
       "        Id  SalePrice\n",
       "1321  2782  101934.00\n",
       "836   2297  316040.85\n",
       "413   1874  142658.00\n",
       "522   1983  201500.68\n",
       "1035  2496  224459.80\n",
       "614   2075  144243.00\n",
       "218   1679  396445.75\n",
       "1031  2492  189535.32\n",
       "1289  2750  137106.25\n",
       "886   2347  207228.44"
      ]
     },
     "execution_count": 32,
     "metadata": {},
     "output_type": "execute_result"
    }
   ],
   "source": [
    "x_test_kaggle_reduced = x_test_kaggle[lst_columns].copy()\n",
    "\n",
    "y_pred_kaggle = model.predict(x_test_kaggle_reduced[lst_columns])\n",
    "y_pred_kaggle = pd.DataFrame(y_pred_kaggle, index=x_test_kaggle_reduced.index, columns=['SalePrice']).reset_index()\n",
    "y_pred_kaggle.rename(columns={'index':'Id'}, inplace=True)\n",
    "y_pred_kaggle.sample(10, random_state=RANDOM_STATE)"
   ]
  },
  {
   "cell_type": "code",
   "execution_count": 33,
   "id": "98143de1",
   "metadata": {
    "ExecuteTime": {
     "end_time": "2022-06-26T23:50:48.182095Z",
     "start_time": "2022-06-26T23:50:48.010511Z"
    }
   },
   "outputs": [],
   "source": [
    "y_pred_kaggle.to_csv(PROCESSED_FOLDER + 'y_pred_kaggle_2nd_dataset_rfr_feature_selection.csv', index=False)"
   ]
  },
  {
   "cell_type": "markdown",
   "id": "2244ef7c",
   "metadata": {},
   "source": [
    "# 6th experiment: Random forest regression and using floats, integer and binary attributes\n",
    "\n",
    "## Importing data"
   ]
  },
  {
   "cell_type": "code",
   "execution_count": 5,
   "id": "8bf26d7e",
   "metadata": {
    "ExecuteTime": {
     "end_time": "2022-07-10T18:12:02.391229Z",
     "start_time": "2022-07-10T18:12:02.158940Z"
    }
   },
   "outputs": [],
   "source": [
    "X_train = pd.read_parquet(INTERIM_FOLDER + 'X_train_3rd_dataprep.pqt')\n",
    "X_test = pd.read_parquet(INTERIM_FOLDER + 'X_test_3rd_dataprep.pqt')\n",
    "y_train = pd.read_parquet(INTERIM_FOLDER + 'y_train_3rd_dataprep.pqt')\n",
    "y_test = pd.read_parquet(INTERIM_FOLDER + 'y_test_3rd_dataprep.pqt')\n",
    "\n",
    "x_test_kaggle = pd.read_parquet(INTERIM_FOLDER + 'x_test_kaggle_3rd_dataprep.pqt')"
   ]
  },
  {
   "cell_type": "markdown",
   "id": "024ac452",
   "metadata": {},
   "source": [
    "## Modeling and evaluating"
   ]
  },
  {
   "cell_type": "code",
   "execution_count": 6,
   "id": "4235ed95",
   "metadata": {
    "ExecuteTime": {
     "end_time": "2022-07-10T18:12:03.862193Z",
     "start_time": "2022-07-10T18:12:02.976134Z"
    }
   },
   "outputs": [
    {
     "name": "stdout",
     "output_type": "stream",
     "text": [
      "RMSE: 28100.11\n"
     ]
    },
    {
     "data": {
      "image/png": "[encoded data removed]",
      "text/plain": [
       "<Figure size 576x432 with 1 Axes>"
      ]
     },
     "metadata": {
      "needs_background": "light"
     },
     "output_type": "display_data"
    }
   ],
   "source": [
    "model = RandomForestRegressor(n_jobs=-1, random_state=RANDOM_STATE)\n",
    "model.fit(X_train, y_train.values)\n",
    "\n",
    "y_pred = model.predict(X_test)\n",
    "\n",
    "print(f\"RMSE: {mse(y_test, y_pred)**.5:.2f}\")\n",
    "\n",
    "df_importance = pd.DataFrame(\n",
    "    model.feature_importances_, index=model.feature_names_in_, columns=['importance']\n",
    ").sort_values(by='importance', ascending=False)\n",
    "\n",
    "\n",
    "a4_dims = (8, 6)\n",
    "fig, ax = plt.subplots(figsize=a4_dims)\n",
    "\n",
    "sns.barplot(data=df_importance, y=df_importance.index, x='importance', ax=ax);"
   ]
  },
  {
   "cell_type": "markdown",
   "id": "319a3473",
   "metadata": {},
   "source": [
    "## Testing the kaggle's dataset"
   ]
  },
  {
   "cell_type": "code",
   "execution_count": 7,
   "id": "49a8ba6b",
   "metadata": {
    "ExecuteTime": {
     "end_time": "2022-07-10T18:12:04.240067Z",
     "start_time": "2022-07-10T18:12:03.965580Z"
    }
   },
   "outputs": [
    {
     "data": {
      "text/html": [
       "<div>\n",
       "<style scoped>\n",
       "    .dataframe tbody tr th:only-of-type {\n",
       "        vertical-align: middle;\n",
       "    }\n",
       "\n",
       "    .dataframe tbody tr th {\n",
       "        vertical-align: top;\n",
       "    }\n",
       "\n",
       "    .dataframe thead th {\n",
       "        text-align: right;\n",
       "    }\n",
       "</style>\n",
       "<table border=\"1\" class=\"dataframe\">\n",
       "  <thead>\n",
       "    <tr style=\"text-align: right;\">\n",
       "      <th></th>\n",
       "      <th>Id</th>\n",
       "      <th>SalePrice</th>\n",
       "    </tr>\n",
       "  </thead>\n",
       "  <tbody>\n",
       "    <tr>\n",
       "      <th>1321</th>\n",
       "      <td>2782</td>\n",
       "      <td>99708.66</td>\n",
       "    </tr>\n",
       "    <tr>\n",
       "      <th>836</th>\n",
       "      <td>2297</td>\n",
       "      <td>307046.00</td>\n",
       "    </tr>\n",
       "    <tr>\n",
       "      <th>413</th>\n",
       "      <td>1874</td>\n",
       "      <td>139029.60</td>\n",
       "    </tr>\n",
       "    <tr>\n",
       "      <th>522</th>\n",
       "      <td>1983</td>\n",
       "      <td>214939.63</td>\n",
       "    </tr>\n",
       "    <tr>\n",
       "      <th>1035</th>\n",
       "      <td>2496</td>\n",
       "      <td>217358.49</td>\n",
       "    </tr>\n",
       "    <tr>\n",
       "      <th>614</th>\n",
       "      <td>2075</td>\n",
       "      <td>149312.25</td>\n",
       "    </tr>\n",
       "    <tr>\n",
       "      <th>218</th>\n",
       "      <td>1679</td>\n",
       "      <td>387210.65</td>\n",
       "    </tr>\n",
       "    <tr>\n",
       "      <th>1031</th>\n",
       "      <td>2492</td>\n",
       "      <td>183707.50</td>\n",
       "    </tr>\n",
       "    <tr>\n",
       "      <th>1289</th>\n",
       "      <td>2750</td>\n",
       "      <td>135654.25</td>\n",
       "    </tr>\n",
       "    <tr>\n",
       "      <th>886</th>\n",
       "      <td>2347</td>\n",
       "      <td>205877.70</td>\n",
       "    </tr>\n",
       "  </tbody>\n",
       "</table>\n",
       "</div>"
      ],
      "text/plain": [
       "        Id  SalePrice\n",
       "1321  2782   99708.66\n",
       "836   2297  307046.00\n",
       "413   1874  139029.60\n",
       "522   1983  214939.63\n",
       "1035  2496  217358.49\n",
       "614   2075  149312.25\n",
       "218   1679  387210.65\n",
       "1031  2492  183707.50\n",
       "1289  2750  135654.25\n",
       "886   2347  205877.70"
      ]
     },
     "execution_count": 7,
     "metadata": {},
     "output_type": "execute_result"
    }
   ],
   "source": [
    "y_pred_kaggle = model.predict(x_test_kaggle)\n",
    "y_pred_kaggle = pd.DataFrame(y_pred_kaggle, index=x_test_kaggle.index, columns=['SalePrice']).reset_index()\n",
    "y_pred_kaggle.rename(columns={'index':'Id'}, inplace=True)\n",
    "\n",
    "y_pred_kaggle.to_csv(PROCESSED_FOLDER + 'y_pred_kaggle_6th_experiment.csv', index=False)\n",
    "\n",
    "y_pred_kaggle.sample(10, random_state=RANDOM_STATE)"
   ]
  },
  {
   "cell_type": "markdown",
   "id": "3ebba5b8",
   "metadata": {},
   "source": [
    "## Selecting attributes"
   ]
  },
  {
   "cell_type": "code",
   "execution_count": 8,
   "id": "5ad89490",
   "metadata": {
    "ExecuteTime": {
     "end_time": "2022-07-10T18:12:05.440181Z",
     "start_time": "2022-07-10T18:12:05.247232Z"
    },
    "scrolled": true
   },
   "outputs": [],
   "source": [
    "lst_selected_atributes = df_importance.loc[df_importance['importance']>0.002].index.tolist()"
   ]
  },
  {
   "cell_type": "code",
   "execution_count": 9,
   "id": "93fec109",
   "metadata": {
    "ExecuteTime": {
     "end_time": "2022-07-10T18:12:06.530944Z",
     "start_time": "2022-07-10T18:12:05.853099Z"
    }
   },
   "outputs": [
    {
     "name": "stdout",
     "output_type": "stream",
     "text": [
      "RMSE: 28079.94\n"
     ]
    },
    {
     "data": {
      "image/png": "[encoded data removed]",
      "text/plain": [
       "<Figure size 576x432 with 1 Axes>"
      ]
     },
     "metadata": {
      "needs_background": "light"
     },
     "output_type": "display_data"
    }
   ],
   "source": [
    "model = RandomForestRegressor(n_jobs=-1, random_state=RANDOM_STATE)\n",
    "model.fit(X_train[lst_selected_atributes], y_train.values)\n",
    "\n",
    "y_pred = model.predict(X_test[lst_selected_atributes])\n",
    "\n",
    "print(f\"RMSE: {mse(y_test, y_pred)**.5:.2f}\")\n",
    "\n",
    "df_importance = pd.DataFrame(\n",
    "    model.feature_importances_, index=model.feature_names_in_, columns=['importance']\n",
    ").sort_values(by='importance', ascending=False)\n",
    "\n",
    "\n",
    "a4_dims = (8, 6)\n",
    "fig, ax = plt.subplots(figsize=a4_dims)\n",
    "\n",
    "sns.barplot(data=df_importance, y=df_importance.index, x='importance', ax=ax);"
   ]
  },
  {
   "cell_type": "markdown",
   "id": "5211ff48",
   "metadata": {},
   "source": [
    "## Testing the kaggle's dataset"
   ]
  },
  {
   "cell_type": "code",
   "execution_count": 10,
   "id": "5f089994",
   "metadata": {
    "ExecuteTime": {
     "end_time": "2022-07-10T18:12:08.190172Z",
     "start_time": "2022-07-10T18:12:07.951272Z"
    }
   },
   "outputs": [
    {
     "data": {
      "text/html": [
       "<div>\n",
       "<style scoped>\n",
       "    .dataframe tbody tr th:only-of-type {\n",
       "        vertical-align: middle;\n",
       "    }\n",
       "\n",
       "    .dataframe tbody tr th {\n",
       "        vertical-align: top;\n",
       "    }\n",
       "\n",
       "    .dataframe thead th {\n",
       "        text-align: right;\n",
       "    }\n",
       "</style>\n",
       "<table border=\"1\" class=\"dataframe\">\n",
       "  <thead>\n",
       "    <tr style=\"text-align: right;\">\n",
       "      <th></th>\n",
       "      <th>Id</th>\n",
       "      <th>SalePrice</th>\n",
       "    </tr>\n",
       "  </thead>\n",
       "  <tbody>\n",
       "    <tr>\n",
       "      <th>1321</th>\n",
       "      <td>2782</td>\n",
       "      <td>100052.49</td>\n",
       "    </tr>\n",
       "    <tr>\n",
       "      <th>836</th>\n",
       "      <td>2297</td>\n",
       "      <td>306766.55</td>\n",
       "    </tr>\n",
       "    <tr>\n",
       "      <th>413</th>\n",
       "      <td>1874</td>\n",
       "      <td>139535.10</td>\n",
       "    </tr>\n",
       "    <tr>\n",
       "      <th>522</th>\n",
       "      <td>1983</td>\n",
       "      <td>217120.59</td>\n",
       "    </tr>\n",
       "    <tr>\n",
       "      <th>1035</th>\n",
       "      <td>2496</td>\n",
       "      <td>218083.06</td>\n",
       "    </tr>\n",
       "    <tr>\n",
       "      <th>614</th>\n",
       "      <td>2075</td>\n",
       "      <td>148388.50</td>\n",
       "    </tr>\n",
       "    <tr>\n",
       "      <th>218</th>\n",
       "      <td>1679</td>\n",
       "      <td>388813.75</td>\n",
       "    </tr>\n",
       "    <tr>\n",
       "      <th>1031</th>\n",
       "      <td>2492</td>\n",
       "      <td>185941.70</td>\n",
       "    </tr>\n",
       "    <tr>\n",
       "      <th>1289</th>\n",
       "      <td>2750</td>\n",
       "      <td>135140.75</td>\n",
       "    </tr>\n",
       "    <tr>\n",
       "      <th>886</th>\n",
       "      <td>2347</td>\n",
       "      <td>206286.65</td>\n",
       "    </tr>\n",
       "  </tbody>\n",
       "</table>\n",
       "</div>"
      ],
      "text/plain": [
       "        Id  SalePrice\n",
       "1321  2782  100052.49\n",
       "836   2297  306766.55\n",
       "413   1874  139535.10\n",
       "522   1983  217120.59\n",
       "1035  2496  218083.06\n",
       "614   2075  148388.50\n",
       "218   1679  388813.75\n",
       "1031  2492  185941.70\n",
       "1289  2750  135140.75\n",
       "886   2347  206286.65"
      ]
     },
     "execution_count": 10,
     "metadata": {},
     "output_type": "execute_result"
    }
   ],
   "source": [
    "y_pred_kaggle = model.predict(x_test_kaggle[lst_selected_atributes])\n",
    "y_pred_kaggle = pd.DataFrame(y_pred_kaggle, index=x_test_kaggle.index, columns=['SalePrice']).reset_index()\n",
    "y_pred_kaggle.rename(columns={'index':'Id'}, inplace=True)\n",
    "\n",
    "y_pred_kaggle.to_csv(PROCESSED_FOLDER + 'y_pred_kaggle_6th_experiment_w_feature_selection.csv', index=False)\n",
    "\n",
    "y_pred_kaggle.sample(10, random_state=RANDOM_STATE)"
   ]
  },
  {
   "cell_type": "markdown",
   "id": "b355741d",
   "metadata": {},
   "source": [
    "# 7th experiment: LightGBM and using floats, integer and binary attributes\n",
    "\n",
    "## 9.1  Importing data"
   ]
  },
  {
   "cell_type": "code",
   "execution_count": 23,
   "id": "ac770fee",
   "metadata": {
    "ExecuteTime": {
     "end_time": "2022-07-30T02:11:49.888204Z",
     "start_time": "2022-07-30T02:11:49.685910Z"
    }
   },
   "outputs": [
    {
     "name": "stdout",
     "output_type": "stream",
     "text": [
      "\n",
      "X_train: (1168, 36)\n",
      "X_test: (292, 36)\n",
      "y_train: (1168, 1)\n",
      "y_test: (292, 1)\n",
      "df_train: (1460, 37)\n"
     ]
    }
   ],
   "source": [
    "X_train = pd.read_parquet(INTERIM_FOLDER + 'X_train_3rd_dataprep.pqt')\n",
    "X_test = pd.read_parquet(INTERIM_FOLDER + 'X_test_3rd_dataprep.pqt')\n",
    "y_train = pd.read_parquet(INTERIM_FOLDER + 'y_train_3rd_dataprep.pqt')\n",
    "y_test = pd.read_parquet(INTERIM_FOLDER + 'y_test_3rd_dataprep.pqt')\n",
    "\n",
    "df_train = pd.concat([X_train, y_train], axis=1)\n",
    "df_temp = pd.concat([X_test, y_test], axis=1)\n",
    "df_train = pd.concat([df_train, df_temp], axis=0)\n",
    "\n",
    "# Joining the train and validation datasets to use in pycaret.\n",
    "print(f\"\"\"\n",
    "X_train: {X_train.shape}\n",
    "X_test: {X_test.shape}\n",
    "y_train: {y_train.shape}\n",
    "y_test: {y_test.shape}\n",
    "df_train: {df_train.shape}\"\"\")\n",
    "\n",
    "x_test_kaggle = pd.read_parquet(INTERIM_FOLDER + 'x_test_kaggle_3rd_dataprep.pqt')"
   ]
  },
  {
   "cell_type": "markdown",
   "id": "04accd3f",
   "metadata": {},
   "source": [
    "## Modeling and evaluating"
   ]
  },
  {
   "cell_type": "code",
   "execution_count": 14,
   "id": "5e6e42f7",
   "metadata": {
    "ExecuteTime": {
     "end_time": "2022-07-30T01:57:35.537365Z",
     "start_time": "2022-07-30T01:57:28.478515Z"
    }
   },
   "outputs": [
    {
     "name": "stdout",
     "output_type": "stream",
     "text": [
      "RMSE: 29849.17\n"
     ]
    },
    {
     "data": {
      "image/png": "[encoded data removed]",
      "text/plain": [
       "<Figure size 576x432 with 1 Axes>"
      ]
     },
     "metadata": {
      "needs_background": "light"
     },
     "output_type": "display_data"
    }
   ],
   "source": [
    "model = lgb.LGBMRegressor(n_estimators=10000, n_jobs=-1, random_state=RANDOM_STATE)\n",
    "model.fit(X_train, y_train.values)\n",
    "\n",
    "y_pred = model.predict(X_test)\n",
    "\n",
    "print(f\"RMSE: {mse(y_test, y_pred)**.5:.2f}\")\n",
    "\n",
    "df_importance = pd.DataFrame(\n",
    "    model.feature_importances_, index=model.feature_name_, columns=['importance']\n",
    ").sort_values(by='importance', ascending=False)\n",
    "\n",
    "\n",
    "a4_dims = (8, 6)\n",
    "fig, ax = plt.subplots(figsize=a4_dims)\n",
    "\n",
    "sns.barplot(data=df_importance, y=df_importance.index, x='importance', ax=ax);"
   ]
  },
  {
   "cell_type": "markdown",
   "id": "a10390e3",
   "metadata": {
    "ExecuteTime": {
     "end_time": "2022-07-10T18:24:53.047522Z",
     "start_time": "2022-07-10T18:24:52.828523Z"
    }
   },
   "source": [
    "## Testing the kaggle's dataset"
   ]
  },
  {
   "cell_type": "code",
   "execution_count": 15,
   "id": "4198dcb1",
   "metadata": {
    "ExecuteTime": {
     "end_time": "2022-07-30T01:58:09.092328Z",
     "start_time": "2022-07-30T01:58:08.375560Z"
    }
   },
   "outputs": [
    {
     "data": {
      "text/html": [
       "<div>\n",
       "<style scoped>\n",
       "    .dataframe tbody tr th:only-of-type {\n",
       "        vertical-align: middle;\n",
       "    }\n",
       "\n",
       "    .dataframe tbody tr th {\n",
       "        vertical-align: top;\n",
       "    }\n",
       "\n",
       "    .dataframe thead th {\n",
       "        text-align: right;\n",
       "    }\n",
       "</style>\n",
       "<table border=\"1\" class=\"dataframe\">\n",
       "  <thead>\n",
       "    <tr style=\"text-align: right;\">\n",
       "      <th></th>\n",
       "      <th>Id</th>\n",
       "      <th>SalePrice</th>\n",
       "    </tr>\n",
       "  </thead>\n",
       "  <tbody>\n",
       "    <tr>\n",
       "      <th>1321</th>\n",
       "      <td>2782</td>\n",
       "      <td>98985.562365</td>\n",
       "    </tr>\n",
       "    <tr>\n",
       "      <th>836</th>\n",
       "      <td>2297</td>\n",
       "      <td>297859.473277</td>\n",
       "    </tr>\n",
       "    <tr>\n",
       "      <th>413</th>\n",
       "      <td>1874</td>\n",
       "      <td>132946.364151</td>\n",
       "    </tr>\n",
       "    <tr>\n",
       "      <th>522</th>\n",
       "      <td>1983</td>\n",
       "      <td>208639.438794</td>\n",
       "    </tr>\n",
       "    <tr>\n",
       "      <th>1035</th>\n",
       "      <td>2496</td>\n",
       "      <td>244255.565589</td>\n",
       "    </tr>\n",
       "    <tr>\n",
       "      <th>614</th>\n",
       "      <td>2075</td>\n",
       "      <td>145061.007678</td>\n",
       "    </tr>\n",
       "    <tr>\n",
       "      <th>218</th>\n",
       "      <td>1679</td>\n",
       "      <td>422863.713014</td>\n",
       "    </tr>\n",
       "    <tr>\n",
       "      <th>1031</th>\n",
       "      <td>2492</td>\n",
       "      <td>196240.439463</td>\n",
       "    </tr>\n",
       "    <tr>\n",
       "      <th>1289</th>\n",
       "      <td>2750</td>\n",
       "      <td>141561.796196</td>\n",
       "    </tr>\n",
       "    <tr>\n",
       "      <th>886</th>\n",
       "      <td>2347</td>\n",
       "      <td>214021.824851</td>\n",
       "    </tr>\n",
       "  </tbody>\n",
       "</table>\n",
       "</div>"
      ],
      "text/plain": [
       "        Id      SalePrice\n",
       "1321  2782   98985.562365\n",
       "836   2297  297859.473277\n",
       "413   1874  132946.364151\n",
       "522   1983  208639.438794\n",
       "1035  2496  244255.565589\n",
       "614   2075  145061.007678\n",
       "218   1679  422863.713014\n",
       "1031  2492  196240.439463\n",
       "1289  2750  141561.796196\n",
       "886   2347  214021.824851"
      ]
     },
     "execution_count": 15,
     "metadata": {},
     "output_type": "execute_result"
    }
   ],
   "source": [
    "y_pred_kaggle = model.predict(x_test_kaggle)\n",
    "y_pred_kaggle = pd.DataFrame(y_pred_kaggle, index=x_test_kaggle.index, columns=['SalePrice']).reset_index()\n",
    "y_pred_kaggle.rename(columns={'index':'Id'}, inplace=True)\n",
    "\n",
    "y_pred_kaggle.to_csv(PROCESSED_FOLDER + 'y_pred_kaggle_7th_experiment.csv', index=False)\n",
    "\n",
    "y_pred_kaggle.sample(10, random_state=RANDOM_STATE)"
   ]
  },
  {
   "cell_type": "markdown",
   "id": "32c58ebd",
   "metadata": {
    "ExecuteTime": {
     "end_time": "2022-07-10T18:24:28.787924Z",
     "start_time": "2022-07-10T18:24:28.589334Z"
    }
   },
   "source": [
    "## Modeling and evaluating with feature selection"
   ]
  },
  {
   "cell_type": "code",
   "execution_count": 16,
   "id": "f59c5d29",
   "metadata": {
    "ExecuteTime": {
     "end_time": "2022-07-30T01:58:21.012692Z",
     "start_time": "2022-07-30T01:58:13.109232Z"
    }
   },
   "outputs": [
    {
     "name": "stdout",
     "output_type": "stream",
     "text": [
      "RMSE: 29860.22\n"
     ]
    },
    {
     "data": {
      "image/png": "[encoded data removed]",
      "text/plain": [
       "<Figure size 576x432 with 1 Axes>"
      ]
     },
     "metadata": {
      "needs_background": "light"
     },
     "output_type": "display_data"
    }
   ],
   "source": [
    "lst_selected_atributes = df_importance.loc[df_importance['importance']>0.002].index.tolist()\n",
    "\n",
    "model = lgb.LGBMRegressor(n_estimators=10000, n_jobs=-1, random_state=RANDOM_STATE)\n",
    "model.fit(X_train[lst_selected_atributes], y_train.values)\n",
    "\n",
    "y_pred = model.predict(X_test[lst_selected_atributes])\n",
    "\n",
    "print(f\"RMSE: {mse(y_test, y_pred)**.5:.2f}\")\n",
    "\n",
    "df_importance = pd.DataFrame(\n",
    "    model.feature_importances_, index=model.feature_name_, columns=['importance']\n",
    ").sort_values(by='importance', ascending=False)\n",
    "\n",
    "\n",
    "a4_dims = (8, 6)\n",
    "fig, ax = plt.subplots(figsize=a4_dims)\n",
    "\n",
    "sns.barplot(data=df_importance, y=df_importance.index, x='importance', ax=ax);"
   ]
  },
  {
   "cell_type": "markdown",
   "id": "fe5a970f",
   "metadata": {},
   "source": [
    "## Testing the kaggle's dataset"
   ]
  },
  {
   "cell_type": "code",
   "execution_count": 17,
   "id": "4a16eb8f",
   "metadata": {
    "ExecuteTime": {
     "end_time": "2022-07-30T01:58:21.938945Z",
     "start_time": "2022-07-30T01:58:21.014695Z"
    }
   },
   "outputs": [
    {
     "data": {
      "text/html": [
       "<div>\n",
       "<style scoped>\n",
       "    .dataframe tbody tr th:only-of-type {\n",
       "        vertical-align: middle;\n",
       "    }\n",
       "\n",
       "    .dataframe tbody tr th {\n",
       "        vertical-align: top;\n",
       "    }\n",
       "\n",
       "    .dataframe thead th {\n",
       "        text-align: right;\n",
       "    }\n",
       "</style>\n",
       "<table border=\"1\" class=\"dataframe\">\n",
       "  <thead>\n",
       "    <tr style=\"text-align: right;\">\n",
       "      <th></th>\n",
       "      <th>Id</th>\n",
       "      <th>SalePrice</th>\n",
       "    </tr>\n",
       "  </thead>\n",
       "  <tbody>\n",
       "    <tr>\n",
       "      <th>1321</th>\n",
       "      <td>2782</td>\n",
       "      <td>98985.562365</td>\n",
       "    </tr>\n",
       "    <tr>\n",
       "      <th>836</th>\n",
       "      <td>2297</td>\n",
       "      <td>297859.473277</td>\n",
       "    </tr>\n",
       "    <tr>\n",
       "      <th>413</th>\n",
       "      <td>1874</td>\n",
       "      <td>132946.364151</td>\n",
       "    </tr>\n",
       "    <tr>\n",
       "      <th>522</th>\n",
       "      <td>1983</td>\n",
       "      <td>208639.438794</td>\n",
       "    </tr>\n",
       "    <tr>\n",
       "      <th>1035</th>\n",
       "      <td>2496</td>\n",
       "      <td>244255.565589</td>\n",
       "    </tr>\n",
       "    <tr>\n",
       "      <th>614</th>\n",
       "      <td>2075</td>\n",
       "      <td>145061.007678</td>\n",
       "    </tr>\n",
       "    <tr>\n",
       "      <th>218</th>\n",
       "      <td>1679</td>\n",
       "      <td>422863.713014</td>\n",
       "    </tr>\n",
       "    <tr>\n",
       "      <th>1031</th>\n",
       "      <td>2492</td>\n",
       "      <td>196240.439463</td>\n",
       "    </tr>\n",
       "    <tr>\n",
       "      <th>1289</th>\n",
       "      <td>2750</td>\n",
       "      <td>141561.796196</td>\n",
       "    </tr>\n",
       "    <tr>\n",
       "      <th>886</th>\n",
       "      <td>2347</td>\n",
       "      <td>214021.824851</td>\n",
       "    </tr>\n",
       "  </tbody>\n",
       "</table>\n",
       "</div>"
      ],
      "text/plain": [
       "        Id      SalePrice\n",
       "1321  2782   98985.562365\n",
       "836   2297  297859.473277\n",
       "413   1874  132946.364151\n",
       "522   1983  208639.438794\n",
       "1035  2496  244255.565589\n",
       "614   2075  145061.007678\n",
       "218   1679  422863.713014\n",
       "1031  2492  196240.439463\n",
       "1289  2750  141561.796196\n",
       "886   2347  214021.824851"
      ]
     },
     "execution_count": 17,
     "metadata": {},
     "output_type": "execute_result"
    }
   ],
   "source": [
    "y_pred_kaggle = model.predict(x_test_kaggle[lst_selected_atributes])\n",
    "y_pred_kaggle = pd.DataFrame(y_pred_kaggle, index=x_test_kaggle.index, columns=['SalePrice']).reset_index()\n",
    "y_pred_kaggle.rename(columns={'index':'Id'}, inplace=True)\n",
    "\n",
    "y_pred_kaggle.to_csv(PROCESSED_FOLDER + 'y_pred_kaggle_7th_experiment_w_feature_selection.csv', index=False)\n",
    "\n",
    "y_pred_kaggle.sample(10, random_state=RANDOM_STATE)"
   ]
  },
  {
   "cell_type": "markdown",
   "id": "64b16c51",
   "metadata": {},
   "source": [
    "## Modeling with gridsearch\n",
    "\n",
    "### Random grid search"
   ]
  },
  {
   "cell_type": "code",
   "execution_count": 18,
   "id": "c3e306fd",
   "metadata": {
    "ExecuteTime": {
     "end_time": "2022-07-30T02:01:39.054012Z",
     "start_time": "2022-07-30T01:58:25.206640Z"
    }
   },
   "outputs": [
    {
     "name": "stdout",
     "output_type": "stream",
     "text": [
      "Random grid search's best params: {'reg_alpha': 0.2, 'n_estimators': 500, 'max_depth': 18, 'learning_rate': 0.025}\n"
     ]
    }
   ],
   "source": [
    "hyperparameter_search_space = dict(\n",
    "    n_estimators=np.arange(500, 1500, 250).tolist(),\n",
    "    learning_rate=np.arange(0.0, 0.1, 0.025).tolist(),\n",
    "    max_depth=np.arange(int(len(X_train.columns)**.5), int(len(X_train.columns))+1, 2).tolist(),\n",
    "    reg_alpha=np.arange(0.0, 0.5, 0.1).tolist()\n",
    ")\n",
    "\n",
    "hyperparameter_search_space\n",
    "\n",
    "model = lgb.LGBMRegressor(n_jobs=-1, random_state=RANDOM_STATE)\n",
    "\n",
    "random_grid_search = RandomizedSearchCV(\n",
    "    model, hyperparameter_search_space, scoring='neg_mean_squared_error', random_state=RANDOM_STATE, n_iter=100\n",
    ")\n",
    "\n",
    "search = random_grid_search.fit(X_train, y_train)\n",
    "print(f\"Random grid search's best params: {search.best_params_}\")"
   ]
  },
  {
   "cell_type": "markdown",
   "id": "0e211c1d",
   "metadata": {},
   "source": [
    "### Grid search around the n-dimensional point found in the previous step"
   ]
  },
  {
   "cell_type": "code",
   "execution_count": 19,
   "id": "b0ae98c9",
   "metadata": {
    "ExecuteTime": {
     "end_time": "2022-07-30T02:01:39.291074Z",
     "start_time": "2022-07-30T02:01:39.058009Z"
    }
   },
   "outputs": [
    {
     "name": "stdout",
     "output_type": "stream",
     "text": [
      "reg_alpha 0.2\n",
      "n_estimators 500\n",
      "max_depth 18\n",
      "learning_rate 0.025\n"
     ]
    },
    {
     "data": {
      "text/plain": [
       "{'reg_alpha': [0.13333333333333333,\n",
       "  0.18333333333333335,\n",
       "  0.23333333333333336,\n",
       "  0.2833333333333334],\n",
       " 'n_estimators': [333, 458, 583, 708],\n",
       " 'max_depth': [12, 16, 20, 24],\n",
       " 'learning_rate': [0.016666666666666666,\n",
       "  0.02291666666666667,\n",
       "  0.02916666666666667,\n",
       "  0.03541666666666667]}"
      ]
     },
     "execution_count": 19,
     "metadata": {},
     "output_type": "execute_result"
    }
   ],
   "source": [
    "dct_params = {}\n",
    "\n",
    "for key, item in search.best_params_.items():\n",
    "    print(key, item)\n",
    "    if key in ['n_estimators', 'max_depth']:\n",
    "        dct_params[key] = np.arange(int(item/1.5), int(item*1.5), int(0.25*item)).tolist()\n",
    "    else:\n",
    "        dct_params[key] = np.arange(item/1.5, item*1.5, 0.25*item).tolist()\n",
    "    \n",
    "dct_params"
   ]
  },
  {
   "cell_type": "code",
   "execution_count": 20,
   "id": "ac16ed03",
   "metadata": {
    "ExecuteTime": {
     "end_time": "2022-07-30T02:09:21.022127Z",
     "start_time": "2022-07-30T02:01:39.293074Z"
    }
   },
   "outputs": [
    {
     "name": "stdout",
     "output_type": "stream",
     "text": [
      "Grid search's best params: {'learning_rate': 0.03541666666666667, 'max_depth': 16, 'n_estimators': 333, 'reg_alpha': 0.2833333333333334}\n"
     ]
    }
   ],
   "source": [
    "grid_search = GridSearchCV(\n",
    "    model, dct_params, scoring='neg_mean_squared_error'\n",
    ")\n",
    "\n",
    "search = grid_search.fit(X_train, y_train)\n",
    "print(f\"Grid search's best params: {search.best_params_}\")"
   ]
  },
  {
   "cell_type": "markdown",
   "id": "a9811c09",
   "metadata": {},
   "source": [
    "### Modeling and evaluating"
   ]
  },
  {
   "cell_type": "code",
   "execution_count": 22,
   "id": "89430803",
   "metadata": {
    "ExecuteTime": {
     "end_time": "2022-07-30T02:09:33.522946Z",
     "start_time": "2022-07-30T02:09:32.830208Z"
    }
   },
   "outputs": [
    {
     "name": "stdout",
     "output_type": "stream",
     "text": [
      "RMSE: 29788.46\n"
     ]
    },
    {
     "data": {
      "image/png": "[encoded data removed]",
      "text/plain": [
       "<Figure size 576x432 with 1 Axes>"
      ]
     },
     "metadata": {
      "needs_background": "light"
     },
     "output_type": "display_data"
    }
   ],
   "source": [
    "try:\n",
    "    best_params = search.best_params_\n",
    "except:\n",
    "    best_params = {\n",
    "        'learning_rate': 0.03541666666666667, 'max_depth': 16, 'n_estimators': 333, 'reg_alpha': 0.2833333333333334\n",
    "    }\n",
    "\n",
    "model = lgb.LGBMRegressor(**best_params, n_jobs=-1, random_state=RANDOM_STATE)\n",
    "model.fit(X_train, y_train.values)\n",
    "\n",
    "model_filename = 'model_7th_experiment_7th_experiment_gridsearch.sav'\n",
    "joblib.dump(model, MODELS_FOLDER + model_filename)\n",
    "\n",
    "loaded_model = joblib.load(MODELS_FOLDER + model_filename)\n",
    "\n",
    "y_pred = loaded_model.predict(X_test)\n",
    "\n",
    "print(f\"RMSE: {mse(y_test, y_pred)**.5:.2f}\")\n",
    "\n",
    "df_importance = pd.DataFrame(\n",
    "    model.feature_importances_, index=model.feature_name_, columns=['importance']\n",
    ").sort_values(by='importance', ascending=False)\n",
    "\n",
    "\n",
    "a4_dims = (8, 6)\n",
    "fig, ax = plt.subplots(figsize=a4_dims)\n",
    "\n",
    "sns.barplot(data=df_importance, y=df_importance.index, x='importance', ax=ax);"
   ]
  },
  {
   "cell_type": "markdown",
   "id": "d0f87b23",
   "metadata": {},
   "source": [
    "### Modeling again but adding the validation data into the training data"
   ]
  },
  {
   "cell_type": "code",
   "execution_count": 24,
   "id": "f857e242",
   "metadata": {
    "ExecuteTime": {
     "end_time": "2022-07-30T02:15:27.440845Z",
     "start_time": "2022-07-30T02:15:26.934747Z"
    }
   },
   "outputs": [],
   "source": [
    "try:\n",
    "    best_params = search.best_params_\n",
    "except:\n",
    "    best_params = {\n",
    "        'learning_rate': 0.03541666666666667, 'max_depth': 16, 'n_estimators': 333, 'reg_alpha': 0.2833333333333334\n",
    "    }\n",
    "\n",
    "model = lgb.LGBMRegressor(**best_params, n_jobs=-1, random_state=RANDOM_STATE)\n",
    "model.fit(df_train.drop(columns=['SalePrice']), df_train['SalePrice'].values)\n",
    "\n",
    "model_filename = 'model_7th_experiment_7th_experiment_gridsearch_more_data.sav'\n",
    "joblib.dump(model, MODELS_FOLDER + model_filename)\n",
    "\n",
    "loaded_model = joblib.load(MODELS_FOLDER + model_filename)"
   ]
  },
  {
   "cell_type": "markdown",
   "id": "45a7d490",
   "metadata": {},
   "source": [
    "## Testing the kaggle's dataset"
   ]
  },
  {
   "cell_type": "code",
   "execution_count": 25,
   "id": "50f88257",
   "metadata": {
    "ExecuteTime": {
     "end_time": "2022-07-30T02:15:48.641748Z",
     "start_time": "2022-07-30T02:15:48.430750Z"
    }
   },
   "outputs": [
    {
     "data": {
      "text/html": [
       "<div>\n",
       "<style scoped>\n",
       "    .dataframe tbody tr th:only-of-type {\n",
       "        vertical-align: middle;\n",
       "    }\n",
       "\n",
       "    .dataframe tbody tr th {\n",
       "        vertical-align: top;\n",
       "    }\n",
       "\n",
       "    .dataframe thead th {\n",
       "        text-align: right;\n",
       "    }\n",
       "</style>\n",
       "<table border=\"1\" class=\"dataframe\">\n",
       "  <thead>\n",
       "    <tr style=\"text-align: right;\">\n",
       "      <th></th>\n",
       "      <th>Id</th>\n",
       "      <th>SalePrice</th>\n",
       "    </tr>\n",
       "  </thead>\n",
       "  <tbody>\n",
       "    <tr>\n",
       "      <th>1321</th>\n",
       "      <td>2782</td>\n",
       "      <td>89778.741697</td>\n",
       "    </tr>\n",
       "    <tr>\n",
       "      <th>836</th>\n",
       "      <td>2297</td>\n",
       "      <td>302599.230998</td>\n",
       "    </tr>\n",
       "    <tr>\n",
       "      <th>413</th>\n",
       "      <td>1874</td>\n",
       "      <td>141968.444317</td>\n",
       "    </tr>\n",
       "    <tr>\n",
       "      <th>522</th>\n",
       "      <td>1983</td>\n",
       "      <td>208047.548789</td>\n",
       "    </tr>\n",
       "    <tr>\n",
       "      <th>1035</th>\n",
       "      <td>2496</td>\n",
       "      <td>245631.250539</td>\n",
       "    </tr>\n",
       "    <tr>\n",
       "      <th>614</th>\n",
       "      <td>2075</td>\n",
       "      <td>148021.660049</td>\n",
       "    </tr>\n",
       "    <tr>\n",
       "      <th>218</th>\n",
       "      <td>1679</td>\n",
       "      <td>416822.433053</td>\n",
       "    </tr>\n",
       "    <tr>\n",
       "      <th>1031</th>\n",
       "      <td>2492</td>\n",
       "      <td>193254.444893</td>\n",
       "    </tr>\n",
       "    <tr>\n",
       "      <th>1289</th>\n",
       "      <td>2750</td>\n",
       "      <td>143316.894132</td>\n",
       "    </tr>\n",
       "    <tr>\n",
       "      <th>886</th>\n",
       "      <td>2347</td>\n",
       "      <td>203818.173272</td>\n",
       "    </tr>\n",
       "  </tbody>\n",
       "</table>\n",
       "</div>"
      ],
      "text/plain": [
       "        Id      SalePrice\n",
       "1321  2782   89778.741697\n",
       "836   2297  302599.230998\n",
       "413   1874  141968.444317\n",
       "522   1983  208047.548789\n",
       "1035  2496  245631.250539\n",
       "614   2075  148021.660049\n",
       "218   1679  416822.433053\n",
       "1031  2492  193254.444893\n",
       "1289  2750  143316.894132\n",
       "886   2347  203818.173272"
      ]
     },
     "execution_count": 25,
     "metadata": {},
     "output_type": "execute_result"
    }
   ],
   "source": [
    "loaded_model = joblib.load(MODELS_FOLDER + model_filename)\n",
    "\n",
    "y_pred_kaggle = loaded_model.predict(x_test_kaggle)\n",
    "y_pred_kaggle = pd.DataFrame(y_pred_kaggle, index=x_test_kaggle.index, columns=['SalePrice']).reset_index()\n",
    "y_pred_kaggle.rename(columns={'index':'Id'}, inplace=True)\n",
    "\n",
    "y_pred_kaggle.to_csv(PROCESSED_FOLDER + 'y_pred_kaggle_7th_experiment_gridsearch.csv', index=False)\n",
    "\n",
    "y_pred_kaggle.sample(10, random_state=RANDOM_STATE)"
   ]
  },
  {
   "cell_type": "markdown",
   "id": "843a87f2",
   "metadata": {},
   "source": [
    "## Modeling with grid search results and feature selection"
   ]
  },
  {
   "cell_type": "code",
   "execution_count": 101,
   "id": "badb526f",
   "metadata": {
    "ExecuteTime": {
     "end_time": "2022-07-10T22:05:26.687282Z",
     "start_time": "2022-07-10T22:05:25.941945Z"
    }
   },
   "outputs": [
    {
     "name": "stdout",
     "output_type": "stream",
     "text": [
      "RMSE: 29788.70\n"
     ]
    },
    {
     "data": {
      "image/png": "[encoded data removed]",
      "text/plain": [
       "<Figure size 576x432 with 1 Axes>"
      ]
     },
     "metadata": {
      "needs_background": "light"
     },
     "output_type": "display_data"
    }
   ],
   "source": [
    "lst_selected_atributes = df_importance.loc[df_importance['importance']>10].index.tolist()\n",
    "\n",
    "model = lgb.LGBMRegressor(**search.best_params_, n_jobs=-1, random_state=RANDOM_STATE)\n",
    "model.fit(X_train[lst_selected_atributes], y_train.values)\n",
    "\n",
    "y_pred = model.predict(X_test[lst_selected_atributes])\n",
    "\n",
    "print(f\"RMSE: {mse(y_test, y_pred)**.5:.2f}\")\n",
    "\n",
    "df_importance = pd.DataFrame(\n",
    "    model.feature_importances_, index=model.feature_name_, columns=['importance']\n",
    ").sort_values(by='importance', ascending=False)\n",
    "\n",
    "\n",
    "a4_dims = (8, 6)\n",
    "fig, ax = plt.subplots(figsize=a4_dims)\n",
    "\n",
    "sns.barplot(data=df_importance, y=df_importance.index, x='importance', ax=ax);"
   ]
  },
  {
   "cell_type": "code",
   "execution_count": 103,
   "id": "f873919d",
   "metadata": {
    "ExecuteTime": {
     "end_time": "2022-07-10T22:06:18.217589Z",
     "start_time": "2022-07-10T22:06:17.988598Z"
    }
   },
   "outputs": [
    {
     "data": {
      "text/html": [
       "<div>\n",
       "<style scoped>\n",
       "    .dataframe tbody tr th:only-of-type {\n",
       "        vertical-align: middle;\n",
       "    }\n",
       "\n",
       "    .dataframe tbody tr th {\n",
       "        vertical-align: top;\n",
       "    }\n",
       "\n",
       "    .dataframe thead th {\n",
       "        text-align: right;\n",
       "    }\n",
       "</style>\n",
       "<table border=\"1\" class=\"dataframe\">\n",
       "  <thead>\n",
       "    <tr style=\"text-align: right;\">\n",
       "      <th></th>\n",
       "      <th>Id</th>\n",
       "      <th>SalePrice</th>\n",
       "    </tr>\n",
       "  </thead>\n",
       "  <tbody>\n",
       "    <tr>\n",
       "      <th>1321</th>\n",
       "      <td>2782</td>\n",
       "      <td>97520.903723</td>\n",
       "    </tr>\n",
       "    <tr>\n",
       "      <th>836</th>\n",
       "      <td>2297</td>\n",
       "      <td>299047.592633</td>\n",
       "    </tr>\n",
       "    <tr>\n",
       "      <th>413</th>\n",
       "      <td>1874</td>\n",
       "      <td>139018.043616</td>\n",
       "    </tr>\n",
       "    <tr>\n",
       "      <th>522</th>\n",
       "      <td>1983</td>\n",
       "      <td>208782.640664</td>\n",
       "    </tr>\n",
       "    <tr>\n",
       "      <th>1035</th>\n",
       "      <td>2496</td>\n",
       "      <td>249075.477452</td>\n",
       "    </tr>\n",
       "    <tr>\n",
       "      <th>614</th>\n",
       "      <td>2075</td>\n",
       "      <td>147545.272336</td>\n",
       "    </tr>\n",
       "    <tr>\n",
       "      <th>218</th>\n",
       "      <td>1679</td>\n",
       "      <td>400980.721852</td>\n",
       "    </tr>\n",
       "    <tr>\n",
       "      <th>1031</th>\n",
       "      <td>2492</td>\n",
       "      <td>187884.952148</td>\n",
       "    </tr>\n",
       "    <tr>\n",
       "      <th>1289</th>\n",
       "      <td>2750</td>\n",
       "      <td>148585.842630</td>\n",
       "    </tr>\n",
       "    <tr>\n",
       "      <th>886</th>\n",
       "      <td>2347</td>\n",
       "      <td>210435.898778</td>\n",
       "    </tr>\n",
       "  </tbody>\n",
       "</table>\n",
       "</div>"
      ],
      "text/plain": [
       "        Id      SalePrice\n",
       "1321  2782   97520.903723\n",
       "836   2297  299047.592633\n",
       "413   1874  139018.043616\n",
       "522   1983  208782.640664\n",
       "1035  2496  249075.477452\n",
       "614   2075  147545.272336\n",
       "218   1679  400980.721852\n",
       "1031  2492  187884.952148\n",
       "1289  2750  148585.842630\n",
       "886   2347  210435.898778"
      ]
     },
     "execution_count": 103,
     "metadata": {},
     "output_type": "execute_result"
    }
   ],
   "source": [
    "y_pred_kaggle = model.predict(x_test_kaggle[lst_selected_atributes])\n",
    "y_pred_kaggle = pd.DataFrame(y_pred_kaggle, index=x_test_kaggle.index, columns=['SalePrice']).reset_index()\n",
    "y_pred_kaggle.rename(columns={'index':'Id'}, inplace=True)\n",
    "\n",
    "y_pred_kaggle.to_csv(PROCESSED_FOLDER + 'y_pred_kaggle_7th_experiment_gridsearch_feature_selection.csv', index=False)\n",
    "\n",
    "y_pred_kaggle.sample(10, random_state=RANDOM_STATE)"
   ]
  },
  {
   "cell_type": "markdown",
   "id": "89164ef8",
   "metadata": {},
   "source": [
    "# Testing other models with Pycaret\n",
    "\n",
    "## Importing data"
   ]
  },
  {
   "cell_type": "code",
   "execution_count": 4,
   "id": "16e17104",
   "metadata": {
    "ExecuteTime": {
     "end_time": "2022-07-30T01:41:59.632565Z",
     "start_time": "2022-07-30T01:41:59.413450Z"
    }
   },
   "outputs": [
    {
     "name": "stdout",
     "output_type": "stream",
     "text": [
      "\n",
      "X_train: (1168, 36)\n",
      "X_test: (292, 36)\n",
      "y_train: (1168, 1)\n",
      "y_test: (292, 1)\n",
      "df_train: (1460, 37)\n"
     ]
    }
   ],
   "source": [
    "X_train = pd.read_parquet(INTERIM_FOLDER + 'X_train_3rd_dataprep.pqt')\n",
    "X_test = pd.read_parquet(INTERIM_FOLDER + 'X_test_3rd_dataprep.pqt')\n",
    "y_train = pd.read_parquet(INTERIM_FOLDER + 'y_train_3rd_dataprep.pqt')\n",
    "y_test = pd.read_parquet(INTERIM_FOLDER + 'y_test_3rd_dataprep.pqt')\n",
    "\n",
    "df_train = pd.concat([X_train, y_train], axis=1)\n",
    "df_temp = pd.concat([X_test, y_test], axis=1)\n",
    "df_train = pd.concat([df_train, df_temp], axis=0)\n",
    "\n",
    "# Joining the train and validation datasets to use in pycaret.\n",
    "print(f\"\"\"\n",
    "X_train: {X_train.shape}\n",
    "X_test: {X_test.shape}\n",
    "y_train: {y_train.shape}\n",
    "y_test: {y_test.shape}\n",
    "df_train: {df_train.shape}\"\"\")\n",
    "\n",
    "x_test_kaggle = pd.read_parquet(INTERIM_FOLDER + 'x_test_kaggle_3rd_dataprep.pqt')"
   ]
  },
  {
   "cell_type": "code",
   "execution_count": 11,
   "id": "193b98d7",
   "metadata": {
    "ExecuteTime": {
     "end_time": "2022-07-30T01:56:09.408899Z",
     "start_time": "2022-07-30T01:56:07.477606Z"
    }
   },
   "outputs": [
    {
     "data": {
      "text/html": [
       "<style type=\"text/css\">\n",
       "#T_8831a_row42_col1 {\n",
       "  background-color: lightgreen;\n",
       "}\n",
       "</style>\n",
       "<table id=\"T_8831a\">\n",
       "  <thead>\n",
       "    <tr>\n",
       "      <th class=\"blank level0\" >&nbsp;</th>\n",
       "      <th id=\"T_8831a_level0_col0\" class=\"col_heading level0 col0\" >Description</th>\n",
       "      <th id=\"T_8831a_level0_col1\" class=\"col_heading level0 col1\" >Value</th>\n",
       "    </tr>\n",
       "  </thead>\n",
       "  <tbody>\n",
       "    <tr>\n",
       "      <th id=\"T_8831a_level0_row0\" class=\"row_heading level0 row0\" >0</th>\n",
       "      <td id=\"T_8831a_row0_col0\" class=\"data row0 col0\" >session_id</td>\n",
       "      <td id=\"T_8831a_row0_col1\" class=\"data row0 col1\" >7702</td>\n",
       "    </tr>\n",
       "    <tr>\n",
       "      <th id=\"T_8831a_level0_row1\" class=\"row_heading level0 row1\" >1</th>\n",
       "      <td id=\"T_8831a_row1_col0\" class=\"data row1 col0\" >Target</td>\n",
       "      <td id=\"T_8831a_row1_col1\" class=\"data row1 col1\" >SalePrice</td>\n",
       "    </tr>\n",
       "    <tr>\n",
       "      <th id=\"T_8831a_level0_row2\" class=\"row_heading level0 row2\" >2</th>\n",
       "      <td id=\"T_8831a_row2_col0\" class=\"data row2 col0\" >Original Data</td>\n",
       "      <td id=\"T_8831a_row2_col1\" class=\"data row2 col1\" >(1460, 37)</td>\n",
       "    </tr>\n",
       "    <tr>\n",
       "      <th id=\"T_8831a_level0_row3\" class=\"row_heading level0 row3\" >3</th>\n",
       "      <td id=\"T_8831a_row3_col0\" class=\"data row3 col0\" >Missing Values</td>\n",
       "      <td id=\"T_8831a_row3_col1\" class=\"data row3 col1\" >False</td>\n",
       "    </tr>\n",
       "    <tr>\n",
       "      <th id=\"T_8831a_level0_row4\" class=\"row_heading level0 row4\" >4</th>\n",
       "      <td id=\"T_8831a_row4_col0\" class=\"data row4 col0\" >Numeric Features</td>\n",
       "      <td id=\"T_8831a_row4_col1\" class=\"data row4 col1\" >21</td>\n",
       "    </tr>\n",
       "    <tr>\n",
       "      <th id=\"T_8831a_level0_row5\" class=\"row_heading level0 row5\" >5</th>\n",
       "      <td id=\"T_8831a_row5_col0\" class=\"data row5 col0\" >Categorical Features</td>\n",
       "      <td id=\"T_8831a_row5_col1\" class=\"data row5 col1\" >15</td>\n",
       "    </tr>\n",
       "    <tr>\n",
       "      <th id=\"T_8831a_level0_row6\" class=\"row_heading level0 row6\" >6</th>\n",
       "      <td id=\"T_8831a_row6_col0\" class=\"data row6 col0\" >Ordinal Features</td>\n",
       "      <td id=\"T_8831a_row6_col1\" class=\"data row6 col1\" >False</td>\n",
       "    </tr>\n",
       "    <tr>\n",
       "      <th id=\"T_8831a_level0_row7\" class=\"row_heading level0 row7\" >7</th>\n",
       "      <td id=\"T_8831a_row7_col0\" class=\"data row7 col0\" >High Cardinality Features</td>\n",
       "      <td id=\"T_8831a_row7_col1\" class=\"data row7 col1\" >False</td>\n",
       "    </tr>\n",
       "    <tr>\n",
       "      <th id=\"T_8831a_level0_row8\" class=\"row_heading level0 row8\" >8</th>\n",
       "      <td id=\"T_8831a_row8_col0\" class=\"data row8 col0\" >High Cardinality Method</td>\n",
       "      <td id=\"T_8831a_row8_col1\" class=\"data row8 col1\" >None</td>\n",
       "    </tr>\n",
       "    <tr>\n",
       "      <th id=\"T_8831a_level0_row9\" class=\"row_heading level0 row9\" >9</th>\n",
       "      <td id=\"T_8831a_row9_col0\" class=\"data row9 col0\" >Transformed Train Set</td>\n",
       "      <td id=\"T_8831a_row9_col1\" class=\"data row9 col1\" >(1314, 138)</td>\n",
       "    </tr>\n",
       "    <tr>\n",
       "      <th id=\"T_8831a_level0_row10\" class=\"row_heading level0 row10\" >10</th>\n",
       "      <td id=\"T_8831a_row10_col0\" class=\"data row10 col0\" >Transformed Test Set</td>\n",
       "      <td id=\"T_8831a_row10_col1\" class=\"data row10 col1\" >(146, 138)</td>\n",
       "    </tr>\n",
       "    <tr>\n",
       "      <th id=\"T_8831a_level0_row11\" class=\"row_heading level0 row11\" >11</th>\n",
       "      <td id=\"T_8831a_row11_col0\" class=\"data row11 col0\" >Shuffle Train-Test</td>\n",
       "      <td id=\"T_8831a_row11_col1\" class=\"data row11 col1\" >True</td>\n",
       "    </tr>\n",
       "    <tr>\n",
       "      <th id=\"T_8831a_level0_row12\" class=\"row_heading level0 row12\" >12</th>\n",
       "      <td id=\"T_8831a_row12_col0\" class=\"data row12 col0\" >Stratify Train-Test</td>\n",
       "      <td id=\"T_8831a_row12_col1\" class=\"data row12 col1\" >False</td>\n",
       "    </tr>\n",
       "    <tr>\n",
       "      <th id=\"T_8831a_level0_row13\" class=\"row_heading level0 row13\" >13</th>\n",
       "      <td id=\"T_8831a_row13_col0\" class=\"data row13 col0\" >Fold Generator</td>\n",
       "      <td id=\"T_8831a_row13_col1\" class=\"data row13 col1\" >KFold</td>\n",
       "    </tr>\n",
       "    <tr>\n",
       "      <th id=\"T_8831a_level0_row14\" class=\"row_heading level0 row14\" >14</th>\n",
       "      <td id=\"T_8831a_row14_col0\" class=\"data row14 col0\" >Fold Number</td>\n",
       "      <td id=\"T_8831a_row14_col1\" class=\"data row14 col1\" >10</td>\n",
       "    </tr>\n",
       "    <tr>\n",
       "      <th id=\"T_8831a_level0_row15\" class=\"row_heading level0 row15\" >15</th>\n",
       "      <td id=\"T_8831a_row15_col0\" class=\"data row15 col0\" >CPU Jobs</td>\n",
       "      <td id=\"T_8831a_row15_col1\" class=\"data row15 col1\" >-1</td>\n",
       "    </tr>\n",
       "    <tr>\n",
       "      <th id=\"T_8831a_level0_row16\" class=\"row_heading level0 row16\" >16</th>\n",
       "      <td id=\"T_8831a_row16_col0\" class=\"data row16 col0\" >Use GPU</td>\n",
       "      <td id=\"T_8831a_row16_col1\" class=\"data row16 col1\" >False</td>\n",
       "    </tr>\n",
       "    <tr>\n",
       "      <th id=\"T_8831a_level0_row17\" class=\"row_heading level0 row17\" >17</th>\n",
       "      <td id=\"T_8831a_row17_col0\" class=\"data row17 col0\" >Log Experiment</td>\n",
       "      <td id=\"T_8831a_row17_col1\" class=\"data row17 col1\" >False</td>\n",
       "    </tr>\n",
       "    <tr>\n",
       "      <th id=\"T_8831a_level0_row18\" class=\"row_heading level0 row18\" >18</th>\n",
       "      <td id=\"T_8831a_row18_col0\" class=\"data row18 col0\" >Experiment Name</td>\n",
       "      <td id=\"T_8831a_row18_col1\" class=\"data row18 col1\" >reg-default-name</td>\n",
       "    </tr>\n",
       "    <tr>\n",
       "      <th id=\"T_8831a_level0_row19\" class=\"row_heading level0 row19\" >19</th>\n",
       "      <td id=\"T_8831a_row19_col0\" class=\"data row19 col0\" >USI</td>\n",
       "      <td id=\"T_8831a_row19_col1\" class=\"data row19 col1\" >81d4</td>\n",
       "    </tr>\n",
       "    <tr>\n",
       "      <th id=\"T_8831a_level0_row20\" class=\"row_heading level0 row20\" >20</th>\n",
       "      <td id=\"T_8831a_row20_col0\" class=\"data row20 col0\" >Imputation Type</td>\n",
       "      <td id=\"T_8831a_row20_col1\" class=\"data row20 col1\" >simple</td>\n",
       "    </tr>\n",
       "    <tr>\n",
       "      <th id=\"T_8831a_level0_row21\" class=\"row_heading level0 row21\" >21</th>\n",
       "      <td id=\"T_8831a_row21_col0\" class=\"data row21 col0\" >Iterative Imputation Iteration</td>\n",
       "      <td id=\"T_8831a_row21_col1\" class=\"data row21 col1\" >None</td>\n",
       "    </tr>\n",
       "    <tr>\n",
       "      <th id=\"T_8831a_level0_row22\" class=\"row_heading level0 row22\" >22</th>\n",
       "      <td id=\"T_8831a_row22_col0\" class=\"data row22 col0\" >Numeric Imputer</td>\n",
       "      <td id=\"T_8831a_row22_col1\" class=\"data row22 col1\" >mean</td>\n",
       "    </tr>\n",
       "    <tr>\n",
       "      <th id=\"T_8831a_level0_row23\" class=\"row_heading level0 row23\" >23</th>\n",
       "      <td id=\"T_8831a_row23_col0\" class=\"data row23 col0\" >Iterative Imputation Numeric Model</td>\n",
       "      <td id=\"T_8831a_row23_col1\" class=\"data row23 col1\" >None</td>\n",
       "    </tr>\n",
       "    <tr>\n",
       "      <th id=\"T_8831a_level0_row24\" class=\"row_heading level0 row24\" >24</th>\n",
       "      <td id=\"T_8831a_row24_col0\" class=\"data row24 col0\" >Categorical Imputer</td>\n",
       "      <td id=\"T_8831a_row24_col1\" class=\"data row24 col1\" >constant</td>\n",
       "    </tr>\n",
       "    <tr>\n",
       "      <th id=\"T_8831a_level0_row25\" class=\"row_heading level0 row25\" >25</th>\n",
       "      <td id=\"T_8831a_row25_col0\" class=\"data row25 col0\" >Iterative Imputation Categorical Model</td>\n",
       "      <td id=\"T_8831a_row25_col1\" class=\"data row25 col1\" >None</td>\n",
       "    </tr>\n",
       "    <tr>\n",
       "      <th id=\"T_8831a_level0_row26\" class=\"row_heading level0 row26\" >26</th>\n",
       "      <td id=\"T_8831a_row26_col0\" class=\"data row26 col0\" >Unknown Categoricals Handling</td>\n",
       "      <td id=\"T_8831a_row26_col1\" class=\"data row26 col1\" >least_frequent</td>\n",
       "    </tr>\n",
       "    <tr>\n",
       "      <th id=\"T_8831a_level0_row27\" class=\"row_heading level0 row27\" >27</th>\n",
       "      <td id=\"T_8831a_row27_col0\" class=\"data row27 col0\" >Normalize</td>\n",
       "      <td id=\"T_8831a_row27_col1\" class=\"data row27 col1\" >False</td>\n",
       "    </tr>\n",
       "    <tr>\n",
       "      <th id=\"T_8831a_level0_row28\" class=\"row_heading level0 row28\" >28</th>\n",
       "      <td id=\"T_8831a_row28_col0\" class=\"data row28 col0\" >Normalize Method</td>\n",
       "      <td id=\"T_8831a_row28_col1\" class=\"data row28 col1\" >None</td>\n",
       "    </tr>\n",
       "    <tr>\n",
       "      <th id=\"T_8831a_level0_row29\" class=\"row_heading level0 row29\" >29</th>\n",
       "      <td id=\"T_8831a_row29_col0\" class=\"data row29 col0\" >Transformation</td>\n",
       "      <td id=\"T_8831a_row29_col1\" class=\"data row29 col1\" >False</td>\n",
       "    </tr>\n",
       "    <tr>\n",
       "      <th id=\"T_8831a_level0_row30\" class=\"row_heading level0 row30\" >30</th>\n",
       "      <td id=\"T_8831a_row30_col0\" class=\"data row30 col0\" >Transformation Method</td>\n",
       "      <td id=\"T_8831a_row30_col1\" class=\"data row30 col1\" >None</td>\n",
       "    </tr>\n",
       "    <tr>\n",
       "      <th id=\"T_8831a_level0_row31\" class=\"row_heading level0 row31\" >31</th>\n",
       "      <td id=\"T_8831a_row31_col0\" class=\"data row31 col0\" >PCA</td>\n",
       "      <td id=\"T_8831a_row31_col1\" class=\"data row31 col1\" >False</td>\n",
       "    </tr>\n",
       "    <tr>\n",
       "      <th id=\"T_8831a_level0_row32\" class=\"row_heading level0 row32\" >32</th>\n",
       "      <td id=\"T_8831a_row32_col0\" class=\"data row32 col0\" >PCA Method</td>\n",
       "      <td id=\"T_8831a_row32_col1\" class=\"data row32 col1\" >None</td>\n",
       "    </tr>\n",
       "    <tr>\n",
       "      <th id=\"T_8831a_level0_row33\" class=\"row_heading level0 row33\" >33</th>\n",
       "      <td id=\"T_8831a_row33_col0\" class=\"data row33 col0\" >PCA Components</td>\n",
       "      <td id=\"T_8831a_row33_col1\" class=\"data row33 col1\" >None</td>\n",
       "    </tr>\n",
       "    <tr>\n",
       "      <th id=\"T_8831a_level0_row34\" class=\"row_heading level0 row34\" >34</th>\n",
       "      <td id=\"T_8831a_row34_col0\" class=\"data row34 col0\" >Ignore Low Variance</td>\n",
       "      <td id=\"T_8831a_row34_col1\" class=\"data row34 col1\" >False</td>\n",
       "    </tr>\n",
       "    <tr>\n",
       "      <th id=\"T_8831a_level0_row35\" class=\"row_heading level0 row35\" >35</th>\n",
       "      <td id=\"T_8831a_row35_col0\" class=\"data row35 col0\" >Combine Rare Levels</td>\n",
       "      <td id=\"T_8831a_row35_col1\" class=\"data row35 col1\" >False</td>\n",
       "    </tr>\n",
       "    <tr>\n",
       "      <th id=\"T_8831a_level0_row36\" class=\"row_heading level0 row36\" >36</th>\n",
       "      <td id=\"T_8831a_row36_col0\" class=\"data row36 col0\" >Rare Level Threshold</td>\n",
       "      <td id=\"T_8831a_row36_col1\" class=\"data row36 col1\" >None</td>\n",
       "    </tr>\n",
       "    <tr>\n",
       "      <th id=\"T_8831a_level0_row37\" class=\"row_heading level0 row37\" >37</th>\n",
       "      <td id=\"T_8831a_row37_col0\" class=\"data row37 col0\" >Numeric Binning</td>\n",
       "      <td id=\"T_8831a_row37_col1\" class=\"data row37 col1\" >False</td>\n",
       "    </tr>\n",
       "    <tr>\n",
       "      <th id=\"T_8831a_level0_row38\" class=\"row_heading level0 row38\" >38</th>\n",
       "      <td id=\"T_8831a_row38_col0\" class=\"data row38 col0\" >Remove Outliers</td>\n",
       "      <td id=\"T_8831a_row38_col1\" class=\"data row38 col1\" >False</td>\n",
       "    </tr>\n",
       "    <tr>\n",
       "      <th id=\"T_8831a_level0_row39\" class=\"row_heading level0 row39\" >39</th>\n",
       "      <td id=\"T_8831a_row39_col0\" class=\"data row39 col0\" >Outliers Threshold</td>\n",
       "      <td id=\"T_8831a_row39_col1\" class=\"data row39 col1\" >None</td>\n",
       "    </tr>\n",
       "    <tr>\n",
       "      <th id=\"T_8831a_level0_row40\" class=\"row_heading level0 row40\" >40</th>\n",
       "      <td id=\"T_8831a_row40_col0\" class=\"data row40 col0\" >Remove Multicollinearity</td>\n",
       "      <td id=\"T_8831a_row40_col1\" class=\"data row40 col1\" >False</td>\n",
       "    </tr>\n",
       "    <tr>\n",
       "      <th id=\"T_8831a_level0_row41\" class=\"row_heading level0 row41\" >41</th>\n",
       "      <td id=\"T_8831a_row41_col0\" class=\"data row41 col0\" >Multicollinearity Threshold</td>\n",
       "      <td id=\"T_8831a_row41_col1\" class=\"data row41 col1\" >None</td>\n",
       "    </tr>\n",
       "    <tr>\n",
       "      <th id=\"T_8831a_level0_row42\" class=\"row_heading level0 row42\" >42</th>\n",
       "      <td id=\"T_8831a_row42_col0\" class=\"data row42 col0\" >Remove Perfect Collinearity</td>\n",
       "      <td id=\"T_8831a_row42_col1\" class=\"data row42 col1\" >True</td>\n",
       "    </tr>\n",
       "    <tr>\n",
       "      <th id=\"T_8831a_level0_row43\" class=\"row_heading level0 row43\" >43</th>\n",
       "      <td id=\"T_8831a_row43_col0\" class=\"data row43 col0\" >Clustering</td>\n",
       "      <td id=\"T_8831a_row43_col1\" class=\"data row43 col1\" >False</td>\n",
       "    </tr>\n",
       "    <tr>\n",
       "      <th id=\"T_8831a_level0_row44\" class=\"row_heading level0 row44\" >44</th>\n",
       "      <td id=\"T_8831a_row44_col0\" class=\"data row44 col0\" >Clustering Iteration</td>\n",
       "      <td id=\"T_8831a_row44_col1\" class=\"data row44 col1\" >None</td>\n",
       "    </tr>\n",
       "    <tr>\n",
       "      <th id=\"T_8831a_level0_row45\" class=\"row_heading level0 row45\" >45</th>\n",
       "      <td id=\"T_8831a_row45_col0\" class=\"data row45 col0\" >Polynomial Features</td>\n",
       "      <td id=\"T_8831a_row45_col1\" class=\"data row45 col1\" >False</td>\n",
       "    </tr>\n",
       "    <tr>\n",
       "      <th id=\"T_8831a_level0_row46\" class=\"row_heading level0 row46\" >46</th>\n",
       "      <td id=\"T_8831a_row46_col0\" class=\"data row46 col0\" >Polynomial Degree</td>\n",
       "      <td id=\"T_8831a_row46_col1\" class=\"data row46 col1\" >None</td>\n",
       "    </tr>\n",
       "    <tr>\n",
       "      <th id=\"T_8831a_level0_row47\" class=\"row_heading level0 row47\" >47</th>\n",
       "      <td id=\"T_8831a_row47_col0\" class=\"data row47 col0\" >Trignometry Features</td>\n",
       "      <td id=\"T_8831a_row47_col1\" class=\"data row47 col1\" >False</td>\n",
       "    </tr>\n",
       "    <tr>\n",
       "      <th id=\"T_8831a_level0_row48\" class=\"row_heading level0 row48\" >48</th>\n",
       "      <td id=\"T_8831a_row48_col0\" class=\"data row48 col0\" >Polynomial Threshold</td>\n",
       "      <td id=\"T_8831a_row48_col1\" class=\"data row48 col1\" >None</td>\n",
       "    </tr>\n",
       "    <tr>\n",
       "      <th id=\"T_8831a_level0_row49\" class=\"row_heading level0 row49\" >49</th>\n",
       "      <td id=\"T_8831a_row49_col0\" class=\"data row49 col0\" >Group Features</td>\n",
       "      <td id=\"T_8831a_row49_col1\" class=\"data row49 col1\" >False</td>\n",
       "    </tr>\n",
       "    <tr>\n",
       "      <th id=\"T_8831a_level0_row50\" class=\"row_heading level0 row50\" >50</th>\n",
       "      <td id=\"T_8831a_row50_col0\" class=\"data row50 col0\" >Feature Selection</td>\n",
       "      <td id=\"T_8831a_row50_col1\" class=\"data row50 col1\" >False</td>\n",
       "    </tr>\n",
       "    <tr>\n",
       "      <th id=\"T_8831a_level0_row51\" class=\"row_heading level0 row51\" >51</th>\n",
       "      <td id=\"T_8831a_row51_col0\" class=\"data row51 col0\" >Feature Selection Method</td>\n",
       "      <td id=\"T_8831a_row51_col1\" class=\"data row51 col1\" >classic</td>\n",
       "    </tr>\n",
       "    <tr>\n",
       "      <th id=\"T_8831a_level0_row52\" class=\"row_heading level0 row52\" >52</th>\n",
       "      <td id=\"T_8831a_row52_col0\" class=\"data row52 col0\" >Features Selection Threshold</td>\n",
       "      <td id=\"T_8831a_row52_col1\" class=\"data row52 col1\" >None</td>\n",
       "    </tr>\n",
       "    <tr>\n",
       "      <th id=\"T_8831a_level0_row53\" class=\"row_heading level0 row53\" >53</th>\n",
       "      <td id=\"T_8831a_row53_col0\" class=\"data row53 col0\" >Feature Interaction</td>\n",
       "      <td id=\"T_8831a_row53_col1\" class=\"data row53 col1\" >False</td>\n",
       "    </tr>\n",
       "    <tr>\n",
       "      <th id=\"T_8831a_level0_row54\" class=\"row_heading level0 row54\" >54</th>\n",
       "      <td id=\"T_8831a_row54_col0\" class=\"data row54 col0\" >Feature Ratio</td>\n",
       "      <td id=\"T_8831a_row54_col1\" class=\"data row54 col1\" >False</td>\n",
       "    </tr>\n",
       "    <tr>\n",
       "      <th id=\"T_8831a_level0_row55\" class=\"row_heading level0 row55\" >55</th>\n",
       "      <td id=\"T_8831a_row55_col0\" class=\"data row55 col0\" >Interaction Threshold</td>\n",
       "      <td id=\"T_8831a_row55_col1\" class=\"data row55 col1\" >None</td>\n",
       "    </tr>\n",
       "    <tr>\n",
       "      <th id=\"T_8831a_level0_row56\" class=\"row_heading level0 row56\" >56</th>\n",
       "      <td id=\"T_8831a_row56_col0\" class=\"data row56 col0\" >Transform Target</td>\n",
       "      <td id=\"T_8831a_row56_col1\" class=\"data row56 col1\" >False</td>\n",
       "    </tr>\n",
       "    <tr>\n",
       "      <th id=\"T_8831a_level0_row57\" class=\"row_heading level0 row57\" >57</th>\n",
       "      <td id=\"T_8831a_row57_col0\" class=\"data row57 col0\" >Transform Target Method</td>\n",
       "      <td id=\"T_8831a_row57_col1\" class=\"data row57 col1\" >box-cox</td>\n",
       "    </tr>\n",
       "  </tbody>\n",
       "</table>\n"
      ],
      "text/plain": [
       "<pandas.io.formats.style.Styler at 0x1fcb15ebe80>"
      ]
     },
     "metadata": {},
     "output_type": "display_data"
    }
   ],
   "source": [
    "exp_reg = setup(data=df_train, target='SalePrice', train_size=0.9)"
   ]
  },
  {
   "cell_type": "code",
   "execution_count": 28,
   "id": "2b004ef3",
   "metadata": {
    "ExecuteTime": {
     "end_time": "2022-07-30T02:25:32.334506Z",
     "start_time": "2022-07-30T02:25:17.038453Z"
    }
   },
   "outputs": [
    {
     "data": {
      "text/html": [
       "<style type=\"text/css\">\n",
       "#T_72fca th {\n",
       "  text-align: left;\n",
       "}\n",
       "#T_72fca_row0_col0, #T_72fca_row0_col5, #T_72fca_row0_col6, #T_72fca_row1_col0, #T_72fca_row1_col1, #T_72fca_row1_col2, #T_72fca_row1_col3, #T_72fca_row1_col4, #T_72fca_row2_col0, #T_72fca_row2_col1, #T_72fca_row2_col2, #T_72fca_row2_col3, #T_72fca_row2_col4, #T_72fca_row2_col5, #T_72fca_row2_col6, #T_72fca_row3_col0, #T_72fca_row3_col1, #T_72fca_row3_col2, #T_72fca_row3_col3, #T_72fca_row3_col4, #T_72fca_row3_col5, #T_72fca_row3_col6, #T_72fca_row4_col0, #T_72fca_row4_col1, #T_72fca_row4_col2, #T_72fca_row4_col3, #T_72fca_row4_col4, #T_72fca_row4_col5, #T_72fca_row4_col6, #T_72fca_row5_col0, #T_72fca_row5_col1, #T_72fca_row5_col2, #T_72fca_row5_col3, #T_72fca_row5_col4, #T_72fca_row5_col5, #T_72fca_row5_col6, #T_72fca_row6_col0, #T_72fca_row6_col1, #T_72fca_row6_col2, #T_72fca_row6_col3, #T_72fca_row6_col4, #T_72fca_row6_col5, #T_72fca_row6_col6, #T_72fca_row7_col0, #T_72fca_row7_col1, #T_72fca_row7_col2, #T_72fca_row7_col3, #T_72fca_row7_col4, #T_72fca_row7_col5, #T_72fca_row7_col6, #T_72fca_row8_col0, #T_72fca_row8_col1, #T_72fca_row8_col2, #T_72fca_row8_col3, #T_72fca_row8_col4, #T_72fca_row8_col5, #T_72fca_row8_col6, #T_72fca_row9_col0, #T_72fca_row9_col1, #T_72fca_row9_col2, #T_72fca_row9_col3, #T_72fca_row9_col4, #T_72fca_row9_col5, #T_72fca_row9_col6, #T_72fca_row10_col0, #T_72fca_row10_col1, #T_72fca_row10_col2, #T_72fca_row10_col3, #T_72fca_row10_col4, #T_72fca_row10_col5, #T_72fca_row10_col6, #T_72fca_row11_col0, #T_72fca_row11_col1, #T_72fca_row11_col2, #T_72fca_row11_col3, #T_72fca_row11_col4, #T_72fca_row11_col5, #T_72fca_row11_col6, #T_72fca_row12_col0, #T_72fca_row12_col1, #T_72fca_row12_col2, #T_72fca_row12_col3, #T_72fca_row12_col4, #T_72fca_row12_col5, #T_72fca_row12_col6, #T_72fca_row13_col0, #T_72fca_row13_col1, #T_72fca_row13_col2, #T_72fca_row13_col3, #T_72fca_row13_col4, #T_72fca_row13_col5, #T_72fca_row13_col6, #T_72fca_row14_col0, #T_72fca_row14_col1, #T_72fca_row14_col2, #T_72fca_row14_col3, #T_72fca_row14_col4, #T_72fca_row14_col5, #T_72fca_row14_col6, #T_72fca_row15_col0, #T_72fca_row15_col1, #T_72fca_row15_col2, #T_72fca_row15_col3, #T_72fca_row15_col4, #T_72fca_row15_col5, #T_72fca_row15_col6, #T_72fca_row16_col0, #T_72fca_row16_col1, #T_72fca_row16_col2, #T_72fca_row16_col3, #T_72fca_row16_col4, #T_72fca_row16_col5, #T_72fca_row16_col6, #T_72fca_row17_col0, #T_72fca_row17_col1, #T_72fca_row17_col2, #T_72fca_row17_col3, #T_72fca_row17_col4, #T_72fca_row17_col5, #T_72fca_row17_col6 {\n",
       "  text-align: left;\n",
       "}\n",
       "#T_72fca_row0_col1, #T_72fca_row0_col2, #T_72fca_row0_col3, #T_72fca_row0_col4, #T_72fca_row1_col5, #T_72fca_row1_col6 {\n",
       "  text-align: left;\n",
       "  background-color: yellow;\n",
       "}\n",
       "#T_72fca_row0_col7, #T_72fca_row1_col7, #T_72fca_row2_col7, #T_72fca_row3_col7, #T_72fca_row4_col7, #T_72fca_row5_col7, #T_72fca_row6_col7, #T_72fca_row7_col7, #T_72fca_row8_col7, #T_72fca_row9_col7, #T_72fca_row10_col7, #T_72fca_row11_col7, #T_72fca_row12_col7, #T_72fca_row13_col7, #T_72fca_row14_col7, #T_72fca_row15_col7, #T_72fca_row17_col7 {\n",
       "  text-align: left;\n",
       "  background-color: lightgrey;\n",
       "}\n",
       "#T_72fca_row16_col7 {\n",
       "  text-align: left;\n",
       "  background-color: yellow;\n",
       "  background-color: lightgrey;\n",
       "}\n",
       "</style>\n",
       "<table id=\"T_72fca\">\n",
       "  <thead>\n",
       "    <tr>\n",
       "      <th class=\"blank level0\" >&nbsp;</th>\n",
       "      <th id=\"T_72fca_level0_col0\" class=\"col_heading level0 col0\" >Model</th>\n",
       "      <th id=\"T_72fca_level0_col1\" class=\"col_heading level0 col1\" >MAE</th>\n",
       "      <th id=\"T_72fca_level0_col2\" class=\"col_heading level0 col2\" >MSE</th>\n",
       "      <th id=\"T_72fca_level0_col3\" class=\"col_heading level0 col3\" >RMSE</th>\n",
       "      <th id=\"T_72fca_level0_col4\" class=\"col_heading level0 col4\" >R2</th>\n",
       "      <th id=\"T_72fca_level0_col5\" class=\"col_heading level0 col5\" >RMSLE</th>\n",
       "      <th id=\"T_72fca_level0_col6\" class=\"col_heading level0 col6\" >MAPE</th>\n",
       "      <th id=\"T_72fca_level0_col7\" class=\"col_heading level0 col7\" >TT (Sec)</th>\n",
       "    </tr>\n",
       "  </thead>\n",
       "  <tbody>\n",
       "    <tr>\n",
       "      <th id=\"T_72fca_level0_row0\" class=\"row_heading level0 row0\" >gbr</th>\n",
       "      <td id=\"T_72fca_row0_col0\" class=\"data row0 col0\" >Gradient Boosting Regressor</td>\n",
       "      <td id=\"T_72fca_row0_col1\" class=\"data row0 col1\" >17990.9150</td>\n",
       "      <td id=\"T_72fca_row0_col2\" class=\"data row0 col2\" >795773427.2580</td>\n",
       "      <td id=\"T_72fca_row0_col3\" class=\"data row0 col3\" >27888.0044</td>\n",
       "      <td id=\"T_72fca_row0_col4\" class=\"data row0 col4\" >0.8740</td>\n",
       "      <td id=\"T_72fca_row0_col5\" class=\"data row0 col5\" >0.1456</td>\n",
       "      <td id=\"T_72fca_row0_col6\" class=\"data row0 col6\" >0.1063</td>\n",
       "      <td id=\"T_72fca_row0_col7\" class=\"data row0 col7\" >0.1150</td>\n",
       "    </tr>\n",
       "    <tr>\n",
       "      <th id=\"T_72fca_level0_row1\" class=\"row_heading level0 row1\" >lightgbm</th>\n",
       "      <td id=\"T_72fca_row1_col0\" class=\"data row1 col0\" >Light Gradient Boosting Machine</td>\n",
       "      <td id=\"T_72fca_row1_col1\" class=\"data row1 col1\" >18040.2651</td>\n",
       "      <td id=\"T_72fca_row1_col2\" class=\"data row1 col2\" >835277786.1085</td>\n",
       "      <td id=\"T_72fca_row1_col3\" class=\"data row1 col3\" >28691.5013</td>\n",
       "      <td id=\"T_72fca_row1_col4\" class=\"data row1 col4\" >0.8686</td>\n",
       "      <td id=\"T_72fca_row1_col5\" class=\"data row1 col5\" >0.1448</td>\n",
       "      <td id=\"T_72fca_row1_col6\" class=\"data row1 col6\" >0.1052</td>\n",
       "      <td id=\"T_72fca_row1_col7\" class=\"data row1 col7\" >0.0320</td>\n",
       "    </tr>\n",
       "    <tr>\n",
       "      <th id=\"T_72fca_level0_row2\" class=\"row_heading level0 row2\" >rf</th>\n",
       "      <td id=\"T_72fca_row2_col0\" class=\"data row2 col0\" >Random Forest Regressor</td>\n",
       "      <td id=\"T_72fca_row2_col1\" class=\"data row2 col1\" >18468.1801</td>\n",
       "      <td id=\"T_72fca_row2_col2\" class=\"data row2 col2\" >845865865.7120</td>\n",
       "      <td id=\"T_72fca_row2_col3\" class=\"data row2 col3\" >29028.9726</td>\n",
       "      <td id=\"T_72fca_row2_col4\" class=\"data row2 col4\" >0.8646</td>\n",
       "      <td id=\"T_72fca_row2_col5\" class=\"data row2 col5\" >0.1526</td>\n",
       "      <td id=\"T_72fca_row2_col6\" class=\"data row2 col6\" >0.1099</td>\n",
       "      <td id=\"T_72fca_row2_col7\" class=\"data row2 col7\" >0.2590</td>\n",
       "    </tr>\n",
       "    <tr>\n",
       "      <th id=\"T_72fca_level0_row3\" class=\"row_heading level0 row3\" >et</th>\n",
       "      <td id=\"T_72fca_row3_col0\" class=\"data row3 col0\" >Extra Trees Regressor</td>\n",
       "      <td id=\"T_72fca_row3_col1\" class=\"data row3 col1\" >20531.1825</td>\n",
       "      <td id=\"T_72fca_row3_col2\" class=\"data row3 col2\" >968637666.8820</td>\n",
       "      <td id=\"T_72fca_row3_col3\" class=\"data row3 col3\" >31016.9828</td>\n",
       "      <td id=\"T_72fca_row3_col4\" class=\"data row3 col4\" >0.8450</td>\n",
       "      <td id=\"T_72fca_row3_col5\" class=\"data row3 col5\" >0.1632</td>\n",
       "      <td id=\"T_72fca_row3_col6\" class=\"data row3 col6\" >0.1192</td>\n",
       "      <td id=\"T_72fca_row3_col7\" class=\"data row3 col7\" >0.2400</td>\n",
       "    </tr>\n",
       "    <tr>\n",
       "      <th id=\"T_72fca_level0_row4\" class=\"row_heading level0 row4\" >llar</th>\n",
       "      <td id=\"T_72fca_row4_col0\" class=\"data row4 col0\" >Lasso Least Angle Regression</td>\n",
       "      <td id=\"T_72fca_row4_col1\" class=\"data row4 col1\" >18339.9246</td>\n",
       "      <td id=\"T_72fca_row4_col2\" class=\"data row4 col2\" >1054356505.3302</td>\n",
       "      <td id=\"T_72fca_row4_col3\" class=\"data row4 col3\" >30115.3314</td>\n",
       "      <td id=\"T_72fca_row4_col4\" class=\"data row4 col4\" >0.8388</td>\n",
       "      <td id=\"T_72fca_row4_col5\" class=\"data row4 col5\" >0.1579</td>\n",
       "      <td id=\"T_72fca_row4_col6\" class=\"data row4 col6\" >0.1103</td>\n",
       "      <td id=\"T_72fca_row4_col7\" class=\"data row4 col7\" >0.0110</td>\n",
       "    </tr>\n",
       "    <tr>\n",
       "      <th id=\"T_72fca_level0_row5\" class=\"row_heading level0 row5\" >lasso</th>\n",
       "      <td id=\"T_72fca_row5_col0\" class=\"data row5 col0\" >Lasso Regression</td>\n",
       "      <td id=\"T_72fca_row5_col1\" class=\"data row5 col1\" >18470.9170</td>\n",
       "      <td id=\"T_72fca_row5_col2\" class=\"data row5 col2\" >1072312209.9145</td>\n",
       "      <td id=\"T_72fca_row5_col3\" class=\"data row5 col3\" >30345.5994</td>\n",
       "      <td id=\"T_72fca_row5_col4\" class=\"data row5 col4\" >0.8360</td>\n",
       "      <td id=\"T_72fca_row5_col5\" class=\"data row5 col5\" >0.1583</td>\n",
       "      <td id=\"T_72fca_row5_col6\" class=\"data row5 col6\" >0.1112</td>\n",
       "      <td id=\"T_72fca_row5_col7\" class=\"data row5 col7\" >0.0570</td>\n",
       "    </tr>\n",
       "    <tr>\n",
       "      <th id=\"T_72fca_level0_row6\" class=\"row_heading level0 row6\" >ridge</th>\n",
       "      <td id=\"T_72fca_row6_col0\" class=\"data row6 col0\" >Ridge Regression</td>\n",
       "      <td id=\"T_72fca_row6_col1\" class=\"data row6 col1\" >18677.7573</td>\n",
       "      <td id=\"T_72fca_row6_col2\" class=\"data row6 col2\" >1126252023.4596</td>\n",
       "      <td id=\"T_72fca_row6_col3\" class=\"data row6 col3\" >31335.1482</td>\n",
       "      <td id=\"T_72fca_row6_col4\" class=\"data row6 col4\" >0.8283</td>\n",
       "      <td id=\"T_72fca_row6_col5\" class=\"data row6 col5\" >0.1556</td>\n",
       "      <td id=\"T_72fca_row6_col6\" class=\"data row6 col6\" >0.1103</td>\n",
       "      <td id=\"T_72fca_row6_col7\" class=\"data row6 col7\" >0.0070</td>\n",
       "    </tr>\n",
       "    <tr>\n",
       "      <th id=\"T_72fca_level0_row7\" class=\"row_heading level0 row7\" >lr</th>\n",
       "      <td id=\"T_72fca_row7_col0\" class=\"data row7 col0\" >Linear Regression</td>\n",
       "      <td id=\"T_72fca_row7_col1\" class=\"data row7 col1\" >18736.1766</td>\n",
       "      <td id=\"T_72fca_row7_col2\" class=\"data row7 col2\" >1162006667.3430</td>\n",
       "      <td id=\"T_72fca_row7_col3\" class=\"data row7 col3\" >31721.4391</td>\n",
       "      <td id=\"T_72fca_row7_col4\" class=\"data row7 col4\" >0.8230</td>\n",
       "      <td id=\"T_72fca_row7_col5\" class=\"data row7 col5\" >0.1801</td>\n",
       "      <td id=\"T_72fca_row7_col6\" class=\"data row7 col6\" >0.1126</td>\n",
       "      <td id=\"T_72fca_row7_col7\" class=\"data row7 col7\" >0.0090</td>\n",
       "    </tr>\n",
       "    <tr>\n",
       "      <th id=\"T_72fca_level0_row8\" class=\"row_heading level0 row8\" >omp</th>\n",
       "      <td id=\"T_72fca_row8_col0\" class=\"data row8 col0\" >Orthogonal Matching Pursuit</td>\n",
       "      <td id=\"T_72fca_row8_col1\" class=\"data row8 col1\" >20031.7531</td>\n",
       "      <td id=\"T_72fca_row8_col2\" class=\"data row8 col2\" >1181232263.7378</td>\n",
       "      <td id=\"T_72fca_row8_col3\" class=\"data row8 col3\" >31939.4635</td>\n",
       "      <td id=\"T_72fca_row8_col4\" class=\"data row8 col4\" >0.8195</td>\n",
       "      <td id=\"T_72fca_row8_col5\" class=\"data row8 col5\" >0.1640</td>\n",
       "      <td id=\"T_72fca_row8_col6\" class=\"data row8 col6\" >0.1217</td>\n",
       "      <td id=\"T_72fca_row8_col7\" class=\"data row8 col7\" >0.0060</td>\n",
       "    </tr>\n",
       "    <tr>\n",
       "      <th id=\"T_72fca_level0_row9\" class=\"row_heading level0 row9\" >ada</th>\n",
       "      <td id=\"T_72fca_row9_col0\" class=\"data row9 col0\" >AdaBoost Regressor</td>\n",
       "      <td id=\"T_72fca_row9_col1\" class=\"data row9 col1\" >25387.7912</td>\n",
       "      <td id=\"T_72fca_row9_col2\" class=\"data row9 col2\" >1358577513.2004</td>\n",
       "      <td id=\"T_72fca_row9_col3\" class=\"data row9 col3\" >36467.2813</td>\n",
       "      <td id=\"T_72fca_row9_col4\" class=\"data row9 col4\" >0.7872</td>\n",
       "      <td id=\"T_72fca_row9_col5\" class=\"data row9 col5\" >0.2085</td>\n",
       "      <td id=\"T_72fca_row9_col6\" class=\"data row9 col6\" >0.1682</td>\n",
       "      <td id=\"T_72fca_row9_col7\" class=\"data row9 col7\" >0.0800</td>\n",
       "    </tr>\n",
       "    <tr>\n",
       "      <th id=\"T_72fca_level0_row10\" class=\"row_heading level0 row10\" >en</th>\n",
       "      <td id=\"T_72fca_row10_col0\" class=\"data row10 col0\" >Elastic Net</td>\n",
       "      <td id=\"T_72fca_row10_col1\" class=\"data row10 col1\" >22571.2683</td>\n",
       "      <td id=\"T_72fca_row10_col2\" class=\"data row10 col2\" >1541395381.0178</td>\n",
       "      <td id=\"T_72fca_row10_col3\" class=\"data row10 col3\" >37016.9038</td>\n",
       "      <td id=\"T_72fca_row10_col4\" class=\"data row10 col4\" >0.7662</td>\n",
       "      <td id=\"T_72fca_row10_col5\" class=\"data row10 col5\" >0.1803</td>\n",
       "      <td id=\"T_72fca_row10_col6\" class=\"data row10 col6\" >0.1330</td>\n",
       "      <td id=\"T_72fca_row10_col7\" class=\"data row10 col7\" >0.0540</td>\n",
       "    </tr>\n",
       "    <tr>\n",
       "      <th id=\"T_72fca_level0_row11\" class=\"row_heading level0 row11\" >dt</th>\n",
       "      <td id=\"T_72fca_row11_col0\" class=\"data row11 col0\" >Decision Tree Regressor</td>\n",
       "      <td id=\"T_72fca_row11_col1\" class=\"data row11 col1\" >26641.6286</td>\n",
       "      <td id=\"T_72fca_row11_col2\" class=\"data row11 col2\" >1587489955.1863</td>\n",
       "      <td id=\"T_72fca_row11_col3\" class=\"data row11 col3\" >39540.9083</td>\n",
       "      <td id=\"T_72fca_row11_col4\" class=\"data row11 col4\" >0.7487</td>\n",
       "      <td id=\"T_72fca_row11_col5\" class=\"data row11 col5\" >0.2098</td>\n",
       "      <td id=\"T_72fca_row11_col6\" class=\"data row11 col6\" >0.1551</td>\n",
       "      <td id=\"T_72fca_row11_col7\" class=\"data row11 col7\" >0.0100</td>\n",
       "    </tr>\n",
       "    <tr>\n",
       "      <th id=\"T_72fca_level0_row12\" class=\"row_heading level0 row12\" >br</th>\n",
       "      <td id=\"T_72fca_row12_col0\" class=\"data row12 col0\" >Bayesian Ridge</td>\n",
       "      <td id=\"T_72fca_row12_col1\" class=\"data row12 col1\" >24159.8071</td>\n",
       "      <td id=\"T_72fca_row12_col2\" class=\"data row12 col2\" >1700245803.2570</td>\n",
       "      <td id=\"T_72fca_row12_col3\" class=\"data row12 col3\" >39057.2814</td>\n",
       "      <td id=\"T_72fca_row12_col4\" class=\"data row12 col4\" >0.7418</td>\n",
       "      <td id=\"T_72fca_row12_col5\" class=\"data row12 col5\" >0.1930</td>\n",
       "      <td id=\"T_72fca_row12_col6\" class=\"data row12 col6\" >0.1417</td>\n",
       "      <td id=\"T_72fca_row12_col7\" class=\"data row12 col7\" >0.0110</td>\n",
       "    </tr>\n",
       "    <tr>\n",
       "      <th id=\"T_72fca_level0_row13\" class=\"row_heading level0 row13\" >huber</th>\n",
       "      <td id=\"T_72fca_row13_col0\" class=\"data row13 col0\" >Huber Regressor</td>\n",
       "      <td id=\"T_72fca_row13_col1\" class=\"data row13 col1\" >25011.7324</td>\n",
       "      <td id=\"T_72fca_row13_col2\" class=\"data row13 col2\" >1745118001.5781</td>\n",
       "      <td id=\"T_72fca_row13_col3\" class=\"data row13 col3\" >39825.1027</td>\n",
       "      <td id=\"T_72fca_row13_col4\" class=\"data row13 col4\" >0.7341</td>\n",
       "      <td id=\"T_72fca_row13_col5\" class=\"data row13 col5\" >0.1971</td>\n",
       "      <td id=\"T_72fca_row13_col6\" class=\"data row13 col6\" >0.1475</td>\n",
       "      <td id=\"T_72fca_row13_col7\" class=\"data row13 col7\" >0.0590</td>\n",
       "    </tr>\n",
       "    <tr>\n",
       "      <th id=\"T_72fca_level0_row14\" class=\"row_heading level0 row14\" >knn</th>\n",
       "      <td id=\"T_72fca_row14_col0\" class=\"data row14 col0\" >K Neighbors Regressor</td>\n",
       "      <td id=\"T_72fca_row14_col1\" class=\"data row14 col1\" >29327.2841</td>\n",
       "      <td id=\"T_72fca_row14_col2\" class=\"data row14 col2\" >2227362550.9944</td>\n",
       "      <td id=\"T_72fca_row14_col3\" class=\"data row14 col3\" >46794.7192</td>\n",
       "      <td id=\"T_72fca_row14_col4\" class=\"data row14 col4\" >0.6553</td>\n",
       "      <td id=\"T_72fca_row14_col5\" class=\"data row14 col5\" >0.2240</td>\n",
       "      <td id=\"T_72fca_row14_col6\" class=\"data row14 col6\" >0.1707</td>\n",
       "      <td id=\"T_72fca_row14_col7\" class=\"data row14 col7\" >0.0100</td>\n",
       "    </tr>\n",
       "    <tr>\n",
       "      <th id=\"T_72fca_level0_row15\" class=\"row_heading level0 row15\" >par</th>\n",
       "      <td id=\"T_72fca_row15_col0\" class=\"data row15 col0\" >Passive Aggressive Regressor</td>\n",
       "      <td id=\"T_72fca_row15_col1\" class=\"data row15 col1\" >41991.7029</td>\n",
       "      <td id=\"T_72fca_row15_col2\" class=\"data row15 col2\" >3562429918.0238</td>\n",
       "      <td id=\"T_72fca_row15_col3\" class=\"data row15 col3\" >58694.6987</td>\n",
       "      <td id=\"T_72fca_row15_col4\" class=\"data row15 col4\" >0.4333</td>\n",
       "      <td id=\"T_72fca_row15_col5\" class=\"data row15 col5\" >0.2979</td>\n",
       "      <td id=\"T_72fca_row15_col6\" class=\"data row15 col6\" >0.2529</td>\n",
       "      <td id=\"T_72fca_row15_col7\" class=\"data row15 col7\" >0.0080</td>\n",
       "    </tr>\n",
       "    <tr>\n",
       "      <th id=\"T_72fca_level0_row16\" class=\"row_heading level0 row16\" >dummy</th>\n",
       "      <td id=\"T_72fca_row16_col0\" class=\"data row16 col0\" >Dummy Regressor</td>\n",
       "      <td id=\"T_72fca_row16_col1\" class=\"data row16 col1\" >58194.8170</td>\n",
       "      <td id=\"T_72fca_row16_col2\" class=\"data row16 col2\" >6421582734.6232</td>\n",
       "      <td id=\"T_72fca_row16_col3\" class=\"data row16 col3\" >79947.4105</td>\n",
       "      <td id=\"T_72fca_row16_col4\" class=\"data row16 col4\" >-0.0024</td>\n",
       "      <td id=\"T_72fca_row16_col5\" class=\"data row16 col5\" >0.4110</td>\n",
       "      <td id=\"T_72fca_row16_col6\" class=\"data row16 col6\" >0.3689</td>\n",
       "      <td id=\"T_72fca_row16_col7\" class=\"data row16 col7\" >0.0050</td>\n",
       "    </tr>\n",
       "    <tr>\n",
       "      <th id=\"T_72fca_level0_row17\" class=\"row_heading level0 row17\" >lar</th>\n",
       "      <td id=\"T_72fca_row17_col0\" class=\"data row17 col0\" >Least Angle Regression</td>\n",
       "      <td id=\"T_72fca_row17_col1\" class=\"data row17 col1\" >3087503131449747908327610319803623512473600.0000</td>\n",
       "      <td id=\"T_72fca_row17_col2\" class=\"data row17 col2\" >4683491110029056616732279201556194498295422857224633488624327320447621824706570474225664.0000</td>\n",
       "      <td id=\"T_72fca_row17_col3\" class=\"data row17 col3\" >21641374979490226187835553670029949253189632.0000</td>\n",
       "      <td id=\"T_72fca_row17_col4\" class=\"data row17 col4\" >-815708830241722870415051244291036178802694276121329089257166838006091131912192.0000</td>\n",
       "      <td id=\"T_72fca_row17_col5\" class=\"data row17 col5\" >9.0468</td>\n",
       "      <td id=\"T_72fca_row17_col6\" class=\"data row17 col6\" >10910784423639676700281953170669699072.0000</td>\n",
       "      <td id=\"T_72fca_row17_col7\" class=\"data row17 col7\" >0.0180</td>\n",
       "    </tr>\n",
       "  </tbody>\n",
       "</table>\n"
      ],
      "text/plain": [
       "<pandas.io.formats.style.Styler at 0x1fcb7150fd0>"
      ]
     },
     "metadata": {},
     "output_type": "display_data"
    }
   ],
   "source": [
    "best = compare_models();"
   ]
  },
  {
   "cell_type": "code",
   "execution_count": 33,
   "id": "5489aba1",
   "metadata": {
    "ExecuteTime": {
     "end_time": "2022-07-30T02:33:47.641000Z",
     "start_time": "2022-07-30T02:33:47.425127Z"
    }
   },
   "outputs": [
    {
     "data": {
      "text/plain": [
       "GradientBoostingRegressor(alpha=0.9, ccp_alpha=0.0, criterion='friedman_mse',\n",
       "                          init=None, learning_rate=0.1, loss='ls', max_depth=3,\n",
       "                          max_features=None, max_leaf_nodes=None,\n",
       "                          min_impurity_decrease=0.0, min_impurity_split=None,\n",
       "                          min_samples_leaf=1, min_samples_split=2,\n",
       "                          min_weight_fraction_leaf=0.0, n_estimators=100,\n",
       "                          n_iter_no_change=None, presort='deprecated',\n",
       "                          random_state=7702, subsample=1.0, tol=0.0001,\n",
       "                          validation_fraction=0.1, verbose=0, warm_start=False)"
      ]
     },
     "execution_count": 33,
     "metadata": {},
     "output_type": "execute_result"
    }
   ],
   "source": [
    "best"
   ]
  },
  {
   "cell_type": "markdown",
   "id": "68935532",
   "metadata": {},
   "source": [
    "# 8th experiment: Gradient Boosting Regressor\n",
    "\n",
    "## Importing data"
   ]
  },
  {
   "cell_type": "code",
   "execution_count": 6,
   "id": "877d5852",
   "metadata": {
    "ExecuteTime": {
     "end_time": "2022-07-30T03:01:20.014432Z",
     "start_time": "2022-07-30T03:01:19.827024Z"
    }
   },
   "outputs": [],
   "source": [
    "X_train = pd.read_parquet(INTERIM_FOLDER + 'X_train_3rd_dataprep.pqt')\n",
    "X_test = pd.read_parquet(INTERIM_FOLDER + 'X_test_3rd_dataprep.pqt')\n",
    "y_train = pd.read_parquet(INTERIM_FOLDER + 'y_train_3rd_dataprep.pqt')\n",
    "y_test = pd.read_parquet(INTERIM_FOLDER + 'y_test_3rd_dataprep.pqt')\n",
    "\n",
    "df_train = pd.concat([X_train, y_train], axis=1)\n",
    "df_temp = pd.concat([X_test, y_test], axis=1)\n",
    "df_train = pd.concat([df_train, df_temp], axis=0)\n",
    "\n",
    "x_test_kaggle = pd.read_parquet(INTERIM_FOLDER + 'x_test_kaggle_3rd_dataprep.pqt')"
   ]
  },
  {
   "cell_type": "markdown",
   "id": "9771a456",
   "metadata": {},
   "source": [
    "## Modeling and evaluation"
   ]
  },
  {
   "cell_type": "code",
   "execution_count": 24,
   "id": "139b293f",
   "metadata": {
    "ExecuteTime": {
     "end_time": "2022-07-30T03:10:25.815293Z",
     "start_time": "2022-07-30T03:10:25.158205Z"
    }
   },
   "outputs": [
    {
     "name": "stdout",
     "output_type": "stream",
     "text": [
      "RMSE: 30547.57\n"
     ]
    },
    {
     "data": {
      "image/png": "[encoded data removed]",
      "text/plain": [
       "<Figure size 576x432 with 1 Axes>"
      ]
     },
     "metadata": {
      "needs_background": "light"
     },
     "output_type": "display_data"
    }
   ],
   "source": [
    "model = GradientBoostingRegressor(random_state=RANDOM_STATE)\n",
    "model.fit(X_train, y_train.values)\n",
    "\n",
    "y_pred = model.predict(X_test)\n",
    "\n",
    "print(f\"RMSE: {mse(y_test, y_pred)**.5:.2f}\")\n",
    "\n",
    "df_importance = pd.DataFrame(\n",
    "    model.feature_importances_, index=model.feature_names_in_, columns=['importance']\n",
    ").sort_values(by='importance', ascending=False)\n",
    "\n",
    "\n",
    "a4_dims = (8, 6)\n",
    "fig, ax = plt.subplots(figsize=a4_dims)\n",
    "\n",
    "sns.barplot(data=df_importance, y=df_importance.index, x='importance', ax=ax);"
   ]
  },
  {
   "cell_type": "code",
   "execution_count": 25,
   "id": "9fd099f8",
   "metadata": {
    "ExecuteTime": {
     "end_time": "2022-07-30T03:10:41.328590Z",
     "start_time": "2022-07-30T03:10:41.147590Z"
    }
   },
   "outputs": [
    {
     "data": {
      "text/html": [
       "<div>\n",
       "<style scoped>\n",
       "    .dataframe tbody tr th:only-of-type {\n",
       "        vertical-align: middle;\n",
       "    }\n",
       "\n",
       "    .dataframe tbody tr th {\n",
       "        vertical-align: top;\n",
       "    }\n",
       "\n",
       "    .dataframe thead th {\n",
       "        text-align: right;\n",
       "    }\n",
       "</style>\n",
       "<table border=\"1\" class=\"dataframe\">\n",
       "  <thead>\n",
       "    <tr style=\"text-align: right;\">\n",
       "      <th></th>\n",
       "      <th>Id</th>\n",
       "      <th>SalePrice</th>\n",
       "    </tr>\n",
       "  </thead>\n",
       "  <tbody>\n",
       "    <tr>\n",
       "      <th>1321</th>\n",
       "      <td>2782</td>\n",
       "      <td>89660.648392</td>\n",
       "    </tr>\n",
       "    <tr>\n",
       "      <th>836</th>\n",
       "      <td>2297</td>\n",
       "      <td>314057.324786</td>\n",
       "    </tr>\n",
       "    <tr>\n",
       "      <th>413</th>\n",
       "      <td>1874</td>\n",
       "      <td>145223.313444</td>\n",
       "    </tr>\n",
       "    <tr>\n",
       "      <th>522</th>\n",
       "      <td>1983</td>\n",
       "      <td>223795.126394</td>\n",
       "    </tr>\n",
       "    <tr>\n",
       "      <th>1035</th>\n",
       "      <td>2496</td>\n",
       "      <td>246998.848348</td>\n",
       "    </tr>\n",
       "    <tr>\n",
       "      <th>614</th>\n",
       "      <td>2075</td>\n",
       "      <td>148300.241085</td>\n",
       "    </tr>\n",
       "    <tr>\n",
       "      <th>218</th>\n",
       "      <td>1679</td>\n",
       "      <td>359084.519096</td>\n",
       "    </tr>\n",
       "    <tr>\n",
       "      <th>1031</th>\n",
       "      <td>2492</td>\n",
       "      <td>174143.543136</td>\n",
       "    </tr>\n",
       "    <tr>\n",
       "      <th>1289</th>\n",
       "      <td>2750</td>\n",
       "      <td>144833.081490</td>\n",
       "    </tr>\n",
       "    <tr>\n",
       "      <th>886</th>\n",
       "      <td>2347</td>\n",
       "      <td>201847.795003</td>\n",
       "    </tr>\n",
       "  </tbody>\n",
       "</table>\n",
       "</div>"
      ],
      "text/plain": [
       "        Id      SalePrice\n",
       "1321  2782   89660.648392\n",
       "836   2297  314057.324786\n",
       "413   1874  145223.313444\n",
       "522   1983  223795.126394\n",
       "1035  2496  246998.848348\n",
       "614   2075  148300.241085\n",
       "218   1679  359084.519096\n",
       "1031  2492  174143.543136\n",
       "1289  2750  144833.081490\n",
       "886   2347  201847.795003"
      ]
     },
     "execution_count": 25,
     "metadata": {},
     "output_type": "execute_result"
    }
   ],
   "source": [
    "y_pred_kaggle = model.predict(x_test_kaggle)\n",
    "y_pred_kaggle = pd.DataFrame(y_pred_kaggle, index=x_test_kaggle.index, columns=['SalePrice']).reset_index()\n",
    "y_pred_kaggle.rename(columns={'index':'Id'}, inplace=True)\n",
    "\n",
    "y_pred_kaggle.to_csv(PROCESSED_FOLDER + 'y_pred_kaggle_8th_experiment.csv', index=False)\n",
    "\n",
    "y_pred_kaggle.sample(10, random_state=RANDOM_STATE)"
   ]
  },
  {
   "cell_type": "markdown",
   "id": "63a81629",
   "metadata": {},
   "source": [
    "# 9th experiment: GB Regressor using the 4th data prep"
   ]
  },
  {
   "cell_type": "code",
   "execution_count": 14,
   "id": "24dcff2f",
   "metadata": {
    "ExecuteTime": {
     "end_time": "2022-08-07T19:29:55.154846Z",
     "start_time": "2022-08-07T19:29:54.967782Z"
    }
   },
   "outputs": [],
   "source": [
    "X_train = pd.read_parquet(INTERIM_FOLDER + 'X_train_4th_dataprep.pqt')\n",
    "X_test = pd.read_parquet(INTERIM_FOLDER + 'X_test_4th_dataprep.pqt')\n",
    "y_train = pd.read_parquet(INTERIM_FOLDER + 'y_train_4th_dataprep.pqt')\n",
    "y_test = pd.read_parquet(INTERIM_FOLDER + 'y_test_4th_dataprep.pqt')\n",
    "\n",
    "df_train = pd.concat([X_train, y_train], axis=1)\n",
    "df_temp = pd.concat([X_test, y_test], axis=1)\n",
    "df_train = pd.concat([df_train, df_temp], axis=0)\n",
    "\n",
    "x_test_kaggle = pd.read_parquet(INTERIM_FOLDER + 'x_test_kaggle_4th_dataprep.pqt')"
   ]
  },
  {
   "cell_type": "markdown",
   "id": "518aafaf",
   "metadata": {},
   "source": [
    "## Modeling and evaluation"
   ]
  },
  {
   "cell_type": "code",
   "execution_count": 52,
   "id": "7212ff35",
   "metadata": {
    "ExecuteTime": {
     "end_time": "2022-08-07T20:58:16.146299Z",
     "start_time": "2022-08-07T20:58:11.909302Z"
    }
   },
   "outputs": [
    {
     "name": "stdout",
     "output_type": "stream",
     "text": [
      "RMSE: 28294.74\n"
     ]
    },
    {
     "data": {
      "image/png": "[encoded data removed]",
      "text/plain": [
       "<Figure size 576x432 with 1 Axes>"
      ]
     },
     "metadata": {
      "needs_background": "light"
     },
     "output_type": "display_data"
    }
   ],
   "source": [
    "model = GradientBoostingRegressor(n_estimators=1000, random_state=RANDOM_STATE)\n",
    "model.fit(X_train, y_train.values)\n",
    "\n",
    "y_pred = model.predict(X_test)\n",
    "\n",
    "print(f\"RMSE: {mse(y_test, y_pred)**.5:.2f}\")\n",
    "\n",
    "df_importance = pd.DataFrame(\n",
    "    model.feature_importances_, index=model.feature_names_in_, columns=['importance']\n",
    ").sort_values(by='importance', ascending=False)\n",
    "\n",
    "\n",
    "a4_dims = (8, 6)\n",
    "fig, ax = plt.subplots(figsize=a4_dims)\n",
    "\n",
    "sns.barplot(data=df_importance, y=df_importance.index, x='importance', ax=ax);"
   ]
  },
  {
   "cell_type": "markdown",
   "id": "9f4fb780",
   "metadata": {},
   "source": [
    "## Adding validation dataset to training the model"
   ]
  },
  {
   "cell_type": "code",
   "execution_count": 53,
   "id": "e1a3c55e",
   "metadata": {
    "ExecuteTime": {
     "end_time": "2022-08-07T20:58:20.511530Z",
     "start_time": "2022-08-07T20:58:16.148301Z"
    }
   },
   "outputs": [
    {
     "data": {
      "text/html": [
       "<style>#sk-container-id-6 {color: black;background-color: white;}#sk-container-id-6 pre{padding: 0;}#sk-container-id-6 div.sk-toggleable {background-color: white;}#sk-container-id-6 label.sk-toggleable__label {cursor: pointer;display: block;width: 100%;margin-bottom: 0;padding: 0.3em;box-sizing: border-box;text-align: center;}#sk-container-id-6 label.sk-toggleable__label-arrow:before {content: \"▸\";float: left;margin-right: 0.25em;color: #696969;}#sk-container-id-6 label.sk-toggleable__label-arrow:hover:before {color: black;}#sk-container-id-6 div.sk-estimator:hover label.sk-toggleable__label-arrow:before {color: black;}#sk-container-id-6 div.sk-toggleable__content {max-height: 0;max-width: 0;overflow: hidden;text-align: left;background-color: #f0f8ff;}#sk-container-id-6 div.sk-toggleable__content pre {margin: 0.2em;color: black;border-radius: 0.25em;background-color: #f0f8ff;}#sk-container-id-6 input.sk-toggleable__control:checked~div.sk-toggleable__content {max-height: 200px;max-width: 100%;overflow: auto;}#sk-container-id-6 input.sk-toggleable__control:checked~label.sk-toggleable__label-arrow:before {content: \"▾\";}#sk-container-id-6 div.sk-estimator input.sk-toggleable__control:checked~label.sk-toggleable__label {background-color: #d4ebff;}#sk-container-id-6 div.sk-label input.sk-toggleable__control:checked~label.sk-toggleable__label {background-color: #d4ebff;}#sk-container-id-6 input.sk-hidden--visually {border: 0;clip: rect(1px 1px 1px 1px);clip: rect(1px, 1px, 1px, 1px);height: 1px;margin: -1px;overflow: hidden;padding: 0;position: absolute;width: 1px;}#sk-container-id-6 div.sk-estimator {font-family: monospace;background-color: #f0f8ff;border: 1px dotted black;border-radius: 0.25em;box-sizing: border-box;margin-bottom: 0.5em;}#sk-container-id-6 div.sk-estimator:hover {background-color: #d4ebff;}#sk-container-id-6 div.sk-parallel-item::after {content: \"\";width: 100%;border-bottom: 1px solid gray;flex-grow: 1;}#sk-container-id-6 div.sk-label:hover label.sk-toggleable__label {background-color: #d4ebff;}#sk-container-id-6 div.sk-serial::before {content: \"\";position: absolute;border-left: 1px solid gray;box-sizing: border-box;top: 0;bottom: 0;left: 50%;z-index: 0;}#sk-container-id-6 div.sk-serial {display: flex;flex-direction: column;align-items: center;background-color: white;padding-right: 0.2em;padding-left: 0.2em;position: relative;}#sk-container-id-6 div.sk-item {position: relative;z-index: 1;}#sk-container-id-6 div.sk-parallel {display: flex;align-items: stretch;justify-content: center;background-color: white;position: relative;}#sk-container-id-6 div.sk-item::before, #sk-container-id-6 div.sk-parallel-item::before {content: \"\";position: absolute;border-left: 1px solid gray;box-sizing: border-box;top: 0;bottom: 0;left: 50%;z-index: -1;}#sk-container-id-6 div.sk-parallel-item {display: flex;flex-direction: column;z-index: 1;position: relative;background-color: white;}#sk-container-id-6 div.sk-parallel-item:first-child::after {align-self: flex-end;width: 50%;}#sk-container-id-6 div.sk-parallel-item:last-child::after {align-self: flex-start;width: 50%;}#sk-container-id-6 div.sk-parallel-item:only-child::after {width: 0;}#sk-container-id-6 div.sk-dashed-wrapped {border: 1px dashed gray;margin: 0 0.4em 0.5em 0.4em;box-sizing: border-box;padding-bottom: 0.4em;background-color: white;}#sk-container-id-6 div.sk-label label {font-family: monospace;font-weight: bold;display: inline-block;line-height: 1.2em;}#sk-container-id-6 div.sk-label-container {text-align: center;}#sk-container-id-6 div.sk-container {/* jupyter's `normalize.less` sets `[hidden] { display: none; }` but bootstrap.min.css set `[hidden] { display: none !important; }` so we also need the `!important` here to be able to override the default hidden behavior on the sphinx rendered scikit-learn.org. See: https://github.com/scikit-learn/scikit-learn/issues/21755 */display: inline-block !important;position: relative;}#sk-container-id-6 div.sk-text-repr-fallback {display: none;}</style><div id=\"sk-container-id-6\" class=\"sk-top-container\"><div class=\"sk-text-repr-fallback\"><pre>GradientBoostingRegressor(n_estimators=1000, random_state=42)</pre><b>In a Jupyter environment, please rerun this cell to show the HTML representation or trust the notebook. <br />On GitHub, the HTML representation is unable to render, please try loading this page with nbviewer.org.</b></div><div class=\"sk-container\" hidden><div class=\"sk-item\"><div class=\"sk-estimator sk-toggleable\"><input class=\"sk-toggleable__control sk-hidden--visually\" id=\"sk-estimator-id-6\" type=\"checkbox\" checked><label for=\"sk-estimator-id-6\" class=\"sk-toggleable__label sk-toggleable__label-arrow\">GradientBoostingRegressor</label><div class=\"sk-toggleable__content\"><pre>GradientBoostingRegressor(n_estimators=1000, random_state=42)</pre></div></div></div></div></div>"
      ],
      "text/plain": [
       "GradientBoostingRegressor(n_estimators=1000, random_state=42)"
      ]
     },
     "execution_count": 53,
     "metadata": {},
     "output_type": "execute_result"
    }
   ],
   "source": [
    "model = GradientBoostingRegressor(n_estimators=1000, random_state=RANDOM_STATE)\n",
    "model.fit(df_train.drop(columns=['SalePrice']), df_train['SalePrice'].values)"
   ]
  },
  {
   "cell_type": "code",
   "execution_count": 54,
   "id": "cf2066bf",
   "metadata": {
    "ExecuteTime": {
     "end_time": "2022-08-07T20:58:20.701504Z",
     "start_time": "2022-08-07T20:58:20.513504Z"
    }
   },
   "outputs": [
    {
     "data": {
      "text/html": [
       "<div>\n",
       "<style scoped>\n",
       "    .dataframe tbody tr th:only-of-type {\n",
       "        vertical-align: middle;\n",
       "    }\n",
       "\n",
       "    .dataframe tbody tr th {\n",
       "        vertical-align: top;\n",
       "    }\n",
       "\n",
       "    .dataframe thead th {\n",
       "        text-align: right;\n",
       "    }\n",
       "</style>\n",
       "<table border=\"1\" class=\"dataframe\">\n",
       "  <thead>\n",
       "    <tr style=\"text-align: right;\">\n",
       "      <th></th>\n",
       "      <th>Id</th>\n",
       "      <th>SalePrice</th>\n",
       "    </tr>\n",
       "  </thead>\n",
       "  <tbody>\n",
       "    <tr>\n",
       "      <th>1321</th>\n",
       "      <td>2782</td>\n",
       "      <td>79508.494407</td>\n",
       "    </tr>\n",
       "    <tr>\n",
       "      <th>836</th>\n",
       "      <td>2297</td>\n",
       "      <td>309673.711385</td>\n",
       "    </tr>\n",
       "    <tr>\n",
       "      <th>413</th>\n",
       "      <td>1874</td>\n",
       "      <td>141424.264224</td>\n",
       "    </tr>\n",
       "    <tr>\n",
       "      <th>522</th>\n",
       "      <td>1983</td>\n",
       "      <td>214132.509232</td>\n",
       "    </tr>\n",
       "    <tr>\n",
       "      <th>1035</th>\n",
       "      <td>2496</td>\n",
       "      <td>264207.714498</td>\n",
       "    </tr>\n",
       "    <tr>\n",
       "      <th>614</th>\n",
       "      <td>2075</td>\n",
       "      <td>144706.614204</td>\n",
       "    </tr>\n",
       "    <tr>\n",
       "      <th>218</th>\n",
       "      <td>1679</td>\n",
       "      <td>372614.150957</td>\n",
       "    </tr>\n",
       "    <tr>\n",
       "      <th>1031</th>\n",
       "      <td>2492</td>\n",
       "      <td>180113.616625</td>\n",
       "    </tr>\n",
       "    <tr>\n",
       "      <th>1289</th>\n",
       "      <td>2750</td>\n",
       "      <td>146363.014393</td>\n",
       "    </tr>\n",
       "    <tr>\n",
       "      <th>886</th>\n",
       "      <td>2347</td>\n",
       "      <td>199147.849361</td>\n",
       "    </tr>\n",
       "  </tbody>\n",
       "</table>\n",
       "</div>"
      ],
      "text/plain": [
       "        Id      SalePrice\n",
       "1321  2782   79508.494407\n",
       "836   2297  309673.711385\n",
       "413   1874  141424.264224\n",
       "522   1983  214132.509232\n",
       "1035  2496  264207.714498\n",
       "614   2075  144706.614204\n",
       "218   1679  372614.150957\n",
       "1031  2492  180113.616625\n",
       "1289  2750  146363.014393\n",
       "886   2347  199147.849361"
      ]
     },
     "execution_count": 54,
     "metadata": {},
     "output_type": "execute_result"
    }
   ],
   "source": [
    "y_pred_kaggle = model.predict(x_test_kaggle)\n",
    "y_pred_kaggle = pd.DataFrame(y_pred_kaggle, index=x_test_kaggle.index, columns=['SalePrice']).reset_index()\n",
    "y_pred_kaggle.rename(columns={'index':'Id'}, inplace=True)\n",
    "\n",
    "y_pred_kaggle.to_csv(PROCESSED_FOLDER + 'y_pred_kaggle_9th_experiment.csv', index=False)\n",
    "\n",
    "y_pred_kaggle.sample(10, random_state=RANDOM_STATE)"
   ]
  },
  {
   "cell_type": "markdown",
   "id": "57f50a4b",
   "metadata": {},
   "source": [
    "# 10th experiment: GB Regressor using the 4th data prep and grid search"
   ]
  },
  {
   "cell_type": "code",
   "execution_count": 5,
   "id": "6531b8fa",
   "metadata": {
    "ExecuteTime": {
     "end_time": "2022-08-07T22:49:09.376090Z",
     "start_time": "2022-08-07T22:49:09.189008Z"
    }
   },
   "outputs": [],
   "source": [
    "X_train = pd.read_parquet(INTERIM_FOLDER + 'X_train_4th_dataprep.pqt')\n",
    "X_test = pd.read_parquet(INTERIM_FOLDER + 'X_test_4th_dataprep.pqt')\n",
    "y_train = pd.read_parquet(INTERIM_FOLDER + 'y_train_4th_dataprep.pqt')\n",
    "y_test = pd.read_parquet(INTERIM_FOLDER + 'y_test_4th_dataprep.pqt')\n",
    "\n",
    "df_train = pd.concat([X_train, y_train], axis=1)\n",
    "df_temp = pd.concat([X_test, y_test], axis=1)\n",
    "df_train = pd.concat([df_train, df_temp], axis=0)\n",
    "\n",
    "x_test_kaggle = pd.read_parquet(INTERIM_FOLDER + 'x_test_kaggle_4th_dataprep.pqt')"
   ]
  },
  {
   "cell_type": "markdown",
   "id": "d48a0e65",
   "metadata": {},
   "source": [
    "## Modeling with gridsearch\n",
    "\n",
    "### Random grid search"
   ]
  },
  {
   "cell_type": "code",
   "execution_count": 40,
   "id": "c2466f63",
   "metadata": {
    "ExecuteTime": {
     "end_time": "2022-08-07T20:02:25.160823Z",
     "start_time": "2022-08-07T19:55:57.393634Z"
    }
   },
   "outputs": [
    {
     "name": "stdout",
     "output_type": "stream",
     "text": [
      "Random grid search's best params: {'n_estimators': 1000, 'max_depth': 7, 'learning_rate': 0.025, 'alpha': 0.2}\n"
     ]
    }
   ],
   "source": [
    "hyperparameter_search_space = dict(\n",
    "    n_estimators=np.arange(500, 1500, 250).tolist(),\n",
    "    learning_rate=np.arange(0.0, 0.1, 0.025).tolist(),\n",
    "    max_depth=np.arange(int(len(X_train.columns)**.5), int(len(X_train.columns))+1, 10).tolist(),\n",
    "    alpha=np.arange(0.0, 0.5, 0.1).tolist()\n",
    ")\n",
    "\n",
    "model = GradientBoostingRegressor(random_state=RANDOM_STATE)\n",
    "\n",
    "random_grid_search = RandomizedSearchCV(\n",
    "    model, hyperparameter_search_space, scoring='neg_mean_squared_error', random_state=RANDOM_STATE, n_iter=100, n_jobs=-1\n",
    ")\n",
    "\n",
    "search = random_grid_search.fit(X_train, y_train)\n",
    "print(f\"Random grid search's best params: {search.best_params_}\")"
   ]
  },
  {
   "cell_type": "markdown",
   "id": "cceedf99",
   "metadata": {},
   "source": [
    "### Grid search around the n-dimensional point found in the previous step"
   ]
  },
  {
   "cell_type": "code",
   "execution_count": 43,
   "id": "2cf1f6d1",
   "metadata": {
    "ExecuteTime": {
     "end_time": "2022-08-07T20:05:30.264617Z",
     "start_time": "2022-08-07T20:05:30.121867Z"
    }
   },
   "outputs": [
    {
     "name": "stdout",
     "output_type": "stream",
     "text": [
      "n_estimators 1000\n",
      "max_depth 7\n",
      "learning_rate 0.025\n",
      "alpha 0.2\n"
     ]
    },
    {
     "data": {
      "text/plain": [
       "{'n_estimators': [666, 916, 1166, 1416],\n",
       " 'max_depth': [4, 5, 6, 7, 8, 9],\n",
       " 'learning_rate': [0.016666666666666666,\n",
       "  0.02291666666666667,\n",
       "  0.02916666666666667,\n",
       "  0.03541666666666667],\n",
       " 'alpha': [0.13333333333333333,\n",
       "  0.18333333333333335,\n",
       "  0.23333333333333336,\n",
       "  0.2833333333333334]}"
      ]
     },
     "execution_count": 43,
     "metadata": {},
     "output_type": "execute_result"
    }
   ],
   "source": [
    "dct_params = {}\n",
    "\n",
    "for key, item in search.best_params_.items():\n",
    "    print(key, item)\n",
    "    if key in ['n_estimators', 'max_depth']:\n",
    "        dct_params[key] = np.arange(int(item/1.5), int(item*1.5), int(0.25*item)).tolist()\n",
    "    else:\n",
    "        dct_params[key] = np.arange(item/1.5, item*1.5, 0.25*item).tolist()\n",
    "    \n",
    "dct_params"
   ]
  },
  {
   "cell_type": "code",
   "execution_count": 44,
   "id": "b2d7dbe7",
   "metadata": {
    "ExecuteTime": {
     "end_time": "2022-08-07T20:44:08.889313Z",
     "start_time": "2022-08-07T20:05:33.553770Z"
    }
   },
   "outputs": [
    {
     "name": "stdout",
     "output_type": "stream",
     "text": [
      "Grid search's best params: {'alpha': 0.13333333333333333, 'learning_rate': 0.02916666666666667, 'max_depth': 4, 'n_estimators': 1416}\n"
     ]
    }
   ],
   "source": [
    "grid_search = GridSearchCV(\n",
    "    model, dct_params, scoring='neg_mean_squared_error', n_jobs=-1\n",
    ")\n",
    "\n",
    "search = grid_search.fit(X_train, y_train)\n",
    "print(f\"Grid search's best params: {search.best_params_}\")"
   ]
  },
  {
   "cell_type": "markdown",
   "id": "e057f7a8",
   "metadata": {},
   "source": [
    "## Modeling and evaluation"
   ]
  },
  {
   "cell_type": "code",
   "execution_count": 28,
   "id": "efbaa3b2",
   "metadata": {
    "ExecuteTime": {
     "end_time": "2022-08-07T22:56:57.098565Z",
     "start_time": "2022-08-07T22:56:50.109933Z"
    }
   },
   "outputs": [
    {
     "name": "stdout",
     "output_type": "stream",
     "text": [
      "RMSE: 27344.52\n"
     ]
    },
    {
     "data": {
      "image/png": "[encoded data removed]",
      "text/plain": [
       "<Figure size 576x432 with 1 Axes>"
      ]
     },
     "metadata": {
      "needs_background": "light"
     },
     "output_type": "display_data"
    }
   ],
   "source": [
    "try:\n",
    "    best_params = search.best_params_\n",
    "except:\n",
    "    best_params = {'alpha': 0.13333333333333333, 'learning_rate': 0.02916666666666667, 'max_depth': 4, 'n_estimators': 1416}\n",
    "\n",
    "model = GradientBoostingRegressor(**best_params, random_state=RANDOM_STATE)\n",
    "model.fit(X_train, y_train.values)\n",
    "\n",
    "y_pred = model.predict(X_test)\n",
    "\n",
    "print(f\"RMSE: {mse(y_test, y_pred)**.5:.2f}\")\n",
    "\n",
    "df_importance = pd.DataFrame(\n",
    "    model.feature_importances_, index=model.feature_names_in_, columns=['importance']\n",
    ").sort_values(by='importance', ascending=False)\n",
    "\n",
    "\n",
    "a4_dims = (8, 6)\n",
    "fig, ax = plt.subplots(figsize=a4_dims)\n",
    "\n",
    "sns.barplot(data=df_importance, y=df_importance.index, x='importance', ax=ax);"
   ]
  },
  {
   "cell_type": "markdown",
   "id": "4f5a94a3",
   "metadata": {},
   "source": [
    "## Adding validation dataset to training the model"
   ]
  },
  {
   "cell_type": "code",
   "execution_count": 29,
   "id": "4fb0443a",
   "metadata": {
    "ExecuteTime": {
     "end_time": "2022-08-07T22:57:04.936566Z",
     "start_time": "2022-08-07T22:56:57.101566Z"
    }
   },
   "outputs": [
    {
     "data": {
      "text/html": [
       "<style>#sk-container-id-2 {color: black;background-color: white;}#sk-container-id-2 pre{padding: 0;}#sk-container-id-2 div.sk-toggleable {background-color: white;}#sk-container-id-2 label.sk-toggleable__label {cursor: pointer;display: block;width: 100%;margin-bottom: 0;padding: 0.3em;box-sizing: border-box;text-align: center;}#sk-container-id-2 label.sk-toggleable__label-arrow:before {content: \"▸\";float: left;margin-right: 0.25em;color: #696969;}#sk-container-id-2 label.sk-toggleable__label-arrow:hover:before {color: black;}#sk-container-id-2 div.sk-estimator:hover label.sk-toggleable__label-arrow:before {color: black;}#sk-container-id-2 div.sk-toggleable__content {max-height: 0;max-width: 0;overflow: hidden;text-align: left;background-color: #f0f8ff;}#sk-container-id-2 div.sk-toggleable__content pre {margin: 0.2em;color: black;border-radius: 0.25em;background-color: #f0f8ff;}#sk-container-id-2 input.sk-toggleable__control:checked~div.sk-toggleable__content {max-height: 200px;max-width: 100%;overflow: auto;}#sk-container-id-2 input.sk-toggleable__control:checked~label.sk-toggleable__label-arrow:before {content: \"▾\";}#sk-container-id-2 div.sk-estimator input.sk-toggleable__control:checked~label.sk-toggleable__label {background-color: #d4ebff;}#sk-container-id-2 div.sk-label input.sk-toggleable__control:checked~label.sk-toggleable__label {background-color: #d4ebff;}#sk-container-id-2 input.sk-hidden--visually {border: 0;clip: rect(1px 1px 1px 1px);clip: rect(1px, 1px, 1px, 1px);height: 1px;margin: -1px;overflow: hidden;padding: 0;position: absolute;width: 1px;}#sk-container-id-2 div.sk-estimator {font-family: monospace;background-color: #f0f8ff;border: 1px dotted black;border-radius: 0.25em;box-sizing: border-box;margin-bottom: 0.5em;}#sk-container-id-2 div.sk-estimator:hover {background-color: #d4ebff;}#sk-container-id-2 div.sk-parallel-item::after {content: \"\";width: 100%;border-bottom: 1px solid gray;flex-grow: 1;}#sk-container-id-2 div.sk-label:hover label.sk-toggleable__label {background-color: #d4ebff;}#sk-container-id-2 div.sk-serial::before {content: \"\";position: absolute;border-left: 1px solid gray;box-sizing: border-box;top: 0;bottom: 0;left: 50%;z-index: 0;}#sk-container-id-2 div.sk-serial {display: flex;flex-direction: column;align-items: center;background-color: white;padding-right: 0.2em;padding-left: 0.2em;position: relative;}#sk-container-id-2 div.sk-item {position: relative;z-index: 1;}#sk-container-id-2 div.sk-parallel {display: flex;align-items: stretch;justify-content: center;background-color: white;position: relative;}#sk-container-id-2 div.sk-item::before, #sk-container-id-2 div.sk-parallel-item::before {content: \"\";position: absolute;border-left: 1px solid gray;box-sizing: border-box;top: 0;bottom: 0;left: 50%;z-index: -1;}#sk-container-id-2 div.sk-parallel-item {display: flex;flex-direction: column;z-index: 1;position: relative;background-color: white;}#sk-container-id-2 div.sk-parallel-item:first-child::after {align-self: flex-end;width: 50%;}#sk-container-id-2 div.sk-parallel-item:last-child::after {align-self: flex-start;width: 50%;}#sk-container-id-2 div.sk-parallel-item:only-child::after {width: 0;}#sk-container-id-2 div.sk-dashed-wrapped {border: 1px dashed gray;margin: 0 0.4em 0.5em 0.4em;box-sizing: border-box;padding-bottom: 0.4em;background-color: white;}#sk-container-id-2 div.sk-label label {font-family: monospace;font-weight: bold;display: inline-block;line-height: 1.2em;}#sk-container-id-2 div.sk-label-container {text-align: center;}#sk-container-id-2 div.sk-container {/* jupyter's `normalize.less` sets `[hidden] { display: none; }` but bootstrap.min.css set `[hidden] { display: none !important; }` so we also need the `!important` here to be able to override the default hidden behavior on the sphinx rendered scikit-learn.org. See: https://github.com/scikit-learn/scikit-learn/issues/21755 */display: inline-block !important;position: relative;}#sk-container-id-2 div.sk-text-repr-fallback {display: none;}</style><div id=\"sk-container-id-2\" class=\"sk-top-container\"><div class=\"sk-text-repr-fallback\"><pre>GradientBoostingRegressor(alpha=0.13333333333333333,\n",
       "                          learning_rate=0.02916666666666667, max_depth=4,\n",
       "                          n_estimators=1416, random_state=42)</pre><b>In a Jupyter environment, please rerun this cell to show the HTML representation or trust the notebook. <br />On GitHub, the HTML representation is unable to render, please try loading this page with nbviewer.org.</b></div><div class=\"sk-container\" hidden><div class=\"sk-item\"><div class=\"sk-estimator sk-toggleable\"><input class=\"sk-toggleable__control sk-hidden--visually\" id=\"sk-estimator-id-2\" type=\"checkbox\" checked><label for=\"sk-estimator-id-2\" class=\"sk-toggleable__label sk-toggleable__label-arrow\">GradientBoostingRegressor</label><div class=\"sk-toggleable__content\"><pre>GradientBoostingRegressor(alpha=0.13333333333333333,\n",
       "                          learning_rate=0.02916666666666667, max_depth=4,\n",
       "                          n_estimators=1416, random_state=42)</pre></div></div></div></div></div>"
      ],
      "text/plain": [
       "GradientBoostingRegressor(alpha=0.13333333333333333,\n",
       "                          learning_rate=0.02916666666666667, max_depth=4,\n",
       "                          n_estimators=1416, random_state=42)"
      ]
     },
     "execution_count": 29,
     "metadata": {},
     "output_type": "execute_result"
    }
   ],
   "source": [
    "model = GradientBoostingRegressor(**best_params, random_state=RANDOM_STATE)\n",
    "model.fit(df_train.drop(columns=['SalePrice']), df_train['SalePrice'].values)"
   ]
  },
  {
   "cell_type": "code",
   "execution_count": 30,
   "id": "eec54415",
   "metadata": {
    "ExecuteTime": {
     "end_time": "2022-08-07T22:57:05.142593Z",
     "start_time": "2022-08-07T22:57:04.938566Z"
    }
   },
   "outputs": [
    {
     "data": {
      "text/html": [
       "<div>\n",
       "<style scoped>\n",
       "    .dataframe tbody tr th:only-of-type {\n",
       "        vertical-align: middle;\n",
       "    }\n",
       "\n",
       "    .dataframe tbody tr th {\n",
       "        vertical-align: top;\n",
       "    }\n",
       "\n",
       "    .dataframe thead th {\n",
       "        text-align: right;\n",
       "    }\n",
       "</style>\n",
       "<table border=\"1\" class=\"dataframe\">\n",
       "  <thead>\n",
       "    <tr style=\"text-align: right;\">\n",
       "      <th></th>\n",
       "      <th>Id</th>\n",
       "      <th>SalePrice</th>\n",
       "    </tr>\n",
       "  </thead>\n",
       "  <tbody>\n",
       "    <tr>\n",
       "      <th>1321</th>\n",
       "      <td>2782</td>\n",
       "      <td>86515.446888</td>\n",
       "    </tr>\n",
       "    <tr>\n",
       "      <th>836</th>\n",
       "      <td>2297</td>\n",
       "      <td>297384.053416</td>\n",
       "    </tr>\n",
       "    <tr>\n",
       "      <th>413</th>\n",
       "      <td>1874</td>\n",
       "      <td>140905.094056</td>\n",
       "    </tr>\n",
       "    <tr>\n",
       "      <th>522</th>\n",
       "      <td>1983</td>\n",
       "      <td>211958.355803</td>\n",
       "    </tr>\n",
       "    <tr>\n",
       "      <th>1035</th>\n",
       "      <td>2496</td>\n",
       "      <td>243798.148820</td>\n",
       "    </tr>\n",
       "    <tr>\n",
       "      <th>614</th>\n",
       "      <td>2075</td>\n",
       "      <td>148990.749881</td>\n",
       "    </tr>\n",
       "    <tr>\n",
       "      <th>218</th>\n",
       "      <td>1679</td>\n",
       "      <td>385877.199649</td>\n",
       "    </tr>\n",
       "    <tr>\n",
       "      <th>1031</th>\n",
       "      <td>2492</td>\n",
       "      <td>174293.113882</td>\n",
       "    </tr>\n",
       "    <tr>\n",
       "      <th>1289</th>\n",
       "      <td>2750</td>\n",
       "      <td>144487.262684</td>\n",
       "    </tr>\n",
       "    <tr>\n",
       "      <th>886</th>\n",
       "      <td>2347</td>\n",
       "      <td>199500.704318</td>\n",
       "    </tr>\n",
       "  </tbody>\n",
       "</table>\n",
       "</div>"
      ],
      "text/plain": [
       "        Id      SalePrice\n",
       "1321  2782   86515.446888\n",
       "836   2297  297384.053416\n",
       "413   1874  140905.094056\n",
       "522   1983  211958.355803\n",
       "1035  2496  243798.148820\n",
       "614   2075  148990.749881\n",
       "218   1679  385877.199649\n",
       "1031  2492  174293.113882\n",
       "1289  2750  144487.262684\n",
       "886   2347  199500.704318"
      ]
     },
     "execution_count": 30,
     "metadata": {},
     "output_type": "execute_result"
    }
   ],
   "source": [
    "y_pred_kaggle = model.predict(x_test_kaggle)\n",
    "y_pred_kaggle = pd.DataFrame(y_pred_kaggle, index=x_test_kaggle.index, columns=['SalePrice']).reset_index()\n",
    "y_pred_kaggle.rename(columns={'index':'Id'}, inplace=True)\n",
    "\n",
    "y_pred_kaggle.to_csv(PROCESSED_FOLDER + 'y_pred_kaggle_10th_experiment.csv', index=False)\n",
    "\n",
    "y_pred_kaggle.sample(10, random_state=RANDOM_STATE)"
   ]
  }
 ],
 "metadata": {
  "hide_input": false,
  "kernelspec": {
   "display_name": "Python 3 (ipykernel)",
   "language": "python",
   "name": "python3"
  },
  "language_info": {
   "codemirror_mode": {
    "name": "ipython",
    "version": 3
   },
   "file_extension": ".py",
   "mimetype": "text/x-python",
   "name": "python",
   "nbconvert_exporter": "python",
   "pygments_lexer": "ipython3",
   "version": "3.9.7"
  },
  "toc": {
   "base_numbering": 1,
   "nav_menu": {},
   "number_sections": true,
   "sideBar": true,
   "skip_h1_title": false,
   "title_cell": "Table of Contents",
   "title_sidebar": "Contents",
   "toc_cell": false,
   "toc_position": {
    "height": "calc(100% - 180px)",
    "left": "10px",
    "top": "150px",
    "width": "462px"
   },
   "toc_section_display": true,
   "toc_window_display": true
  },
  "vscode": {
   "interpreter": {
    "hash": "85ada928e0978a7fb50332dc74c1b81a83a4f54edfa7632541474a5d32d07244"
   }
  }
 },
 "nbformat": 4,
 "nbformat_minor": 5
}
