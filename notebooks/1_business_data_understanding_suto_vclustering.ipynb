{
 "cells": [
  {
   "cell_type": "markdown",
   "id": "62890fd6",
   "metadata": {},
   "source": [
    "# 1_business_data_understanding_suto\n",
    "\n",
    "**Purpose:** In this notebook, we want to experiment different approaches to this regression problem:\n",
    "- separating the training dataset in two or more groups according to SalePrice, and creating a regression to each part; and\n",
    "- separating the training dataset in groups according to a clustering method, and creating a regression to each part.\n",
    "\n",
    "**Methodology:**\n",
    "\n",
    "**Results:** Describe and comment the most important results.\n",
    "\n",
    "---\n",
    "\n",
    "**Suggested next steps**\n",
    "\n",
    "- [ ] Do the following approaches:\n",
    "    - [ ] Classification + Regressions\n",
    "    - [ ] Clustering (try to use DBSCAN) + Regressions\n",
    "    - [ ] Reducing dimensionality (PCA or t-SNE) + Regressions\n",
    "- [ ] How to cluster categorical attributes?\n",
    "- [ ] Separate the categorical attributes relating to SalePrice (teste de hipótese / ANOVA).\n"
   ]
  },
  {
   "cell_type": "markdown",
   "id": "bb7cdddc",
   "metadata": {},
   "source": [
    "# Setup\n",
    "\n",
    "## Library import\n",
    "We import all the required Python libraries"
   ]
  },
  {
   "cell_type": "code",
   "execution_count": 8,
   "id": "0eeffc59",
   "metadata": {
    "ExecuteTime": {
     "end_time": "2022-09-16T00:00:08.803208Z",
     "start_time": "2022-09-16T00:00:08.504956Z"
    }
   },
   "outputs": [
    {
     "name": "stdout",
     "output_type": "stream",
     "text": [
      "The autoreload extension is already loaded. To reload it, use:\n",
      "  %reload_ext autoreload\n"
     ]
    }
   ],
   "source": [
    "%matplotlib inline\n",
    "\n",
    "import os\n",
    "import pickle\n",
    "from typing import List\n",
    "\n",
    "# Data manipulation\n",
    "from feature_engine.encoding import OneHotEncoder, CountFrequencyEncoder, RareLabelEncoder\n",
    "from feature_engine.imputation import MeanMedianImputer, CategoricalImputer\n",
    "import pandas as pd\n",
    "import numpy as np\n",
    "\n",
    "# Visualizations\n",
    "import matplotlib.pyplot as plt\n",
    "from pandas_profiling import ProfileReport\n",
    "import seaborn as sns\n",
    "\n",
    "from sklearn.cluster import KMeans, DBSCAN\n",
    "from sklearn.ensemble import RandomForestClassifier, RandomForestRegressor\n",
    "from sklearn.impute import KNNImputer\n",
    "from sklearn.metrics import (\n",
    "    f1_score, accuracy_score, classification_report, mean_absolute_error, mean_squared_error\n",
    ")\n",
    "from sklearn.model_selection import train_test_split\n",
    "from sklearn.neighbors import KNeighborsRegressor\n",
    "from sklearn.pipeline import Pipeline\n",
    "from sklearn.preprocessing import MinMaxScaler\n",
    "\n",
    "os.chdir('../')\n",
    "from src.utils.data_describe import breve_descricao, serie_nulos, cardinalidade\n",
    "os.chdir('./notebooks/')\n",
    "\n",
    "# Options for pandas\n",
    "# pd.options.display.max_columns = None\n",
    "pd.set_option('display.max_rows', None)\n",
    "pd.set_option('display.max_columns', None)\n",
    "# pd.options.display.max_rows = 120\n",
    "\n",
    "# Autoreload extension\n",
    "if 'autoreload' not in get_ipython().extension_manager.loaded:\n",
    "    %load_ext autoreload\n",
    "    \n",
    "%autoreload 2"
   ]
  },
  {
   "cell_type": "markdown",
   "id": "8bc0c9d3",
   "metadata": {},
   "source": [
    "## Parameter definition\n",
    "We set all relevant parameters for our notebook. By convention, parameters are uppercase, while all the \n",
    "other variables follow Python's guidelines."
   ]
  },
  {
   "cell_type": "code",
   "execution_count": 221,
   "id": "814dc6af",
   "metadata": {
    "ExecuteTime": {
     "end_time": "2022-09-16T02:06:45.480558Z",
     "start_time": "2022-09-16T02:06:45.218228Z"
    }
   },
   "outputs": [],
   "source": [
    "RAW_FOLDER = '../data/raw/'\n",
    "INTERIM_FOLDER = '../data/interim/'\n",
    "REPORTS_FOLDER = '../reports/'\n",
    "PROCESSED_FOLDER = '../data/processed/'\n",
    "MODELS_FOLDER = '../models/'\n",
    "RANDOM_STATE = 42"
   ]
  },
  {
   "cell_type": "markdown",
   "id": "5b89bbd8",
   "metadata": {},
   "source": [
    "\n",
    "## Data import\n",
    "We retrieve all the required data for the analysis."
   ]
  },
  {
   "cell_type": "code",
   "execution_count": 175,
   "id": "f223db3b",
   "metadata": {
    "ExecuteTime": {
     "end_time": "2022-09-16T01:32:12.758522Z",
     "start_time": "2022-09-16T01:32:12.452019Z"
    }
   },
   "outputs": [
    {
     "data": {
      "text/plain": [
       "(1460, 80)"
      ]
     },
     "execution_count": 175,
     "metadata": {},
     "output_type": "execute_result"
    }
   ],
   "source": [
    "df = pd.read_csv(RAW_FOLDER + 'train.csv', index_col=0)\n",
    "df_evaluation = df.copy()\n",
    "\n",
    "df_test = pd.read_csv(RAW_FOLDER + 'test.csv', index_col=0)\n",
    "\n",
    "df_evaluation.shape"
   ]
  },
  {
   "cell_type": "markdown",
   "id": "e0601e9a",
   "metadata": {},
   "source": [
    "# Data prep\n",
    "\n",
    "## Presence of null values"
   ]
  },
  {
   "cell_type": "code",
   "execution_count": 4,
   "id": "6ce025b3",
   "metadata": {
    "ExecuteTime": {
     "end_time": "2022-09-15T23:51:14.479392Z",
     "start_time": "2022-09-15T23:51:13.971879Z"
    }
   },
   "outputs": [
    {
     "name": "stdout",
     "output_type": "stream",
     "text": [
      "4 atributos/features/campos possuem mais de 0.5 de valores nulos.\n"
     ]
    },
    {
     "data": {
      "text/plain": [
       "['PoolQC', 'MiscFeature', 'Alley', 'Fence']"
      ]
     },
     "execution_count": 4,
     "metadata": {},
     "output_type": "execute_result"
    }
   ],
   "source": [
    "lst_columns_null = serie_nulos(df_evaluation, corte=0.5).index.tolist()\n",
    "lst_columns_null"
   ]
  },
  {
   "cell_type": "markdown",
   "id": "ba859c3a",
   "metadata": {},
   "source": [
    "# Clustering the data before modeling\n",
    "\n",
    "## 1st approach: Classification into two groups and creating regressions for each group"
   ]
  },
  {
   "cell_type": "code",
   "execution_count": 6,
   "id": "8a7f3da2",
   "metadata": {
    "ExecuteTime": {
     "end_time": "2022-08-28T23:26:54.038174Z",
     "start_time": "2022-08-28T23:26:53.576362Z"
    }
   },
   "outputs": [
    {
     "data": {
      "text/plain": [
       "count      1460.0\n",
       "mean     180921.0\n",
       "std       79443.0\n",
       "min       34900.0\n",
       "25%      129975.0\n",
       "50%      163000.0\n",
       "75%      214000.0\n",
       "max      755000.0\n",
       "Name: SalePrice, dtype: float64"
      ]
     },
     "execution_count": 6,
     "metadata": {},
     "output_type": "execute_result"
    },
    {
     "data": {
      "image/png": "[encoded data removed]",
      "text/plain": [
       "<Figure size 432x288 with 1 Axes>"
      ]
     },
     "metadata": {
      "needs_background": "light"
     },
     "output_type": "display_data"
    }
   ],
   "source": [
    "df_evaluation = df.copy()\n",
    "\n",
    "df_evaluation['SalePrice'].hist(bins=100);\n",
    "round(df_evaluation['SalePrice'].describe())"
   ]
  },
  {
   "cell_type": "markdown",
   "id": "e9df49f2",
   "metadata": {},
   "source": [
    "### Splitting data into train, validation and test"
   ]
  },
  {
   "cell_type": "code",
   "execution_count": 7,
   "id": "ce9b65b2",
   "metadata": {
    "ExecuteTime": {
     "end_time": "2022-08-28T23:26:54.223741Z",
     "start_time": "2022-08-28T23:26:54.039174Z"
    }
   },
   "outputs": [],
   "source": [
    "X = df_evaluation.drop(columns=['SalePrice'])\n",
    "y = df_evaluation[['SalePrice']]\n",
    "\n",
    "X_train, X_test, y_train, y_test = train_test_split(X, y, test_size=0.20, random_state=RANDOM_STATE)"
   ]
  },
  {
   "cell_type": "markdown",
   "id": "46ed0098",
   "metadata": {},
   "source": [
    "### Creating the classification model"
   ]
  },
  {
   "cell_type": "code",
   "execution_count": 8,
   "id": "0ae97689",
   "metadata": {
    "ExecuteTime": {
     "end_time": "2022-08-28T23:26:54.454787Z",
     "start_time": "2022-08-28T23:26:54.226738Z"
    }
   },
   "outputs": [
    {
     "name": "stdout",
     "output_type": "stream",
     "text": [
      "0    874\n",
      "1    294\n",
      "Name: price_group, dtype: int64\n"
     ]
    },
    {
     "data": {
      "text/html": [
       "<div>\n",
       "<style scoped>\n",
       "    .dataframe tbody tr th:only-of-type {\n",
       "        vertical-align: middle;\n",
       "    }\n",
       "\n",
       "    .dataframe tbody tr th {\n",
       "        vertical-align: top;\n",
       "    }\n",
       "\n",
       "    .dataframe thead th {\n",
       "        text-align: right;\n",
       "    }\n",
       "</style>\n",
       "<table border=\"1\" class=\"dataframe\">\n",
       "  <thead>\n",
       "    <tr style=\"text-align: right;\">\n",
       "      <th></th>\n",
       "      <th>MSSubClass</th>\n",
       "      <th>MSZoning</th>\n",
       "      <th>LotFrontage</th>\n",
       "      <th>LotArea</th>\n",
       "      <th>Street</th>\n",
       "      <th>Alley</th>\n",
       "      <th>LotShape</th>\n",
       "      <th>LandContour</th>\n",
       "      <th>Utilities</th>\n",
       "      <th>LotConfig</th>\n",
       "      <th>LandSlope</th>\n",
       "      <th>Neighborhood</th>\n",
       "      <th>Condition1</th>\n",
       "      <th>Condition2</th>\n",
       "      <th>BldgType</th>\n",
       "      <th>HouseStyle</th>\n",
       "      <th>OverallQual</th>\n",
       "      <th>OverallCond</th>\n",
       "      <th>YearBuilt</th>\n",
       "      <th>YearRemodAdd</th>\n",
       "      <th>RoofStyle</th>\n",
       "      <th>RoofMatl</th>\n",
       "      <th>Exterior1st</th>\n",
       "      <th>Exterior2nd</th>\n",
       "      <th>MasVnrType</th>\n",
       "      <th>MasVnrArea</th>\n",
       "      <th>ExterQual</th>\n",
       "      <th>ExterCond</th>\n",
       "      <th>Foundation</th>\n",
       "      <th>BsmtQual</th>\n",
       "      <th>BsmtCond</th>\n",
       "      <th>BsmtExposure</th>\n",
       "      <th>BsmtFinType1</th>\n",
       "      <th>BsmtFinSF1</th>\n",
       "      <th>BsmtFinType2</th>\n",
       "      <th>BsmtFinSF2</th>\n",
       "      <th>BsmtUnfSF</th>\n",
       "      <th>TotalBsmtSF</th>\n",
       "      <th>Heating</th>\n",
       "      <th>HeatingQC</th>\n",
       "      <th>CentralAir</th>\n",
       "      <th>Electrical</th>\n",
       "      <th>1stFlrSF</th>\n",
       "      <th>2ndFlrSF</th>\n",
       "      <th>LowQualFinSF</th>\n",
       "      <th>GrLivArea</th>\n",
       "      <th>BsmtFullBath</th>\n",
       "      <th>BsmtHalfBath</th>\n",
       "      <th>FullBath</th>\n",
       "      <th>HalfBath</th>\n",
       "      <th>BedroomAbvGr</th>\n",
       "      <th>KitchenAbvGr</th>\n",
       "      <th>KitchenQual</th>\n",
       "      <th>TotRmsAbvGrd</th>\n",
       "      <th>Functional</th>\n",
       "      <th>Fireplaces</th>\n",
       "      <th>FireplaceQu</th>\n",
       "      <th>GarageType</th>\n",
       "      <th>GarageYrBlt</th>\n",
       "      <th>GarageFinish</th>\n",
       "      <th>GarageCars</th>\n",
       "      <th>GarageArea</th>\n",
       "      <th>GarageQual</th>\n",
       "      <th>GarageCond</th>\n",
       "      <th>PavedDrive</th>\n",
       "      <th>WoodDeckSF</th>\n",
       "      <th>OpenPorchSF</th>\n",
       "      <th>EnclosedPorch</th>\n",
       "      <th>3SsnPorch</th>\n",
       "      <th>ScreenPorch</th>\n",
       "      <th>PoolArea</th>\n",
       "      <th>PoolQC</th>\n",
       "      <th>Fence</th>\n",
       "      <th>MiscFeature</th>\n",
       "      <th>MiscVal</th>\n",
       "      <th>MoSold</th>\n",
       "      <th>YrSold</th>\n",
       "      <th>SaleType</th>\n",
       "      <th>SaleCondition</th>\n",
       "      <th>SalePrice</th>\n",
       "      <th>price_group</th>\n",
       "    </tr>\n",
       "    <tr>\n",
       "      <th>Id</th>\n",
       "      <th></th>\n",
       "      <th></th>\n",
       "      <th></th>\n",
       "      <th></th>\n",
       "      <th></th>\n",
       "      <th></th>\n",
       "      <th></th>\n",
       "      <th></th>\n",
       "      <th></th>\n",
       "      <th></th>\n",
       "      <th></th>\n",
       "      <th></th>\n",
       "      <th></th>\n",
       "      <th></th>\n",
       "      <th></th>\n",
       "      <th></th>\n",
       "      <th></th>\n",
       "      <th></th>\n",
       "      <th></th>\n",
       "      <th></th>\n",
       "      <th></th>\n",
       "      <th></th>\n",
       "      <th></th>\n",
       "      <th></th>\n",
       "      <th></th>\n",
       "      <th></th>\n",
       "      <th></th>\n",
       "      <th></th>\n",
       "      <th></th>\n",
       "      <th></th>\n",
       "      <th></th>\n",
       "      <th></th>\n",
       "      <th></th>\n",
       "      <th></th>\n",
       "      <th></th>\n",
       "      <th></th>\n",
       "      <th></th>\n",
       "      <th></th>\n",
       "      <th></th>\n",
       "      <th></th>\n",
       "      <th></th>\n",
       "      <th></th>\n",
       "      <th></th>\n",
       "      <th></th>\n",
       "      <th></th>\n",
       "      <th></th>\n",
       "      <th></th>\n",
       "      <th></th>\n",
       "      <th></th>\n",
       "      <th></th>\n",
       "      <th></th>\n",
       "      <th></th>\n",
       "      <th></th>\n",
       "      <th></th>\n",
       "      <th></th>\n",
       "      <th></th>\n",
       "      <th></th>\n",
       "      <th></th>\n",
       "      <th></th>\n",
       "      <th></th>\n",
       "      <th></th>\n",
       "      <th></th>\n",
       "      <th></th>\n",
       "      <th></th>\n",
       "      <th></th>\n",
       "      <th></th>\n",
       "      <th></th>\n",
       "      <th></th>\n",
       "      <th></th>\n",
       "      <th></th>\n",
       "      <th></th>\n",
       "      <th></th>\n",
       "      <th></th>\n",
       "      <th></th>\n",
       "      <th></th>\n",
       "      <th></th>\n",
       "      <th></th>\n",
       "      <th></th>\n",
       "      <th></th>\n",
       "      <th></th>\n",
       "      <th></th>\n",
       "    </tr>\n",
       "  </thead>\n",
       "  <tbody>\n",
       "    <tr>\n",
       "      <th>255</th>\n",
       "      <td>20</td>\n",
       "      <td>RL</td>\n",
       "      <td>70.0</td>\n",
       "      <td>8400</td>\n",
       "      <td>Pave</td>\n",
       "      <td>NaN</td>\n",
       "      <td>Reg</td>\n",
       "      <td>Lvl</td>\n",
       "      <td>AllPub</td>\n",
       "      <td>Inside</td>\n",
       "      <td>Gtl</td>\n",
       "      <td>NAmes</td>\n",
       "      <td>Norm</td>\n",
       "      <td>Norm</td>\n",
       "      <td>1Fam</td>\n",
       "      <td>1Story</td>\n",
       "      <td>5</td>\n",
       "      <td>6</td>\n",
       "      <td>1957</td>\n",
       "      <td>1957</td>\n",
       "      <td>Gable</td>\n",
       "      <td>CompShg</td>\n",
       "      <td>MetalSd</td>\n",
       "      <td>MetalSd</td>\n",
       "      <td>None</td>\n",
       "      <td>0.0</td>\n",
       "      <td>TA</td>\n",
       "      <td>Gd</td>\n",
       "      <td>CBlock</td>\n",
       "      <td>TA</td>\n",
       "      <td>TA</td>\n",
       "      <td>No</td>\n",
       "      <td>Rec</td>\n",
       "      <td>922</td>\n",
       "      <td>Unf</td>\n",
       "      <td>0</td>\n",
       "      <td>392</td>\n",
       "      <td>1314</td>\n",
       "      <td>GasA</td>\n",
       "      <td>TA</td>\n",
       "      <td>Y</td>\n",
       "      <td>SBrkr</td>\n",
       "      <td>1314</td>\n",
       "      <td>0</td>\n",
       "      <td>0</td>\n",
       "      <td>1314</td>\n",
       "      <td>1</td>\n",
       "      <td>0</td>\n",
       "      <td>1</td>\n",
       "      <td>0</td>\n",
       "      <td>3</td>\n",
       "      <td>1</td>\n",
       "      <td>TA</td>\n",
       "      <td>5</td>\n",
       "      <td>Typ</td>\n",
       "      <td>0</td>\n",
       "      <td>NaN</td>\n",
       "      <td>Attchd</td>\n",
       "      <td>1957.0</td>\n",
       "      <td>RFn</td>\n",
       "      <td>1</td>\n",
       "      <td>294</td>\n",
       "      <td>TA</td>\n",
       "      <td>TA</td>\n",
       "      <td>Y</td>\n",
       "      <td>250</td>\n",
       "      <td>0</td>\n",
       "      <td>0</td>\n",
       "      <td>0</td>\n",
       "      <td>0</td>\n",
       "      <td>0</td>\n",
       "      <td>NaN</td>\n",
       "      <td>NaN</td>\n",
       "      <td>NaN</td>\n",
       "      <td>0</td>\n",
       "      <td>6</td>\n",
       "      <td>2010</td>\n",
       "      <td>WD</td>\n",
       "      <td>Normal</td>\n",
       "      <td>145000</td>\n",
       "      <td>0</td>\n",
       "    </tr>\n",
       "    <tr>\n",
       "      <th>1067</th>\n",
       "      <td>60</td>\n",
       "      <td>RL</td>\n",
       "      <td>59.0</td>\n",
       "      <td>7837</td>\n",
       "      <td>Pave</td>\n",
       "      <td>NaN</td>\n",
       "      <td>IR1</td>\n",
       "      <td>Lvl</td>\n",
       "      <td>AllPub</td>\n",
       "      <td>Inside</td>\n",
       "      <td>Gtl</td>\n",
       "      <td>Gilbert</td>\n",
       "      <td>Norm</td>\n",
       "      <td>Norm</td>\n",
       "      <td>1Fam</td>\n",
       "      <td>2Story</td>\n",
       "      <td>6</td>\n",
       "      <td>7</td>\n",
       "      <td>1993</td>\n",
       "      <td>1994</td>\n",
       "      <td>Gable</td>\n",
       "      <td>CompShg</td>\n",
       "      <td>VinylSd</td>\n",
       "      <td>VinylSd</td>\n",
       "      <td>None</td>\n",
       "      <td>0.0</td>\n",
       "      <td>Gd</td>\n",
       "      <td>TA</td>\n",
       "      <td>PConc</td>\n",
       "      <td>Gd</td>\n",
       "      <td>TA</td>\n",
       "      <td>No</td>\n",
       "      <td>Unf</td>\n",
       "      <td>0</td>\n",
       "      <td>Unf</td>\n",
       "      <td>0</td>\n",
       "      <td>799</td>\n",
       "      <td>799</td>\n",
       "      <td>GasA</td>\n",
       "      <td>Gd</td>\n",
       "      <td>Y</td>\n",
       "      <td>SBrkr</td>\n",
       "      <td>799</td>\n",
       "      <td>772</td>\n",
       "      <td>0</td>\n",
       "      <td>1571</td>\n",
       "      <td>0</td>\n",
       "      <td>0</td>\n",
       "      <td>2</td>\n",
       "      <td>1</td>\n",
       "      <td>3</td>\n",
       "      <td>1</td>\n",
       "      <td>TA</td>\n",
       "      <td>7</td>\n",
       "      <td>Typ</td>\n",
       "      <td>1</td>\n",
       "      <td>TA</td>\n",
       "      <td>Attchd</td>\n",
       "      <td>1993.0</td>\n",
       "      <td>RFn</td>\n",
       "      <td>2</td>\n",
       "      <td>380</td>\n",
       "      <td>TA</td>\n",
       "      <td>TA</td>\n",
       "      <td>Y</td>\n",
       "      <td>0</td>\n",
       "      <td>40</td>\n",
       "      <td>0</td>\n",
       "      <td>0</td>\n",
       "      <td>0</td>\n",
       "      <td>0</td>\n",
       "      <td>NaN</td>\n",
       "      <td>NaN</td>\n",
       "      <td>NaN</td>\n",
       "      <td>0</td>\n",
       "      <td>5</td>\n",
       "      <td>2009</td>\n",
       "      <td>WD</td>\n",
       "      <td>Normal</td>\n",
       "      <td>178000</td>\n",
       "      <td>0</td>\n",
       "    </tr>\n",
       "    <tr>\n",
       "      <th>639</th>\n",
       "      <td>30</td>\n",
       "      <td>RL</td>\n",
       "      <td>67.0</td>\n",
       "      <td>8777</td>\n",
       "      <td>Pave</td>\n",
       "      <td>NaN</td>\n",
       "      <td>Reg</td>\n",
       "      <td>Lvl</td>\n",
       "      <td>AllPub</td>\n",
       "      <td>Inside</td>\n",
       "      <td>Gtl</td>\n",
       "      <td>Edwards</td>\n",
       "      <td>Feedr</td>\n",
       "      <td>Norm</td>\n",
       "      <td>1Fam</td>\n",
       "      <td>1Story</td>\n",
       "      <td>5</td>\n",
       "      <td>7</td>\n",
       "      <td>1910</td>\n",
       "      <td>1950</td>\n",
       "      <td>Gable</td>\n",
       "      <td>CompShg</td>\n",
       "      <td>MetalSd</td>\n",
       "      <td>Wd Sdng</td>\n",
       "      <td>None</td>\n",
       "      <td>0.0</td>\n",
       "      <td>TA</td>\n",
       "      <td>TA</td>\n",
       "      <td>CBlock</td>\n",
       "      <td>Fa</td>\n",
       "      <td>TA</td>\n",
       "      <td>No</td>\n",
       "      <td>Unf</td>\n",
       "      <td>0</td>\n",
       "      <td>Unf</td>\n",
       "      <td>0</td>\n",
       "      <td>796</td>\n",
       "      <td>796</td>\n",
       "      <td>GasA</td>\n",
       "      <td>Gd</td>\n",
       "      <td>Y</td>\n",
       "      <td>FuseA</td>\n",
       "      <td>796</td>\n",
       "      <td>0</td>\n",
       "      <td>0</td>\n",
       "      <td>796</td>\n",
       "      <td>0</td>\n",
       "      <td>0</td>\n",
       "      <td>1</td>\n",
       "      <td>0</td>\n",
       "      <td>2</td>\n",
       "      <td>1</td>\n",
       "      <td>TA</td>\n",
       "      <td>4</td>\n",
       "      <td>Typ</td>\n",
       "      <td>0</td>\n",
       "      <td>NaN</td>\n",
       "      <td>NaN</td>\n",
       "      <td>NaN</td>\n",
       "      <td>NaN</td>\n",
       "      <td>0</td>\n",
       "      <td>0</td>\n",
       "      <td>NaN</td>\n",
       "      <td>NaN</td>\n",
       "      <td>P</td>\n",
       "      <td>328</td>\n",
       "      <td>0</td>\n",
       "      <td>164</td>\n",
       "      <td>0</td>\n",
       "      <td>0</td>\n",
       "      <td>0</td>\n",
       "      <td>NaN</td>\n",
       "      <td>MnPrv</td>\n",
       "      <td>NaN</td>\n",
       "      <td>0</td>\n",
       "      <td>5</td>\n",
       "      <td>2008</td>\n",
       "      <td>WD</td>\n",
       "      <td>Normal</td>\n",
       "      <td>85000</td>\n",
       "      <td>0</td>\n",
       "    </tr>\n",
       "    <tr>\n",
       "      <th>800</th>\n",
       "      <td>50</td>\n",
       "      <td>RL</td>\n",
       "      <td>60.0</td>\n",
       "      <td>7200</td>\n",
       "      <td>Pave</td>\n",
       "      <td>NaN</td>\n",
       "      <td>Reg</td>\n",
       "      <td>Lvl</td>\n",
       "      <td>AllPub</td>\n",
       "      <td>Corner</td>\n",
       "      <td>Gtl</td>\n",
       "      <td>SWISU</td>\n",
       "      <td>Feedr</td>\n",
       "      <td>Norm</td>\n",
       "      <td>1Fam</td>\n",
       "      <td>1.5Fin</td>\n",
       "      <td>5</td>\n",
       "      <td>7</td>\n",
       "      <td>1937</td>\n",
       "      <td>1950</td>\n",
       "      <td>Gable</td>\n",
       "      <td>CompShg</td>\n",
       "      <td>Wd Sdng</td>\n",
       "      <td>Wd Sdng</td>\n",
       "      <td>BrkFace</td>\n",
       "      <td>252.0</td>\n",
       "      <td>TA</td>\n",
       "      <td>TA</td>\n",
       "      <td>BrkTil</td>\n",
       "      <td>Gd</td>\n",
       "      <td>TA</td>\n",
       "      <td>No</td>\n",
       "      <td>ALQ</td>\n",
       "      <td>569</td>\n",
       "      <td>Unf</td>\n",
       "      <td>0</td>\n",
       "      <td>162</td>\n",
       "      <td>731</td>\n",
       "      <td>GasA</td>\n",
       "      <td>Ex</td>\n",
       "      <td>Y</td>\n",
       "      <td>SBrkr</td>\n",
       "      <td>981</td>\n",
       "      <td>787</td>\n",
       "      <td>0</td>\n",
       "      <td>1768</td>\n",
       "      <td>1</td>\n",
       "      <td>0</td>\n",
       "      <td>1</td>\n",
       "      <td>1</td>\n",
       "      <td>3</td>\n",
       "      <td>1</td>\n",
       "      <td>Gd</td>\n",
       "      <td>7</td>\n",
       "      <td>Typ</td>\n",
       "      <td>2</td>\n",
       "      <td>TA</td>\n",
       "      <td>Detchd</td>\n",
       "      <td>1939.0</td>\n",
       "      <td>Unf</td>\n",
       "      <td>1</td>\n",
       "      <td>240</td>\n",
       "      <td>TA</td>\n",
       "      <td>TA</td>\n",
       "      <td>Y</td>\n",
       "      <td>0</td>\n",
       "      <td>0</td>\n",
       "      <td>264</td>\n",
       "      <td>0</td>\n",
       "      <td>0</td>\n",
       "      <td>0</td>\n",
       "      <td>NaN</td>\n",
       "      <td>MnPrv</td>\n",
       "      <td>NaN</td>\n",
       "      <td>0</td>\n",
       "      <td>6</td>\n",
       "      <td>2007</td>\n",
       "      <td>WD</td>\n",
       "      <td>Normal</td>\n",
       "      <td>175000</td>\n",
       "      <td>0</td>\n",
       "    </tr>\n",
       "    <tr>\n",
       "      <th>381</th>\n",
       "      <td>50</td>\n",
       "      <td>RL</td>\n",
       "      <td>50.0</td>\n",
       "      <td>5000</td>\n",
       "      <td>Pave</td>\n",
       "      <td>Pave</td>\n",
       "      <td>Reg</td>\n",
       "      <td>Lvl</td>\n",
       "      <td>AllPub</td>\n",
       "      <td>Inside</td>\n",
       "      <td>Gtl</td>\n",
       "      <td>SWISU</td>\n",
       "      <td>Norm</td>\n",
       "      <td>Norm</td>\n",
       "      <td>1Fam</td>\n",
       "      <td>1.5Fin</td>\n",
       "      <td>5</td>\n",
       "      <td>6</td>\n",
       "      <td>1924</td>\n",
       "      <td>1950</td>\n",
       "      <td>Gable</td>\n",
       "      <td>CompShg</td>\n",
       "      <td>BrkFace</td>\n",
       "      <td>Wd Sdng</td>\n",
       "      <td>None</td>\n",
       "      <td>0.0</td>\n",
       "      <td>TA</td>\n",
       "      <td>TA</td>\n",
       "      <td>BrkTil</td>\n",
       "      <td>TA</td>\n",
       "      <td>TA</td>\n",
       "      <td>No</td>\n",
       "      <td>LwQ</td>\n",
       "      <td>218</td>\n",
       "      <td>Unf</td>\n",
       "      <td>0</td>\n",
       "      <td>808</td>\n",
       "      <td>1026</td>\n",
       "      <td>GasA</td>\n",
       "      <td>TA</td>\n",
       "      <td>Y</td>\n",
       "      <td>SBrkr</td>\n",
       "      <td>1026</td>\n",
       "      <td>665</td>\n",
       "      <td>0</td>\n",
       "      <td>1691</td>\n",
       "      <td>0</td>\n",
       "      <td>0</td>\n",
       "      <td>2</td>\n",
       "      <td>0</td>\n",
       "      <td>3</td>\n",
       "      <td>1</td>\n",
       "      <td>Gd</td>\n",
       "      <td>6</td>\n",
       "      <td>Typ</td>\n",
       "      <td>1</td>\n",
       "      <td>Gd</td>\n",
       "      <td>Detchd</td>\n",
       "      <td>1924.0</td>\n",
       "      <td>Unf</td>\n",
       "      <td>1</td>\n",
       "      <td>308</td>\n",
       "      <td>TA</td>\n",
       "      <td>TA</td>\n",
       "      <td>Y</td>\n",
       "      <td>0</td>\n",
       "      <td>0</td>\n",
       "      <td>242</td>\n",
       "      <td>0</td>\n",
       "      <td>0</td>\n",
       "      <td>0</td>\n",
       "      <td>NaN</td>\n",
       "      <td>NaN</td>\n",
       "      <td>NaN</td>\n",
       "      <td>0</td>\n",
       "      <td>5</td>\n",
       "      <td>2010</td>\n",
       "      <td>WD</td>\n",
       "      <td>Normal</td>\n",
       "      <td>127000</td>\n",
       "      <td>0</td>\n",
       "    </tr>\n",
       "  </tbody>\n",
       "</table>\n",
       "</div>"
      ],
      "text/plain": [
       "      MSSubClass MSZoning  LotFrontage  LotArea Street Alley LotShape  \\\n",
       "Id                                                                      \n",
       "255           20       RL         70.0     8400   Pave   NaN      Reg   \n",
       "1067          60       RL         59.0     7837   Pave   NaN      IR1   \n",
       "639           30       RL         67.0     8777   Pave   NaN      Reg   \n",
       "800           50       RL         60.0     7200   Pave   NaN      Reg   \n",
       "381           50       RL         50.0     5000   Pave  Pave      Reg   \n",
       "\n",
       "     LandContour Utilities LotConfig LandSlope Neighborhood Condition1  \\\n",
       "Id                                                                       \n",
       "255          Lvl    AllPub    Inside       Gtl        NAmes       Norm   \n",
       "1067         Lvl    AllPub    Inside       Gtl      Gilbert       Norm   \n",
       "639          Lvl    AllPub    Inside       Gtl      Edwards      Feedr   \n",
       "800          Lvl    AllPub    Corner       Gtl        SWISU      Feedr   \n",
       "381          Lvl    AllPub    Inside       Gtl        SWISU       Norm   \n",
       "\n",
       "     Condition2 BldgType HouseStyle  OverallQual  OverallCond  YearBuilt  \\\n",
       "Id                                                                         \n",
       "255        Norm     1Fam     1Story            5            6       1957   \n",
       "1067       Norm     1Fam     2Story            6            7       1993   \n",
       "639        Norm     1Fam     1Story            5            7       1910   \n",
       "800        Norm     1Fam     1.5Fin            5            7       1937   \n",
       "381        Norm     1Fam     1.5Fin            5            6       1924   \n",
       "\n",
       "      YearRemodAdd RoofStyle RoofMatl Exterior1st Exterior2nd MasVnrType  \\\n",
       "Id                                                                         \n",
       "255           1957     Gable  CompShg     MetalSd     MetalSd       None   \n",
       "1067          1994     Gable  CompShg     VinylSd     VinylSd       None   \n",
       "639           1950     Gable  CompShg     MetalSd     Wd Sdng       None   \n",
       "800           1950     Gable  CompShg     Wd Sdng     Wd Sdng    BrkFace   \n",
       "381           1950     Gable  CompShg     BrkFace     Wd Sdng       None   \n",
       "\n",
       "      MasVnrArea ExterQual ExterCond Foundation BsmtQual BsmtCond  \\\n",
       "Id                                                                  \n",
       "255          0.0        TA        Gd     CBlock       TA       TA   \n",
       "1067         0.0        Gd        TA      PConc       Gd       TA   \n",
       "639          0.0        TA        TA     CBlock       Fa       TA   \n",
       "800        252.0        TA        TA     BrkTil       Gd       TA   \n",
       "381          0.0        TA        TA     BrkTil       TA       TA   \n",
       "\n",
       "     BsmtExposure BsmtFinType1  BsmtFinSF1 BsmtFinType2  BsmtFinSF2  \\\n",
       "Id                                                                    \n",
       "255            No          Rec         922          Unf           0   \n",
       "1067           No          Unf           0          Unf           0   \n",
       "639            No          Unf           0          Unf           0   \n",
       "800            No          ALQ         569          Unf           0   \n",
       "381            No          LwQ         218          Unf           0   \n",
       "\n",
       "      BsmtUnfSF  TotalBsmtSF Heating HeatingQC CentralAir Electrical  \\\n",
       "Id                                                                     \n",
       "255         392         1314    GasA        TA          Y      SBrkr   \n",
       "1067        799          799    GasA        Gd          Y      SBrkr   \n",
       "639         796          796    GasA        Gd          Y      FuseA   \n",
       "800         162          731    GasA        Ex          Y      SBrkr   \n",
       "381         808         1026    GasA        TA          Y      SBrkr   \n",
       "\n",
       "      1stFlrSF  2ndFlrSF  LowQualFinSF  GrLivArea  BsmtFullBath  BsmtHalfBath  \\\n",
       "Id                                                                              \n",
       "255       1314         0             0       1314             1             0   \n",
       "1067       799       772             0       1571             0             0   \n",
       "639        796         0             0        796             0             0   \n",
       "800        981       787             0       1768             1             0   \n",
       "381       1026       665             0       1691             0             0   \n",
       "\n",
       "      FullBath  HalfBath  BedroomAbvGr  KitchenAbvGr KitchenQual  \\\n",
       "Id                                                                 \n",
       "255          1         0             3             1          TA   \n",
       "1067         2         1             3             1          TA   \n",
       "639          1         0             2             1          TA   \n",
       "800          1         1             3             1          Gd   \n",
       "381          2         0             3             1          Gd   \n",
       "\n",
       "      TotRmsAbvGrd Functional  Fireplaces FireplaceQu GarageType  GarageYrBlt  \\\n",
       "Id                                                                              \n",
       "255              5        Typ           0         NaN     Attchd       1957.0   \n",
       "1067             7        Typ           1          TA     Attchd       1993.0   \n",
       "639              4        Typ           0         NaN        NaN          NaN   \n",
       "800              7        Typ           2          TA     Detchd       1939.0   \n",
       "381              6        Typ           1          Gd     Detchd       1924.0   \n",
       "\n",
       "     GarageFinish  GarageCars  GarageArea GarageQual GarageCond PavedDrive  \\\n",
       "Id                                                                           \n",
       "255           RFn           1         294         TA         TA          Y   \n",
       "1067          RFn           2         380         TA         TA          Y   \n",
       "639           NaN           0           0        NaN        NaN          P   \n",
       "800           Unf           1         240         TA         TA          Y   \n",
       "381           Unf           1         308         TA         TA          Y   \n",
       "\n",
       "      WoodDeckSF  OpenPorchSF  EnclosedPorch  3SsnPorch  ScreenPorch  \\\n",
       "Id                                                                     \n",
       "255          250            0              0          0            0   \n",
       "1067           0           40              0          0            0   \n",
       "639          328            0            164          0            0   \n",
       "800            0            0            264          0            0   \n",
       "381            0            0            242          0            0   \n",
       "\n",
       "      PoolArea PoolQC  Fence MiscFeature  MiscVal  MoSold  YrSold SaleType  \\\n",
       "Id                                                                           \n",
       "255          0    NaN    NaN         NaN        0       6    2010       WD   \n",
       "1067         0    NaN    NaN         NaN        0       5    2009       WD   \n",
       "639          0    NaN  MnPrv         NaN        0       5    2008       WD   \n",
       "800          0    NaN  MnPrv         NaN        0       6    2007       WD   \n",
       "381          0    NaN    NaN         NaN        0       5    2010       WD   \n",
       "\n",
       "     SaleCondition  SalePrice  price_group  \n",
       "Id                                          \n",
       "255         Normal     145000            0  \n",
       "1067        Normal     178000            0  \n",
       "639         Normal      85000            0  \n",
       "800         Normal     175000            0  \n",
       "381         Normal     127000            0  "
      ]
     },
     "execution_count": 8,
     "metadata": {},
     "output_type": "execute_result"
    }
   ],
   "source": [
    "df_evaluation_clf = pd.concat([X_train, y_train], axis=1)\n",
    "df_evaluation_clf['price_group'] = np.where(df_evaluation_clf['SalePrice'] > 214000, 1, 0)\n",
    "\n",
    "print(df_evaluation_clf['price_group'].value_counts())\n",
    "df_evaluation_clf.head()"
   ]
  },
  {
   "cell_type": "code",
   "execution_count": 9,
   "id": "6f610b6f",
   "metadata": {
    "ExecuteTime": {
     "end_time": "2022-08-28T23:26:54.671708Z",
     "start_time": "2022-08-28T23:26:54.456792Z"
    }
   },
   "outputs": [],
   "source": [
    "X_clf = df_evaluation_clf.drop(columns=['SalePrice', 'price_group'])\n",
    "y_clf = df_evaluation_clf[['SalePrice', 'price_group']]\n",
    "\n",
    "X_train_clf, X_test_clf, y_train_clf, y_test_clf = train_test_split(X_clf, y_clf, test_size=0.2, random_state=RANDOM_STATE)\n",
    "\n",
    "lst_columns_to_use = X_train_clf.select_dtypes(include=[int, 'int64', float, 'float64']).columns.tolist()\n",
    "X_train_clf = X_train_clf[lst_columns_to_use].copy()\n",
    "X_test_clf = X_test_clf[lst_columns_to_use].copy()\n",
    "\n",
    "dataprep_model = MeanMedianImputer(imputation_method='median', variables=X_train_clf.columns.tolist())\n",
    "\n",
    "X_train_clf_transformed = dataprep_model.fit_transform(X_train_clf)\n",
    "X_test_clf_transformed = dataprep_model.transform(X_test_clf)"
   ]
  },
  {
   "cell_type": "code",
   "execution_count": 10,
   "id": "0b6d22e5",
   "metadata": {
    "ExecuteTime": {
     "end_time": "2022-08-28T23:26:55.028138Z",
     "start_time": "2022-08-28T23:26:54.674711Z"
    }
   },
   "outputs": [
    {
     "name": "stdout",
     "output_type": "stream",
     "text": [
      "              precision    recall  f1-score   support\n",
      "\n",
      "           0       0.93      0.96      0.95       171\n",
      "           1       0.89      0.79      0.84        63\n",
      "\n",
      "    accuracy                           0.92       234\n",
      "   macro avg       0.91      0.88      0.89       234\n",
      "weighted avg       0.92      0.92      0.92       234\n",
      "\n"
     ]
    }
   ],
   "source": [
    "model_clf = RandomForestClassifier(n_jobs=-1, random_state=RANDOM_STATE)\n",
    "model_clf.fit(X_train_clf_transformed, y_train_clf['price_group'])\n",
    "y_pred_clf = model_clf.predict(X_test_clf_transformed)\n",
    "y_pred_clf = pd.DataFrame(y_pred_clf, index=X_test_clf_transformed.index, columns=['price_group'])\n",
    "\n",
    "print(classification_report(y_test_clf['price_group'], y_pred_clf))"
   ]
  },
  {
   "cell_type": "code",
   "execution_count": 108,
   "id": "d778eb66",
   "metadata": {
    "ExecuteTime": {
     "end_time": "2022-08-29T00:28:28.508909Z",
     "start_time": "2022-08-29T00:28:27.979637Z"
    }
   },
   "outputs": [
    {
     "data": {
      "image/png": "[encoded data removed]",
      "text/plain": [
       "<Figure size 576x432 with 1 Axes>"
      ]
     },
     "metadata": {
      "needs_background": "light"
     },
     "output_type": "display_data"
    }
   ],
   "source": [
    "df_importance = pd.DataFrame(\n",
    "    model_clf.feature_importances_, index=model.feature_names_in_, columns=['importance']\n",
    ").sort_values(by='importance', ascending=False)\n",
    "\n",
    "\n",
    "a4_dims = (8, 6)\n",
    "fig, ax = plt.subplots(figsize=a4_dims)\n",
    "\n",
    "sns.barplot(data=df_importance, y=df_importance.index, x='importance', ax=ax);"
   ]
  },
  {
   "cell_type": "markdown",
   "id": "8f292151",
   "metadata": {},
   "source": [
    "### Creating the regression models"
   ]
  },
  {
   "cell_type": "code",
   "execution_count": 11,
   "id": "1d5fde27",
   "metadata": {
    "ExecuteTime": {
     "end_time": "2022-08-28T23:26:55.434283Z",
     "start_time": "2022-08-28T23:26:55.030139Z"
    }
   },
   "outputs": [
    {
     "name": "stdout",
     "output_type": "stream",
     "text": [
      "\n",
      "MAE: 14581.020449438203\n",
      "RMSE: 22206.45240950226\n"
     ]
    }
   ],
   "source": [
    "X_train_after_clf = pd.concat([X_train_clf_transformed, y_train_clf['price_group']], axis=1)\n",
    "X_test_after_clf = pd.concat([X_test_clf_transformed, y_pred_clf], axis=1)\n",
    "\n",
    "model_rg_0 = RandomForestRegressor(n_jobs=-1, random_state=RANDOM_STATE)\n",
    "model_rg_0.fit(\n",
    "    X_train_after_clf[X_train_after_clf['price_group']==0],\n",
    "    y_train_clf.loc[X_train_after_clf[X_train_after_clf['price_group']==0].index, 'SalePrice']\n",
    ")\n",
    "\n",
    "y_pred_rg_0 = model_rg_0.predict(X_test_after_clf[X_test_after_clf['price_group']==0])\n",
    "\n",
    "print(f\"\"\"\n",
    "MAE: {mean_absolute_error(y_test_clf.loc[X_test_after_clf[X_test_after_clf['price_group']==0].index, 'SalePrice'], y_pred_rg_0)}\n",
    "RMSE: {mean_squared_error(y_test_clf.loc[X_test_after_clf[X_test_after_clf['price_group']==0].index, 'SalePrice'], y_pred_rg_0)**0.5}\"\"\")"
   ]
  },
  {
   "cell_type": "code",
   "execution_count": 12,
   "id": "8c70c8f4",
   "metadata": {
    "ExecuteTime": {
     "end_time": "2022-08-28T23:26:55.761611Z",
     "start_time": "2022-08-28T23:26:55.436272Z"
    }
   },
   "outputs": [
    {
     "name": "stdout",
     "output_type": "stream",
     "text": [
      "\n",
      "MAE: 31669.75553571429\n",
      "RMSE: 43367.647151957826\n"
     ]
    }
   ],
   "source": [
    "model_rg_1 = RandomForestRegressor(n_jobs=-1, random_state=RANDOM_STATE)\n",
    "model_rg_1.fit(\n",
    "    X_train_after_clf[X_train_after_clf['price_group']==1],\n",
    "    y_train_clf.loc[X_train_after_clf[X_train_after_clf['price_group']==1].index, 'SalePrice']\n",
    ")\n",
    "\n",
    "y_pred_rg_1 = model_rg_1.predict(X_test_after_clf[X_test_after_clf['price_group']==1])\n",
    "\n",
    "print(f\"\"\"\n",
    "MAE: {mean_absolute_error(y_test_clf.loc[X_test_after_clf[X_test_after_clf['price_group']==1].index, 'SalePrice'], y_pred_rg_1)}\n",
    "RMSE: {mean_squared_error(y_test_clf.loc[X_test_after_clf[X_test_after_clf['price_group']==1].index, 'SalePrice'], y_pred_rg_1)**0.5}\"\"\")"
   ]
  },
  {
   "cell_type": "markdown",
   "id": "fba45659",
   "metadata": {},
   "source": [
    "## 2nd approach: Clustering data before regression"
   ]
  },
  {
   "cell_type": "code",
   "execution_count": 35,
   "id": "00640d78",
   "metadata": {
    "ExecuteTime": {
     "end_time": "2022-09-16T00:08:42.925674Z",
     "start_time": "2022-09-16T00:08:42.527174Z"
    },
    "scrolled": true
   },
   "outputs": [
    {
     "data": {
      "text/plain": [
       "count      1460.0\n",
       "mean     180921.0\n",
       "std       79443.0\n",
       "min       34900.0\n",
       "25%      129975.0\n",
       "50%      163000.0\n",
       "75%      214000.0\n",
       "max      755000.0\n",
       "Name: SalePrice, dtype: float64"
      ]
     },
     "execution_count": 35,
     "metadata": {},
     "output_type": "execute_result"
    },
    {
     "data": {
      "image/png": "[encoded data removed]",
      "text/plain": [
       "<Figure size 432x288 with 1 Axes>"
      ]
     },
     "metadata": {
      "needs_background": "light"
     },
     "output_type": "display_data"
    }
   ],
   "source": [
    "df_evaluation = df.select_dtypes(exclude='object').copy()\n",
    "\n",
    "df_evaluation['SalePrice'].hist(bins=100);\n",
    "round(df_evaluation['SalePrice'].describe())"
   ]
  },
  {
   "cell_type": "code",
   "execution_count": 36,
   "id": "dd085665",
   "metadata": {
    "ExecuteTime": {
     "end_time": "2022-09-16T00:08:44.120256Z",
     "start_time": "2022-09-16T00:08:43.936207Z"
    }
   },
   "outputs": [],
   "source": [
    "X = df_evaluation.drop(columns=['SalePrice'])\n",
    "y = df_evaluation[['SalePrice']]\n",
    "\n",
    "X_train, X_test, y_train, y_test = train_test_split(X, y, test_size=0.20, random_state=RANDOM_STATE)"
   ]
  },
  {
   "cell_type": "code",
   "execution_count": 37,
   "id": "54eed891",
   "metadata": {
    "ExecuteTime": {
     "end_time": "2022-09-16T00:08:45.098234Z",
     "start_time": "2022-09-16T00:08:44.920268Z"
    }
   },
   "outputs": [],
   "source": [
    "X_train_agg, X_test_agg, y_train_agg, y_test_agg = train_test_split(X_train, y_train, test_size=0.20, random_state=RANDOM_STATE)"
   ]
  },
  {
   "cell_type": "code",
   "execution_count": 38,
   "id": "7db97f59",
   "metadata": {
    "ExecuteTime": {
     "end_time": "2022-09-16T00:08:49.361524Z",
     "start_time": "2022-09-16T00:08:49.126204Z"
    }
   },
   "outputs": [],
   "source": [
    "lst_columns_to_use = X_train_agg.select_dtypes(include=[int, 'int64', float, 'float64']).columns.tolist()\n",
    "dataprep_model = MeanMedianImputer(imputation_method='median', variables=lst_columns_to_use)\n",
    "X_train_agg_transformed = dataprep_model.fit_transform(X_train_agg[lst_columns_to_use])\n",
    "X_test_agg_transformed = dataprep_model.transform(X_test_agg[lst_columns_to_use])"
   ]
  },
  {
   "cell_type": "markdown",
   "id": "a6e44927",
   "metadata": {},
   "source": [
    "### Scaling data"
   ]
  },
  {
   "cell_type": "code",
   "execution_count": 39,
   "id": "a33039e5",
   "metadata": {
    "ExecuteTime": {
     "end_time": "2022-09-16T00:08:52.196492Z",
     "start_time": "2022-09-16T00:08:51.983860Z"
    }
   },
   "outputs": [],
   "source": [
    "lst_columns_to_use = X_train_agg.select_dtypes(include=[int, 'int64', float, 'float64']).columns.tolist()\n",
    "dataprep_model = MeanMedianImputer(imputation_method='median', variables=lst_columns_to_use)\n",
    "X_train_agg_transformed = dataprep_model.fit_transform(X_train_agg[lst_columns_to_use])\n",
    "X_test_agg_transformed = dataprep_model.transform(X_test_agg[lst_columns_to_use])"
   ]
  },
  {
   "cell_type": "code",
   "execution_count": 40,
   "id": "8f091fdf",
   "metadata": {
    "ExecuteTime": {
     "end_time": "2022-09-16T00:08:55.762322Z",
     "start_time": "2022-09-16T00:08:55.583331Z"
    }
   },
   "outputs": [],
   "source": [
    "scaling = MinMaxScaler()\n",
    "X_train_agg_transformed = scaling.fit_transform(X_train_agg_transformed)"
   ]
  },
  {
   "cell_type": "code",
   "execution_count": 41,
   "id": "6002d9fe",
   "metadata": {
    "ExecuteTime": {
     "end_time": "2022-09-16T00:09:00.975159Z",
     "start_time": "2022-09-16T00:09:00.527306Z"
    }
   },
   "outputs": [
    {
     "name": "stdout",
     "output_type": "stream",
     "text": [
      "934\n"
     ]
    }
   ],
   "source": [
    "model = DBSCAN(eps=0.1, min_samples=3, n_jobs=-1, )\n",
    "groups = model.fit(X_train_agg_transformed)\n",
    "print(len(groups.labels_))"
   ]
  },
  {
   "cell_type": "code",
   "execution_count": 43,
   "id": "52fc4e5c",
   "metadata": {
    "ExecuteTime": {
     "end_time": "2022-09-16T00:09:32.240440Z",
     "start_time": "2022-09-16T00:09:32.055325Z"
    }
   },
   "outputs": [
    {
     "data": {
      "text/plain": [
       "array([[0.58823529, 0.07876712, 0.01531099, ..., 0.        , 1.        ,\n",
       "        0.25      ],\n",
       "       [1.        , 0.18493151, 0.04747203, ..., 0.        , 0.27272727,\n",
       "        1.        ],\n",
       "       [0.58823529, 0.16780822, 0.00804143, ..., 0.        , 0.36363636,\n",
       "        0.        ],\n",
       "       ...,\n",
       "       [0.        , 0.16780822, 0.02780117, ..., 0.        , 0.27272727,\n",
       "        0.25      ],\n",
       "       [0.23529412, 0.20205479, 0.03874761, ..., 0.        , 0.54545455,\n",
       "        0.25      ],\n",
       "       [0.        , 0.23287671, 0.05490532, ..., 0.        , 0.36363636,\n",
       "        1.        ]])"
      ]
     },
     "execution_count": 43,
     "metadata": {},
     "output_type": "execute_result"
    }
   ],
   "source": [
    "X_train_agg_transformed"
   ]
  },
  {
   "cell_type": "code",
   "execution_count": 38,
   "id": "d330cf5e",
   "metadata": {
    "ExecuteTime": {
     "end_time": "2022-08-28T23:46:34.230692Z",
     "start_time": "2022-08-28T23:46:34.057471Z"
    }
   },
   "outputs": [
    {
     "data": {
      "text/plain": [
       "934"
      ]
     },
     "execution_count": 38,
     "metadata": {},
     "output_type": "execute_result"
    }
   ],
   "source": [
    "len(X_train_agg_transformed)"
   ]
  },
  {
   "cell_type": "markdown",
   "id": "78d49d5e",
   "metadata": {},
   "source": [
    "## 3rd approach"
   ]
  },
  {
   "cell_type": "code",
   "execution_count": 186,
   "id": "087a88ff",
   "metadata": {
    "ExecuteTime": {
     "end_time": "2022-09-16T01:36:26.635114Z",
     "start_time": "2022-09-16T01:36:26.172048Z"
    },
    "scrolled": true
   },
   "outputs": [
    {
     "data": {
      "text/plain": [
       "count      1460.0\n",
       "mean     180921.0\n",
       "std       79443.0\n",
       "min       34900.0\n",
       "25%      129975.0\n",
       "50%      163000.0\n",
       "75%      214000.0\n",
       "max      755000.0\n",
       "Name: SalePrice, dtype: float64"
      ]
     },
     "execution_count": 186,
     "metadata": {},
     "output_type": "execute_result"
    },
    {
     "data": {
      "image/png": "[encoded data removed]",
      "text/plain": [
       "<Figure size 432x288 with 1 Axes>"
      ]
     },
     "metadata": {
      "needs_background": "light"
     },
     "output_type": "display_data"
    }
   ],
   "source": [
    "lst_columns_subset = df.select_dtypes(exclude='object').columns.tolist()\n",
    "df_evaluation = df[lst_columns_subset].copy()\n",
    "\n",
    "df_evaluation['SalePrice'].hist(bins=100);\n",
    "round(df_evaluation['SalePrice'].describe())"
   ]
  },
  {
   "cell_type": "code",
   "execution_count": 178,
   "id": "68fa6e45",
   "metadata": {
    "ExecuteTime": {
     "end_time": "2022-09-16T01:35:08.276396Z",
     "start_time": "2022-09-16T01:35:08.011386Z"
    }
   },
   "outputs": [],
   "source": [
    "X = df_evaluation.drop(columns=['SalePrice'])\n",
    "y = df_evaluation[['SalePrice']]\n",
    "\n",
    "X_train, X_test, y_train, y_test = train_test_split(X, y, test_size=0.20, random_state=RANDOM_STATE)\n",
    "\n",
    "X_train_agg, X_test_agg, y_train_agg, y_test_agg = train_test_split(X_train, y_train, test_size=0.20, random_state=RANDOM_STATE)"
   ]
  },
  {
   "cell_type": "markdown",
   "id": "cbf0d79f",
   "metadata": {},
   "source": [
    "### Preprocessing data\n",
    "\n",
    "#### Inputing data in null positions"
   ]
  },
  {
   "cell_type": "code",
   "execution_count": 179,
   "id": "75c649dd",
   "metadata": {
    "ExecuteTime": {
     "end_time": "2022-09-16T01:35:10.343690Z",
     "start_time": "2022-09-16T01:35:10.059622Z"
    }
   },
   "outputs": [],
   "source": [
    "lst_columns_to_use = X_train_agg.select_dtypes(include=[int, 'int64', float, 'float64']).columns.tolist()\n",
    "\n",
    "dataprep_model = MeanMedianImputer(imputation_method='median', variables=lst_columns_to_use)\n",
    "X_train_agg_transformed = dataprep_model.fit_transform(X_train_agg[lst_columns_to_use])\n",
    "X_test_agg_transformed = dataprep_model.transform(X_test_agg[lst_columns_to_use])"
   ]
  },
  {
   "cell_type": "markdown",
   "id": "03e2e6f8",
   "metadata": {},
   "source": [
    "#### Scaling the data"
   ]
  },
  {
   "cell_type": "code",
   "execution_count": 180,
   "id": "56607a24",
   "metadata": {
    "ExecuteTime": {
     "end_time": "2022-09-16T01:35:12.326782Z",
     "start_time": "2022-09-16T01:35:12.073780Z"
    }
   },
   "outputs": [],
   "source": [
    "scaling = MinMaxScaler()\n",
    "X_train_agg_transformed = scaling.fit_transform(X_train_agg_transformed)\n",
    "X_test_agg_transformed = scaling.transform(X_test_agg_transformed)\n",
    "\n",
    "X_train_agg_transformed = pd.DataFrame(X_train_agg_transformed, columns=X_train_agg.columns, index=X_train_agg.index).copy()\n",
    "X_test_agg_transformed = pd.DataFrame(X_test_agg_transformed, columns=X_test_agg.columns, index=X_test_agg.index)"
   ]
  },
  {
   "cell_type": "code",
   "execution_count": 181,
   "id": "73a5d1a1",
   "metadata": {
    "ExecuteTime": {
     "end_time": "2022-09-16T01:35:12.795547Z",
     "start_time": "2022-09-16T01:35:12.457582Z"
    }
   },
   "outputs": [
    {
     "name": "stdout",
     "output_type": "stream",
     "text": [
      "Qty of items per group:\n",
      "0    399\n",
      "1    290\n",
      "2    245\n",
      "Name: group, dtype: int64\n"
     ]
    }
   ],
   "source": [
    "agg_model = KMeans(n_clusters=3, random_state=RANDOM_STATE)\n",
    "groups = agg_model.fit(X_train_agg_transformed)\n",
    "\n",
    "X_train_agg_transformed['group'] = groups.labels_\n",
    "\n",
    "X_test_agg_transformed['group'] = agg_model.predict(X_test_agg_transformed)\n",
    "\n",
    "X_train_agg_transformed.head()\n",
    "\n",
    "print(f\"\"\"Qty of items per group:\n",
    "{X_train_agg_transformed['group'].value_counts()}\"\"\")"
   ]
  },
  {
   "cell_type": "markdown",
   "id": "3b3ae997",
   "metadata": {},
   "source": [
    "### Creating the regression models"
   ]
  },
  {
   "cell_type": "code",
   "execution_count": 204,
   "id": "3f3327d3",
   "metadata": {
    "ExecuteTime": {
     "end_time": "2022-09-16T01:58:31.296054Z",
     "start_time": "2022-09-16T01:58:30.450105Z"
    }
   },
   "outputs": [
    {
     "data": {
      "text/html": [
       "<div>\n",
       "<style scoped>\n",
       "    .dataframe tbody tr th:only-of-type {\n",
       "        vertical-align: middle;\n",
       "    }\n",
       "\n",
       "    .dataframe tbody tr th {\n",
       "        vertical-align: top;\n",
       "    }\n",
       "\n",
       "    .dataframe thead th {\n",
       "        text-align: right;\n",
       "    }\n",
       "</style>\n",
       "<table border=\"1\" class=\"dataframe\">\n",
       "  <thead>\n",
       "    <tr style=\"text-align: right;\">\n",
       "      <th></th>\n",
       "      <th>qtd_registries</th>\n",
       "      <th>MAE</th>\n",
       "      <th>RMSE</th>\n",
       "    </tr>\n",
       "  </thead>\n",
       "  <tbody>\n",
       "    <tr>\n",
       "      <th>group_0</th>\n",
       "      <td>100</td>\n",
       "      <td>12448.554200</td>\n",
       "      <td>17330.914151</td>\n",
       "    </tr>\n",
       "    <tr>\n",
       "      <th>group_1</th>\n",
       "      <td>70</td>\n",
       "      <td>24084.283429</td>\n",
       "      <td>35204.046536</td>\n",
       "    </tr>\n",
       "    <tr>\n",
       "      <th>group_2</th>\n",
       "      <td>64</td>\n",
       "      <td>22114.547344</td>\n",
       "      <td>32402.880486</td>\n",
       "    </tr>\n",
       "  </tbody>\n",
       "</table>\n",
       "</div>"
      ],
      "text/plain": [
       "         qtd_registries           MAE          RMSE\n",
       "group_0             100  12448.554200  17330.914151\n",
       "group_1              70  24084.283429  35204.046536\n",
       "group_2              64  22114.547344  32402.880486"
      ]
     },
     "execution_count": 204,
     "metadata": {},
     "output_type": "execute_result"
    }
   ],
   "source": [
    "dct_result = {}\n",
    "\n",
    "for group in set(groups.labels_):\n",
    "    # training dataset\n",
    "    X_train_agg_transformed_temp = X_train_agg_transformed.loc[X_train_agg_transformed['group']==group].copy()\n",
    "    y_train_agg_temp = y_train_agg.loc[X_train_agg_transformed_temp.index].copy()\n",
    "    \n",
    "    # validation dataset\n",
    "    X_test_agg_transformed_temp = X_test_agg_transformed.loc[X_test_agg_transformed['group']==group].copy()\n",
    "    y_test_agg_temp = y_test_agg.loc[X_test_agg_transformed_temp.index].copy()\n",
    "    \n",
    "    model_rg = RandomForestRegressor(n_jobs=-1, random_state=RANDOM_STATE)\n",
    "    model_rg.fit(\n",
    "        X_train_agg_transformed_temp,\n",
    "        y_train_agg_temp.iloc[:, 0].values\n",
    "    )\n",
    "    \n",
    "    model_name = 'regression_model_group_'\n",
    "    extension = '.pkl'\n",
    "    \n",
    "    pickle.dump(model_rg, open(MODELS_FOLDER + f'{model_name}{str(group)}{extension}', 'wb'))\n",
    "\n",
    "    y_pred_rg = model_rg.predict(X_test_agg_transformed_temp)\n",
    "    \n",
    "    dct_result[f'group_{group}'] = {\n",
    "        'qtd_registries': len(y_pred_rg),\n",
    "        'MAE': mean_absolute_error(y_test_agg_temp.values, y_pred_rg),\n",
    "        'RMSE': mean_squared_error(y_test_agg_temp.values, y_pred_rg)**0.5}\n",
    "    \n",
    "df_result = pd.DataFrame.from_dict(dct_result, orient='index')\n",
    "\n",
    "df_result"
   ]
  },
  {
   "cell_type": "code",
   "execution_count": 183,
   "id": "4666f873",
   "metadata": {
    "ExecuteTime": {
     "end_time": "2022-09-16T01:35:16.766295Z",
     "start_time": "2022-09-16T01:35:16.506265Z"
    }
   },
   "outputs": [
    {
     "data": {
      "text/plain": [
       "26799.82488748356"
      ]
     },
     "execution_count": 183,
     "metadata": {},
     "output_type": "execute_result"
    }
   ],
   "source": [
    "(df_result['RMSE']*df_result['qtd_registries']).sum()/df_result['qtd_registries'].sum()"
   ]
  },
  {
   "cell_type": "markdown",
   "id": "f7054232",
   "metadata": {},
   "source": [
    "### Testing dataset"
   ]
  },
  {
   "cell_type": "code",
   "execution_count": 201,
   "id": "84344a1e",
   "metadata": {
    "ExecuteTime": {
     "end_time": "2022-09-16T01:56:39.688304Z",
     "start_time": "2022-09-16T01:56:39.401369Z"
    }
   },
   "outputs": [],
   "source": [
    "try:\n",
    "    lst_columns_subset.remove('SalePrice')\n",
    "except Exception:\n",
    "    pass\n",
    "\n",
    "df_test_evaluation = df_test[lst_columns_subset].copy()\n",
    "\n",
    "df_test_evaluation = dataprep_model.transform(df_test_evaluation)\n",
    "df_test_evaluation = scaling.transform(df_test_evaluation)\n",
    "\n",
    "df_test_evaluation = pd.DataFrame(df_test_evaluation, columns=lst_columns_subset, index=df_test.index)\n",
    "\n",
    "df_test_evaluation['group'] = agg_model.predict(df_test_evaluation)"
   ]
  },
  {
   "cell_type": "code",
   "execution_count": 219,
   "id": "e6dd8c03",
   "metadata": {
    "ExecuteTime": {
     "end_time": "2022-09-16T02:05:27.952045Z",
     "start_time": "2022-09-16T02:05:27.601886Z"
    }
   },
   "outputs": [
    {
     "data": {
      "text/plain": [
       "1459"
      ]
     },
     "execution_count": 219,
     "metadata": {},
     "output_type": "execute_result"
    }
   ],
   "source": [
    "df_y_pred = pd.DataFrame()\n",
    "\n",
    "for group in df_test_evaluation['group'].unique():\n",
    "    \n",
    "    model = pickle.load(open(MODELS_FOLDER + f'{model_name}{group}{extension}', 'rb'))\n",
    "    y_pred = model.predict(df_test_evaluation[df_test_evaluation['group']==group])\n",
    "    y_pred = pd.DataFrame(y_pred, index=df_test_evaluation[df_test_evaluation['group']==group].index, columns=['SalePrice'])\n",
    "    df_y_pred = pd.concat([\n",
    "        df_y_pred, y_pred\n",
    "    ], axis=0)\n",
    "\n",
    "len(df_y_pred)"
   ]
  },
  {
   "cell_type": "code",
   "execution_count": 223,
   "id": "8b368782",
   "metadata": {
    "ExecuteTime": {
     "end_time": "2022-09-16T02:07:33.992352Z",
     "start_time": "2022-09-16T02:07:33.714013Z"
    }
   },
   "outputs": [],
   "source": [
    "df_y_pred.to_csv(PROCESSED_FOLDER + 'y_pred_kaggle_clustering_experiment.csv')"
   ]
  },
  {
   "cell_type": "code",
   "execution_count": null,
   "id": "2fccd7d8",
   "metadata": {},
   "outputs": [],
   "source": []
  }
 ],
 "metadata": {
  "hide_input": false,
  "kernelspec": {
   "display_name": "Python 3 (ipykernel)",
   "language": "python",
   "name": "python3"
  },
  "language_info": {
   "codemirror_mode": {
    "name": "ipython",
    "version": 3
   },
   "file_extension": ".py",
   "mimetype": "text/x-python",
   "name": "python",
   "nbconvert_exporter": "python",
   "pygments_lexer": "ipython3",
   "version": "3.9.13"
  },
  "toc": {
   "base_numbering": 1,
   "nav_menu": {},
   "number_sections": true,
   "sideBar": true,
   "skip_h1_title": false,
   "title_cell": "Table of Contents",
   "title_sidebar": "Contents",
   "toc_cell": false,
   "toc_position": {
    "height": "calc(100% - 180px)",
    "left": "10px",
    "top": "150px",
    "width": "384px"
   },
   "toc_section_display": true,
   "toc_window_display": true
  },
  "vscode": {
   "interpreter": {
    "hash": "85ada928e0978a7fb50332dc74c1b81a83a4f54edfa7632541474a5d32d07244"
   }
  }
 },
 "nbformat": 4,
 "nbformat_minor": 5
}
