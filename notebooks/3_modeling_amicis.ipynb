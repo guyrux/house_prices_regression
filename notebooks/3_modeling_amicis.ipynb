{
 "cells": [
  {
   "cell_type": "markdown",
   "id": "d6827126",
   "metadata": {},
   "source": [
    "# Data modeling"
   ]
  },
  {
   "cell_type": "markdown",
   "id": "b098da26",
   "metadata": {},
   "source": [
    "## Library import"
   ]
  },
  {
   "cell_type": "code",
   "execution_count": 2,
   "id": "1e9b8cce",
   "metadata": {
    "ExecuteTime": {
     "end_time": "2022-07-09T20:25:32.582959Z",
     "start_time": "2022-07-09T20:25:29.700224Z"
    }
   },
   "outputs": [],
   "source": [
    "import pandas as pd\n",
    "import seaborn as sns\n",
    "from sklearn.model_selection import train_test_split\n",
    "import statsmodels.api as sm\n",
    "from sklearn.metrics import mean_squared_error as mse"
   ]
  },
  {
   "cell_type": "code",
   "execution_count": null,
   "id": "a6bd5bbe",
   "metadata": {},
   "outputs": [],
   "source": []
  },
  {
   "cell_type": "markdown",
   "id": "f4e69769",
   "metadata": {},
   "source": [
    "## Data import"
   ]
  },
  {
   "cell_type": "code",
   "execution_count": 3,
   "id": "d5c5e650",
   "metadata": {
    "ExecuteTime": {
     "end_time": "2022-07-09T20:25:32.694987Z",
     "start_time": "2022-07-09T20:25:32.584963Z"
    }
   },
   "outputs": [],
   "source": [
    "df = pd.read_parquet('../data/interim/df_log_data_baseline.parquet')"
   ]
  },
  {
   "cell_type": "code",
   "execution_count": 4,
   "id": "e28db9b5",
   "metadata": {
    "ExecuteTime": {
     "end_time": "2022-07-09T20:25:32.726994Z",
     "start_time": "2022-07-09T20:25:32.696987Z"
    }
   },
   "outputs": [
    {
     "data": {
      "text/html": [
       "<div>\n",
       "<style scoped>\n",
       "    .dataframe tbody tr th:only-of-type {\n",
       "        vertical-align: middle;\n",
       "    }\n",
       "\n",
       "    .dataframe tbody tr th {\n",
       "        vertical-align: top;\n",
       "    }\n",
       "\n",
       "    .dataframe thead th {\n",
       "        text-align: right;\n",
       "    }\n",
       "</style>\n",
       "<table border=\"1\" class=\"dataframe\">\n",
       "  <thead>\n",
       "    <tr style=\"text-align: right;\">\n",
       "      <th></th>\n",
       "      <th>log_MSSubClass</th>\n",
       "      <th>log_LotArea</th>\n",
       "      <th>log_OverallQual</th>\n",
       "      <th>log_OverallCond</th>\n",
       "      <th>log_YearBuilt</th>\n",
       "      <th>log_YearRemodAdd</th>\n",
       "      <th>log_MasVnrArea</th>\n",
       "      <th>log_BsmtFinSF1</th>\n",
       "      <th>log_BsmtFinSF2</th>\n",
       "      <th>log_BsmtUnfSF</th>\n",
       "      <th>...</th>\n",
       "      <th>log_WoodDeckSF</th>\n",
       "      <th>log_OpenPorchSF</th>\n",
       "      <th>log_EnclosedPorch</th>\n",
       "      <th>log_3SsnPorch</th>\n",
       "      <th>log_ScreenPorch</th>\n",
       "      <th>log_PoolArea</th>\n",
       "      <th>log_MiscVal</th>\n",
       "      <th>log_MoSold</th>\n",
       "      <th>log_YrSold</th>\n",
       "      <th>log_SalePrice</th>\n",
       "    </tr>\n",
       "  </thead>\n",
       "  <tbody>\n",
       "    <tr>\n",
       "      <th>0</th>\n",
       "      <td>4.094345</td>\n",
       "      <td>9.041922</td>\n",
       "      <td>1.945910</td>\n",
       "      <td>1.609438</td>\n",
       "      <td>7.602401</td>\n",
       "      <td>7.602401</td>\n",
       "      <td>5.283204</td>\n",
       "      <td>6.561031</td>\n",
       "      <td>0.000000</td>\n",
       "      <td>5.017280</td>\n",
       "      <td>...</td>\n",
       "      <td>0.000000</td>\n",
       "      <td>4.127134</td>\n",
       "      <td>0.000000</td>\n",
       "      <td>0.0</td>\n",
       "      <td>0.0</td>\n",
       "      <td>0.0</td>\n",
       "      <td>0.000000</td>\n",
       "      <td>0.693147</td>\n",
       "      <td>7.604894</td>\n",
       "      <td>12.247694</td>\n",
       "    </tr>\n",
       "    <tr>\n",
       "      <th>1</th>\n",
       "      <td>2.995732</td>\n",
       "      <td>9.169518</td>\n",
       "      <td>1.791759</td>\n",
       "      <td>2.079442</td>\n",
       "      <td>7.588830</td>\n",
       "      <td>7.588830</td>\n",
       "      <td>0.000000</td>\n",
       "      <td>6.886532</td>\n",
       "      <td>0.000000</td>\n",
       "      <td>5.652489</td>\n",
       "      <td>...</td>\n",
       "      <td>5.700444</td>\n",
       "      <td>0.000000</td>\n",
       "      <td>0.000000</td>\n",
       "      <td>0.0</td>\n",
       "      <td>0.0</td>\n",
       "      <td>0.0</td>\n",
       "      <td>0.000000</td>\n",
       "      <td>1.609438</td>\n",
       "      <td>7.604396</td>\n",
       "      <td>12.109011</td>\n",
       "    </tr>\n",
       "    <tr>\n",
       "      <th>2</th>\n",
       "      <td>4.094345</td>\n",
       "      <td>9.328123</td>\n",
       "      <td>1.945910</td>\n",
       "      <td>1.609438</td>\n",
       "      <td>7.601402</td>\n",
       "      <td>7.601902</td>\n",
       "      <td>5.093750</td>\n",
       "      <td>6.188264</td>\n",
       "      <td>0.000000</td>\n",
       "      <td>6.075346</td>\n",
       "      <td>...</td>\n",
       "      <td>0.000000</td>\n",
       "      <td>3.761200</td>\n",
       "      <td>0.000000</td>\n",
       "      <td>0.0</td>\n",
       "      <td>0.0</td>\n",
       "      <td>0.0</td>\n",
       "      <td>0.000000</td>\n",
       "      <td>2.197225</td>\n",
       "      <td>7.604894</td>\n",
       "      <td>12.317167</td>\n",
       "    </tr>\n",
       "    <tr>\n",
       "      <th>3</th>\n",
       "      <td>4.248495</td>\n",
       "      <td>9.164296</td>\n",
       "      <td>1.945910</td>\n",
       "      <td>1.609438</td>\n",
       "      <td>7.557473</td>\n",
       "      <td>7.585789</td>\n",
       "      <td>0.000000</td>\n",
       "      <td>5.379897</td>\n",
       "      <td>0.000000</td>\n",
       "      <td>6.293419</td>\n",
       "      <td>...</td>\n",
       "      <td>0.000000</td>\n",
       "      <td>3.583519</td>\n",
       "      <td>5.609472</td>\n",
       "      <td>0.0</td>\n",
       "      <td>0.0</td>\n",
       "      <td>0.0</td>\n",
       "      <td>0.000000</td>\n",
       "      <td>0.693147</td>\n",
       "      <td>7.603898</td>\n",
       "      <td>11.849398</td>\n",
       "    </tr>\n",
       "    <tr>\n",
       "      <th>4</th>\n",
       "      <td>4.094345</td>\n",
       "      <td>9.565214</td>\n",
       "      <td>2.079442</td>\n",
       "      <td>1.609438</td>\n",
       "      <td>7.600902</td>\n",
       "      <td>7.600902</td>\n",
       "      <td>5.860786</td>\n",
       "      <td>6.486161</td>\n",
       "      <td>0.000000</td>\n",
       "      <td>6.196444</td>\n",
       "      <td>...</td>\n",
       "      <td>5.262690</td>\n",
       "      <td>4.442651</td>\n",
       "      <td>0.000000</td>\n",
       "      <td>0.0</td>\n",
       "      <td>0.0</td>\n",
       "      <td>0.0</td>\n",
       "      <td>0.000000</td>\n",
       "      <td>2.484907</td>\n",
       "      <td>7.604894</td>\n",
       "      <td>12.429216</td>\n",
       "    </tr>\n",
       "    <tr>\n",
       "      <th>...</th>\n",
       "      <td>...</td>\n",
       "      <td>...</td>\n",
       "      <td>...</td>\n",
       "      <td>...</td>\n",
       "      <td>...</td>\n",
       "      <td>...</td>\n",
       "      <td>...</td>\n",
       "      <td>...</td>\n",
       "      <td>...</td>\n",
       "      <td>...</td>\n",
       "      <td>...</td>\n",
       "      <td>...</td>\n",
       "      <td>...</td>\n",
       "      <td>...</td>\n",
       "      <td>...</td>\n",
       "      <td>...</td>\n",
       "      <td>...</td>\n",
       "      <td>...</td>\n",
       "      <td>...</td>\n",
       "      <td>...</td>\n",
       "      <td>...</td>\n",
       "    </tr>\n",
       "    <tr>\n",
       "      <th>1455</th>\n",
       "      <td>4.094345</td>\n",
       "      <td>8.976768</td>\n",
       "      <td>1.791759</td>\n",
       "      <td>1.609438</td>\n",
       "      <td>7.600402</td>\n",
       "      <td>7.600902</td>\n",
       "      <td>0.000000</td>\n",
       "      <td>0.000000</td>\n",
       "      <td>0.000000</td>\n",
       "      <td>6.860664</td>\n",
       "      <td>...</td>\n",
       "      <td>0.000000</td>\n",
       "      <td>3.713572</td>\n",
       "      <td>0.000000</td>\n",
       "      <td>0.0</td>\n",
       "      <td>0.0</td>\n",
       "      <td>0.0</td>\n",
       "      <td>0.000000</td>\n",
       "      <td>2.079442</td>\n",
       "      <td>7.604396</td>\n",
       "      <td>12.072541</td>\n",
       "    </tr>\n",
       "    <tr>\n",
       "      <th>1456</th>\n",
       "      <td>2.995732</td>\n",
       "      <td>9.486076</td>\n",
       "      <td>1.791759</td>\n",
       "      <td>1.791759</td>\n",
       "      <td>7.589842</td>\n",
       "      <td>7.594884</td>\n",
       "      <td>4.787492</td>\n",
       "      <td>6.673298</td>\n",
       "      <td>5.099866</td>\n",
       "      <td>6.380123</td>\n",
       "      <td>...</td>\n",
       "      <td>5.857933</td>\n",
       "      <td>0.000000</td>\n",
       "      <td>0.000000</td>\n",
       "      <td>0.0</td>\n",
       "      <td>0.0</td>\n",
       "      <td>0.0</td>\n",
       "      <td>0.000000</td>\n",
       "      <td>0.693147</td>\n",
       "      <td>7.605890</td>\n",
       "      <td>12.254863</td>\n",
       "    </tr>\n",
       "    <tr>\n",
       "      <th>1457</th>\n",
       "      <td>4.248495</td>\n",
       "      <td>9.109636</td>\n",
       "      <td>1.945910</td>\n",
       "      <td>2.197225</td>\n",
       "      <td>7.570959</td>\n",
       "      <td>7.603898</td>\n",
       "      <td>0.000000</td>\n",
       "      <td>5.620401</td>\n",
       "      <td>0.000000</td>\n",
       "      <td>6.777647</td>\n",
       "      <td>...</td>\n",
       "      <td>0.000000</td>\n",
       "      <td>4.110874</td>\n",
       "      <td>0.000000</td>\n",
       "      <td>0.0</td>\n",
       "      <td>0.0</td>\n",
       "      <td>0.0</td>\n",
       "      <td>7.824446</td>\n",
       "      <td>1.609438</td>\n",
       "      <td>7.605890</td>\n",
       "      <td>12.493130</td>\n",
       "    </tr>\n",
       "    <tr>\n",
       "      <th>1458</th>\n",
       "      <td>2.995732</td>\n",
       "      <td>9.181632</td>\n",
       "      <td>1.609438</td>\n",
       "      <td>1.791759</td>\n",
       "      <td>7.575585</td>\n",
       "      <td>7.598900</td>\n",
       "      <td>0.000000</td>\n",
       "      <td>3.912023</td>\n",
       "      <td>6.937314</td>\n",
       "      <td>0.000000</td>\n",
       "      <td>...</td>\n",
       "      <td>5.905362</td>\n",
       "      <td>0.000000</td>\n",
       "      <td>4.727388</td>\n",
       "      <td>0.0</td>\n",
       "      <td>0.0</td>\n",
       "      <td>0.0</td>\n",
       "      <td>0.000000</td>\n",
       "      <td>1.386294</td>\n",
       "      <td>7.605890</td>\n",
       "      <td>11.864462</td>\n",
       "    </tr>\n",
       "    <tr>\n",
       "      <th>1459</th>\n",
       "      <td>2.995732</td>\n",
       "      <td>9.204020</td>\n",
       "      <td>1.609438</td>\n",
       "      <td>1.791759</td>\n",
       "      <td>7.583248</td>\n",
       "      <td>7.583248</td>\n",
       "      <td>0.000000</td>\n",
       "      <td>6.722630</td>\n",
       "      <td>5.673323</td>\n",
       "      <td>4.919981</td>\n",
       "      <td>...</td>\n",
       "      <td>6.602588</td>\n",
       "      <td>4.234107</td>\n",
       "      <td>0.000000</td>\n",
       "      <td>0.0</td>\n",
       "      <td>0.0</td>\n",
       "      <td>0.0</td>\n",
       "      <td>0.000000</td>\n",
       "      <td>1.791759</td>\n",
       "      <td>7.604894</td>\n",
       "      <td>11.901583</td>\n",
       "    </tr>\n",
       "  </tbody>\n",
       "</table>\n",
       "<p>1460 rows × 36 columns</p>\n",
       "</div>"
      ],
      "text/plain": [
       "      log_MSSubClass  log_LotArea  log_OverallQual  log_OverallCond  \\\n",
       "0           4.094345     9.041922         1.945910         1.609438   \n",
       "1           2.995732     9.169518         1.791759         2.079442   \n",
       "2           4.094345     9.328123         1.945910         1.609438   \n",
       "3           4.248495     9.164296         1.945910         1.609438   \n",
       "4           4.094345     9.565214         2.079442         1.609438   \n",
       "...              ...          ...              ...              ...   \n",
       "1455        4.094345     8.976768         1.791759         1.609438   \n",
       "1456        2.995732     9.486076         1.791759         1.791759   \n",
       "1457        4.248495     9.109636         1.945910         2.197225   \n",
       "1458        2.995732     9.181632         1.609438         1.791759   \n",
       "1459        2.995732     9.204020         1.609438         1.791759   \n",
       "\n",
       "      log_YearBuilt  log_YearRemodAdd  log_MasVnrArea  log_BsmtFinSF1  \\\n",
       "0          7.602401          7.602401        5.283204        6.561031   \n",
       "1          7.588830          7.588830        0.000000        6.886532   \n",
       "2          7.601402          7.601902        5.093750        6.188264   \n",
       "3          7.557473          7.585789        0.000000        5.379897   \n",
       "4          7.600902          7.600902        5.860786        6.486161   \n",
       "...             ...               ...             ...             ...   \n",
       "1455       7.600402          7.600902        0.000000        0.000000   \n",
       "1456       7.589842          7.594884        4.787492        6.673298   \n",
       "1457       7.570959          7.603898        0.000000        5.620401   \n",
       "1458       7.575585          7.598900        0.000000        3.912023   \n",
       "1459       7.583248          7.583248        0.000000        6.722630   \n",
       "\n",
       "      log_BsmtFinSF2  log_BsmtUnfSF  ...  log_WoodDeckSF  log_OpenPorchSF  \\\n",
       "0           0.000000       5.017280  ...        0.000000         4.127134   \n",
       "1           0.000000       5.652489  ...        5.700444         0.000000   \n",
       "2           0.000000       6.075346  ...        0.000000         3.761200   \n",
       "3           0.000000       6.293419  ...        0.000000         3.583519   \n",
       "4           0.000000       6.196444  ...        5.262690         4.442651   \n",
       "...              ...            ...  ...             ...              ...   \n",
       "1455        0.000000       6.860664  ...        0.000000         3.713572   \n",
       "1456        5.099866       6.380123  ...        5.857933         0.000000   \n",
       "1457        0.000000       6.777647  ...        0.000000         4.110874   \n",
       "1458        6.937314       0.000000  ...        5.905362         0.000000   \n",
       "1459        5.673323       4.919981  ...        6.602588         4.234107   \n",
       "\n",
       "      log_EnclosedPorch  log_3SsnPorch  log_ScreenPorch  log_PoolArea  \\\n",
       "0              0.000000            0.0              0.0           0.0   \n",
       "1              0.000000            0.0              0.0           0.0   \n",
       "2              0.000000            0.0              0.0           0.0   \n",
       "3              5.609472            0.0              0.0           0.0   \n",
       "4              0.000000            0.0              0.0           0.0   \n",
       "...                 ...            ...              ...           ...   \n",
       "1455           0.000000            0.0              0.0           0.0   \n",
       "1456           0.000000            0.0              0.0           0.0   \n",
       "1457           0.000000            0.0              0.0           0.0   \n",
       "1458           4.727388            0.0              0.0           0.0   \n",
       "1459           0.000000            0.0              0.0           0.0   \n",
       "\n",
       "      log_MiscVal  log_MoSold  log_YrSold  log_SalePrice  \n",
       "0        0.000000    0.693147    7.604894      12.247694  \n",
       "1        0.000000    1.609438    7.604396      12.109011  \n",
       "2        0.000000    2.197225    7.604894      12.317167  \n",
       "3        0.000000    0.693147    7.603898      11.849398  \n",
       "4        0.000000    2.484907    7.604894      12.429216  \n",
       "...           ...         ...         ...            ...  \n",
       "1455     0.000000    2.079442    7.604396      12.072541  \n",
       "1456     0.000000    0.693147    7.605890      12.254863  \n",
       "1457     7.824446    1.609438    7.605890      12.493130  \n",
       "1458     0.000000    1.386294    7.605890      11.864462  \n",
       "1459     0.000000    1.791759    7.604894      11.901583  \n",
       "\n",
       "[1460 rows x 36 columns]"
      ]
     },
     "execution_count": 4,
     "metadata": {},
     "output_type": "execute_result"
    }
   ],
   "source": [
    "df"
   ]
  },
  {
   "cell_type": "markdown",
   "id": "a97d2260",
   "metadata": {},
   "source": [
    "## Data inspection"
   ]
  },
  {
   "cell_type": "code",
   "execution_count": 5,
   "id": "00657959",
   "metadata": {
    "ExecuteTime": {
     "end_time": "2022-07-09T20:25:32.742997Z",
     "start_time": "2022-07-09T20:25:32.728995Z"
    }
   },
   "outputs": [
    {
     "name": "stdout",
     "output_type": "stream",
     "text": [
      "<class 'pandas.core.frame.DataFrame'>\n",
      "RangeIndex: 1460 entries, 0 to 1459\n",
      "Data columns (total 36 columns):\n",
      " #   Column             Non-Null Count  Dtype  \n",
      "---  ------             --------------  -----  \n",
      " 0   log_MSSubClass     1460 non-null   float64\n",
      " 1   log_LotArea        1460 non-null   float64\n",
      " 2   log_OverallQual    1460 non-null   float64\n",
      " 3   log_OverallCond    1460 non-null   float64\n",
      " 4   log_YearBuilt      1460 non-null   float64\n",
      " 5   log_YearRemodAdd   1460 non-null   float64\n",
      " 6   log_MasVnrArea     1460 non-null   float64\n",
      " 7   log_BsmtFinSF1     1460 non-null   float64\n",
      " 8   log_BsmtFinSF2     1460 non-null   float64\n",
      " 9   log_BsmtUnfSF      1460 non-null   float64\n",
      " 10  log_TotalBsmtSF    1460 non-null   float64\n",
      " 11  log_1stFlrSF       1460 non-null   float64\n",
      " 12  log_2ndFlrSF       1460 non-null   float64\n",
      " 13  log_LowQualFinSF   1460 non-null   float64\n",
      " 14  log_GrLivArea      1460 non-null   float64\n",
      " 15  log_BsmtFullBath   1460 non-null   float64\n",
      " 16  log_BsmtHalfBath   1460 non-null   float64\n",
      " 17  log_FullBath       1460 non-null   float64\n",
      " 18  log_HalfBath       1460 non-null   float64\n",
      " 19  log_BedroomAbvGr   1460 non-null   float64\n",
      " 20  log_KitchenAbvGr   1460 non-null   float64\n",
      " 21  log_TotRmsAbvGrd   1460 non-null   float64\n",
      " 22  log_Fireplaces     1460 non-null   float64\n",
      " 23  log_GarageYrBlt    1460 non-null   float64\n",
      " 24  log_GarageCars     1460 non-null   float64\n",
      " 25  log_GarageArea     1460 non-null   float64\n",
      " 26  log_WoodDeckSF     1460 non-null   float64\n",
      " 27  log_OpenPorchSF    1460 non-null   float64\n",
      " 28  log_EnclosedPorch  1460 non-null   float64\n",
      " 29  log_3SsnPorch      1460 non-null   float64\n",
      " 30  log_ScreenPorch    1460 non-null   float64\n",
      " 31  log_PoolArea       1460 non-null   float64\n",
      " 32  log_MiscVal        1460 non-null   float64\n",
      " 33  log_MoSold         1460 non-null   float64\n",
      " 34  log_YrSold         1460 non-null   float64\n",
      " 35  log_SalePrice      1460 non-null   float64\n",
      "dtypes: float64(36)\n",
      "memory usage: 410.8 KB\n"
     ]
    }
   ],
   "source": [
    "df.info()"
   ]
  },
  {
   "cell_type": "markdown",
   "id": "535ec090",
   "metadata": {},
   "source": [
    "There is no null data. The dataset is ready to use."
   ]
  },
  {
   "cell_type": "markdown",
   "id": "11f270ca",
   "metadata": {},
   "source": [
    "## Data split"
   ]
  },
  {
   "cell_type": "code",
   "execution_count": 6,
   "id": "b304e065",
   "metadata": {
    "ExecuteTime": {
     "end_time": "2022-07-09T20:25:32.759009Z",
     "start_time": "2022-07-09T20:25:32.744999Z"
    }
   },
   "outputs": [],
   "source": [
    "X = df.drop(['log_SalePrice'], axis=1)"
   ]
  },
  {
   "cell_type": "code",
   "execution_count": 7,
   "id": "b39557a6",
   "metadata": {
    "ExecuteTime": {
     "end_time": "2022-07-09T20:25:32.775017Z",
     "start_time": "2022-07-09T20:25:32.760009Z"
    }
   },
   "outputs": [],
   "source": [
    "y = df['log_SalePrice']"
   ]
  },
  {
   "cell_type": "code",
   "execution_count": 8,
   "id": "50f39d0a",
   "metadata": {
    "ExecuteTime": {
     "end_time": "2022-07-09T20:25:32.791025Z",
     "start_time": "2022-07-09T20:25:32.777017Z"
    }
   },
   "outputs": [],
   "source": [
    "X_train, X_test, y_train, y_test = train_test_split(X, y, test_size=0.2, random_state=2811)"
   ]
  },
  {
   "cell_type": "markdown",
   "id": "07484b1f",
   "metadata": {},
   "source": [
    "## Training the model"
   ]
  },
  {
   "cell_type": "code",
   "execution_count": 9,
   "id": "cc761163",
   "metadata": {
    "ExecuteTime": {
     "end_time": "2022-07-09T20:25:32.807028Z",
     "start_time": "2022-07-09T20:25:32.793028Z"
    }
   },
   "outputs": [],
   "source": [
    "X_train_com_constante = sm.add_constant(X_train)"
   ]
  },
  {
   "cell_type": "code",
   "execution_count": 10,
   "id": "a3192e90",
   "metadata": {
    "ExecuteTime": {
     "end_time": "2022-07-09T20:25:32.823014Z",
     "start_time": "2022-07-09T20:25:32.809030Z"
    }
   },
   "outputs": [],
   "source": [
    "modelo_estatsmodels = sm.OLS(y_train, X_train_com_constante, hasconst=True).fit()"
   ]
  },
  {
   "cell_type": "code",
   "execution_count": 11,
   "id": "5be3bbf2",
   "metadata": {
    "ExecuteTime": {
     "end_time": "2022-07-09T20:25:32.855021Z",
     "start_time": "2022-07-09T20:25:32.826015Z"
    }
   },
   "outputs": [
    {
     "data": {
      "text/html": [
       "<table class=\"simpletable\">\n",
       "<caption>OLS Regression Results</caption>\n",
       "<tr>\n",
       "  <th>Dep. Variable:</th>      <td>log_SalePrice</td>  <th>  R-squared:         </th> <td>   0.874</td>\n",
       "</tr>\n",
       "<tr>\n",
       "  <th>Model:</th>                   <td>OLS</td>       <th>  Adj. R-squared:    </th> <td>   0.870</td>\n",
       "</tr>\n",
       "<tr>\n",
       "  <th>Method:</th>             <td>Least Squares</td>  <th>  F-statistic:       </th> <td>   224.6</td>\n",
       "</tr>\n",
       "<tr>\n",
       "  <th>Date:</th>             <td>Sat, 09 Jul 2022</td> <th>  Prob (F-statistic):</th>  <td>  0.00</td> \n",
       "</tr>\n",
       "<tr>\n",
       "  <th>Time:</th>                 <td>17:25:32</td>     <th>  Log-Likelihood:    </th> <td>  615.08</td>\n",
       "</tr>\n",
       "<tr>\n",
       "  <th>No. Observations:</th>      <td>  1168</td>      <th>  AIC:               </th> <td>  -1158.</td>\n",
       "</tr>\n",
       "<tr>\n",
       "  <th>Df Residuals:</th>          <td>  1132</td>      <th>  BIC:               </th> <td>  -975.9</td>\n",
       "</tr>\n",
       "<tr>\n",
       "  <th>Df Model:</th>              <td>    35</td>      <th>                     </th>     <td> </td>   \n",
       "</tr>\n",
       "<tr>\n",
       "  <th>Covariance Type:</th>      <td>nonrobust</td>    <th>                     </th>     <td> </td>   \n",
       "</tr>\n",
       "</table>\n",
       "<table class=\"simpletable\">\n",
       "<tr>\n",
       "          <td></td>             <th>coef</th>     <th>std err</th>      <th>t</th>      <th>P>|t|</th>  <th>[0.025</th>    <th>0.975]</th>  \n",
       "</tr>\n",
       "<tr>\n",
       "  <th>const</th>             <td>   31.8045</td> <td>   50.866</td> <td>    0.625</td> <td> 0.532</td> <td>  -67.997</td> <td>  131.606</td>\n",
       "</tr>\n",
       "<tr>\n",
       "  <th>log_MSSubClass</th>    <td>   -0.0235</td> <td>    0.009</td> <td>   -2.579</td> <td> 0.010</td> <td>   -0.041</td> <td>   -0.006</td>\n",
       "</tr>\n",
       "<tr>\n",
       "  <th>log_LotArea</th>       <td>    0.0864</td> <td>    0.011</td> <td>    7.908</td> <td> 0.000</td> <td>    0.065</td> <td>    0.108</td>\n",
       "</tr>\n",
       "<tr>\n",
       "  <th>log_OverallQual</th>   <td>    0.3542</td> <td>    0.030</td> <td>   11.623</td> <td> 0.000</td> <td>    0.294</td> <td>    0.414</td>\n",
       "</tr>\n",
       "<tr>\n",
       "  <th>log_OverallCond</th>   <td>    0.2245</td> <td>    0.026</td> <td>    8.520</td> <td> 0.000</td> <td>    0.173</td> <td>    0.276</td>\n",
       "</tr>\n",
       "<tr>\n",
       "  <th>log_YearBuilt</th>     <td>    5.1855</td> <td>    0.660</td> <td>    7.860</td> <td> 0.000</td> <td>    3.891</td> <td>    6.480</td>\n",
       "</tr>\n",
       "<tr>\n",
       "  <th>log_YearRemodAdd</th>  <td>    2.3076</td> <td>    0.626</td> <td>    3.684</td> <td> 0.000</td> <td>    1.078</td> <td>    3.537</td>\n",
       "</tr>\n",
       "<tr>\n",
       "  <th>log_MasVnrArea</th>    <td>   -0.0006</td> <td>    0.002</td> <td>   -0.308</td> <td> 0.758</td> <td>   -0.004</td> <td>    0.003</td>\n",
       "</tr>\n",
       "<tr>\n",
       "  <th>log_BsmtFinSF1</th>    <td>    0.0089</td> <td>    0.002</td> <td>    4.287</td> <td> 0.000</td> <td>    0.005</td> <td>    0.013</td>\n",
       "</tr>\n",
       "<tr>\n",
       "  <th>log_BsmtFinSF2</th>    <td>   -0.0050</td> <td>    0.003</td> <td>   -1.949</td> <td> 0.052</td> <td>   -0.010</td> <td> 3.46e-05</td>\n",
       "</tr>\n",
       "<tr>\n",
       "  <th>log_BsmtUnfSF</th>     <td>   -0.0019</td> <td>    0.004</td> <td>   -0.525</td> <td> 0.599</td> <td>   -0.009</td> <td>    0.005</td>\n",
       "</tr>\n",
       "<tr>\n",
       "  <th>log_TotalBsmtSF</th>   <td>    0.0130</td> <td>    0.006</td> <td>    2.300</td> <td> 0.022</td> <td>    0.002</td> <td>    0.024</td>\n",
       "</tr>\n",
       "<tr>\n",
       "  <th>log_1stFlrSF</th>      <td>   -0.0247</td> <td>    0.056</td> <td>   -0.445</td> <td> 0.656</td> <td>   -0.134</td> <td>    0.084</td>\n",
       "</tr>\n",
       "<tr>\n",
       "  <th>log_2ndFlrSF</th>      <td>   -0.0129</td> <td>    0.006</td> <td>   -2.339</td> <td> 0.020</td> <td>   -0.024</td> <td>   -0.002</td>\n",
       "</tr>\n",
       "<tr>\n",
       "  <th>log_LowQualFinSF</th>  <td>   -0.0114</td> <td>    0.007</td> <td>   -1.663</td> <td> 0.097</td> <td>   -0.025</td> <td>    0.002</td>\n",
       "</tr>\n",
       "<tr>\n",
       "  <th>log_GrLivArea</th>     <td>    0.5530</td> <td>    0.069</td> <td>    7.986</td> <td> 0.000</td> <td>    0.417</td> <td>    0.689</td>\n",
       "</tr>\n",
       "<tr>\n",
       "  <th>log_BsmtFullBath</th>  <td>    0.0548</td> <td>    0.017</td> <td>    3.131</td> <td> 0.002</td> <td>    0.020</td> <td>    0.089</td>\n",
       "</tr>\n",
       "<tr>\n",
       "  <th>log_BsmtHalfBath</th>  <td>    0.0187</td> <td>    0.028</td> <td>    0.658</td> <td> 0.511</td> <td>   -0.037</td> <td>    0.075</td>\n",
       "</tr>\n",
       "<tr>\n",
       "  <th>log_FullBath</th>      <td>    0.0532</td> <td>    0.033</td> <td>    1.614</td> <td> 0.107</td> <td>   -0.011</td> <td>    0.118</td>\n",
       "</tr>\n",
       "<tr>\n",
       "  <th>log_HalfBath</th>      <td>    0.0307</td> <td>    0.019</td> <td>    1.618</td> <td> 0.106</td> <td>   -0.007</td> <td>    0.068</td>\n",
       "</tr>\n",
       "<tr>\n",
       "  <th>log_BedroomAbvGr</th>  <td>   -0.1623</td> <td>    0.028</td> <td>   -5.775</td> <td> 0.000</td> <td>   -0.217</td> <td>   -0.107</td>\n",
       "</tr>\n",
       "<tr>\n",
       "  <th>log_KitchenAbvGr</th>  <td>   -0.2333</td> <td>    0.063</td> <td>   -3.710</td> <td> 0.000</td> <td>   -0.357</td> <td>   -0.110</td>\n",
       "</tr>\n",
       "<tr>\n",
       "  <th>log_TotRmsAbvGrd</th>  <td>    0.0881</td> <td>    0.037</td> <td>    2.367</td> <td> 0.018</td> <td>    0.015</td> <td>    0.161</td>\n",
       "</tr>\n",
       "<tr>\n",
       "  <th>log_Fireplaces</th>    <td>    0.0412</td> <td>    0.014</td> <td>    2.992</td> <td> 0.003</td> <td>    0.014</td> <td>    0.068</td>\n",
       "</tr>\n",
       "<tr>\n",
       "  <th>log_GarageYrBlt</th>   <td>    0.3441</td> <td>    0.667</td> <td>    0.516</td> <td> 0.606</td> <td>   -0.965</td> <td>    1.654</td>\n",
       "</tr>\n",
       "<tr>\n",
       "  <th>log_GarageCars</th>    <td>    0.2216</td> <td>    0.034</td> <td>    6.494</td> <td> 0.000</td> <td>    0.155</td> <td>    0.289</td>\n",
       "</tr>\n",
       "<tr>\n",
       "  <th>log_GarageArea</th>    <td>   -0.0210</td> <td>    0.007</td> <td>   -3.157</td> <td> 0.002</td> <td>   -0.034</td> <td>   -0.008</td>\n",
       "</tr>\n",
       "<tr>\n",
       "  <th>log_WoodDeckSF</th>    <td>    0.0048</td> <td>    0.002</td> <td>    2.607</td> <td> 0.009</td> <td>    0.001</td> <td>    0.008</td>\n",
       "</tr>\n",
       "<tr>\n",
       "  <th>log_OpenPorchSF</th>   <td>   -0.0006</td> <td>    0.002</td> <td>   -0.260</td> <td> 0.795</td> <td>   -0.005</td> <td>    0.004</td>\n",
       "</tr>\n",
       "<tr>\n",
       "  <th>log_EnclosedPorch</th> <td>    0.0041</td> <td>    0.003</td> <td>    1.403</td> <td> 0.161</td> <td>   -0.002</td> <td>    0.010</td>\n",
       "</tr>\n",
       "<tr>\n",
       "  <th>log_3SsnPorch</th>     <td>    0.0054</td> <td>    0.006</td> <td>    0.844</td> <td> 0.399</td> <td>   -0.007</td> <td>    0.018</td>\n",
       "</tr>\n",
       "<tr>\n",
       "  <th>log_ScreenPorch</th>   <td>    0.0102</td> <td>    0.003</td> <td>    3.142</td> <td> 0.002</td> <td>    0.004</td> <td>    0.017</td>\n",
       "</tr>\n",
       "<tr>\n",
       "  <th>log_PoolArea</th>      <td>   -0.0201</td> <td>    0.010</td> <td>   -2.063</td> <td> 0.039</td> <td>   -0.039</td> <td>   -0.001</td>\n",
       "</tr>\n",
       "<tr>\n",
       "  <th>log_MiscVal</th>       <td>   -0.0032</td> <td>    0.003</td> <td>   -0.930</td> <td> 0.353</td> <td>   -0.010</td> <td>    0.004</td>\n",
       "</tr>\n",
       "<tr>\n",
       "  <th>log_MoSold</th>        <td>    0.0050</td> <td>    0.008</td> <td>    0.632</td> <td> 0.528</td> <td>   -0.011</td> <td>    0.021</td>\n",
       "</tr>\n",
       "<tr>\n",
       "  <th>log_YrSold</th>        <td>  -11.1601</td> <td>    6.668</td> <td>   -1.674</td> <td> 0.094</td> <td>  -24.243</td> <td>    1.923</td>\n",
       "</tr>\n",
       "</table>\n",
       "<table class=\"simpletable\">\n",
       "<tr>\n",
       "  <th>Omnibus:</th>       <td>479.162</td> <th>  Durbin-Watson:     </th> <td>   2.004</td>\n",
       "</tr>\n",
       "<tr>\n",
       "  <th>Prob(Omnibus):</th> <td> 0.000</td>  <th>  Jarque-Bera (JB):  </th> <td>7091.900</td>\n",
       "</tr>\n",
       "<tr>\n",
       "  <th>Skew:</th>          <td>-1.484</td>  <th>  Prob(JB):          </th> <td>    0.00</td>\n",
       "</tr>\n",
       "<tr>\n",
       "  <th>Kurtosis:</th>      <td>14.701</td>  <th>  Cond. No.          </th> <td>2.96e+05</td>\n",
       "</tr>\n",
       "</table><br/><br/>Notes:<br/>[1] Standard Errors assume that the covariance matrix of the errors is correctly specified.<br/>[2] The condition number is large, 2.96e+05. This might indicate that there are<br/>strong multicollinearity or other numerical problems."
      ],
      "text/plain": [
       "<class 'statsmodels.iolib.summary.Summary'>\n",
       "\"\"\"\n",
       "                            OLS Regression Results                            \n",
       "==============================================================================\n",
       "Dep. Variable:          log_SalePrice   R-squared:                       0.874\n",
       "Model:                            OLS   Adj. R-squared:                  0.870\n",
       "Method:                 Least Squares   F-statistic:                     224.6\n",
       "Date:                Sat, 09 Jul 2022   Prob (F-statistic):               0.00\n",
       "Time:                        17:25:32   Log-Likelihood:                 615.08\n",
       "No. Observations:                1168   AIC:                            -1158.\n",
       "Df Residuals:                    1132   BIC:                            -975.9\n",
       "Df Model:                          35                                         \n",
       "Covariance Type:            nonrobust                                         \n",
       "=====================================================================================\n",
       "                        coef    std err          t      P>|t|      [0.025      0.975]\n",
       "-------------------------------------------------------------------------------------\n",
       "const                31.8045     50.866      0.625      0.532     -67.997     131.606\n",
       "log_MSSubClass       -0.0235      0.009     -2.579      0.010      -0.041      -0.006\n",
       "log_LotArea           0.0864      0.011      7.908      0.000       0.065       0.108\n",
       "log_OverallQual       0.3542      0.030     11.623      0.000       0.294       0.414\n",
       "log_OverallCond       0.2245      0.026      8.520      0.000       0.173       0.276\n",
       "log_YearBuilt         5.1855      0.660      7.860      0.000       3.891       6.480\n",
       "log_YearRemodAdd      2.3076      0.626      3.684      0.000       1.078       3.537\n",
       "log_MasVnrArea       -0.0006      0.002     -0.308      0.758      -0.004       0.003\n",
       "log_BsmtFinSF1        0.0089      0.002      4.287      0.000       0.005       0.013\n",
       "log_BsmtFinSF2       -0.0050      0.003     -1.949      0.052      -0.010    3.46e-05\n",
       "log_BsmtUnfSF        -0.0019      0.004     -0.525      0.599      -0.009       0.005\n",
       "log_TotalBsmtSF       0.0130      0.006      2.300      0.022       0.002       0.024\n",
       "log_1stFlrSF         -0.0247      0.056     -0.445      0.656      -0.134       0.084\n",
       "log_2ndFlrSF         -0.0129      0.006     -2.339      0.020      -0.024      -0.002\n",
       "log_LowQualFinSF     -0.0114      0.007     -1.663      0.097      -0.025       0.002\n",
       "log_GrLivArea         0.5530      0.069      7.986      0.000       0.417       0.689\n",
       "log_BsmtFullBath      0.0548      0.017      3.131      0.002       0.020       0.089\n",
       "log_BsmtHalfBath      0.0187      0.028      0.658      0.511      -0.037       0.075\n",
       "log_FullBath          0.0532      0.033      1.614      0.107      -0.011       0.118\n",
       "log_HalfBath          0.0307      0.019      1.618      0.106      -0.007       0.068\n",
       "log_BedroomAbvGr     -0.1623      0.028     -5.775      0.000      -0.217      -0.107\n",
       "log_KitchenAbvGr     -0.2333      0.063     -3.710      0.000      -0.357      -0.110\n",
       "log_TotRmsAbvGrd      0.0881      0.037      2.367      0.018       0.015       0.161\n",
       "log_Fireplaces        0.0412      0.014      2.992      0.003       0.014       0.068\n",
       "log_GarageYrBlt       0.3441      0.667      0.516      0.606      -0.965       1.654\n",
       "log_GarageCars        0.2216      0.034      6.494      0.000       0.155       0.289\n",
       "log_GarageArea       -0.0210      0.007     -3.157      0.002      -0.034      -0.008\n",
       "log_WoodDeckSF        0.0048      0.002      2.607      0.009       0.001       0.008\n",
       "log_OpenPorchSF      -0.0006      0.002     -0.260      0.795      -0.005       0.004\n",
       "log_EnclosedPorch     0.0041      0.003      1.403      0.161      -0.002       0.010\n",
       "log_3SsnPorch         0.0054      0.006      0.844      0.399      -0.007       0.018\n",
       "log_ScreenPorch       0.0102      0.003      3.142      0.002       0.004       0.017\n",
       "log_PoolArea         -0.0201      0.010     -2.063      0.039      -0.039      -0.001\n",
       "log_MiscVal          -0.0032      0.003     -0.930      0.353      -0.010       0.004\n",
       "log_MoSold            0.0050      0.008      0.632      0.528      -0.011       0.021\n",
       "log_YrSold          -11.1601      6.668     -1.674      0.094     -24.243       1.923\n",
       "==============================================================================\n",
       "Omnibus:                      479.162   Durbin-Watson:                   2.004\n",
       "Prob(Omnibus):                  0.000   Jarque-Bera (JB):             7091.900\n",
       "Skew:                          -1.484   Prob(JB):                         0.00\n",
       "Kurtosis:                      14.701   Cond. No.                     2.96e+05\n",
       "==============================================================================\n",
       "\n",
       "Notes:\n",
       "[1] Standard Errors assume that the covariance matrix of the errors is correctly specified.\n",
       "[2] The condition number is large, 2.96e+05. This might indicate that there are\n",
       "strong multicollinearity or other numerical problems.\n",
       "\"\"\""
      ]
     },
     "execution_count": 11,
     "metadata": {},
     "output_type": "execute_result"
    }
   ],
   "source": [
    "modelo_estatsmodels.summary()"
   ]
  },
  {
   "cell_type": "code",
   "execution_count": 12,
   "id": "eb9b9464",
   "metadata": {
    "ExecuteTime": {
     "end_time": "2022-07-09T20:25:32.871030Z",
     "start_time": "2022-07-09T20:25:32.856021Z"
    }
   },
   "outputs": [],
   "source": [
    "columns_to_drop = [\n",
    "    'log_MasVnrArea',\n",
    "    'log_BsmtUnfSF', \n",
    "    'log_1stFlrSF', \n",
    "    'log_BsmtHalfBath', \n",
    "    'log_GarageYrBlt', \n",
    "    'log_OpenPorchSF', \n",
    "    'log_3SsnPorch', \n",
    "    'log_MiscVal', \n",
    "    'log_MoSold', \n",
    "    'log_EnclosedPorch',\n",
    "    'log_FullBath',\n",
    "    'log_HalfBath']\n",
    "\n",
    "X = X.drop(columns_to_drop, axis=1)\n"
   ]
  },
  {
   "cell_type": "code",
   "execution_count": 13,
   "id": "dc19a72e",
   "metadata": {
    "ExecuteTime": {
     "end_time": "2022-07-09T20:25:32.887034Z",
     "start_time": "2022-07-09T20:25:32.873031Z"
    }
   },
   "outputs": [
    {
     "name": "stdout",
     "output_type": "stream",
     "text": [
      "<class 'pandas.core.frame.DataFrame'>\n",
      "RangeIndex: 1460 entries, 0 to 1459\n",
      "Data columns (total 23 columns):\n",
      " #   Column            Non-Null Count  Dtype  \n",
      "---  ------            --------------  -----  \n",
      " 0   log_MSSubClass    1460 non-null   float64\n",
      " 1   log_LotArea       1460 non-null   float64\n",
      " 2   log_OverallQual   1460 non-null   float64\n",
      " 3   log_OverallCond   1460 non-null   float64\n",
      " 4   log_YearBuilt     1460 non-null   float64\n",
      " 5   log_YearRemodAdd  1460 non-null   float64\n",
      " 6   log_BsmtFinSF1    1460 non-null   float64\n",
      " 7   log_BsmtFinSF2    1460 non-null   float64\n",
      " 8   log_TotalBsmtSF   1460 non-null   float64\n",
      " 9   log_2ndFlrSF      1460 non-null   float64\n",
      " 10  log_LowQualFinSF  1460 non-null   float64\n",
      " 11  log_GrLivArea     1460 non-null   float64\n",
      " 12  log_BsmtFullBath  1460 non-null   float64\n",
      " 13  log_BedroomAbvGr  1460 non-null   float64\n",
      " 14  log_KitchenAbvGr  1460 non-null   float64\n",
      " 15  log_TotRmsAbvGrd  1460 non-null   float64\n",
      " 16  log_Fireplaces    1460 non-null   float64\n",
      " 17  log_GarageCars    1460 non-null   float64\n",
      " 18  log_GarageArea    1460 non-null   float64\n",
      " 19  log_WoodDeckSF    1460 non-null   float64\n",
      " 20  log_ScreenPorch   1460 non-null   float64\n",
      " 21  log_PoolArea      1460 non-null   float64\n",
      " 22  log_YrSold        1460 non-null   float64\n",
      "dtypes: float64(23)\n",
      "memory usage: 262.5 KB\n"
     ]
    }
   ],
   "source": [
    "X.info()"
   ]
  },
  {
   "cell_type": "code",
   "execution_count": 14,
   "id": "7b0a4384",
   "metadata": {
    "ExecuteTime": {
     "end_time": "2022-07-09T20:25:32.902037Z",
     "start_time": "2022-07-09T20:25:32.888034Z"
    }
   },
   "outputs": [],
   "source": [
    "X_train, X_test, y_train, y_test = train_test_split(X, y, test_size=0.2, random_state=2811)"
   ]
  },
  {
   "cell_type": "code",
   "execution_count": 15,
   "id": "f3785dcc",
   "metadata": {
    "ExecuteTime": {
     "end_time": "2022-07-09T20:25:32.917852Z",
     "start_time": "2022-07-09T20:25:32.904038Z"
    }
   },
   "outputs": [],
   "source": [
    "X_train_com_constante = sm.add_constant(X_train)"
   ]
  },
  {
   "cell_type": "code",
   "execution_count": 16,
   "id": "8caf36d1",
   "metadata": {
    "ExecuteTime": {
     "end_time": "2022-07-09T20:25:32.932855Z",
     "start_time": "2022-07-09T20:25:32.918853Z"
    }
   },
   "outputs": [],
   "source": [
    "modelo_estatsmodels = sm.OLS(y_train, X_train_com_constante, hasconst=True).fit()"
   ]
  },
  {
   "cell_type": "code",
   "execution_count": 17,
   "id": "679f779c",
   "metadata": {
    "ExecuteTime": {
     "end_time": "2022-07-09T20:25:32.963862Z",
     "start_time": "2022-07-09T20:25:32.934856Z"
    }
   },
   "outputs": [
    {
     "data": {
      "text/html": [
       "<table class=\"simpletable\">\n",
       "<caption>OLS Regression Results</caption>\n",
       "<tr>\n",
       "  <th>Dep. Variable:</th>      <td>log_SalePrice</td>  <th>  R-squared:         </th> <td>   0.873</td>\n",
       "</tr>\n",
       "<tr>\n",
       "  <th>Model:</th>                   <td>OLS</td>       <th>  Adj. R-squared:    </th> <td>   0.871</td>\n",
       "</tr>\n",
       "<tr>\n",
       "  <th>Method:</th>             <td>Least Squares</td>  <th>  F-statistic:       </th> <td>   342.3</td>\n",
       "</tr>\n",
       "<tr>\n",
       "  <th>Date:</th>             <td>Sat, 09 Jul 2022</td> <th>  Prob (F-statistic):</th>  <td>  0.00</td> \n",
       "</tr>\n",
       "<tr>\n",
       "  <th>Time:</th>                 <td>17:25:32</td>     <th>  Log-Likelihood:    </th> <td>  610.41</td>\n",
       "</tr>\n",
       "<tr>\n",
       "  <th>No. Observations:</th>      <td>  1168</td>      <th>  AIC:               </th> <td>  -1173.</td>\n",
       "</tr>\n",
       "<tr>\n",
       "  <th>Df Residuals:</th>          <td>  1144</td>      <th>  BIC:               </th> <td>  -1051.</td>\n",
       "</tr>\n",
       "<tr>\n",
       "  <th>Df Model:</th>              <td>    23</td>      <th>                     </th>     <td> </td>   \n",
       "</tr>\n",
       "<tr>\n",
       "  <th>Covariance Type:</th>      <td>nonrobust</td>    <th>                     </th>     <td> </td>   \n",
       "</tr>\n",
       "</table>\n",
       "<table class=\"simpletable\">\n",
       "<tr>\n",
       "          <td></td>            <th>coef</th>     <th>std err</th>      <th>t</th>      <th>P>|t|</th>  <th>[0.025</th>    <th>0.975]</th>  \n",
       "</tr>\n",
       "<tr>\n",
       "  <th>const</th>            <td>   37.4182</td> <td>   50.049</td> <td>    0.748</td> <td> 0.455</td> <td>  -60.780</td> <td>  135.617</td>\n",
       "</tr>\n",
       "<tr>\n",
       "  <th>log_MSSubClass</th>   <td>   -0.0223</td> <td>    0.009</td> <td>   -2.516</td> <td> 0.012</td> <td>   -0.040</td> <td>   -0.005</td>\n",
       "</tr>\n",
       "<tr>\n",
       "  <th>log_LotArea</th>      <td>    0.0848</td> <td>    0.011</td> <td>    7.941</td> <td> 0.000</td> <td>    0.064</td> <td>    0.106</td>\n",
       "</tr>\n",
       "<tr>\n",
       "  <th>log_OverallQual</th>  <td>    0.3592</td> <td>    0.030</td> <td>   12.009</td> <td> 0.000</td> <td>    0.301</td> <td>    0.418</td>\n",
       "</tr>\n",
       "<tr>\n",
       "  <th>log_OverallCond</th>  <td>    0.2190</td> <td>    0.026</td> <td>    8.461</td> <td> 0.000</td> <td>    0.168</td> <td>    0.270</td>\n",
       "</tr>\n",
       "<tr>\n",
       "  <th>log_YearBuilt</th>    <td>    5.4582</td> <td>    0.480</td> <td>   11.380</td> <td> 0.000</td> <td>    4.517</td> <td>    6.399</td>\n",
       "</tr>\n",
       "<tr>\n",
       "  <th>log_YearRemodAdd</th> <td>    2.5623</td> <td>    0.601</td> <td>    4.264</td> <td> 0.000</td> <td>    1.383</td> <td>    3.741</td>\n",
       "</tr>\n",
       "<tr>\n",
       "  <th>log_BsmtFinSF1</th>   <td>    0.0093</td> <td>    0.002</td> <td>    4.905</td> <td> 0.000</td> <td>    0.006</td> <td>    0.013</td>\n",
       "</tr>\n",
       "<tr>\n",
       "  <th>log_BsmtFinSF2</th>   <td>   -0.0040</td> <td>    0.002</td> <td>   -1.693</td> <td> 0.091</td> <td>   -0.009</td> <td>    0.001</td>\n",
       "</tr>\n",
       "<tr>\n",
       "  <th>log_TotalBsmtSF</th>  <td>    0.0109</td> <td>    0.004</td> <td>    2.621</td> <td> 0.009</td> <td>    0.003</td> <td>    0.019</td>\n",
       "</tr>\n",
       "<tr>\n",
       "  <th>log_2ndFlrSF</th>     <td>   -0.0088</td> <td>    0.002</td> <td>   -3.979</td> <td> 0.000</td> <td>   -0.013</td> <td>   -0.004</td>\n",
       "</tr>\n",
       "<tr>\n",
       "  <th>log_LowQualFinSF</th> <td>   -0.0109</td> <td>    0.006</td> <td>   -1.754</td> <td> 0.080</td> <td>   -0.023</td> <td>    0.001</td>\n",
       "</tr>\n",
       "<tr>\n",
       "  <th>log_GrLivArea</th>    <td>    0.5456</td> <td>    0.032</td> <td>   16.807</td> <td> 0.000</td> <td>    0.482</td> <td>    0.609</td>\n",
       "</tr>\n",
       "<tr>\n",
       "  <th>log_BsmtFullBath</th> <td>    0.0501</td> <td>    0.016</td> <td>    3.107</td> <td> 0.002</td> <td>    0.018</td> <td>    0.082</td>\n",
       "</tr>\n",
       "<tr>\n",
       "  <th>log_BedroomAbvGr</th> <td>   -0.1553</td> <td>    0.027</td> <td>   -5.714</td> <td> 0.000</td> <td>   -0.209</td> <td>   -0.102</td>\n",
       "</tr>\n",
       "<tr>\n",
       "  <th>log_KitchenAbvGr</th> <td>   -0.2286</td> <td>    0.062</td> <td>   -3.714</td> <td> 0.000</td> <td>   -0.349</td> <td>   -0.108</td>\n",
       "</tr>\n",
       "<tr>\n",
       "  <th>log_TotRmsAbvGrd</th> <td>    0.0819</td> <td>    0.037</td> <td>    2.215</td> <td> 0.027</td> <td>    0.009</td> <td>    0.155</td>\n",
       "</tr>\n",
       "<tr>\n",
       "  <th>log_Fireplaces</th>   <td>    0.0409</td> <td>    0.014</td> <td>    3.026</td> <td> 0.003</td> <td>    0.014</td> <td>    0.067</td>\n",
       "</tr>\n",
       "<tr>\n",
       "  <th>log_GarageCars</th>   <td>    0.2342</td> <td>    0.032</td> <td>    7.226</td> <td> 0.000</td> <td>    0.171</td> <td>    0.298</td>\n",
       "</tr>\n",
       "<tr>\n",
       "  <th>log_GarageArea</th>   <td>   -0.0233</td> <td>    0.006</td> <td>   -3.798</td> <td> 0.000</td> <td>   -0.035</td> <td>   -0.011</td>\n",
       "</tr>\n",
       "<tr>\n",
       "  <th>log_WoodDeckSF</th>   <td>    0.0048</td> <td>    0.002</td> <td>    2.621</td> <td> 0.009</td> <td>    0.001</td> <td>    0.008</td>\n",
       "</tr>\n",
       "<tr>\n",
       "  <th>log_ScreenPorch</th>  <td>    0.0094</td> <td>    0.003</td> <td>    2.925</td> <td> 0.004</td> <td>    0.003</td> <td>    0.016</td>\n",
       "</tr>\n",
       "<tr>\n",
       "  <th>log_PoolArea</th>     <td>   -0.0214</td> <td>    0.010</td> <td>   -2.225</td> <td> 0.026</td> <td>   -0.040</td> <td>   -0.003</td>\n",
       "</tr>\n",
       "<tr>\n",
       "  <th>log_YrSold</th>       <td>  -12.0880</td> <td>    6.579</td> <td>   -1.837</td> <td> 0.066</td> <td>  -24.997</td> <td>    0.821</td>\n",
       "</tr>\n",
       "</table>\n",
       "<table class=\"simpletable\">\n",
       "<tr>\n",
       "  <th>Omnibus:</th>       <td>483.380</td> <th>  Durbin-Watson:     </th> <td>   1.996</td>\n",
       "</tr>\n",
       "<tr>\n",
       "  <th>Prob(Omnibus):</th> <td> 0.000</td>  <th>  Jarque-Bera (JB):  </th> <td>7316.700</td>\n",
       "</tr>\n",
       "<tr>\n",
       "  <th>Skew:</th>          <td>-1.495</td>  <th>  Prob(JB):          </th> <td>    0.00</td>\n",
       "</tr>\n",
       "<tr>\n",
       "  <th>Kurtosis:</th>      <td>14.891</td>  <th>  Cond. No.          </th> <td>2.52e+05</td>\n",
       "</tr>\n",
       "</table><br/><br/>Notes:<br/>[1] Standard Errors assume that the covariance matrix of the errors is correctly specified.<br/>[2] The condition number is large, 2.52e+05. This might indicate that there are<br/>strong multicollinearity or other numerical problems."
      ],
      "text/plain": [
       "<class 'statsmodels.iolib.summary.Summary'>\n",
       "\"\"\"\n",
       "                            OLS Regression Results                            \n",
       "==============================================================================\n",
       "Dep. Variable:          log_SalePrice   R-squared:                       0.873\n",
       "Model:                            OLS   Adj. R-squared:                  0.871\n",
       "Method:                 Least Squares   F-statistic:                     342.3\n",
       "Date:                Sat, 09 Jul 2022   Prob (F-statistic):               0.00\n",
       "Time:                        17:25:32   Log-Likelihood:                 610.41\n",
       "No. Observations:                1168   AIC:                            -1173.\n",
       "Df Residuals:                    1144   BIC:                            -1051.\n",
       "Df Model:                          23                                         \n",
       "Covariance Type:            nonrobust                                         \n",
       "====================================================================================\n",
       "                       coef    std err          t      P>|t|      [0.025      0.975]\n",
       "------------------------------------------------------------------------------------\n",
       "const               37.4182     50.049      0.748      0.455     -60.780     135.617\n",
       "log_MSSubClass      -0.0223      0.009     -2.516      0.012      -0.040      -0.005\n",
       "log_LotArea          0.0848      0.011      7.941      0.000       0.064       0.106\n",
       "log_OverallQual      0.3592      0.030     12.009      0.000       0.301       0.418\n",
       "log_OverallCond      0.2190      0.026      8.461      0.000       0.168       0.270\n",
       "log_YearBuilt        5.4582      0.480     11.380      0.000       4.517       6.399\n",
       "log_YearRemodAdd     2.5623      0.601      4.264      0.000       1.383       3.741\n",
       "log_BsmtFinSF1       0.0093      0.002      4.905      0.000       0.006       0.013\n",
       "log_BsmtFinSF2      -0.0040      0.002     -1.693      0.091      -0.009       0.001\n",
       "log_TotalBsmtSF      0.0109      0.004      2.621      0.009       0.003       0.019\n",
       "log_2ndFlrSF        -0.0088      0.002     -3.979      0.000      -0.013      -0.004\n",
       "log_LowQualFinSF    -0.0109      0.006     -1.754      0.080      -0.023       0.001\n",
       "log_GrLivArea        0.5456      0.032     16.807      0.000       0.482       0.609\n",
       "log_BsmtFullBath     0.0501      0.016      3.107      0.002       0.018       0.082\n",
       "log_BedroomAbvGr    -0.1553      0.027     -5.714      0.000      -0.209      -0.102\n",
       "log_KitchenAbvGr    -0.2286      0.062     -3.714      0.000      -0.349      -0.108\n",
       "log_TotRmsAbvGrd     0.0819      0.037      2.215      0.027       0.009       0.155\n",
       "log_Fireplaces       0.0409      0.014      3.026      0.003       0.014       0.067\n",
       "log_GarageCars       0.2342      0.032      7.226      0.000       0.171       0.298\n",
       "log_GarageArea      -0.0233      0.006     -3.798      0.000      -0.035      -0.011\n",
       "log_WoodDeckSF       0.0048      0.002      2.621      0.009       0.001       0.008\n",
       "log_ScreenPorch      0.0094      0.003      2.925      0.004       0.003       0.016\n",
       "log_PoolArea        -0.0214      0.010     -2.225      0.026      -0.040      -0.003\n",
       "log_YrSold         -12.0880      6.579     -1.837      0.066     -24.997       0.821\n",
       "==============================================================================\n",
       "Omnibus:                      483.380   Durbin-Watson:                   1.996\n",
       "Prob(Omnibus):                  0.000   Jarque-Bera (JB):             7316.700\n",
       "Skew:                          -1.495   Prob(JB):                         0.00\n",
       "Kurtosis:                      14.891   Cond. No.                     2.52e+05\n",
       "==============================================================================\n",
       "\n",
       "Notes:\n",
       "[1] Standard Errors assume that the covariance matrix of the errors is correctly specified.\n",
       "[2] The condition number is large, 2.52e+05. This might indicate that there are\n",
       "strong multicollinearity or other numerical problems.\n",
       "\"\"\""
      ]
     },
     "execution_count": 17,
     "metadata": {},
     "output_type": "execute_result"
    }
   ],
   "source": [
    "modelo_estatsmodels.summary()"
   ]
  },
  {
   "cell_type": "markdown",
   "id": "c300f4f4",
   "metadata": {},
   "source": [
    "## Results graph analysis "
   ]
  },
  {
   "cell_type": "code",
   "execution_count": 18,
   "id": "b7cd5a83",
   "metadata": {
    "ExecuteTime": {
     "end_time": "2022-07-09T20:25:32.979866Z",
     "start_time": "2022-07-09T20:25:32.964863Z"
    }
   },
   "outputs": [],
   "source": [
    "y_previsto_train = modelo_estatsmodels.predict(X_train_com_constante)"
   ]
  },
  {
   "cell_type": "code",
   "execution_count": 19,
   "id": "ce329f1f",
   "metadata": {
    "ExecuteTime": {
     "end_time": "2022-07-09T20:25:33.121370Z",
     "start_time": "2022-07-09T20:25:32.980866Z"
    }
   },
   "outputs": [
    {
     "data": {
      "text/plain": [
       "<AxesSubplot:title={'center':'Previsão X Real'}, xlabel='log do Preço - Previsão', ylabel='log do Preço - Real'>"
      ]
     },
     "execution_count": 19,
     "metadata": {},
     "output_type": "execute_result"
    },
    {
     "data": {
      "image/png": "[encoded data removed]",
      "text/plain": [
       "<Figure size 864x432 with 1 Axes>"
      ]
     },
     "metadata": {
      "needs_background": "light"
     },
     "output_type": "display_data"
    }
   ],
   "source": [
    "ax = sns.scatterplot(x=y_previsto_train, y=y_train)\n",
    "ax.figure.set_size_inches(12, 6)\n",
    "ax.set_title('Previsão X Real', fontsize=18)\n",
    "ax.set_xlabel('log do Preço - Previsão', fontsize=14)\n",
    "ax.set_ylabel('log do Preço - Real', fontsize=14)\n",
    "ax"
   ]
  },
  {
   "cell_type": "markdown",
   "id": "5d5c3fbb",
   "metadata": {},
   "source": [
    "## Residual values"
   ]
  },
  {
   "cell_type": "code",
   "execution_count": 20,
   "id": "9c6f61db",
   "metadata": {
    "ExecuteTime": {
     "end_time": "2022-07-09T20:25:33.137373Z",
     "start_time": "2022-07-09T20:25:33.122370Z"
    }
   },
   "outputs": [],
   "source": [
    "residuo = y_train - y_previsto_train"
   ]
  },
  {
   "cell_type": "code",
   "execution_count": 21,
   "id": "20c21db0",
   "metadata": {
    "ExecuteTime": {
     "end_time": "2022-07-09T20:25:33.279066Z",
     "start_time": "2022-07-09T20:25:33.138373Z"
    }
   },
   "outputs": [
    {
     "name": "stderr",
     "output_type": "stream",
     "text": [
      "C:\\Users\\Marco De Amicis\\AppData\\Local\\Programs\\Python\\Python39\\lib\\site-packages\\seaborn\\distributions.py:2619: FutureWarning: `distplot` is a deprecated function and will be removed in a future version. Please adapt your code to use either `displot` (a figure-level function with similar flexibility) or `histplot` (an axes-level function for histograms).\n",
      "  warnings.warn(msg, FutureWarning)\n"
     ]
    },
    {
     "data": {
      "text/plain": [
       "<AxesSubplot:title={'center':'Distribuição de Frequências dos Resíduos'}, xlabel='log do Preço', ylabel='Density'>"
      ]
     },
     "execution_count": 21,
     "metadata": {},
     "output_type": "execute_result"
    },
    {
     "data": {
      "image/png": "[encoded data removed]",
      "text/plain": [
       "<Figure size 720x432 with 1 Axes>"
      ]
     },
     "metadata": {
      "needs_background": "light"
     },
     "output_type": "display_data"
    }
   ],
   "source": [
    "ax = sns.distplot(residuo)\n",
    "ax.figure.set_size_inches(10, 6)\n",
    "ax.set_title('Distribuição de Frequências dos Resíduos', fontsize=18)\n",
    "ax.set_xlabel('log do Preço', fontsize=14)\n",
    "ax"
   ]
  },
  {
   "cell_type": "code",
   "execution_count": 23,
   "id": "6c7524b3",
   "metadata": {
    "ExecuteTime": {
     "end_time": "2022-07-09T20:25:50.241498Z",
     "start_time": "2022-07-09T20:25:50.193484Z"
    }
   },
   "outputs": [
    {
     "ename": "ValueError",
     "evalue": "operands could not be broadcast together with shapes (292,) (1168,) ",
     "output_type": "error",
     "traceback": [
      "\u001b[1;31m---------------------------------------------------------------------------\u001b[0m",
      "\u001b[1;31mValueError\u001b[0m                                Traceback (most recent call last)",
      "Input \u001b[1;32mIn [23]\u001b[0m, in \u001b[0;36m<cell line: 1>\u001b[1;34m()\u001b[0m\n\u001b[1;32m----> 1\u001b[0m \u001b[38;5;28mprint\u001b[39m(\u001b[38;5;124mf\u001b[39m\u001b[38;5;124m\"\u001b[39m\u001b[38;5;124mRMSE: \u001b[39m\u001b[38;5;132;01m{\u001b[39;00msm\u001b[38;5;241m.\u001b[39mtools\u001b[38;5;241m.\u001b[39meval_measures\u001b[38;5;241m.\u001b[39mrmse(y_test, y_previsto_train)\u001b[38;5;241m*\u001b[39m\u001b[38;5;241m*\u001b[39m\u001b[38;5;241m.5\u001b[39m\u001b[38;5;132;01m:\u001b[39;00m\u001b[38;5;124m.2f\u001b[39m\u001b[38;5;132;01m}\u001b[39;00m\u001b[38;5;124m\"\u001b[39m)\n",
      "File \u001b[1;32m~\\AppData\\Local\\Programs\\Python\\Python39\\lib\\site-packages\\statsmodels\\tools\\eval_measures.py:69\u001b[0m, in \u001b[0;36mrmse\u001b[1;34m(x1, x2, axis)\u001b[0m\n\u001b[0;32m     67\u001b[0m x1 \u001b[38;5;241m=\u001b[39m np\u001b[38;5;241m.\u001b[39masanyarray(x1)\n\u001b[0;32m     68\u001b[0m x2 \u001b[38;5;241m=\u001b[39m np\u001b[38;5;241m.\u001b[39masanyarray(x2)\n\u001b[1;32m---> 69\u001b[0m \u001b[38;5;28;01mreturn\u001b[39;00m np\u001b[38;5;241m.\u001b[39msqrt(\u001b[43mmse\u001b[49m\u001b[43m(\u001b[49m\u001b[43mx1\u001b[49m\u001b[43m,\u001b[49m\u001b[43m \u001b[49m\u001b[43mx2\u001b[49m\u001b[43m,\u001b[49m\u001b[43m \u001b[49m\u001b[43maxis\u001b[49m\u001b[38;5;241;43m=\u001b[39;49m\u001b[43maxis\u001b[49m\u001b[43m)\u001b[49m)\n",
      "File \u001b[1;32m~\\AppData\\Local\\Programs\\Python\\Python39\\lib\\site-packages\\statsmodels\\tools\\eval_measures.py:41\u001b[0m, in \u001b[0;36mmse\u001b[1;34m(x1, x2, axis)\u001b[0m\n\u001b[0;32m     39\u001b[0m x1 \u001b[38;5;241m=\u001b[39m np\u001b[38;5;241m.\u001b[39masanyarray(x1)\n\u001b[0;32m     40\u001b[0m x2 \u001b[38;5;241m=\u001b[39m np\u001b[38;5;241m.\u001b[39masanyarray(x2)\n\u001b[1;32m---> 41\u001b[0m \u001b[38;5;28;01mreturn\u001b[39;00m np\u001b[38;5;241m.\u001b[39mmean((\u001b[43mx1\u001b[49m\u001b[43m \u001b[49m\u001b[38;5;241;43m-\u001b[39;49m\u001b[43m \u001b[49m\u001b[43mx2\u001b[49m) \u001b[38;5;241m*\u001b[39m\u001b[38;5;241m*\u001b[39m \u001b[38;5;241m2\u001b[39m, axis\u001b[38;5;241m=\u001b[39maxis)\n",
      "\u001b[1;31mValueError\u001b[0m: operands could not be broadcast together with shapes (292,) (1168,) "
     ]
    }
   ],
   "source": [
    "print(f\"RMSE: {sm.tools.eval_measures.rmse(y_test, y_previsto_train)**.5:.2f}\")"
   ]
  }
 ],
 "metadata": {
  "hide_input": false,
  "kernelspec": {
   "display_name": "Python 3 (ipykernel)",
   "language": "python",
   "name": "python3"
  },
  "language_info": {
   "codemirror_mode": {
    "name": "ipython",
    "version": 3
   },
   "file_extension": ".py",
   "mimetype": "text/x-python",
   "name": "python",
   "nbconvert_exporter": "python",
   "pygments_lexer": "ipython3",
   "version": "3.9.13"
  },
  "toc": {
   "base_numbering": 1,
   "nav_menu": {},
   "number_sections": true,
   "sideBar": true,
   "skip_h1_title": false,
   "title_cell": "Table of Contents",
   "title_sidebar": "Contents",
   "toc_cell": false,
   "toc_position": {},
   "toc_section_display": true,
   "toc_window_display": true
  }
 },
 "nbformat": 4,
 "nbformat_minor": 5
}
