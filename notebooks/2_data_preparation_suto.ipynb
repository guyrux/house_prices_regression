{
 "cells": [
  {
   "cell_type": "markdown",
   "id": "93a1af23",
   "metadata": {},
   "source": [
    "# 2_data_preparation_suto\n",
    "\n",
    "**Purpose:** State the purpose of the notebook.\n",
    "\n",
    "**Methodology:** Quickly describe assumptions and processing steps.\n",
    "\n",
    "**Results:** Describe and comment the most important results.\n",
    "\n",
    "---\n",
    "\n",
    "**Suggested next steps**\n",
    "\n",
    "- [ ] State suggested next steps, based on results obtained in this notebook."
   ]
  },
  {
   "cell_type": "markdown",
   "id": "04dec328",
   "metadata": {},
   "source": [
    "# Setup\n",
    "\n",
    "## Library import\n",
    "We import all the required Python libraries"
   ]
  },
  {
   "cell_type": "code",
   "execution_count": 2,
   "id": "c13337d6",
   "metadata": {
    "ExecuteTime": {
     "end_time": "2022-06-26T23:41:07.850946Z",
     "start_time": "2022-06-26T23:41:05.048553Z"
    }
   },
   "outputs": [],
   "source": [
    "%matplotlib inline\n",
    "\n",
    "import os\n",
    "import pickle\n",
    "from typing import List\n",
    "\n",
    "# Data manipulation\n",
    "from feature_engine.encoding import OneHotEncoder\n",
    "import pandas as pd\n",
    "import numpy as np\n",
    "\n",
    "# Visualizations\n",
    "import matplotlib as plt\n",
    "from pandas_profiling import ProfileReport\n",
    "import seaborn as sns\n",
    "from sklearn.impute import KNNImputer\n",
    "from sklearn.model_selection import train_test_split\n",
    "from sklearn.neighbors import KNeighborsRegressor\n",
    "from sklearn.pipeline import Pipeline\n",
    "from sklearn2pmml import sklearn2pmml\n",
    "from sklearn2pmml.pipeline import PMMLPipeline\n",
    "from pypmml import Model\n",
    "\n",
    "os.chdir('../')\n",
    "from src.utils.data_describe import breve_descricao, serie_nulos, cardinalidade\n",
    "os.chdir('./notebooks/')\n",
    "\n",
    "# Options for pandas\n",
    "# pd.options.display.max_columns = None\n",
    "pd.set_option('display.max_rows', None)\n",
    "pd.set_option('display.max_columns', None)\n",
    "# pd.options.display.max_rows = 120\n",
    "\n",
    "# Autoreload extension\n",
    "if 'autoreload' not in get_ipython().extension_manager.loaded:\n",
    "    %load_ext autoreload\n",
    "    \n",
    "%autoreload 2"
   ]
  },
  {
   "cell_type": "markdown",
   "id": "a057ea71",
   "metadata": {},
   "source": [
    "## Custom functions"
   ]
  },
  {
   "cell_type": "code",
   "execution_count": 3,
   "id": "65790aa9",
   "metadata": {
    "ExecuteTime": {
     "end_time": "2022-06-26T23:41:08.052159Z",
     "start_time": "2022-06-26T23:41:07.852945Z"
    }
   },
   "outputs": [],
   "source": [
    "def create_time_dif_columns(df: pd.DataFrame, lst: List) -> pd.DataFrame:\n",
    "    df_temp = df.copy()\n",
    "    lst_temp = []\n",
    "\n",
    "    for attribute in lst:\n",
    "        column = attribute + '_YrSold'\n",
    "        df_temp[column] = df_temp['YrSold'] - df_temp[attribute]\n",
    "        df_temp.drop(columns=attribute, inplace=True)\n",
    "        df_temp[[column]] = df_temp[[column]].fillna(999)\n",
    "        df_temp[[column]] = df_temp[[column]].astype(float)\n",
    "        \n",
    "    return df_temp\n",
    "\n",
    "\n",
    "def prepare_baseline(df: pd.DataFrame) -> pd.DataFrame:\n",
    "    lst_area = [\n",
    "        'LotArea', 'MasVnrArea', 'BsmtFinSF1', 'BsmtFinSF2', 'BsmtUnfSF', 'TotalBsmtSF', '1stFlrSF',\n",
    "        '2ndFlrSF', 'LowQualFinSF', 'GrLivArea', 'GarageArea', 'WoodDeckSF', 'OpenPorchSF', 'PoolArea'\n",
    "    ]\n",
    "    \n",
    "    lst_columns_null = ['PoolQC', 'MiscFeature', 'Alley', 'Fence']\n",
    "    \n",
    "    lst_time = ['YearBuilt', 'YearRemodAdd', 'GarageYrBlt']\n",
    "    \n",
    "    lst_final = [\n",
    "        'LotArea', 'MasVnrArea', 'BsmtFinSF1', 'BsmtFinSF2', 'BsmtUnfSF', 'TotalBsmtSF',\n",
    "        '1stFlrSF', '2ndFlrSF', 'LowQualFinSF', 'GrLivArea', 'GarageArea', 'WoodDeckSF',\n",
    "        'OpenPorchSF', 'PoolArea', 'YrSold', 'YearBuilt_YrSold', 'YearRemodAdd_YrSold',\n",
    "        'GarageYrBlt_YrSold'\n",
    "    ]\n",
    "    \n",
    "    df_output = df.copy()\n",
    "    df_output.drop(columns=lst_columns_null, inplace=True)\n",
    "\n",
    "    lst_final_columns = lst_area.copy()\n",
    "    lst_final_columns.extend(lst_time)\n",
    "    lst_final_columns.append('YrSold')\n",
    "    \n",
    "    if 'SalePrice' in df.columns:\n",
    "        lst_final_columns.append('SalePrice')\n",
    "        lst_final.append('SalePrice')\n",
    "\n",
    "    df_output = df_output[lst_final_columns]\n",
    "    df_output = create_time_dif_columns(df=df_output, lst=lst_time)        \n",
    "        \n",
    "    df_output = df_output[lst_final]\n",
    "\n",
    "    return df_output\n",
    "\n",
    "\n",
    "def use_data_prep_baseline(\n",
    "    df: pd.DataFrame, target_to_impute: str = 'MasVnrArea', data_prep_model: str = 'data_prep_knn.pkl'\n",
    ") -> pd.DataFrame:\n",
    "    \n",
    "    if 'SalePrice' in df.columns:\n",
    "        df_prepared = df.drop(columns='SalePrice').copy()\n",
    "    else:\n",
    "        df_prepared = df.copy()\n",
    "    \n",
    "    # listing the indexes with null values.\n",
    "    lst_nulls = df_prepared[(df_prepared[target_to_impute].isna())].index.tolist()\n",
    "\n",
    "    # listing the indexes WITHOUT null values.\n",
    "    lst_keep = [x for x in df_prepared.index if x not in lst_nulls]\n",
    "    \n",
    "    X = df_prepared.drop(columns=target_to_impute, index=lst_keep).copy()\n",
    "    \n",
    "#     Load model\n",
    "#     TODO: Add the model as a parameter of this function.\n",
    "#     model = Model.load(MODELS_FOLDER + 'data_prep_knn.pmml')\n",
    "    model = pickle.load(open(MODELS_FOLDER + data_prep_model, 'rb'))\n",
    "    y_pred = model.predict(X)\n",
    "    \n",
    "    df_prepared.loc[lst_nulls, 'MasVnrArea'] = y_pred     \n",
    "    \n",
    "    return df_prepared"
   ]
  },
  {
   "cell_type": "markdown",
   "id": "11ff5cb6",
   "metadata": {},
   "source": [
    "## Parameter definition\n",
    "We set all relevant parameters for our notebook. By convention, parameters are uppercase, while all the \n",
    "other variables follow Python's guidelines."
   ]
  },
  {
   "cell_type": "code",
   "execution_count": 4,
   "id": "df215a39",
   "metadata": {
    "ExecuteTime": {
     "end_time": "2022-06-26T23:41:08.207523Z",
     "start_time": "2022-06-26T23:41:08.054161Z"
    }
   },
   "outputs": [],
   "source": [
    "RAW_FOLDER = '../data/raw/'\n",
    "INTERIM_FOLDER = '../data/interim/'\n",
    "REPORTS_FOLDER = '../reports/'\n",
    "MODELS_FOLDER = '../models/'\n",
    "RANDOM_STATE = 42"
   ]
  },
  {
   "cell_type": "markdown",
   "id": "94b42b9d",
   "metadata": {},
   "source": [
    "\n",
    "# Data import\n",
    "We retrieve all the required data for the analysis."
   ]
  },
  {
   "cell_type": "code",
   "execution_count": 5,
   "id": "c6de11fb",
   "metadata": {
    "ExecuteTime": {
     "end_time": "2022-06-26T23:41:08.394872Z",
     "start_time": "2022-06-26T23:41:08.210527Z"
    }
   },
   "outputs": [
    {
     "data": {
      "text/plain": [
       "(1460, 80)"
      ]
     },
     "execution_count": 5,
     "metadata": {},
     "output_type": "execute_result"
    }
   ],
   "source": [
    "df = pd.read_csv(RAW_FOLDER + 'train.csv', index_col=0)\n",
    "df_evaluation = df.copy() \n",
    "df_evaluation.shape"
   ]
  },
  {
   "cell_type": "markdown",
   "id": "412184ef",
   "metadata": {},
   "source": [
    "# Data processing\n",
    "\n",
    "## 1st experiment: the baseline\n",
    "Here we will:\n",
    "\n",
    "1. Drop the attributes with more than 80% nulls; and\n",
    "1. Drop all non_numerical features."
   ]
  },
  {
   "cell_type": "markdown",
   "id": "6ad5a3d0",
   "metadata": {},
   "source": [
    "### List of attributes to drop"
   ]
  },
  {
   "cell_type": "code",
   "execution_count": 6,
   "id": "91df45c4",
   "metadata": {
    "ExecuteTime": {
     "end_time": "2022-06-26T23:41:08.584470Z",
     "start_time": "2022-06-26T23:41:08.397873Z"
    }
   },
   "outputs": [
    {
     "name": "stdout",
     "output_type": "stream",
     "text": [
      "4 atributos/features/campos possuem mais de 0.5 de valores nulos.\n"
     ]
    },
    {
     "data": {
      "text/plain": [
       "['PoolQC', 'MiscFeature', 'Alley', 'Fence']"
      ]
     },
     "execution_count": 6,
     "metadata": {},
     "output_type": "execute_result"
    }
   ],
   "source": [
    "lst_columns_null = serie_nulos(df_evaluation, corte=0.5).index.tolist()\n",
    "\n",
    "lst_columns_null"
   ]
  },
  {
   "cell_type": "markdown",
   "id": "32ec1131",
   "metadata": {
    "ExecuteTime": {
     "end_time": "2022-06-09T01:10:12.569776Z",
     "start_time": "2022-06-09T01:10:12.439375Z"
    }
   },
   "source": [
    "### List of area attributes"
   ]
  },
  {
   "cell_type": "code",
   "execution_count": 7,
   "id": "ceea7164",
   "metadata": {
    "ExecuteTime": {
     "end_time": "2022-06-26T23:41:08.771475Z",
     "start_time": "2022-06-26T23:41:08.587476Z"
    }
   },
   "outputs": [
    {
     "name": "stdout",
     "output_type": "stream",
     "text": [
      "There is/are 14 area attributes:\n",
      "['LotArea', 'MasVnrArea', 'BsmtFinSF1', 'BsmtFinSF2', 'BsmtUnfSF', 'TotalBsmtSF', '1stFlrSF', '2ndFlrSF', 'LowQualFinSF', 'GrLivArea', 'GarageArea', 'WoodDeckSF', 'OpenPorchSF', 'PoolArea']\n"
     ]
    }
   ],
   "source": [
    "lst_area = [x for x in df_evaluation.columns if ('area' in x.lower()) or ('sf' in x.lower())]\n",
    "\n",
    "print(f\"\"\"There is/are {len(lst_area)} area attributes:\n",
    "{lst_area}\"\"\")"
   ]
  },
  {
   "cell_type": "markdown",
   "id": "6c48ff5f",
   "metadata": {},
   "source": [
    "### List of time attributes\n",
    "\n",
    "With these features, I will create new time features that express the difference between the YrSold and the each other time feature. For example:\n",
    "\n",
    "- 'YrSold' - 'YearBuilt' = 'YrSold_YearBuilt' -> express the building's age.\n",
    "\n",
    "The difference will not be calculated between 'YrSold' and 'MoSold' because there's no meaning in doing this. 'MoSold' can be used later to observe if there's a seasonality within a year."
   ]
  },
  {
   "cell_type": "code",
   "execution_count": 8,
   "id": "d7844caf",
   "metadata": {
    "ExecuteTime": {
     "end_time": "2022-06-26T23:41:08.925781Z",
     "start_time": "2022-06-26T23:41:08.773470Z"
    }
   },
   "outputs": [
    {
     "name": "stdout",
     "output_type": "stream",
     "text": [
      "There is/are 4 time attributes:\n",
      "['YearBuilt', 'YearRemodAdd', 'GarageYrBlt', 'YrSold']\n"
     ]
    }
   ],
   "source": [
    "lst_time = [x for x in df_evaluation.columns if ('yr' in x.lower()) or ('year' in x.lower())]\n",
    "# After reading the data description, I realized that 'MoSold' is a time attribute too.\n",
    "\n",
    "print(f\"\"\"There is/are {len(lst_time)} time attributes:\n",
    "{lst_time}\"\"\")\n",
    "\n",
    "lst_time.remove('YrSold')"
   ]
  },
  {
   "cell_type": "markdown",
   "id": "37d28827",
   "metadata": {},
   "source": [
    "### List of float attributes"
   ]
  },
  {
   "cell_type": "code",
   "execution_count": 9,
   "id": "37385732",
   "metadata": {
    "ExecuteTime": {
     "end_time": "2022-06-26T23:41:09.081768Z",
     "start_time": "2022-06-26T23:41:08.926782Z"
    }
   },
   "outputs": [
    {
     "name": "stdout",
     "output_type": "stream",
     "text": [
      "There is/are 1 float attributes:\n",
      "['LotFrontage']\n"
     ]
    }
   ],
   "source": [
    "lst_float = [\n",
    "    x for x in df_evaluation.select_dtypes(include='float64').columns.tolist() if (x not in lst_area) and (x not in lst_time)\n",
    "]\n",
    "\n",
    "print(f\"\"\"There is/are {len(lst_float)} float attributes:\n",
    "{lst_float}\"\"\")"
   ]
  },
  {
   "cell_type": "markdown",
   "id": "2d409932",
   "metadata": {},
   "source": [
    "### Data output"
   ]
  },
  {
   "cell_type": "code",
   "execution_count": 10,
   "id": "c7cca0dc",
   "metadata": {
    "ExecuteTime": {
     "end_time": "2022-06-26T23:41:09.237412Z",
     "start_time": "2022-06-26T23:41:09.083766Z"
    }
   },
   "outputs": [
    {
     "data": {
      "text/plain": [
       "['YearBuilt', 'YearRemodAdd', 'GarageYrBlt']"
      ]
     },
     "execution_count": 10,
     "metadata": {},
     "output_type": "execute_result"
    }
   ],
   "source": [
    "lst_time"
   ]
  },
  {
   "cell_type": "code",
   "execution_count": 11,
   "id": "13962d84",
   "metadata": {
    "ExecuteTime": {
     "end_time": "2022-06-26T23:41:09.427227Z",
     "start_time": "2022-06-26T23:41:09.241967Z"
    }
   },
   "outputs": [
    {
     "data": {
      "text/html": [
       "<div>\n",
       "<style scoped>\n",
       "    .dataframe tbody tr th:only-of-type {\n",
       "        vertical-align: middle;\n",
       "    }\n",
       "\n",
       "    .dataframe tbody tr th {\n",
       "        vertical-align: top;\n",
       "    }\n",
       "\n",
       "    .dataframe thead th {\n",
       "        text-align: right;\n",
       "    }\n",
       "</style>\n",
       "<table border=\"1\" class=\"dataframe\">\n",
       "  <thead>\n",
       "    <tr style=\"text-align: right;\">\n",
       "      <th></th>\n",
       "      <th>LotArea</th>\n",
       "      <th>MasVnrArea</th>\n",
       "      <th>BsmtFinSF1</th>\n",
       "      <th>BsmtFinSF2</th>\n",
       "      <th>BsmtUnfSF</th>\n",
       "      <th>TotalBsmtSF</th>\n",
       "      <th>1stFlrSF</th>\n",
       "      <th>2ndFlrSF</th>\n",
       "      <th>LowQualFinSF</th>\n",
       "      <th>GrLivArea</th>\n",
       "      <th>GarageArea</th>\n",
       "      <th>WoodDeckSF</th>\n",
       "      <th>OpenPorchSF</th>\n",
       "      <th>PoolArea</th>\n",
       "      <th>YrSold</th>\n",
       "      <th>YearBuilt_YrSold</th>\n",
       "      <th>YearRemodAdd_YrSold</th>\n",
       "      <th>GarageYrBlt_YrSold</th>\n",
       "      <th>SalePrice</th>\n",
       "    </tr>\n",
       "    <tr>\n",
       "      <th>Id</th>\n",
       "      <th></th>\n",
       "      <th></th>\n",
       "      <th></th>\n",
       "      <th></th>\n",
       "      <th></th>\n",
       "      <th></th>\n",
       "      <th></th>\n",
       "      <th></th>\n",
       "      <th></th>\n",
       "      <th></th>\n",
       "      <th></th>\n",
       "      <th></th>\n",
       "      <th></th>\n",
       "      <th></th>\n",
       "      <th></th>\n",
       "      <th></th>\n",
       "      <th></th>\n",
       "      <th></th>\n",
       "      <th></th>\n",
       "    </tr>\n",
       "  </thead>\n",
       "  <tbody>\n",
       "    <tr>\n",
       "      <th>1</th>\n",
       "      <td>8450</td>\n",
       "      <td>196.0</td>\n",
       "      <td>706</td>\n",
       "      <td>0</td>\n",
       "      <td>150</td>\n",
       "      <td>856</td>\n",
       "      <td>856</td>\n",
       "      <td>854</td>\n",
       "      <td>0</td>\n",
       "      <td>1710</td>\n",
       "      <td>548</td>\n",
       "      <td>0</td>\n",
       "      <td>61</td>\n",
       "      <td>0</td>\n",
       "      <td>2008</td>\n",
       "      <td>5.0</td>\n",
       "      <td>5.0</td>\n",
       "      <td>5.0</td>\n",
       "      <td>208500</td>\n",
       "    </tr>\n",
       "    <tr>\n",
       "      <th>2</th>\n",
       "      <td>9600</td>\n",
       "      <td>0.0</td>\n",
       "      <td>978</td>\n",
       "      <td>0</td>\n",
       "      <td>284</td>\n",
       "      <td>1262</td>\n",
       "      <td>1262</td>\n",
       "      <td>0</td>\n",
       "      <td>0</td>\n",
       "      <td>1262</td>\n",
       "      <td>460</td>\n",
       "      <td>298</td>\n",
       "      <td>0</td>\n",
       "      <td>0</td>\n",
       "      <td>2007</td>\n",
       "      <td>31.0</td>\n",
       "      <td>31.0</td>\n",
       "      <td>31.0</td>\n",
       "      <td>181500</td>\n",
       "    </tr>\n",
       "    <tr>\n",
       "      <th>3</th>\n",
       "      <td>11250</td>\n",
       "      <td>162.0</td>\n",
       "      <td>486</td>\n",
       "      <td>0</td>\n",
       "      <td>434</td>\n",
       "      <td>920</td>\n",
       "      <td>920</td>\n",
       "      <td>866</td>\n",
       "      <td>0</td>\n",
       "      <td>1786</td>\n",
       "      <td>608</td>\n",
       "      <td>0</td>\n",
       "      <td>42</td>\n",
       "      <td>0</td>\n",
       "      <td>2008</td>\n",
       "      <td>7.0</td>\n",
       "      <td>6.0</td>\n",
       "      <td>7.0</td>\n",
       "      <td>223500</td>\n",
       "    </tr>\n",
       "    <tr>\n",
       "      <th>4</th>\n",
       "      <td>9550</td>\n",
       "      <td>0.0</td>\n",
       "      <td>216</td>\n",
       "      <td>0</td>\n",
       "      <td>540</td>\n",
       "      <td>756</td>\n",
       "      <td>961</td>\n",
       "      <td>756</td>\n",
       "      <td>0</td>\n",
       "      <td>1717</td>\n",
       "      <td>642</td>\n",
       "      <td>0</td>\n",
       "      <td>35</td>\n",
       "      <td>0</td>\n",
       "      <td>2006</td>\n",
       "      <td>91.0</td>\n",
       "      <td>36.0</td>\n",
       "      <td>8.0</td>\n",
       "      <td>140000</td>\n",
       "    </tr>\n",
       "    <tr>\n",
       "      <th>5</th>\n",
       "      <td>14260</td>\n",
       "      <td>350.0</td>\n",
       "      <td>655</td>\n",
       "      <td>0</td>\n",
       "      <td>490</td>\n",
       "      <td>1145</td>\n",
       "      <td>1145</td>\n",
       "      <td>1053</td>\n",
       "      <td>0</td>\n",
       "      <td>2198</td>\n",
       "      <td>836</td>\n",
       "      <td>192</td>\n",
       "      <td>84</td>\n",
       "      <td>0</td>\n",
       "      <td>2008</td>\n",
       "      <td>8.0</td>\n",
       "      <td>8.0</td>\n",
       "      <td>8.0</td>\n",
       "      <td>250000</td>\n",
       "    </tr>\n",
       "  </tbody>\n",
       "</table>\n",
       "</div>"
      ],
      "text/plain": [
       "    LotArea  MasVnrArea  BsmtFinSF1  BsmtFinSF2  BsmtUnfSF  TotalBsmtSF  \\\n",
       "Id                                                                        \n",
       "1      8450       196.0         706           0        150          856   \n",
       "2      9600         0.0         978           0        284         1262   \n",
       "3     11250       162.0         486           0        434          920   \n",
       "4      9550         0.0         216           0        540          756   \n",
       "5     14260       350.0         655           0        490         1145   \n",
       "\n",
       "    1stFlrSF  2ndFlrSF  LowQualFinSF  GrLivArea  GarageArea  WoodDeckSF  \\\n",
       "Id                                                                        \n",
       "1        856       854             0       1710         548           0   \n",
       "2       1262         0             0       1262         460         298   \n",
       "3        920       866             0       1786         608           0   \n",
       "4        961       756             0       1717         642           0   \n",
       "5       1145      1053             0       2198         836         192   \n",
       "\n",
       "    OpenPorchSF  PoolArea  YrSold  YearBuilt_YrSold  YearRemodAdd_YrSold  \\\n",
       "Id                                                                         \n",
       "1            61         0    2008               5.0                  5.0   \n",
       "2             0         0    2007              31.0                 31.0   \n",
       "3            42         0    2008               7.0                  6.0   \n",
       "4            35         0    2006              91.0                 36.0   \n",
       "5            84         0    2008               8.0                  8.0   \n",
       "\n",
       "    GarageYrBlt_YrSold  SalePrice  \n",
       "Id                                 \n",
       "1                  5.0     208500  \n",
       "2                 31.0     181500  \n",
       "3                  7.0     223500  \n",
       "4                  8.0     140000  \n",
       "5                  8.0     250000  "
      ]
     },
     "execution_count": 11,
     "metadata": {},
     "output_type": "execute_result"
    }
   ],
   "source": [
    "df_output = df.copy()\n",
    "\n",
    "df_output = prepare_baseline(df_output)\n",
    "\n",
    "df_output.head()\n"
   ]
  },
  {
   "cell_type": "markdown",
   "id": "3d514176",
   "metadata": {},
   "source": [
    "### Presence of null values\n",
    "\n",
    "The 1st experiment will be a simple linear regression. This method do not allowed null values in the dataset nor in production model. The following steps we'll fill the null values:"
   ]
  },
  {
   "cell_type": "code",
   "execution_count": 12,
   "id": "ccf951c9",
   "metadata": {
    "ExecuteTime": {
     "end_time": "2022-06-26T23:41:09.630236Z",
     "start_time": "2022-06-26T23:41:09.430131Z"
    }
   },
   "outputs": [
    {
     "name": "stdout",
     "output_type": "stream",
     "text": [
      "1 atributos/features/campos possuem mais de 0 de valores nulos.\n"
     ]
    },
    {
     "data": {
      "text/plain": [
       "MasVnrArea    0.005479\n",
       "dtype: float64"
      ]
     },
     "execution_count": 12,
     "metadata": {},
     "output_type": "execute_result"
    }
   ],
   "source": [
    "serie_nulos(df_output, corte=0)"
   ]
  },
  {
   "cell_type": "markdown",
   "id": "0892c78a",
   "metadata": {},
   "source": [
    "#### Filling attribute: *GarageYrBlt_YrSold*\n",
    "\n",
    "This attribute could mean that the building has no garage. For this one we'll just fill the null values with a high number (e.g.: 999)."
   ]
  },
  {
   "cell_type": "code",
   "execution_count": 13,
   "id": "4c5b4a24",
   "metadata": {
    "ExecuteTime": {
     "end_time": "2022-06-26T23:41:09.787228Z",
     "start_time": "2022-06-26T23:41:09.632235Z"
    }
   },
   "outputs": [
    {
     "data": {
      "text/html": [
       "<div>\n",
       "<style scoped>\n",
       "    .dataframe tbody tr th:only-of-type {\n",
       "        vertical-align: middle;\n",
       "    }\n",
       "\n",
       "    .dataframe tbody tr th {\n",
       "        vertical-align: top;\n",
       "    }\n",
       "\n",
       "    .dataframe thead th {\n",
       "        text-align: right;\n",
       "    }\n",
       "</style>\n",
       "<table border=\"1\" class=\"dataframe\">\n",
       "  <thead>\n",
       "    <tr style=\"text-align: right;\">\n",
       "      <th></th>\n",
       "      <th>GarageType</th>\n",
       "      <th>GarageYrBlt</th>\n",
       "      <th>GarageFinish</th>\n",
       "      <th>GarageCars</th>\n",
       "      <th>GarageArea</th>\n",
       "      <th>GarageQual</th>\n",
       "      <th>GarageCond</th>\n",
       "    </tr>\n",
       "    <tr>\n",
       "      <th>Id</th>\n",
       "      <th></th>\n",
       "      <th></th>\n",
       "      <th></th>\n",
       "      <th></th>\n",
       "      <th></th>\n",
       "      <th></th>\n",
       "      <th></th>\n",
       "    </tr>\n",
       "  </thead>\n",
       "  <tbody>\n",
       "    <tr>\n",
       "      <th>529</th>\n",
       "      <td>NaN</td>\n",
       "      <td>NaN</td>\n",
       "      <td>NaN</td>\n",
       "      <td>0</td>\n",
       "      <td>0</td>\n",
       "      <td>NaN</td>\n",
       "      <td>NaN</td>\n",
       "    </tr>\n",
       "    <tr>\n",
       "      <th>40</th>\n",
       "      <td>NaN</td>\n",
       "      <td>NaN</td>\n",
       "      <td>NaN</td>\n",
       "      <td>0</td>\n",
       "      <td>0</td>\n",
       "      <td>NaN</td>\n",
       "      <td>NaN</td>\n",
       "    </tr>\n",
       "    <tr>\n",
       "      <th>387</th>\n",
       "      <td>NaN</td>\n",
       "      <td>NaN</td>\n",
       "      <td>NaN</td>\n",
       "      <td>0</td>\n",
       "      <td>0</td>\n",
       "      <td>NaN</td>\n",
       "      <td>NaN</td>\n",
       "    </tr>\n",
       "    <tr>\n",
       "      <th>534</th>\n",
       "      <td>NaN</td>\n",
       "      <td>NaN</td>\n",
       "      <td>NaN</td>\n",
       "      <td>0</td>\n",
       "      <td>0</td>\n",
       "      <td>NaN</td>\n",
       "      <td>NaN</td>\n",
       "    </tr>\n",
       "    <tr>\n",
       "      <th>288</th>\n",
       "      <td>NaN</td>\n",
       "      <td>NaN</td>\n",
       "      <td>NaN</td>\n",
       "      <td>0</td>\n",
       "      <td>0</td>\n",
       "      <td>NaN</td>\n",
       "      <td>NaN</td>\n",
       "    </tr>\n",
       "  </tbody>\n",
       "</table>\n",
       "</div>"
      ],
      "text/plain": [
       "    GarageType  GarageYrBlt GarageFinish  GarageCars  GarageArea GarageQual  \\\n",
       "Id                                                                            \n",
       "529        NaN          NaN          NaN           0           0        NaN   \n",
       "40         NaN          NaN          NaN           0           0        NaN   \n",
       "387        NaN          NaN          NaN           0           0        NaN   \n",
       "534        NaN          NaN          NaN           0           0        NaN   \n",
       "288        NaN          NaN          NaN           0           0        NaN   \n",
       "\n",
       "    GarageCond  \n",
       "Id              \n",
       "529        NaN  \n",
       "40         NaN  \n",
       "387        NaN  \n",
       "534        NaN  \n",
       "288        NaN  "
      ]
     },
     "execution_count": 13,
     "metadata": {},
     "output_type": "execute_result"
    }
   ],
   "source": [
    "# This dataframe below shows there is NO information about the attributes with 'Garage' in the name.\n",
    "df.loc[df['GarageYrBlt'].isna(), [x for x in df.columns if 'arage' in x]].sample(5, random_state=RANDOM_STATE)"
   ]
  },
  {
   "cell_type": "code",
   "execution_count": 14,
   "id": "25328b61",
   "metadata": {
    "ExecuteTime": {
     "end_time": "2022-06-26T23:41:09.959129Z",
     "start_time": "2022-06-26T23:41:09.790229Z"
    }
   },
   "outputs": [
    {
     "data": {
      "text/html": [
       "<div>\n",
       "<style scoped>\n",
       "    .dataframe tbody tr th:only-of-type {\n",
       "        vertical-align: middle;\n",
       "    }\n",
       "\n",
       "    .dataframe tbody tr th {\n",
       "        vertical-align: top;\n",
       "    }\n",
       "\n",
       "    .dataframe thead th {\n",
       "        text-align: right;\n",
       "    }\n",
       "</style>\n",
       "<table border=\"1\" class=\"dataframe\">\n",
       "  <thead>\n",
       "    <tr style=\"text-align: right;\">\n",
       "      <th></th>\n",
       "      <th>GarageArea</th>\n",
       "      <th>GarageYrBlt_YrSold</th>\n",
       "    </tr>\n",
       "    <tr>\n",
       "      <th>Id</th>\n",
       "      <th></th>\n",
       "      <th></th>\n",
       "    </tr>\n",
       "  </thead>\n",
       "  <tbody>\n",
       "    <tr>\n",
       "      <th>529</th>\n",
       "      <td>0</td>\n",
       "      <td>999.0</td>\n",
       "    </tr>\n",
       "    <tr>\n",
       "      <th>40</th>\n",
       "      <td>0</td>\n",
       "      <td>999.0</td>\n",
       "    </tr>\n",
       "    <tr>\n",
       "      <th>387</th>\n",
       "      <td>0</td>\n",
       "      <td>999.0</td>\n",
       "    </tr>\n",
       "    <tr>\n",
       "      <th>534</th>\n",
       "      <td>0</td>\n",
       "      <td>999.0</td>\n",
       "    </tr>\n",
       "    <tr>\n",
       "      <th>288</th>\n",
       "      <td>0</td>\n",
       "      <td>999.0</td>\n",
       "    </tr>\n",
       "  </tbody>\n",
       "</table>\n",
       "</div>"
      ],
      "text/plain": [
       "     GarageArea  GarageYrBlt_YrSold\n",
       "Id                                 \n",
       "529           0               999.0\n",
       "40            0               999.0\n",
       "387           0               999.0\n",
       "534           0               999.0\n",
       "288           0               999.0"
      ]
     },
     "execution_count": 14,
     "metadata": {},
     "output_type": "execute_result"
    }
   ],
   "source": [
    "# 2022-06-26 - I've added the fillna below in create_time_columns function.\n",
    "df_output[['GarageYrBlt_YrSold']] = df_output[['GarageYrBlt_YrSold']].fillna(999)\n",
    "\n",
    "df_output.loc[\n",
    "    df_output['GarageYrBlt_YrSold']==999, [x for x in df_output.columns if 'arage' in x]\n",
    "].sample(5, random_state=RANDOM_STATE)"
   ]
  },
  {
   "cell_type": "markdown",
   "id": "93580f93",
   "metadata": {},
   "source": [
    "#### Filling attribute: *MasVnrArea*\n",
    "\n",
    "As showed above, this attribute or factor has only 8 null value entries (0,5% of total). As a first try, it is possible to delete these 8 entries, but we want to build a data prep pipeline to deal with these cases.\n",
    "\n",
    "Here we are going to try [KNN](https://scikit-learn.org/stable/modules/generated/sklearn.impute.KNNImputer.html) approach, without the target or response, obviously."
   ]
  },
  {
   "cell_type": "code",
   "execution_count": 15,
   "id": "4566472e",
   "metadata": {
    "ExecuteTime": {
     "end_time": "2022-06-26T23:41:10.130171Z",
     "start_time": "2022-06-26T23:41:09.960084Z"
    }
   },
   "outputs": [
    {
     "data": {
      "text/html": [
       "<div>\n",
       "<style scoped>\n",
       "    .dataframe tbody tr th:only-of-type {\n",
       "        vertical-align: middle;\n",
       "    }\n",
       "\n",
       "    .dataframe tbody tr th {\n",
       "        vertical-align: top;\n",
       "    }\n",
       "\n",
       "    .dataframe thead th {\n",
       "        text-align: right;\n",
       "    }\n",
       "</style>\n",
       "<table border=\"1\" class=\"dataframe\">\n",
       "  <thead>\n",
       "    <tr style=\"text-align: right;\">\n",
       "      <th></th>\n",
       "      <th>LotArea</th>\n",
       "      <th>MasVnrArea</th>\n",
       "      <th>BsmtFinSF1</th>\n",
       "      <th>BsmtFinSF2</th>\n",
       "      <th>BsmtUnfSF</th>\n",
       "      <th>TotalBsmtSF</th>\n",
       "      <th>1stFlrSF</th>\n",
       "      <th>2ndFlrSF</th>\n",
       "      <th>LowQualFinSF</th>\n",
       "      <th>GrLivArea</th>\n",
       "      <th>GarageArea</th>\n",
       "      <th>WoodDeckSF</th>\n",
       "      <th>OpenPorchSF</th>\n",
       "      <th>PoolArea</th>\n",
       "      <th>YrSold</th>\n",
       "      <th>YearBuilt_YrSold</th>\n",
       "      <th>YearRemodAdd_YrSold</th>\n",
       "      <th>GarageYrBlt_YrSold</th>\n",
       "      <th>SalePrice</th>\n",
       "    </tr>\n",
       "    <tr>\n",
       "      <th>Id</th>\n",
       "      <th></th>\n",
       "      <th></th>\n",
       "      <th></th>\n",
       "      <th></th>\n",
       "      <th></th>\n",
       "      <th></th>\n",
       "      <th></th>\n",
       "      <th></th>\n",
       "      <th></th>\n",
       "      <th></th>\n",
       "      <th></th>\n",
       "      <th></th>\n",
       "      <th></th>\n",
       "      <th></th>\n",
       "      <th></th>\n",
       "      <th></th>\n",
       "      <th></th>\n",
       "      <th></th>\n",
       "      <th></th>\n",
       "    </tr>\n",
       "  </thead>\n",
       "  <tbody>\n",
       "    <tr>\n",
       "      <th>235</th>\n",
       "      <td>7851</td>\n",
       "      <td>NaN</td>\n",
       "      <td>625</td>\n",
       "      <td>0</td>\n",
       "      <td>235</td>\n",
       "      <td>860</td>\n",
       "      <td>860</td>\n",
       "      <td>1100</td>\n",
       "      <td>0</td>\n",
       "      <td>1960</td>\n",
       "      <td>440</td>\n",
       "      <td>288</td>\n",
       "      <td>48</td>\n",
       "      <td>0</td>\n",
       "      <td>2010</td>\n",
       "      <td>8.0</td>\n",
       "      <td>8.0</td>\n",
       "      <td>8.0</td>\n",
       "      <td>216500</td>\n",
       "    </tr>\n",
       "    <tr>\n",
       "      <th>530</th>\n",
       "      <td>32668</td>\n",
       "      <td>NaN</td>\n",
       "      <td>1219</td>\n",
       "      <td>0</td>\n",
       "      <td>816</td>\n",
       "      <td>2035</td>\n",
       "      <td>2515</td>\n",
       "      <td>0</td>\n",
       "      <td>0</td>\n",
       "      <td>2515</td>\n",
       "      <td>484</td>\n",
       "      <td>0</td>\n",
       "      <td>0</td>\n",
       "      <td>0</td>\n",
       "      <td>2007</td>\n",
       "      <td>50.0</td>\n",
       "      <td>32.0</td>\n",
       "      <td>32.0</td>\n",
       "      <td>200624</td>\n",
       "    </tr>\n",
       "    <tr>\n",
       "      <th>651</th>\n",
       "      <td>8125</td>\n",
       "      <td>NaN</td>\n",
       "      <td>0</td>\n",
       "      <td>0</td>\n",
       "      <td>813</td>\n",
       "      <td>813</td>\n",
       "      <td>822</td>\n",
       "      <td>843</td>\n",
       "      <td>0</td>\n",
       "      <td>1665</td>\n",
       "      <td>562</td>\n",
       "      <td>0</td>\n",
       "      <td>0</td>\n",
       "      <td>0</td>\n",
       "      <td>2008</td>\n",
       "      <td>1.0</td>\n",
       "      <td>1.0</td>\n",
       "      <td>1.0</td>\n",
       "      <td>205950</td>\n",
       "    </tr>\n",
       "    <tr>\n",
       "      <th>937</th>\n",
       "      <td>10083</td>\n",
       "      <td>NaN</td>\n",
       "      <td>833</td>\n",
       "      <td>0</td>\n",
       "      <td>343</td>\n",
       "      <td>1176</td>\n",
       "      <td>1200</td>\n",
       "      <td>0</td>\n",
       "      <td>0</td>\n",
       "      <td>1200</td>\n",
       "      <td>555</td>\n",
       "      <td>0</td>\n",
       "      <td>41</td>\n",
       "      <td>0</td>\n",
       "      <td>2009</td>\n",
       "      <td>6.0</td>\n",
       "      <td>6.0</td>\n",
       "      <td>6.0</td>\n",
       "      <td>184900</td>\n",
       "    </tr>\n",
       "    <tr>\n",
       "      <th>974</th>\n",
       "      <td>11639</td>\n",
       "      <td>NaN</td>\n",
       "      <td>0</td>\n",
       "      <td>0</td>\n",
       "      <td>1428</td>\n",
       "      <td>1428</td>\n",
       "      <td>1428</td>\n",
       "      <td>0</td>\n",
       "      <td>0</td>\n",
       "      <td>1428</td>\n",
       "      <td>480</td>\n",
       "      <td>0</td>\n",
       "      <td>120</td>\n",
       "      <td>0</td>\n",
       "      <td>2008</td>\n",
       "      <td>1.0</td>\n",
       "      <td>0.0</td>\n",
       "      <td>1.0</td>\n",
       "      <td>182000</td>\n",
       "    </tr>\n",
       "    <tr>\n",
       "      <th>978</th>\n",
       "      <td>4274</td>\n",
       "      <td>NaN</td>\n",
       "      <td>1106</td>\n",
       "      <td>0</td>\n",
       "      <td>135</td>\n",
       "      <td>1241</td>\n",
       "      <td>1241</td>\n",
       "      <td>0</td>\n",
       "      <td>0</td>\n",
       "      <td>1241</td>\n",
       "      <td>569</td>\n",
       "      <td>0</td>\n",
       "      <td>116</td>\n",
       "      <td>0</td>\n",
       "      <td>2007</td>\n",
       "      <td>1.0</td>\n",
       "      <td>0.0</td>\n",
       "      <td>0.0</td>\n",
       "      <td>199900</td>\n",
       "    </tr>\n",
       "    <tr>\n",
       "      <th>1244</th>\n",
       "      <td>13891</td>\n",
       "      <td>NaN</td>\n",
       "      <td>1386</td>\n",
       "      <td>0</td>\n",
       "      <td>690</td>\n",
       "      <td>2076</td>\n",
       "      <td>2076</td>\n",
       "      <td>0</td>\n",
       "      <td>0</td>\n",
       "      <td>2076</td>\n",
       "      <td>850</td>\n",
       "      <td>216</td>\n",
       "      <td>229</td>\n",
       "      <td>0</td>\n",
       "      <td>2006</td>\n",
       "      <td>0.0</td>\n",
       "      <td>0.0</td>\n",
       "      <td>0.0</td>\n",
       "      <td>465000</td>\n",
       "    </tr>\n",
       "    <tr>\n",
       "      <th>1279</th>\n",
       "      <td>9473</td>\n",
       "      <td>NaN</td>\n",
       "      <td>804</td>\n",
       "      <td>0</td>\n",
       "      <td>324</td>\n",
       "      <td>1128</td>\n",
       "      <td>1128</td>\n",
       "      <td>903</td>\n",
       "      <td>0</td>\n",
       "      <td>2031</td>\n",
       "      <td>577</td>\n",
       "      <td>0</td>\n",
       "      <td>211</td>\n",
       "      <td>0</td>\n",
       "      <td>2008</td>\n",
       "      <td>6.0</td>\n",
       "      <td>6.0</td>\n",
       "      <td>6.0</td>\n",
       "      <td>237000</td>\n",
       "    </tr>\n",
       "  </tbody>\n",
       "</table>\n",
       "</div>"
      ],
      "text/plain": [
       "      LotArea  MasVnrArea  BsmtFinSF1  BsmtFinSF2  BsmtUnfSF  TotalBsmtSF  \\\n",
       "Id                                                                          \n",
       "235      7851         NaN         625           0        235          860   \n",
       "530     32668         NaN        1219           0        816         2035   \n",
       "651      8125         NaN           0           0        813          813   \n",
       "937     10083         NaN         833           0        343         1176   \n",
       "974     11639         NaN           0           0       1428         1428   \n",
       "978      4274         NaN        1106           0        135         1241   \n",
       "1244    13891         NaN        1386           0        690         2076   \n",
       "1279     9473         NaN         804           0        324         1128   \n",
       "\n",
       "      1stFlrSF  2ndFlrSF  LowQualFinSF  GrLivArea  GarageArea  WoodDeckSF  \\\n",
       "Id                                                                          \n",
       "235        860      1100             0       1960         440         288   \n",
       "530       2515         0             0       2515         484           0   \n",
       "651        822       843             0       1665         562           0   \n",
       "937       1200         0             0       1200         555           0   \n",
       "974       1428         0             0       1428         480           0   \n",
       "978       1241         0             0       1241         569           0   \n",
       "1244      2076         0             0       2076         850         216   \n",
       "1279      1128       903             0       2031         577           0   \n",
       "\n",
       "      OpenPorchSF  PoolArea  YrSold  YearBuilt_YrSold  YearRemodAdd_YrSold  \\\n",
       "Id                                                                           \n",
       "235            48         0    2010               8.0                  8.0   \n",
       "530             0         0    2007              50.0                 32.0   \n",
       "651             0         0    2008               1.0                  1.0   \n",
       "937            41         0    2009               6.0                  6.0   \n",
       "974           120         0    2008               1.0                  0.0   \n",
       "978           116         0    2007               1.0                  0.0   \n",
       "1244          229         0    2006               0.0                  0.0   \n",
       "1279          211         0    2008               6.0                  6.0   \n",
       "\n",
       "      GarageYrBlt_YrSold  SalePrice  \n",
       "Id                                   \n",
       "235                  8.0     216500  \n",
       "530                 32.0     200624  \n",
       "651                  1.0     205950  \n",
       "937                  6.0     184900  \n",
       "974                  1.0     182000  \n",
       "978                  0.0     199900  \n",
       "1244                 0.0     465000  \n",
       "1279                 6.0     237000  "
      ]
     },
     "execution_count": 15,
     "metadata": {},
     "output_type": "execute_result"
    }
   ],
   "source": [
    "# Creating a copy of the df_output:\n",
    "df_prep_MasVnrArea = df_output.copy()\n",
    "\n",
    "# listing the indexes with null values.\n",
    "lst_nulls_MasVnrArea = df_prep_MasVnrArea[(df_prep_MasVnrArea['MasVnrArea'].isna())].index.tolist()\n",
    "\n",
    "# listing the indexes WITHOUT null values.\n",
    "lst_keep_MasVnrArea = [x for x in df_prep_MasVnrArea.index if x not in lst_nulls_MasVnrArea]\n",
    "\n",
    "df_prep_MasVnrArea[(df_prep_MasVnrArea['MasVnrArea'].isna())]"
   ]
  },
  {
   "cell_type": "code",
   "execution_count": 16,
   "id": "d8ab520c",
   "metadata": {
    "ExecuteTime": {
     "end_time": "2022-06-26T23:41:10.282664Z",
     "start_time": "2022-06-26T23:41:10.131169Z"
    }
   },
   "outputs": [
    {
     "name": "stdout",
     "output_type": "stream",
     "text": [
      "train: X - (1452, 17), y - (1452, 1)\n",
      "test: X - (8, 17), y - (8, 1)\n"
     ]
    }
   ],
   "source": [
    "X_train = df_prep_MasVnrArea.drop(columns=['MasVnrArea', 'SalePrice'], index=lst_nulls_MasVnrArea)\n",
    "X_test = df_prep_MasVnrArea.drop(columns=['MasVnrArea', 'SalePrice'], index=lst_keep_MasVnrArea)\n",
    "y_train = df_prep_MasVnrArea.loc[lst_keep_MasVnrArea, ['MasVnrArea']]\n",
    "y_test = df_prep_MasVnrArea.loc[lst_nulls_MasVnrArea, ['MasVnrArea']]\n",
    "\n",
    "print(f\"\"\"train: X - {X_train.shape}, y - {y_train.shape}\n",
    "test: X - {X_test.shape}, y - {y_test.shape}\"\"\")"
   ]
  },
  {
   "cell_type": "markdown",
   "id": "6b2cbb7e",
   "metadata": {},
   "source": [
    "### Exporting the data prep model\n",
    "\n",
    "#### Trying to use PMML"
   ]
  },
  {
   "cell_type": "code",
   "execution_count": 17,
   "id": "f3fc475d",
   "metadata": {
    "ExecuteTime": {
     "end_time": "2022-06-26T23:41:12.542969Z",
     "start_time": "2022-06-26T23:41:10.284665Z"
    }
   },
   "outputs": [
    {
     "data": {
      "text/plain": [
       "array([[450. ],\n",
       "       [ 97.4],\n",
       "       [  0. ],\n",
       "       [ 44.4],\n",
       "       [114.2],\n",
       "       [260.8],\n",
       "       [587. ],\n",
       "       [103.6]])"
      ]
     },
     "execution_count": 17,
     "metadata": {},
     "output_type": "execute_result"
    }
   ],
   "source": [
    "pipeline = PMMLPipeline([\n",
    "    (\"knn\", KNeighborsRegressor(n_neighbors=5, n_jobs=-1))\n",
    "])\n",
    "\n",
    "pipeline.fit(X_train, y_train)\n",
    "\n",
    "sklearn2pmml(pipeline, MODELS_FOLDER + 'data_prep_knn.pmml', with_repr = True)\n",
    "\n",
    "y_pred_imputer = pipeline.predict(X_test)\n",
    "\n",
    "y_pred_imputer\n",
    "\n",
    "# df_output.loc[lst_nulls_MasVnrArea, 'MasVnrArea_pred'] = y_pred_imputer\n",
    "\n",
    "# df_output.loc[lst_nulls_MasVnrArea, ['MasVnrArea', 'MasVnrArea_pred']]"
   ]
  },
  {
   "cell_type": "markdown",
   "id": "8c062cad",
   "metadata": {},
   "source": [
    "#### Using Pickle"
   ]
  },
  {
   "cell_type": "code",
   "execution_count": 18,
   "id": "45a1fd28",
   "metadata": {
    "ExecuteTime": {
     "end_time": "2022-06-26T23:41:12.759567Z",
     "start_time": "2022-06-26T23:41:12.544967Z"
    }
   },
   "outputs": [
    {
     "data": {
      "text/plain": [
       "array([[450. ],\n",
       "       [ 97.4],\n",
       "       [  0. ],\n",
       "       [ 44.4],\n",
       "       [114.2],\n",
       "       [260.8],\n",
       "       [587. ],\n",
       "       [103.6]])"
      ]
     },
     "execution_count": 18,
     "metadata": {},
     "output_type": "execute_result"
    }
   ],
   "source": [
    "pipeline = KNeighborsRegressor(n_neighbors=5, n_jobs=-1)\n",
    "\n",
    "pipeline.fit(X_train, y_train)\n",
    "\n",
    "pickle.dump(pipeline, open(MODELS_FOLDER + 'data_prep_knn.pkl', 'wb'))\n",
    "\n",
    "y_pred_imputer = pipeline.predict(X_test)\n",
    "\n",
    "y_pred_imputer"
   ]
  },
  {
   "cell_type": "code",
   "execution_count": 19,
   "id": "318e7240",
   "metadata": {
    "ExecuteTime": {
     "end_time": "2022-06-26T23:41:12.947182Z",
     "start_time": "2022-06-26T23:41:12.761569Z"
    }
   },
   "outputs": [
    {
     "data": {
      "text/html": [
       "<div>\n",
       "<style scoped>\n",
       "    .dataframe tbody tr th:only-of-type {\n",
       "        vertical-align: middle;\n",
       "    }\n",
       "\n",
       "    .dataframe tbody tr th {\n",
       "        vertical-align: top;\n",
       "    }\n",
       "\n",
       "    .dataframe thead th {\n",
       "        text-align: right;\n",
       "    }\n",
       "</style>\n",
       "<table border=\"1\" class=\"dataframe\">\n",
       "  <thead>\n",
       "    <tr style=\"text-align: right;\">\n",
       "      <th></th>\n",
       "      <th>LotArea</th>\n",
       "      <th>MasVnrArea</th>\n",
       "      <th>BsmtFinSF1</th>\n",
       "      <th>BsmtFinSF2</th>\n",
       "      <th>BsmtUnfSF</th>\n",
       "      <th>TotalBsmtSF</th>\n",
       "      <th>1stFlrSF</th>\n",
       "      <th>2ndFlrSF</th>\n",
       "      <th>LowQualFinSF</th>\n",
       "      <th>GrLivArea</th>\n",
       "      <th>GarageArea</th>\n",
       "      <th>WoodDeckSF</th>\n",
       "      <th>OpenPorchSF</th>\n",
       "      <th>PoolArea</th>\n",
       "      <th>YrSold</th>\n",
       "      <th>YearBuilt_YrSold</th>\n",
       "      <th>YearRemodAdd_YrSold</th>\n",
       "      <th>GarageYrBlt_YrSold</th>\n",
       "      <th>SalePrice</th>\n",
       "    </tr>\n",
       "    <tr>\n",
       "      <th>Id</th>\n",
       "      <th></th>\n",
       "      <th></th>\n",
       "      <th></th>\n",
       "      <th></th>\n",
       "      <th></th>\n",
       "      <th></th>\n",
       "      <th></th>\n",
       "      <th></th>\n",
       "      <th></th>\n",
       "      <th></th>\n",
       "      <th></th>\n",
       "      <th></th>\n",
       "      <th></th>\n",
       "      <th></th>\n",
       "      <th></th>\n",
       "      <th></th>\n",
       "      <th></th>\n",
       "      <th></th>\n",
       "      <th></th>\n",
       "    </tr>\n",
       "  </thead>\n",
       "  <tbody>\n",
       "    <tr>\n",
       "      <th>235</th>\n",
       "      <td>7851</td>\n",
       "      <td>450.0</td>\n",
       "      <td>625</td>\n",
       "      <td>0</td>\n",
       "      <td>235</td>\n",
       "      <td>860</td>\n",
       "      <td>860</td>\n",
       "      <td>1100</td>\n",
       "      <td>0</td>\n",
       "      <td>1960</td>\n",
       "      <td>440</td>\n",
       "      <td>288</td>\n",
       "      <td>48</td>\n",
       "      <td>0</td>\n",
       "      <td>2010</td>\n",
       "      <td>8.0</td>\n",
       "      <td>8.0</td>\n",
       "      <td>8.0</td>\n",
       "      <td>216500</td>\n",
       "    </tr>\n",
       "    <tr>\n",
       "      <th>530</th>\n",
       "      <td>32668</td>\n",
       "      <td>97.4</td>\n",
       "      <td>1219</td>\n",
       "      <td>0</td>\n",
       "      <td>816</td>\n",
       "      <td>2035</td>\n",
       "      <td>2515</td>\n",
       "      <td>0</td>\n",
       "      <td>0</td>\n",
       "      <td>2515</td>\n",
       "      <td>484</td>\n",
       "      <td>0</td>\n",
       "      <td>0</td>\n",
       "      <td>0</td>\n",
       "      <td>2007</td>\n",
       "      <td>50.0</td>\n",
       "      <td>32.0</td>\n",
       "      <td>32.0</td>\n",
       "      <td>200624</td>\n",
       "    </tr>\n",
       "    <tr>\n",
       "      <th>651</th>\n",
       "      <td>8125</td>\n",
       "      <td>0.0</td>\n",
       "      <td>0</td>\n",
       "      <td>0</td>\n",
       "      <td>813</td>\n",
       "      <td>813</td>\n",
       "      <td>822</td>\n",
       "      <td>843</td>\n",
       "      <td>0</td>\n",
       "      <td>1665</td>\n",
       "      <td>562</td>\n",
       "      <td>0</td>\n",
       "      <td>0</td>\n",
       "      <td>0</td>\n",
       "      <td>2008</td>\n",
       "      <td>1.0</td>\n",
       "      <td>1.0</td>\n",
       "      <td>1.0</td>\n",
       "      <td>205950</td>\n",
       "    </tr>\n",
       "    <tr>\n",
       "      <th>937</th>\n",
       "      <td>10083</td>\n",
       "      <td>44.4</td>\n",
       "      <td>833</td>\n",
       "      <td>0</td>\n",
       "      <td>343</td>\n",
       "      <td>1176</td>\n",
       "      <td>1200</td>\n",
       "      <td>0</td>\n",
       "      <td>0</td>\n",
       "      <td>1200</td>\n",
       "      <td>555</td>\n",
       "      <td>0</td>\n",
       "      <td>41</td>\n",
       "      <td>0</td>\n",
       "      <td>2009</td>\n",
       "      <td>6.0</td>\n",
       "      <td>6.0</td>\n",
       "      <td>6.0</td>\n",
       "      <td>184900</td>\n",
       "    </tr>\n",
       "    <tr>\n",
       "      <th>974</th>\n",
       "      <td>11639</td>\n",
       "      <td>114.2</td>\n",
       "      <td>0</td>\n",
       "      <td>0</td>\n",
       "      <td>1428</td>\n",
       "      <td>1428</td>\n",
       "      <td>1428</td>\n",
       "      <td>0</td>\n",
       "      <td>0</td>\n",
       "      <td>1428</td>\n",
       "      <td>480</td>\n",
       "      <td>0</td>\n",
       "      <td>120</td>\n",
       "      <td>0</td>\n",
       "      <td>2008</td>\n",
       "      <td>1.0</td>\n",
       "      <td>0.0</td>\n",
       "      <td>1.0</td>\n",
       "      <td>182000</td>\n",
       "    </tr>\n",
       "    <tr>\n",
       "      <th>978</th>\n",
       "      <td>4274</td>\n",
       "      <td>260.8</td>\n",
       "      <td>1106</td>\n",
       "      <td>0</td>\n",
       "      <td>135</td>\n",
       "      <td>1241</td>\n",
       "      <td>1241</td>\n",
       "      <td>0</td>\n",
       "      <td>0</td>\n",
       "      <td>1241</td>\n",
       "      <td>569</td>\n",
       "      <td>0</td>\n",
       "      <td>116</td>\n",
       "      <td>0</td>\n",
       "      <td>2007</td>\n",
       "      <td>1.0</td>\n",
       "      <td>0.0</td>\n",
       "      <td>0.0</td>\n",
       "      <td>199900</td>\n",
       "    </tr>\n",
       "    <tr>\n",
       "      <th>1244</th>\n",
       "      <td>13891</td>\n",
       "      <td>587.0</td>\n",
       "      <td>1386</td>\n",
       "      <td>0</td>\n",
       "      <td>690</td>\n",
       "      <td>2076</td>\n",
       "      <td>2076</td>\n",
       "      <td>0</td>\n",
       "      <td>0</td>\n",
       "      <td>2076</td>\n",
       "      <td>850</td>\n",
       "      <td>216</td>\n",
       "      <td>229</td>\n",
       "      <td>0</td>\n",
       "      <td>2006</td>\n",
       "      <td>0.0</td>\n",
       "      <td>0.0</td>\n",
       "      <td>0.0</td>\n",
       "      <td>465000</td>\n",
       "    </tr>\n",
       "    <tr>\n",
       "      <th>1279</th>\n",
       "      <td>9473</td>\n",
       "      <td>103.6</td>\n",
       "      <td>804</td>\n",
       "      <td>0</td>\n",
       "      <td>324</td>\n",
       "      <td>1128</td>\n",
       "      <td>1128</td>\n",
       "      <td>903</td>\n",
       "      <td>0</td>\n",
       "      <td>2031</td>\n",
       "      <td>577</td>\n",
       "      <td>0</td>\n",
       "      <td>211</td>\n",
       "      <td>0</td>\n",
       "      <td>2008</td>\n",
       "      <td>6.0</td>\n",
       "      <td>6.0</td>\n",
       "      <td>6.0</td>\n",
       "      <td>237000</td>\n",
       "    </tr>\n",
       "  </tbody>\n",
       "</table>\n",
       "</div>"
      ],
      "text/plain": [
       "      LotArea  MasVnrArea  BsmtFinSF1  BsmtFinSF2  BsmtUnfSF  TotalBsmtSF  \\\n",
       "Id                                                                          \n",
       "235      7851       450.0         625           0        235          860   \n",
       "530     32668        97.4        1219           0        816         2035   \n",
       "651      8125         0.0           0           0        813          813   \n",
       "937     10083        44.4         833           0        343         1176   \n",
       "974     11639       114.2           0           0       1428         1428   \n",
       "978      4274       260.8        1106           0        135         1241   \n",
       "1244    13891       587.0        1386           0        690         2076   \n",
       "1279     9473       103.6         804           0        324         1128   \n",
       "\n",
       "      1stFlrSF  2ndFlrSF  LowQualFinSF  GrLivArea  GarageArea  WoodDeckSF  \\\n",
       "Id                                                                          \n",
       "235        860      1100             0       1960         440         288   \n",
       "530       2515         0             0       2515         484           0   \n",
       "651        822       843             0       1665         562           0   \n",
       "937       1200         0             0       1200         555           0   \n",
       "974       1428         0             0       1428         480           0   \n",
       "978       1241         0             0       1241         569           0   \n",
       "1244      2076         0             0       2076         850         216   \n",
       "1279      1128       903             0       2031         577           0   \n",
       "\n",
       "      OpenPorchSF  PoolArea  YrSold  YearBuilt_YrSold  YearRemodAdd_YrSold  \\\n",
       "Id                                                                           \n",
       "235            48         0    2010               8.0                  8.0   \n",
       "530             0         0    2007              50.0                 32.0   \n",
       "651             0         0    2008               1.0                  1.0   \n",
       "937            41         0    2009               6.0                  6.0   \n",
       "974           120         0    2008               1.0                  0.0   \n",
       "978           116         0    2007               1.0                  0.0   \n",
       "1244          229         0    2006               0.0                  0.0   \n",
       "1279          211         0    2008               6.0                  6.0   \n",
       "\n",
       "      GarageYrBlt_YrSold  SalePrice  \n",
       "Id                                   \n",
       "235                  8.0     216500  \n",
       "530                 32.0     200624  \n",
       "651                  1.0     205950  \n",
       "937                  6.0     184900  \n",
       "974                  1.0     182000  \n",
       "978                  0.0     199900  \n",
       "1244                 0.0     465000  \n",
       "1279                 6.0     237000  "
      ]
     },
     "execution_count": 19,
     "metadata": {},
     "output_type": "execute_result"
    }
   ],
   "source": [
    "df_output.loc[lst_nulls_MasVnrArea, 'MasVnrArea'] = y_pred_imputer\n",
    "              \n",
    "df_output.loc[lst_nulls_MasVnrArea, :]"
   ]
  },
  {
   "cell_type": "code",
   "execution_count": 20,
   "id": "18c7d86f",
   "metadata": {
    "ExecuteTime": {
     "end_time": "2022-06-26T23:41:13.116056Z",
     "start_time": "2022-06-26T23:41:12.948180Z"
    }
   },
   "outputs": [
    {
     "name": "stdout",
     "output_type": "stream",
     "text": [
      "<class 'pandas.core.frame.DataFrame'>\n",
      "Int64Index: 1460 entries, 1 to 1460\n",
      "Data columns (total 19 columns):\n",
      " #   Column               Non-Null Count  Dtype  \n",
      "---  ------               --------------  -----  \n",
      " 0   LotArea              1460 non-null   int64  \n",
      " 1   MasVnrArea           1460 non-null   float64\n",
      " 2   BsmtFinSF1           1460 non-null   int64  \n",
      " 3   BsmtFinSF2           1460 non-null   int64  \n",
      " 4   BsmtUnfSF            1460 non-null   int64  \n",
      " 5   TotalBsmtSF          1460 non-null   int64  \n",
      " 6   1stFlrSF             1460 non-null   int64  \n",
      " 7   2ndFlrSF             1460 non-null   int64  \n",
      " 8   LowQualFinSF         1460 non-null   int64  \n",
      " 9   GrLivArea            1460 non-null   int64  \n",
      " 10  GarageArea           1460 non-null   int64  \n",
      " 11  WoodDeckSF           1460 non-null   int64  \n",
      " 12  OpenPorchSF          1460 non-null   int64  \n",
      " 13  PoolArea             1460 non-null   int64  \n",
      " 14  YrSold               1460 non-null   int64  \n",
      " 15  YearBuilt_YrSold     1460 non-null   float64\n",
      " 16  YearRemodAdd_YrSold  1460 non-null   float64\n",
      " 17  GarageYrBlt_YrSold   1460 non-null   float64\n",
      " 18  SalePrice            1460 non-null   int64  \n",
      "dtypes: float64(4), int64(15)\n",
      "memory usage: 260.4 KB\n"
     ]
    }
   ],
   "source": [
    "df_output.info()"
   ]
  },
  {
   "cell_type": "markdown",
   "id": "e5285521",
   "metadata": {},
   "source": [
    "### Conclusion\n",
    "\n",
    "As we can see above, there is no null values. Now let's code our dataprep pipeline:"
   ]
  },
  {
   "cell_type": "markdown",
   "id": "7e05c7c3",
   "metadata": {},
   "source": [
    "### Dataprep pipeline"
   ]
  },
  {
   "cell_type": "code",
   "execution_count": 21,
   "id": "12c599e9",
   "metadata": {
    "ExecuteTime": {
     "end_time": "2022-06-26T23:41:13.270927Z",
     "start_time": "2022-06-26T23:41:13.118998Z"
    }
   },
   "outputs": [],
   "source": [
    "# df_output.to_parquet(INTERIM_FOLDER + 'df_train_interim_01_baseline.pqt')"
   ]
  },
  {
   "cell_type": "markdown",
   "id": "23614ba3",
   "metadata": {},
   "source": [
    "### Processing the Kaggle's test dataset\n",
    "\n",
    "#### Importing"
   ]
  },
  {
   "cell_type": "code",
   "execution_count": 22,
   "id": "f41f02cf",
   "metadata": {
    "ExecuteTime": {
     "end_time": "2022-06-26T23:41:13.458514Z",
     "start_time": "2022-06-26T23:41:13.272926Z"
    }
   },
   "outputs": [
    {
     "name": "stdout",
     "output_type": "stream",
     "text": [
      "x_test_kaggle's shape: (1459, 79)\n"
     ]
    }
   ],
   "source": [
    "# Importing Kaggle's test dataset.\n",
    "x_test_kaggle = pd.read_csv(RAW_FOLDER + 'test.csv', index_col='Id')\n",
    "print(f\"x_test_kaggle's shape: {x_test_kaggle.shape}\")"
   ]
  },
  {
   "cell_type": "markdown",
   "id": "bff7d920",
   "metadata": {},
   "source": [
    "#### Preprocessing"
   ]
  },
  {
   "cell_type": "code",
   "execution_count": 23,
   "id": "0e51693d",
   "metadata": {
    "ExecuteTime": {
     "end_time": "2022-06-26T23:41:13.644698Z",
     "start_time": "2022-06-26T23:41:13.459453Z"
    }
   },
   "outputs": [],
   "source": [
    "x_test_kaggle_prepared = prepare_baseline(x_test_kaggle)\n",
    "x_test_kaggle_prepared[['GarageYrBlt_YrSold']] = x_test_kaggle_prepared[['GarageYrBlt_YrSold']].fillna(999)\n",
    "x_test_kaggle_prepared = use_data_prep_baseline(x_test_kaggle_prepared)\n",
    "x_test_kaggle_prepared.head()\n",
    "\n",
    "# It is not correct, but I added a for loop here just to be sure that no null value will pass:\n",
    "for column in x_test_kaggle_prepared.columns:\n",
    "    if any(x_test_kaggle_prepared[column].isna()):\n",
    "        x_test_kaggle_prepared[[column]] = x_test_kaggle_prepared[[column]].fillna(-999)"
   ]
  },
  {
   "cell_type": "markdown",
   "id": "6141835f",
   "metadata": {},
   "source": [
    "#### Saving Kaggle's test dataset"
   ]
  },
  {
   "cell_type": "code",
   "execution_count": 24,
   "id": "bc43a878",
   "metadata": {
    "ExecuteTime": {
     "end_time": "2022-06-26T23:41:13.877852Z",
     "start_time": "2022-06-26T23:41:13.646699Z"
    }
   },
   "outputs": [],
   "source": [
    "x_test_kaggle_prepared.to_parquet(INTERIM_FOLDER + 'x_test_kaggle_prepared_baseline.pqt')"
   ]
  },
  {
   "cell_type": "markdown",
   "id": "88acc065",
   "metadata": {},
   "source": [
    "## 2nd Data prep experiment: adding categorical attributes, first the binary ones\n",
    "\n",
    "From the business and data understanding, I'd like to add some categorical attributes to the numerical ones added in the baseline dataset.\n",
    "\n",
    "In this experiment, I'll use the float, time and binaries attributes.\n",
    "\n",
    "Obviasly, the high null proportion attributes will not be used again ('PoolQC', 'MiscFeature', 'Alley', 'Fence')."
   ]
  },
  {
   "cell_type": "code",
   "execution_count": 25,
   "id": "543bd549",
   "metadata": {
    "ExecuteTime": {
     "end_time": "2022-06-26T23:41:14.792776Z",
     "start_time": "2022-06-26T23:41:14.639240Z"
    }
   },
   "outputs": [
    {
     "name": "stdout",
     "output_type": "stream",
     "text": [
      "df_evaluation's shape: (1460, 76)\n"
     ]
    }
   ],
   "source": [
    "# Importing the original dataset and excluding the high null proportion attributes:\n",
    "lst_columns_null = ['PoolQC', 'MiscFeature', 'Alley', 'Fence']\n",
    "df_evaluation = df.drop(columns=lst_columns_null).copy()\n",
    "\n",
    "print(f\"df_evaluation's shape: {df_evaluation.shape}\")"
   ]
  },
  {
   "cell_type": "markdown",
   "id": "a187db59",
   "metadata": {},
   "source": [
    "### Int to Float"
   ]
  },
  {
   "cell_type": "code",
   "execution_count": 27,
   "id": "c1a6dc10",
   "metadata": {
    "ExecuteTime": {
     "end_time": "2022-06-26T23:41:26.546814Z",
     "start_time": "2022-06-26T23:41:26.388107Z"
    }
   },
   "outputs": [
    {
     "name": "stdout",
     "output_type": "stream",
     "text": [
      "<class 'pandas.core.frame.DataFrame'>\n",
      "Int64Index: 1460 entries, 1 to 1460\n",
      "Data columns (total 18 columns):\n",
      " #   Column         Non-Null Count  Dtype  \n",
      "---  ------         --------------  -----  \n",
      " 0   LotArea        1460 non-null   float64\n",
      " 1   MasVnrArea     1452 non-null   float64\n",
      " 2   BsmtFinSF1     1460 non-null   float64\n",
      " 3   BsmtFinSF2     1460 non-null   float64\n",
      " 4   BsmtUnfSF      1460 non-null   float64\n",
      " 5   TotalBsmtSF    1460 non-null   float64\n",
      " 6   1stFlrSF       1460 non-null   float64\n",
      " 7   2ndFlrSF       1460 non-null   float64\n",
      " 8   LowQualFinSF   1460 non-null   float64\n",
      " 9   GrLivArea      1460 non-null   float64\n",
      " 10  GarageArea     1460 non-null   float64\n",
      " 11  WoodDeckSF     1460 non-null   float64\n",
      " 12  OpenPorchSF    1460 non-null   float64\n",
      " 13  PoolArea       1460 non-null   float64\n",
      " 14  EnclosedPorch  1460 non-null   float64\n",
      " 15  3SsnPorch      1460 non-null   float64\n",
      " 16  ScreenPorch    1460 non-null   float64\n",
      " 17  SalePrice      1460 non-null   float64\n",
      "dtypes: float64(18)\n",
      "memory usage: 249.0 KB\n"
     ]
    }
   ],
   "source": [
    "lst_area = [\n",
    "    'LotArea', 'MasVnrArea', 'BsmtFinSF1', 'BsmtFinSF2', 'BsmtUnfSF', 'TotalBsmtSF', '1stFlrSF',\n",
    "    '2ndFlrSF', 'LowQualFinSF', 'GrLivArea', 'GarageArea', 'WoodDeckSF', 'OpenPorchSF', 'PoolArea',\n",
    "    'EnclosedPorch', '3SsnPorch', 'ScreenPorch', 'SalePrice'\n",
    "]\n",
    "\n",
    "for column in lst_area:\n",
    "    df_evaluation[column] = df[column].astype(float)\n",
    "    \n",
    "df_evaluation[lst_area].info()"
   ]
  },
  {
   "cell_type": "markdown",
   "id": "49d213d3",
   "metadata": {},
   "source": [
    "### Binaries"
   ]
  },
  {
   "cell_type": "code",
   "execution_count": 28,
   "id": "c796dc2f",
   "metadata": {
    "ExecuteTime": {
     "end_time": "2022-06-26T23:41:35.073273Z",
     "start_time": "2022-06-26T23:41:34.906968Z"
    }
   },
   "outputs": [
    {
     "name": "stdout",
     "output_type": "stream",
     "text": [
      "df_evaluation's shape: (1460, 76)\n"
     ]
    }
   ],
   "source": [
    "df_evaluation['has_central_air'] = np.where(df_evaluation['CentralAir']=='Y', 1, 0)\n",
    "df_evaluation['is_paved_street'] = np.where(df_evaluation['Street']=='Pave', 1, 0)\n",
    "df_evaluation['is_all_pub_utilities'] = np.where(df_evaluation['Utilities']=='AllPub', 1, 0)\n",
    "\n",
    "df_evaluation.drop(columns=['CentralAir', 'Street', 'Utilities'], inplace=True)\n",
    "\n",
    "print(f\"df_evaluation's shape: {df_evaluation.shape}\")"
   ]
  },
  {
   "cell_type": "markdown",
   "id": "9ead592f",
   "metadata": {},
   "source": [
    "### Creating time attributes\n",
    "\n",
    "Using the custom function create_time_dif_columns created in the 1st experiment."
   ]
  },
  {
   "cell_type": "code",
   "execution_count": 29,
   "id": "d4fd8964",
   "metadata": {
    "ExecuteTime": {
     "end_time": "2022-06-26T23:41:41.284827Z",
     "start_time": "2022-06-26T23:41:41.117957Z"
    }
   },
   "outputs": [
    {
     "name": "stdout",
     "output_type": "stream",
     "text": [
      "There is/are 4 time attributes:\n",
      "['YearBuilt', 'YearRemodAdd', 'GarageYrBlt', 'YrSold']\n"
     ]
    }
   ],
   "source": [
    "lst_time = [x for x in df_evaluation.columns if ('yr' in x.lower()) or ('year' in x.lower())]\n",
    "# After reading the data description, I realized that 'MoSold' is a time attribute too.\n",
    "\n",
    "print(f\"\"\"There is/are {len(lst_time)} time attributes:\n",
    "{lst_time}\"\"\")\n",
    "\n",
    "lst_time.remove('YrSold')"
   ]
  },
  {
   "cell_type": "code",
   "execution_count": 30,
   "id": "4a9fb3f5",
   "metadata": {
    "ExecuteTime": {
     "end_time": "2022-06-26T23:41:43.367066Z",
     "start_time": "2022-06-26T23:41:43.187683Z"
    }
   },
   "outputs": [
    {
     "name": "stdout",
     "output_type": "stream",
     "text": [
      "<class 'pandas.core.frame.DataFrame'>\n",
      "Int64Index: 1460 entries, 1 to 1460\n",
      "Data columns (total 25 columns):\n",
      " #   Column                Non-Null Count  Dtype  \n",
      "---  ------                --------------  -----  \n",
      " 0   has_central_air       1460 non-null   int32  \n",
      " 1   is_paved_street       1460 non-null   int32  \n",
      " 2   is_all_pub_utilities  1460 non-null   int32  \n",
      " 3   YrSold                1460 non-null   int64  \n",
      " 4   LotArea               1460 non-null   float64\n",
      " 5   MasVnrArea            1452 non-null   float64\n",
      " 6   BsmtFinSF1            1460 non-null   float64\n",
      " 7   BsmtFinSF2            1460 non-null   float64\n",
      " 8   BsmtUnfSF             1460 non-null   float64\n",
      " 9   TotalBsmtSF           1460 non-null   float64\n",
      " 10  1stFlrSF              1460 non-null   float64\n",
      " 11  2ndFlrSF              1460 non-null   float64\n",
      " 12  LowQualFinSF          1460 non-null   float64\n",
      " 13  GrLivArea             1460 non-null   float64\n",
      " 14  GarageArea            1460 non-null   float64\n",
      " 15  WoodDeckSF            1460 non-null   float64\n",
      " 16  OpenPorchSF           1460 non-null   float64\n",
      " 17  PoolArea              1460 non-null   float64\n",
      " 18  EnclosedPorch         1460 non-null   float64\n",
      " 19  3SsnPorch             1460 non-null   float64\n",
      " 20  ScreenPorch           1460 non-null   float64\n",
      " 21  SalePrice             1460 non-null   float64\n",
      " 22  YearBuilt_YrSold      1460 non-null   float64\n",
      " 23  YearRemodAdd_YrSold   1460 non-null   float64\n",
      " 24  GarageYrBlt_YrSold    1460 non-null   float64\n",
      "dtypes: float64(21), int32(3), int64(1)\n",
      "memory usage: 311.7 KB\n"
     ]
    }
   ],
   "source": [
    "df_2nd_experiment = df_evaluation.copy()\n",
    "\n",
    "lst_final = ['has_central_air', 'is_paved_street', 'is_all_pub_utilities', 'YrSold', *lst_time, *lst_area]\n",
    "\n",
    "df_2nd_experiment = df_2nd_experiment[lst_final]\n",
    "\n",
    "df_2nd_experiment = create_time_dif_columns(df=df_2nd_experiment, lst=lst_time)\n",
    "\n",
    "df_2nd_experiment.info()"
   ]
  },
  {
   "cell_type": "markdown",
   "id": "1fb72f39",
   "metadata": {},
   "source": [
    "#### Filling attribute: *MasVnrArea*\n",
    "\n",
    "As showed above, this attribute or factor has only 8 null value entries (0,5% of total). As a first try, it is possible to delete these 8 entries, but we want to build a data prep pipeline to deal with these cases.\n",
    "\n",
    "Here we are going to try [KNN](https://scikit-learn.org/stable/modules/generated/sklearn.impute.KNNImputer.html) approach, without the target or response, obviously."
   ]
  },
  {
   "cell_type": "code",
   "execution_count": 31,
   "id": "c74b411b",
   "metadata": {
    "ExecuteTime": {
     "end_time": "2022-06-26T23:41:54.356431Z",
     "start_time": "2022-06-26T23:41:54.171987Z"
    }
   },
   "outputs": [
    {
     "data": {
      "text/html": [
       "<div>\n",
       "<style scoped>\n",
       "    .dataframe tbody tr th:only-of-type {\n",
       "        vertical-align: middle;\n",
       "    }\n",
       "\n",
       "    .dataframe tbody tr th {\n",
       "        vertical-align: top;\n",
       "    }\n",
       "\n",
       "    .dataframe thead th {\n",
       "        text-align: right;\n",
       "    }\n",
       "</style>\n",
       "<table border=\"1\" class=\"dataframe\">\n",
       "  <thead>\n",
       "    <tr style=\"text-align: right;\">\n",
       "      <th></th>\n",
       "      <th>has_central_air</th>\n",
       "      <th>is_paved_street</th>\n",
       "      <th>is_all_pub_utilities</th>\n",
       "      <th>YrSold</th>\n",
       "      <th>LotArea</th>\n",
       "      <th>MasVnrArea</th>\n",
       "      <th>BsmtFinSF1</th>\n",
       "      <th>BsmtFinSF2</th>\n",
       "      <th>BsmtUnfSF</th>\n",
       "      <th>TotalBsmtSF</th>\n",
       "      <th>1stFlrSF</th>\n",
       "      <th>2ndFlrSF</th>\n",
       "      <th>LowQualFinSF</th>\n",
       "      <th>GrLivArea</th>\n",
       "      <th>GarageArea</th>\n",
       "      <th>WoodDeckSF</th>\n",
       "      <th>OpenPorchSF</th>\n",
       "      <th>PoolArea</th>\n",
       "      <th>EnclosedPorch</th>\n",
       "      <th>3SsnPorch</th>\n",
       "      <th>ScreenPorch</th>\n",
       "      <th>SalePrice</th>\n",
       "      <th>YearBuilt_YrSold</th>\n",
       "      <th>YearRemodAdd_YrSold</th>\n",
       "      <th>GarageYrBlt_YrSold</th>\n",
       "    </tr>\n",
       "    <tr>\n",
       "      <th>Id</th>\n",
       "      <th></th>\n",
       "      <th></th>\n",
       "      <th></th>\n",
       "      <th></th>\n",
       "      <th></th>\n",
       "      <th></th>\n",
       "      <th></th>\n",
       "      <th></th>\n",
       "      <th></th>\n",
       "      <th></th>\n",
       "      <th></th>\n",
       "      <th></th>\n",
       "      <th></th>\n",
       "      <th></th>\n",
       "      <th></th>\n",
       "      <th></th>\n",
       "      <th></th>\n",
       "      <th></th>\n",
       "      <th></th>\n",
       "      <th></th>\n",
       "      <th></th>\n",
       "      <th></th>\n",
       "      <th></th>\n",
       "      <th></th>\n",
       "      <th></th>\n",
       "    </tr>\n",
       "  </thead>\n",
       "  <tbody>\n",
       "    <tr>\n",
       "      <th>235</th>\n",
       "      <td>1</td>\n",
       "      <td>1</td>\n",
       "      <td>1</td>\n",
       "      <td>2010</td>\n",
       "      <td>7851.0</td>\n",
       "      <td>NaN</td>\n",
       "      <td>625.0</td>\n",
       "      <td>0.0</td>\n",
       "      <td>235.0</td>\n",
       "      <td>860.0</td>\n",
       "      <td>860.0</td>\n",
       "      <td>1100.0</td>\n",
       "      <td>0.0</td>\n",
       "      <td>1960.0</td>\n",
       "      <td>440.0</td>\n",
       "      <td>288.0</td>\n",
       "      <td>48.0</td>\n",
       "      <td>0.0</td>\n",
       "      <td>0.0</td>\n",
       "      <td>0.0</td>\n",
       "      <td>0.0</td>\n",
       "      <td>216500.0</td>\n",
       "      <td>8.0</td>\n",
       "      <td>8.0</td>\n",
       "      <td>8.0</td>\n",
       "    </tr>\n",
       "    <tr>\n",
       "      <th>530</th>\n",
       "      <td>1</td>\n",
       "      <td>1</td>\n",
       "      <td>1</td>\n",
       "      <td>2007</td>\n",
       "      <td>32668.0</td>\n",
       "      <td>NaN</td>\n",
       "      <td>1219.0</td>\n",
       "      <td>0.0</td>\n",
       "      <td>816.0</td>\n",
       "      <td>2035.0</td>\n",
       "      <td>2515.0</td>\n",
       "      <td>0.0</td>\n",
       "      <td>0.0</td>\n",
       "      <td>2515.0</td>\n",
       "      <td>484.0</td>\n",
       "      <td>0.0</td>\n",
       "      <td>0.0</td>\n",
       "      <td>0.0</td>\n",
       "      <td>200.0</td>\n",
       "      <td>0.0</td>\n",
       "      <td>0.0</td>\n",
       "      <td>200624.0</td>\n",
       "      <td>50.0</td>\n",
       "      <td>32.0</td>\n",
       "      <td>32.0</td>\n",
       "    </tr>\n",
       "    <tr>\n",
       "      <th>651</th>\n",
       "      <td>1</td>\n",
       "      <td>1</td>\n",
       "      <td>1</td>\n",
       "      <td>2008</td>\n",
       "      <td>8125.0</td>\n",
       "      <td>NaN</td>\n",
       "      <td>0.0</td>\n",
       "      <td>0.0</td>\n",
       "      <td>813.0</td>\n",
       "      <td>813.0</td>\n",
       "      <td>822.0</td>\n",
       "      <td>843.0</td>\n",
       "      <td>0.0</td>\n",
       "      <td>1665.0</td>\n",
       "      <td>562.0</td>\n",
       "      <td>0.0</td>\n",
       "      <td>0.0</td>\n",
       "      <td>0.0</td>\n",
       "      <td>0.0</td>\n",
       "      <td>0.0</td>\n",
       "      <td>0.0</td>\n",
       "      <td>205950.0</td>\n",
       "      <td>1.0</td>\n",
       "      <td>1.0</td>\n",
       "      <td>1.0</td>\n",
       "    </tr>\n",
       "    <tr>\n",
       "      <th>937</th>\n",
       "      <td>1</td>\n",
       "      <td>1</td>\n",
       "      <td>1</td>\n",
       "      <td>2009</td>\n",
       "      <td>10083.0</td>\n",
       "      <td>NaN</td>\n",
       "      <td>833.0</td>\n",
       "      <td>0.0</td>\n",
       "      <td>343.0</td>\n",
       "      <td>1176.0</td>\n",
       "      <td>1200.0</td>\n",
       "      <td>0.0</td>\n",
       "      <td>0.0</td>\n",
       "      <td>1200.0</td>\n",
       "      <td>555.0</td>\n",
       "      <td>0.0</td>\n",
       "      <td>41.0</td>\n",
       "      <td>0.0</td>\n",
       "      <td>0.0</td>\n",
       "      <td>0.0</td>\n",
       "      <td>0.0</td>\n",
       "      <td>184900.0</td>\n",
       "      <td>6.0</td>\n",
       "      <td>6.0</td>\n",
       "      <td>6.0</td>\n",
       "    </tr>\n",
       "    <tr>\n",
       "      <th>974</th>\n",
       "      <td>1</td>\n",
       "      <td>1</td>\n",
       "      <td>1</td>\n",
       "      <td>2008</td>\n",
       "      <td>11639.0</td>\n",
       "      <td>NaN</td>\n",
       "      <td>0.0</td>\n",
       "      <td>0.0</td>\n",
       "      <td>1428.0</td>\n",
       "      <td>1428.0</td>\n",
       "      <td>1428.0</td>\n",
       "      <td>0.0</td>\n",
       "      <td>0.0</td>\n",
       "      <td>1428.0</td>\n",
       "      <td>480.0</td>\n",
       "      <td>0.0</td>\n",
       "      <td>120.0</td>\n",
       "      <td>0.0</td>\n",
       "      <td>0.0</td>\n",
       "      <td>0.0</td>\n",
       "      <td>0.0</td>\n",
       "      <td>182000.0</td>\n",
       "      <td>1.0</td>\n",
       "      <td>0.0</td>\n",
       "      <td>1.0</td>\n",
       "    </tr>\n",
       "    <tr>\n",
       "      <th>978</th>\n",
       "      <td>1</td>\n",
       "      <td>1</td>\n",
       "      <td>1</td>\n",
       "      <td>2007</td>\n",
       "      <td>4274.0</td>\n",
       "      <td>NaN</td>\n",
       "      <td>1106.0</td>\n",
       "      <td>0.0</td>\n",
       "      <td>135.0</td>\n",
       "      <td>1241.0</td>\n",
       "      <td>1241.0</td>\n",
       "      <td>0.0</td>\n",
       "      <td>0.0</td>\n",
       "      <td>1241.0</td>\n",
       "      <td>569.0</td>\n",
       "      <td>0.0</td>\n",
       "      <td>116.0</td>\n",
       "      <td>0.0</td>\n",
       "      <td>0.0</td>\n",
       "      <td>0.0</td>\n",
       "      <td>0.0</td>\n",
       "      <td>199900.0</td>\n",
       "      <td>1.0</td>\n",
       "      <td>0.0</td>\n",
       "      <td>0.0</td>\n",
       "    </tr>\n",
       "    <tr>\n",
       "      <th>1244</th>\n",
       "      <td>1</td>\n",
       "      <td>1</td>\n",
       "      <td>1</td>\n",
       "      <td>2006</td>\n",
       "      <td>13891.0</td>\n",
       "      <td>NaN</td>\n",
       "      <td>1386.0</td>\n",
       "      <td>0.0</td>\n",
       "      <td>690.0</td>\n",
       "      <td>2076.0</td>\n",
       "      <td>2076.0</td>\n",
       "      <td>0.0</td>\n",
       "      <td>0.0</td>\n",
       "      <td>2076.0</td>\n",
       "      <td>850.0</td>\n",
       "      <td>216.0</td>\n",
       "      <td>229.0</td>\n",
       "      <td>0.0</td>\n",
       "      <td>0.0</td>\n",
       "      <td>0.0</td>\n",
       "      <td>0.0</td>\n",
       "      <td>465000.0</td>\n",
       "      <td>0.0</td>\n",
       "      <td>0.0</td>\n",
       "      <td>0.0</td>\n",
       "    </tr>\n",
       "    <tr>\n",
       "      <th>1279</th>\n",
       "      <td>1</td>\n",
       "      <td>1</td>\n",
       "      <td>1</td>\n",
       "      <td>2008</td>\n",
       "      <td>9473.0</td>\n",
       "      <td>NaN</td>\n",
       "      <td>804.0</td>\n",
       "      <td>0.0</td>\n",
       "      <td>324.0</td>\n",
       "      <td>1128.0</td>\n",
       "      <td>1128.0</td>\n",
       "      <td>903.0</td>\n",
       "      <td>0.0</td>\n",
       "      <td>2031.0</td>\n",
       "      <td>577.0</td>\n",
       "      <td>0.0</td>\n",
       "      <td>211.0</td>\n",
       "      <td>0.0</td>\n",
       "      <td>0.0</td>\n",
       "      <td>0.0</td>\n",
       "      <td>0.0</td>\n",
       "      <td>237000.0</td>\n",
       "      <td>6.0</td>\n",
       "      <td>6.0</td>\n",
       "      <td>6.0</td>\n",
       "    </tr>\n",
       "  </tbody>\n",
       "</table>\n",
       "</div>"
      ],
      "text/plain": [
       "      has_central_air  is_paved_street  is_all_pub_utilities  YrSold  LotArea  \\\n",
       "Id                                                                              \n",
       "235                 1                1                     1    2010   7851.0   \n",
       "530                 1                1                     1    2007  32668.0   \n",
       "651                 1                1                     1    2008   8125.0   \n",
       "937                 1                1                     1    2009  10083.0   \n",
       "974                 1                1                     1    2008  11639.0   \n",
       "978                 1                1                     1    2007   4274.0   \n",
       "1244                1                1                     1    2006  13891.0   \n",
       "1279                1                1                     1    2008   9473.0   \n",
       "\n",
       "      MasVnrArea  BsmtFinSF1  BsmtFinSF2  BsmtUnfSF  TotalBsmtSF  1stFlrSF  \\\n",
       "Id                                                                           \n",
       "235          NaN       625.0         0.0      235.0        860.0     860.0   \n",
       "530          NaN      1219.0         0.0      816.0       2035.0    2515.0   \n",
       "651          NaN         0.0         0.0      813.0        813.0     822.0   \n",
       "937          NaN       833.0         0.0      343.0       1176.0    1200.0   \n",
       "974          NaN         0.0         0.0     1428.0       1428.0    1428.0   \n",
       "978          NaN      1106.0         0.0      135.0       1241.0    1241.0   \n",
       "1244         NaN      1386.0         0.0      690.0       2076.0    2076.0   \n",
       "1279         NaN       804.0         0.0      324.0       1128.0    1128.0   \n",
       "\n",
       "      2ndFlrSF  LowQualFinSF  GrLivArea  GarageArea  WoodDeckSF  OpenPorchSF  \\\n",
       "Id                                                                             \n",
       "235     1100.0           0.0     1960.0       440.0       288.0         48.0   \n",
       "530        0.0           0.0     2515.0       484.0         0.0          0.0   \n",
       "651      843.0           0.0     1665.0       562.0         0.0          0.0   \n",
       "937        0.0           0.0     1200.0       555.0         0.0         41.0   \n",
       "974        0.0           0.0     1428.0       480.0         0.0        120.0   \n",
       "978        0.0           0.0     1241.0       569.0         0.0        116.0   \n",
       "1244       0.0           0.0     2076.0       850.0       216.0        229.0   \n",
       "1279     903.0           0.0     2031.0       577.0         0.0        211.0   \n",
       "\n",
       "      PoolArea  EnclosedPorch  3SsnPorch  ScreenPorch  SalePrice  \\\n",
       "Id                                                                 \n",
       "235        0.0            0.0        0.0          0.0   216500.0   \n",
       "530        0.0          200.0        0.0          0.0   200624.0   \n",
       "651        0.0            0.0        0.0          0.0   205950.0   \n",
       "937        0.0            0.0        0.0          0.0   184900.0   \n",
       "974        0.0            0.0        0.0          0.0   182000.0   \n",
       "978        0.0            0.0        0.0          0.0   199900.0   \n",
       "1244       0.0            0.0        0.0          0.0   465000.0   \n",
       "1279       0.0            0.0        0.0          0.0   237000.0   \n",
       "\n",
       "      YearBuilt_YrSold  YearRemodAdd_YrSold  GarageYrBlt_YrSold  \n",
       "Id                                                               \n",
       "235                8.0                  8.0                 8.0  \n",
       "530               50.0                 32.0                32.0  \n",
       "651                1.0                  1.0                 1.0  \n",
       "937                6.0                  6.0                 6.0  \n",
       "974                1.0                  0.0                 1.0  \n",
       "978                1.0                  0.0                 0.0  \n",
       "1244               0.0                  0.0                 0.0  \n",
       "1279               6.0                  6.0                 6.0  "
      ]
     },
     "execution_count": 31,
     "metadata": {},
     "output_type": "execute_result"
    }
   ],
   "source": [
    "# Creating a copy of the df_output:\n",
    "df_prep_MasVnrArea = df_2nd_experiment.copy()\n",
    "\n",
    "# listing the indexes with null values.\n",
    "lst_nulls_MasVnrArea = df_prep_MasVnrArea[(df_prep_MasVnrArea['MasVnrArea'].isna())].index.tolist()\n",
    "\n",
    "# listing the indexes WITHOUT null values.\n",
    "lst_keep_MasVnrArea = [x for x in df_prep_MasVnrArea.index if x not in lst_nulls_MasVnrArea]\n",
    "\n",
    "df_prep_MasVnrArea[(df_prep_MasVnrArea['MasVnrArea'].isna())]"
   ]
  },
  {
   "cell_type": "code",
   "execution_count": 32,
   "id": "1de0a9cd",
   "metadata": {
    "ExecuteTime": {
     "end_time": "2022-06-26T23:42:25.334777Z",
     "start_time": "2022-06-26T23:42:25.162988Z"
    }
   },
   "outputs": [
    {
     "name": "stdout",
     "output_type": "stream",
     "text": [
      "train: X - (1452, 23), y - (1452, 1)\n",
      "test: X - (8, 23), y - (8, 1)\n"
     ]
    },
    {
     "data": {
      "text/plain": [
       "array([[450. ],\n",
       "       [ 97.4],\n",
       "       [  0. ],\n",
       "       [ 44.4],\n",
       "       [147. ],\n",
       "       [260.8],\n",
       "       [587. ],\n",
       "       [103.6]])"
      ]
     },
     "execution_count": 32,
     "metadata": {},
     "output_type": "execute_result"
    }
   ],
   "source": [
    "X_train = df_prep_MasVnrArea.drop(columns=['MasVnrArea', 'SalePrice'], index=lst_nulls_MasVnrArea)\n",
    "X_test = df_prep_MasVnrArea.drop(columns=['MasVnrArea', 'SalePrice'], index=lst_keep_MasVnrArea)\n",
    "y_train = df_prep_MasVnrArea.loc[lst_keep_MasVnrArea, ['MasVnrArea']]\n",
    "y_test = df_prep_MasVnrArea.loc[lst_nulls_MasVnrArea, ['MasVnrArea']]\n",
    "\n",
    "print(f\"\"\"train: X - {X_train.shape}, y - {y_train.shape}\n",
    "test: X - {X_test.shape}, y - {y_test.shape}\"\"\")\n",
    "\n",
    "pipeline = KNeighborsRegressor(n_neighbors=5, n_jobs=-1)\n",
    "pipeline.fit(X_train, y_train)\n",
    "\n",
    "pickle.dump(pipeline, open(MODELS_FOLDER + 'data_prep_knn_2nd_experiment.pkl', 'wb'))\n",
    "\n",
    "y_pred_imputer = pipeline.predict(X_test)\n",
    "y_pred_imputer"
   ]
  },
  {
   "cell_type": "markdown",
   "id": "3a074f52",
   "metadata": {},
   "source": [
    "### Creating pipeline"
   ]
  },
  {
   "cell_type": "code",
   "execution_count": 34,
   "id": "71f9a88b",
   "metadata": {
    "ExecuteTime": {
     "end_time": "2022-06-26T23:43:43.364924Z",
     "start_time": "2022-06-26T23:43:43.207556Z"
    }
   },
   "outputs": [],
   "source": [
    "def use_2nd_data_prep(df: pd.DataFrame) -> pd.DataFrame:\n",
    "    if 'SalePrice' in df.columns:\n",
    "        df_evaluation = df.drop(columns='SalePrice').copy()\n",
    "    else:\n",
    "        df_evaluation = df.copy()\n",
    "\n",
    "    lst_columns_null = ['PoolQC', 'MiscFeature', 'Alley', 'Fence']\n",
    "\n",
    "    lst_area = [\n",
    "        'LotArea', 'MasVnrArea', 'BsmtFinSF1', 'BsmtFinSF2', 'BsmtUnfSF', 'TotalBsmtSF', '1stFlrSF',\n",
    "        '2ndFlrSF', 'LowQualFinSF', 'GrLivArea', 'GarageArea', 'WoodDeckSF', 'OpenPorchSF', 'PoolArea',\n",
    "        'EnclosedPorch', '3SsnPorch', 'ScreenPorch'\n",
    "    ]\n",
    "\n",
    "    lst_time = ['YearBuilt', 'YearRemodAdd', 'GarageYrBlt']\n",
    "\n",
    "    lst_final = [\n",
    "        'has_central_air', 'is_paved_street', 'is_all_pub_utilities', 'YrSold',\n",
    "        'LotArea', 'MasVnrArea', 'BsmtFinSF1', 'BsmtFinSF2', 'BsmtUnfSF',\n",
    "        'TotalBsmtSF', '1stFlrSF', '2ndFlrSF', 'LowQualFinSF', 'GrLivArea',\n",
    "        'GarageArea', 'WoodDeckSF', 'OpenPorchSF', 'PoolArea', 'EnclosedPorch',\n",
    "        '3SsnPorch', 'ScreenPorch', 'YearBuilt_YrSold', 'YearRemodAdd_YrSold', \n",
    "        'GarageYrBlt_YrSold'\n",
    "    ]\n",
    "\n",
    "    df_evaluation.drop(columns=lst_columns_null, inplace=True)\n",
    "\n",
    "    for column in lst_area:\n",
    "        df_evaluation[column] = df[column].astype(float)\n",
    "\n",
    "    df_evaluation['has_central_air'] = np.where(df_evaluation['CentralAir']=='Y', 1, 0)\n",
    "    df_evaluation['is_paved_street'] = np.where(df_evaluation['Street']=='Pave', 1, 0)\n",
    "    df_evaluation['is_all_pub_utilities'] = np.where(df_evaluation['Utilities']=='AllPub', 1, 0)\n",
    "\n",
    "    df_evaluation.drop(columns=['CentralAir', 'Street', 'Utilities'], inplace=True)\n",
    "\n",
    "    return df_evaluation[[\n",
    "        'has_central_air', 'is_paved_street', 'is_all_pub_utilities', 'YrSold',\n",
    "        'LotArea', 'MasVnrArea', 'BsmtFinSF1', 'BsmtFinSF2', 'BsmtUnfSF',\n",
    "        'TotalBsmtSF', '1stFlrSF', '2ndFlrSF', 'LowQualFinSF', 'GrLivArea',\n",
    "        'GarageArea', 'WoodDeckSF', 'OpenPorchSF', 'PoolArea', 'EnclosedPorch',\n",
    "        '3SsnPorch', 'ScreenPorch', *lst_time\n",
    "    ]]"
   ]
  },
  {
   "cell_type": "code",
   "execution_count": 35,
   "id": "3d84fa0a",
   "metadata": {
    "ExecuteTime": {
     "end_time": "2022-06-26T23:43:45.289731Z",
     "start_time": "2022-06-26T23:43:45.083588Z"
    }
   },
   "outputs": [
    {
     "data": {
      "text/html": [
       "<div>\n",
       "<style scoped>\n",
       "    .dataframe tbody tr th:only-of-type {\n",
       "        vertical-align: middle;\n",
       "    }\n",
       "\n",
       "    .dataframe tbody tr th {\n",
       "        vertical-align: top;\n",
       "    }\n",
       "\n",
       "    .dataframe thead th {\n",
       "        text-align: right;\n",
       "    }\n",
       "</style>\n",
       "<table border=\"1\" class=\"dataframe\">\n",
       "  <thead>\n",
       "    <tr style=\"text-align: right;\">\n",
       "      <th></th>\n",
       "      <th>has_central_air</th>\n",
       "      <th>is_paved_street</th>\n",
       "      <th>is_all_pub_utilities</th>\n",
       "      <th>YrSold</th>\n",
       "      <th>LotArea</th>\n",
       "      <th>MasVnrArea</th>\n",
       "      <th>BsmtFinSF1</th>\n",
       "      <th>BsmtFinSF2</th>\n",
       "      <th>BsmtUnfSF</th>\n",
       "      <th>TotalBsmtSF</th>\n",
       "      <th>1stFlrSF</th>\n",
       "      <th>2ndFlrSF</th>\n",
       "      <th>LowQualFinSF</th>\n",
       "      <th>GrLivArea</th>\n",
       "      <th>GarageArea</th>\n",
       "      <th>WoodDeckSF</th>\n",
       "      <th>OpenPorchSF</th>\n",
       "      <th>PoolArea</th>\n",
       "      <th>EnclosedPorch</th>\n",
       "      <th>3SsnPorch</th>\n",
       "      <th>ScreenPorch</th>\n",
       "      <th>YearBuilt_YrSold</th>\n",
       "      <th>YearRemodAdd_YrSold</th>\n",
       "      <th>GarageYrBlt_YrSold</th>\n",
       "    </tr>\n",
       "    <tr>\n",
       "      <th>Id</th>\n",
       "      <th></th>\n",
       "      <th></th>\n",
       "      <th></th>\n",
       "      <th></th>\n",
       "      <th></th>\n",
       "      <th></th>\n",
       "      <th></th>\n",
       "      <th></th>\n",
       "      <th></th>\n",
       "      <th></th>\n",
       "      <th></th>\n",
       "      <th></th>\n",
       "      <th></th>\n",
       "      <th></th>\n",
       "      <th></th>\n",
       "      <th></th>\n",
       "      <th></th>\n",
       "      <th></th>\n",
       "      <th></th>\n",
       "      <th></th>\n",
       "      <th></th>\n",
       "      <th></th>\n",
       "      <th></th>\n",
       "      <th></th>\n",
       "    </tr>\n",
       "  </thead>\n",
       "  <tbody>\n",
       "    <tr>\n",
       "      <th>893</th>\n",
       "      <td>1</td>\n",
       "      <td>1</td>\n",
       "      <td>1</td>\n",
       "      <td>2006</td>\n",
       "      <td>8414.0</td>\n",
       "      <td>0.0</td>\n",
       "      <td>663.0</td>\n",
       "      <td>0.0</td>\n",
       "      <td>396.0</td>\n",
       "      <td>1059.0</td>\n",
       "      <td>1068.0</td>\n",
       "      <td>0.0</td>\n",
       "      <td>0.0</td>\n",
       "      <td>1068.0</td>\n",
       "      <td>264.0</td>\n",
       "      <td>192.0</td>\n",
       "      <td>0.0</td>\n",
       "      <td>0.0</td>\n",
       "      <td>0.0</td>\n",
       "      <td>0.0</td>\n",
       "      <td>0.0</td>\n",
       "      <td>43.0</td>\n",
       "      <td>3.0</td>\n",
       "      <td>43.0</td>\n",
       "    </tr>\n",
       "    <tr>\n",
       "      <th>1106</th>\n",
       "      <td>1</td>\n",
       "      <td>1</td>\n",
       "      <td>1</td>\n",
       "      <td>2010</td>\n",
       "      <td>12256.0</td>\n",
       "      <td>362.0</td>\n",
       "      <td>1032.0</td>\n",
       "      <td>0.0</td>\n",
       "      <td>431.0</td>\n",
       "      <td>1463.0</td>\n",
       "      <td>1500.0</td>\n",
       "      <td>1122.0</td>\n",
       "      <td>0.0</td>\n",
       "      <td>2622.0</td>\n",
       "      <td>712.0</td>\n",
       "      <td>186.0</td>\n",
       "      <td>32.0</td>\n",
       "      <td>0.0</td>\n",
       "      <td>0.0</td>\n",
       "      <td>0.0</td>\n",
       "      <td>0.0</td>\n",
       "      <td>16.0</td>\n",
       "      <td>15.0</td>\n",
       "      <td>16.0</td>\n",
       "    </tr>\n",
       "    <tr>\n",
       "      <th>414</th>\n",
       "      <td>1</td>\n",
       "      <td>1</td>\n",
       "      <td>1</td>\n",
       "      <td>2010</td>\n",
       "      <td>8960.0</td>\n",
       "      <td>0.0</td>\n",
       "      <td>0.0</td>\n",
       "      <td>0.0</td>\n",
       "      <td>1008.0</td>\n",
       "      <td>1008.0</td>\n",
       "      <td>1028.0</td>\n",
       "      <td>0.0</td>\n",
       "      <td>0.0</td>\n",
       "      <td>1028.0</td>\n",
       "      <td>360.0</td>\n",
       "      <td>0.0</td>\n",
       "      <td>0.0</td>\n",
       "      <td>0.0</td>\n",
       "      <td>130.0</td>\n",
       "      <td>0.0</td>\n",
       "      <td>0.0</td>\n",
       "      <td>83.0</td>\n",
       "      <td>60.0</td>\n",
       "      <td>83.0</td>\n",
       "    </tr>\n",
       "    <tr>\n",
       "      <th>523</th>\n",
       "      <td>1</td>\n",
       "      <td>1</td>\n",
       "      <td>1</td>\n",
       "      <td>2006</td>\n",
       "      <td>5000.0</td>\n",
       "      <td>0.0</td>\n",
       "      <td>399.0</td>\n",
       "      <td>0.0</td>\n",
       "      <td>605.0</td>\n",
       "      <td>1004.0</td>\n",
       "      <td>1004.0</td>\n",
       "      <td>660.0</td>\n",
       "      <td>0.0</td>\n",
       "      <td>1664.0</td>\n",
       "      <td>420.0</td>\n",
       "      <td>0.0</td>\n",
       "      <td>24.0</td>\n",
       "      <td>0.0</td>\n",
       "      <td>36.0</td>\n",
       "      <td>0.0</td>\n",
       "      <td>0.0</td>\n",
       "      <td>59.0</td>\n",
       "      <td>56.0</td>\n",
       "      <td>56.0</td>\n",
       "    </tr>\n",
       "    <tr>\n",
       "      <th>1037</th>\n",
       "      <td>1</td>\n",
       "      <td>1</td>\n",
       "      <td>1</td>\n",
       "      <td>2009</td>\n",
       "      <td>12898.0</td>\n",
       "      <td>70.0</td>\n",
       "      <td>1022.0</td>\n",
       "      <td>0.0</td>\n",
       "      <td>598.0</td>\n",
       "      <td>1620.0</td>\n",
       "      <td>1620.0</td>\n",
       "      <td>0.0</td>\n",
       "      <td>0.0</td>\n",
       "      <td>1620.0</td>\n",
       "      <td>912.0</td>\n",
       "      <td>228.0</td>\n",
       "      <td>0.0</td>\n",
       "      <td>0.0</td>\n",
       "      <td>0.0</td>\n",
       "      <td>0.0</td>\n",
       "      <td>0.0</td>\n",
       "      <td>2.0</td>\n",
       "      <td>1.0</td>\n",
       "      <td>1.0</td>\n",
       "    </tr>\n",
       "  </tbody>\n",
       "</table>\n",
       "</div>"
      ],
      "text/plain": [
       "      has_central_air  is_paved_street  is_all_pub_utilities  YrSold  LotArea  \\\n",
       "Id                                                                              \n",
       "893                 1                1                     1    2006   8414.0   \n",
       "1106                1                1                     1    2010  12256.0   \n",
       "414                 1                1                     1    2010   8960.0   \n",
       "523                 1                1                     1    2006   5000.0   \n",
       "1037                1                1                     1    2009  12898.0   \n",
       "\n",
       "      MasVnrArea  BsmtFinSF1  BsmtFinSF2  BsmtUnfSF  TotalBsmtSF  1stFlrSF  \\\n",
       "Id                                                                           \n",
       "893          0.0       663.0         0.0      396.0       1059.0    1068.0   \n",
       "1106       362.0      1032.0         0.0      431.0       1463.0    1500.0   \n",
       "414          0.0         0.0         0.0     1008.0       1008.0    1028.0   \n",
       "523          0.0       399.0         0.0      605.0       1004.0    1004.0   \n",
       "1037        70.0      1022.0         0.0      598.0       1620.0    1620.0   \n",
       "\n",
       "      2ndFlrSF  LowQualFinSF  GrLivArea  GarageArea  WoodDeckSF  OpenPorchSF  \\\n",
       "Id                                                                             \n",
       "893        0.0           0.0     1068.0       264.0       192.0          0.0   \n",
       "1106    1122.0           0.0     2622.0       712.0       186.0         32.0   \n",
       "414        0.0           0.0     1028.0       360.0         0.0          0.0   \n",
       "523      660.0           0.0     1664.0       420.0         0.0         24.0   \n",
       "1037       0.0           0.0     1620.0       912.0       228.0          0.0   \n",
       "\n",
       "      PoolArea  EnclosedPorch  3SsnPorch  ScreenPorch  YearBuilt_YrSold  \\\n",
       "Id                                                                        \n",
       "893        0.0            0.0        0.0          0.0              43.0   \n",
       "1106       0.0            0.0        0.0          0.0              16.0   \n",
       "414        0.0          130.0        0.0          0.0              83.0   \n",
       "523        0.0           36.0        0.0          0.0              59.0   \n",
       "1037       0.0            0.0        0.0          0.0               2.0   \n",
       "\n",
       "      YearRemodAdd_YrSold  GarageYrBlt_YrSold  \n",
       "Id                                             \n",
       "893                   3.0                43.0  \n",
       "1106                 15.0                16.0  \n",
       "414                  60.0                83.0  \n",
       "523                  56.0                56.0  \n",
       "1037                  1.0                 1.0  "
      ]
     },
     "execution_count": 35,
     "metadata": {},
     "output_type": "execute_result"
    }
   ],
   "source": [
    "df_teste = use_2nd_data_prep(df)\n",
    "df_teste = create_time_dif_columns(df_teste, lst=['YearBuilt', 'YearRemodAdd', 'GarageYrBlt'])\n",
    "df_teste = use_data_prep_baseline(df_teste, data_prep_model='data_prep_knn_2nd_experiment.pkl')\n",
    "\n",
    "df_teste.sample(5, random_state=RANDOM_STATE)"
   ]
  },
  {
   "cell_type": "markdown",
   "id": "0ad5cfd2",
   "metadata": {},
   "source": [
    "#### Spliting and exporting training and validation datasets"
   ]
  },
  {
   "cell_type": "code",
   "execution_count": 36,
   "id": "f83ce0f2",
   "metadata": {
    "ExecuteTime": {
     "end_time": "2022-06-26T23:43:49.354008Z",
     "start_time": "2022-06-26T23:43:49.195784Z"
    }
   },
   "outputs": [
    {
     "data": {
      "text/plain": [
       "(1460, 25)"
      ]
     },
     "execution_count": 36,
     "metadata": {},
     "output_type": "execute_result"
    }
   ],
   "source": [
    "df_output = pd.concat([df_teste, df[['SalePrice']]], axis=1)\n",
    "df_output.shape"
   ]
  },
  {
   "cell_type": "code",
   "execution_count": 37,
   "id": "21c7c475",
   "metadata": {
    "ExecuteTime": {
     "end_time": "2022-06-26T23:43:51.136694Z",
     "start_time": "2022-06-26T23:43:50.978908Z"
    }
   },
   "outputs": [],
   "source": [
    "df_output.to_parquet(INTERIM_FOLDER + 'df_train_interim_02_2nd_experiment.pqt')"
   ]
  },
  {
   "cell_type": "code",
   "execution_count": 121,
   "id": "1a090e73",
   "metadata": {
    "ExecuteTime": {
     "end_time": "2022-06-26T17:30:05.162396Z",
     "start_time": "2022-06-26T17:30:05.014158Z"
    }
   },
   "outputs": [],
   "source": [
    "X = df.drop(columns=['SalePrice'])\n",
    "y = df[['SalePrice']]\n",
    "\n",
    "X_train, X_test, y_train, y_test = train_test_split(X, y, test_size=0.2, random_state=RANDOM_STATE)"
   ]
  },
  {
   "cell_type": "code",
   "execution_count": null,
   "id": "35c86739",
   "metadata": {},
   "outputs": [],
   "source": []
  },
  {
   "cell_type": "markdown",
   "id": "36ab0df2",
   "metadata": {},
   "source": [
    "### Processing the Kaggle's test dataset\n",
    "\n",
    "#### Importing"
   ]
  },
  {
   "cell_type": "code",
   "execution_count": 38,
   "id": "8d0c1386",
   "metadata": {
    "ExecuteTime": {
     "end_time": "2022-06-26T23:44:04.464582Z",
     "start_time": "2022-06-26T23:44:04.292251Z"
    }
   },
   "outputs": [
    {
     "name": "stdout",
     "output_type": "stream",
     "text": [
      "x_test_kaggle's shape: (1459, 79)\n"
     ]
    }
   ],
   "source": [
    "# Importing Kaggle's test dataset.\n",
    "x_test_kaggle = pd.read_csv(RAW_FOLDER + 'test.csv', index_col='Id')\n",
    "print(f\"x_test_kaggle's shape: {x_test_kaggle.shape}\")"
   ]
  },
  {
   "cell_type": "markdown",
   "id": "48d92dec",
   "metadata": {},
   "source": [
    "#### Preprocessing"
   ]
  },
  {
   "cell_type": "code",
   "execution_count": 39,
   "id": "508b1ceb",
   "metadata": {
    "ExecuteTime": {
     "end_time": "2022-06-26T23:44:33.443313Z",
     "start_time": "2022-06-26T23:44:33.227564Z"
    }
   },
   "outputs": [
    {
     "name": "stdout",
     "output_type": "stream",
     "text": [
      "<class 'pandas.core.frame.DataFrame'>\n",
      "Int64Index: 1459 entries, 1461 to 2919\n",
      "Data columns (total 24 columns):\n",
      " #   Column                Non-Null Count  Dtype  \n",
      "---  ------                --------------  -----  \n",
      " 0   has_central_air       1459 non-null   int32  \n",
      " 1   is_paved_street       1459 non-null   int32  \n",
      " 2   is_all_pub_utilities  1459 non-null   int32  \n",
      " 3   YrSold                1459 non-null   int64  \n",
      " 4   LotArea               1459 non-null   float64\n",
      " 5   MasVnrArea            1459 non-null   float64\n",
      " 6   BsmtFinSF1            1459 non-null   float64\n",
      " 7   BsmtFinSF2            1459 non-null   float64\n",
      " 8   BsmtUnfSF             1459 non-null   float64\n",
      " 9   TotalBsmtSF           1459 non-null   float64\n",
      " 10  1stFlrSF              1459 non-null   float64\n",
      " 11  2ndFlrSF              1459 non-null   float64\n",
      " 12  LowQualFinSF          1459 non-null   float64\n",
      " 13  GrLivArea             1459 non-null   float64\n",
      " 14  GarageArea            1459 non-null   float64\n",
      " 15  WoodDeckSF            1459 non-null   float64\n",
      " 16  OpenPorchSF           1459 non-null   float64\n",
      " 17  PoolArea              1459 non-null   float64\n",
      " 18  EnclosedPorch         1459 non-null   float64\n",
      " 19  3SsnPorch             1459 non-null   float64\n",
      " 20  ScreenPorch           1459 non-null   float64\n",
      " 21  YearBuilt_YrSold      1459 non-null   float64\n",
      " 22  YearRemodAdd_YrSold   1459 non-null   float64\n",
      " 23  GarageYrBlt_YrSold    1459 non-null   float64\n",
      "dtypes: float64(20), int32(3), int64(1)\n",
      "memory usage: 300.2 KB\n"
     ]
    }
   ],
   "source": [
    "x_test_kaggle_prepared = use_2nd_data_prep(x_test_kaggle)\n",
    "\n",
    "x_test_kaggle_prepared = create_time_dif_columns(\n",
    "    x_test_kaggle_prepared, lst=['YearBuilt', 'YearRemodAdd', 'GarageYrBlt']\n",
    ")\n",
    "\n",
    "x_test_kaggle_prepared = use_data_prep_baseline(x_test_kaggle_prepared, data_prep_model='data_prep_knn_2nd_experiment.pkl')\n",
    "\n",
    "# It is not correct, but I added a for loop here just to be sure that no null value will pass:\n",
    "for column in x_test_kaggle_prepared.columns:\n",
    "    if any(x_test_kaggle_prepared[column].isna()):\n",
    "        x_test_kaggle_prepared[[column]] = x_test_kaggle_prepared[[column]].fillna(-999)\n",
    "\n",
    "x_test_kaggle_prepared.info()"
   ]
  },
  {
   "cell_type": "markdown",
   "id": "4ba31019",
   "metadata": {},
   "source": [
    "#### Saving Kaggle's test dataset"
   ]
  },
  {
   "cell_type": "code",
   "execution_count": 133,
   "id": "b75c2094",
   "metadata": {
    "ExecuteTime": {
     "end_time": "2022-06-26T17:39:11.307439Z",
     "start_time": "2022-06-26T17:39:11.156389Z"
    }
   },
   "outputs": [],
   "source": [
    "x_test_kaggle_prepared.to_parquet(INTERIM_FOLDER + 'x_test_kaggle_prepared_2nd_experiment.pqt')"
   ]
  },
  {
   "cell_type": "code",
   "execution_count": null,
   "id": "ed66806f",
   "metadata": {},
   "outputs": [],
   "source": []
  }
 ],
 "metadata": {
  "hide_input": false,
  "kernelspec": {
   "display_name": "Python 3 (ipykernel)",
   "language": "python",
   "name": "python3"
  },
  "language_info": {
   "codemirror_mode": {
    "name": "ipython",
    "version": 3
   },
   "file_extension": ".py",
   "mimetype": "text/x-python",
   "name": "python",
   "nbconvert_exporter": "python",
   "pygments_lexer": "ipython3",
   "version": "3.9.7"
  },
  "toc": {
   "base_numbering": 1,
   "nav_menu": {},
   "number_sections": true,
   "sideBar": true,
   "skip_h1_title": false,
   "title_cell": "Table of Contents",
   "title_sidebar": "Contents",
   "toc_cell": false,
   "toc_position": {
    "height": "calc(100% - 180px)",
    "left": "10px",
    "top": "150px",
    "width": "384px"
   },
   "toc_section_display": true,
   "toc_window_display": true
  }
 },
 "nbformat": 4,
 "nbformat_minor": 5
}
