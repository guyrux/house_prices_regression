{
 "cells": [
  {
   "cell_type": "markdown",
   "id": "93a1af23",
   "metadata": {},
   "source": [
    "# Data preparation\n",
    "\n",
    "## Purpose\n",
    "This notebook prepares the data to be consumed by the next step ([3_modeling_suto](3_modeling_suto.ipynb)).\n",
    "\n",
    "## Methodology\n",
    "\n",
    "## WIP - improvements\n",
    "\n",
    "## Results\n",
    "\n",
    "## Suggested next steps\n"
   ]
  },
  {
   "cell_type": "markdown",
   "id": "04dec328",
   "metadata": {},
   "source": [
    "# Setup\n",
    "\n",
    "## Library import\n",
    "We import all the required Python libraries"
   ]
  },
  {
   "cell_type": "code",
   "execution_count": 1,
   "id": "c13337d6",
   "metadata": {
    "ExecuteTime": {
     "end_time": "2022-06-19T22:35:27.886987Z",
     "start_time": "2022-06-19T22:35:25.747963Z"
    }
   },
   "outputs": [],
   "source": [
    "%matplotlib inline\n",
    "\n",
    "import os\n",
    "import pickle\n",
    "from typing import List\n",
    "\n",
    "# Data manipulation\n",
    "import pandas as pd\n",
    "import numpy as np\n",
    "\n",
    "# Visualizations\n",
    "import matplotlib as plt\n",
    "from pandas_profiling import ProfileReport\n",
    "import seaborn as sns\n",
    "from sklearn.impute import KNNImputer\n",
    "from sklearn.neighbors import KNeighborsRegressor\n",
    "from sklearn.pipeline import Pipeline\n",
    "from sklearn2pmml import sklearn2pmml\n",
    "from sklearn2pmml.pipeline import PMMLPipeline\n",
    "from pypmml import Model\n",
    "\n",
    "os.chdir('../')\n",
    "from src.utils.data_describe import breve_descricao, serie_nulos, cardinalidade\n",
    "os.chdir('./notebooks/')\n",
    "\n",
    "# Options for pandas\n",
    "# pd.options.display.max_columns = None\n",
    "pd.set_option('display.max_rows', None)\n",
    "pd.set_option('display.max_columns', None)\n",
    "# pd.options.display.max_rows = 120\n",
    "\n",
    "# Autoreload extension\n",
    "if 'autoreload' not in get_ipython().extension_manager.loaded:\n",
    "    %load_ext autoreload\n",
    "    \n",
    "%autoreload 2"
   ]
  },
  {
   "cell_type": "markdown",
   "id": "11ff5cb6",
   "metadata": {},
   "source": [
    "## Parameter definition\n",
    "We set all relevant parameters for our notebook. By convention, parameters are uppercase, while all the \n",
    "other variables follow Python's guidelines."
   ]
  },
  {
   "cell_type": "code",
   "execution_count": 2,
   "id": "df215a39",
   "metadata": {
    "ExecuteTime": {
     "end_time": "2022-06-19T22:35:28.047009Z",
     "start_time": "2022-06-19T22:35:27.889041Z"
    }
   },
   "outputs": [],
   "source": [
    "RAW_FOLDER = '../data/raw/'\n",
    "INTERIM_FOLDER = '../data/interim/'\n",
    "REPORTS_FOLDER = '../reports/'\n",
    "MODELS_FOLDER = '../models/'\n",
    "RANDOM_STATE = 42"
   ]
  },
  {
   "cell_type": "markdown",
   "id": "94b42b9d",
   "metadata": {},
   "source": [
    "\n",
    "# Data import\n",
    "We retrieve all the required data for the analysis."
   ]
  },
  {
   "cell_type": "code",
   "execution_count": 3,
   "id": "c6de11fb",
   "metadata": {
    "ExecuteTime": {
     "end_time": "2022-06-19T22:35:28.202147Z",
     "start_time": "2022-06-19T22:35:28.049002Z"
    }
   },
   "outputs": [
    {
     "data": {
      "text/plain": [
       "(1460, 80)"
      ]
     },
     "execution_count": 3,
     "metadata": {},
     "output_type": "execute_result"
    }
   ],
   "source": [
    "df = pd.read_csv(RAW_FOLDER + 'train.csv', index_col=0)\n",
    "df_evaluation = df.copy() \n",
    "df_evaluation.shape"
   ]
  },
  {
   "cell_type": "markdown",
   "id": "412184ef",
   "metadata": {},
   "source": [
    "# Data processing\n",
    "\n",
    "## 1st experiment: the baseline\n",
    "Here we will:\n",
    "\n",
    "1. Drop the attributes with more than 80% nulls; and\n",
    "1. Drop all non_numerical features."
   ]
  },
  {
   "cell_type": "markdown",
   "id": "6ad5a3d0",
   "metadata": {},
   "source": [
    "### List of attributes to drop"
   ]
  },
  {
   "cell_type": "code",
   "execution_count": 4,
   "id": "91df45c4",
   "metadata": {
    "ExecuteTime": {
     "end_time": "2022-06-19T22:35:28.357140Z",
     "start_time": "2022-06-19T22:35:28.205083Z"
    }
   },
   "outputs": [
    {
     "name": "stdout",
     "output_type": "stream",
     "text": [
      "4 atributos/features/campos possuem mais de 0.5 de valores nulos.\n"
     ]
    },
    {
     "data": {
      "text/plain": [
       "['PoolQC', 'MiscFeature', 'Alley', 'Fence']"
      ]
     },
     "execution_count": 4,
     "metadata": {},
     "output_type": "execute_result"
    }
   ],
   "source": [
    "lst_columns_null = serie_nulos(df_evaluation, corte=0.5).index.tolist()\n",
    "\n",
    "lst_columns_null"
   ]
  },
  {
   "cell_type": "markdown",
   "id": "32ec1131",
   "metadata": {
    "ExecuteTime": {
     "end_time": "2022-06-09T01:10:12.569776Z",
     "start_time": "2022-06-09T01:10:12.439375Z"
    }
   },
   "source": [
    "### List of area attributes"
   ]
  },
  {
   "cell_type": "code",
   "execution_count": 5,
   "id": "ceea7164",
   "metadata": {
    "ExecuteTime": {
     "end_time": "2022-06-19T22:35:28.500084Z",
     "start_time": "2022-06-19T22:35:28.359083Z"
    }
   },
   "outputs": [
    {
     "name": "stdout",
     "output_type": "stream",
     "text": [
      "There is/are 14 area attributes:\n",
      "['LotArea', 'MasVnrArea', 'BsmtFinSF1', 'BsmtFinSF2', 'BsmtUnfSF', 'TotalBsmtSF', '1stFlrSF', '2ndFlrSF', 'LowQualFinSF', 'GrLivArea', 'GarageArea', 'WoodDeckSF', 'OpenPorchSF', 'PoolArea']\n"
     ]
    }
   ],
   "source": [
    "lst_area = [x for x in df_evaluation.columns if ('area' in x.lower()) or ('sf' in x.lower())]\n",
    "\n",
    "print(f\"\"\"There is/are {len(lst_area)} area attributes:\n",
    "{lst_area}\"\"\")"
   ]
  },
  {
   "cell_type": "markdown",
   "id": "6c48ff5f",
   "metadata": {},
   "source": [
    "### List of time attributes\n",
    "\n",
    "With these features, I will create new time features that express the difference between the YrSold and the each other time feature. For example:\n",
    "\n",
    "- 'YrSold' - 'YearBuilt' = 'YrSold_YearBuilt' -> express the building's age.\n",
    "\n",
    "The difference will not be calculated between 'YrSold' and 'MoSold' because there's no meaning in doing this. 'MoSold' can be used later to observe if there's a seasonality within a year."
   ]
  },
  {
   "cell_type": "code",
   "execution_count": 6,
   "id": "d7844caf",
   "metadata": {
    "ExecuteTime": {
     "end_time": "2022-06-19T22:35:28.639083Z",
     "start_time": "2022-06-19T22:35:28.502083Z"
    }
   },
   "outputs": [
    {
     "name": "stdout",
     "output_type": "stream",
     "text": [
      "There is/are 4 time attributes:\n",
      "['YearBuilt', 'YearRemodAdd', 'GarageYrBlt', 'YrSold']\n"
     ]
    }
   ],
   "source": [
    "lst_time = [x for x in df_evaluation.columns if ('yr' in x.lower()) or ('year' in x.lower())]\n",
    "# After reading the data description, I realized that 'MoSold' is a time attribute too.\n",
    "\n",
    "print(f\"\"\"There is/are {len(lst_time)} time attributes:\n",
    "{lst_time}\"\"\")\n",
    "\n",
    "lst_time.remove('YrSold')"
   ]
  },
  {
   "cell_type": "markdown",
   "id": "37d28827",
   "metadata": {},
   "source": [
    "### List of float attributes"
   ]
  },
  {
   "cell_type": "code",
   "execution_count": 7,
   "id": "37385732",
   "metadata": {
    "ExecuteTime": {
     "end_time": "2022-06-19T22:35:28.779088Z",
     "start_time": "2022-06-19T22:35:28.641086Z"
    }
   },
   "outputs": [
    {
     "name": "stdout",
     "output_type": "stream",
     "text": [
      "There is/are 1 float attributes:\n",
      "['LotFrontage']\n"
     ]
    }
   ],
   "source": [
    "lst_float = [\n",
    "    x for x in df_evaluation.select_dtypes(include='float64').columns.tolist() if (x not in lst_area) and (x not in lst_time)\n",
    "]\n",
    "\n",
    "print(f\"\"\"There is/are {len(lst_float)} float attributes:\n",
    "{lst_float}\"\"\")"
   ]
  },
  {
   "cell_type": "code",
   "execution_count": 8,
   "id": "950dfb7a",
   "metadata": {
    "ExecuteTime": {
     "end_time": "2022-06-19T22:35:30.895868Z",
     "start_time": "2022-06-19T22:35:28.780084Z"
    }
   },
   "outputs": [],
   "source": [
    "def create_time_dif_columns(df: pd.DataFrame, lst: List) -> pd.DataFrame:\n",
    "    df_temp = df.copy()\n",
    "\n",
    "    for attribute in lst:\n",
    "        df_temp[attribute + '_YrSold'] = df_temp['YrSold'] - df_temp[attribute]\n",
    "        df_temp.drop(columns=attribute, inplace=True)\n",
    "    \n",
    "    return df_temp\n"
   ]
  },
  {
   "cell_type": "markdown",
   "id": "2d409932",
   "metadata": {},
   "source": [
    "### Data output"
   ]
  },
  {
   "cell_type": "code",
   "execution_count": 9,
   "id": "114608a8",
   "metadata": {
    "ExecuteTime": {
     "end_time": "2022-06-19T22:35:31.063866Z",
     "start_time": "2022-06-19T22:35:30.896865Z"
    }
   },
   "outputs": [
    {
     "data": {
      "text/html": [
       "<div>\n",
       "<style scoped>\n",
       "    .dataframe tbody tr th:only-of-type {\n",
       "        vertical-align: middle;\n",
       "    }\n",
       "\n",
       "    .dataframe tbody tr th {\n",
       "        vertical-align: top;\n",
       "    }\n",
       "\n",
       "    .dataframe thead th {\n",
       "        text-align: right;\n",
       "    }\n",
       "</style>\n",
       "<table border=\"1\" class=\"dataframe\">\n",
       "  <thead>\n",
       "    <tr style=\"text-align: right;\">\n",
       "      <th></th>\n",
       "      <th>LotArea</th>\n",
       "      <th>MasVnrArea</th>\n",
       "      <th>BsmtFinSF1</th>\n",
       "      <th>BsmtFinSF2</th>\n",
       "      <th>BsmtUnfSF</th>\n",
       "      <th>TotalBsmtSF</th>\n",
       "      <th>1stFlrSF</th>\n",
       "      <th>2ndFlrSF</th>\n",
       "      <th>LowQualFinSF</th>\n",
       "      <th>GrLivArea</th>\n",
       "      <th>GarageArea</th>\n",
       "      <th>WoodDeckSF</th>\n",
       "      <th>OpenPorchSF</th>\n",
       "      <th>PoolArea</th>\n",
       "      <th>YrSold</th>\n",
       "      <th>YearBuilt_YrSold</th>\n",
       "      <th>YearRemodAdd_YrSold</th>\n",
       "      <th>GarageYrBlt_YrSold</th>\n",
       "      <th>SalePrice</th>\n",
       "    </tr>\n",
       "    <tr>\n",
       "      <th>Id</th>\n",
       "      <th></th>\n",
       "      <th></th>\n",
       "      <th></th>\n",
       "      <th></th>\n",
       "      <th></th>\n",
       "      <th></th>\n",
       "      <th></th>\n",
       "      <th></th>\n",
       "      <th></th>\n",
       "      <th></th>\n",
       "      <th></th>\n",
       "      <th></th>\n",
       "      <th></th>\n",
       "      <th></th>\n",
       "      <th></th>\n",
       "      <th></th>\n",
       "      <th></th>\n",
       "      <th></th>\n",
       "      <th></th>\n",
       "    </tr>\n",
       "  </thead>\n",
       "  <tbody>\n",
       "    <tr>\n",
       "      <th>1</th>\n",
       "      <td>8450</td>\n",
       "      <td>196.0</td>\n",
       "      <td>706</td>\n",
       "      <td>0</td>\n",
       "      <td>150</td>\n",
       "      <td>856</td>\n",
       "      <td>856</td>\n",
       "      <td>854</td>\n",
       "      <td>0</td>\n",
       "      <td>1710</td>\n",
       "      <td>548</td>\n",
       "      <td>0</td>\n",
       "      <td>61</td>\n",
       "      <td>0</td>\n",
       "      <td>2008</td>\n",
       "      <td>5</td>\n",
       "      <td>5</td>\n",
       "      <td>5.0</td>\n",
       "      <td>208500</td>\n",
       "    </tr>\n",
       "    <tr>\n",
       "      <th>2</th>\n",
       "      <td>9600</td>\n",
       "      <td>0.0</td>\n",
       "      <td>978</td>\n",
       "      <td>0</td>\n",
       "      <td>284</td>\n",
       "      <td>1262</td>\n",
       "      <td>1262</td>\n",
       "      <td>0</td>\n",
       "      <td>0</td>\n",
       "      <td>1262</td>\n",
       "      <td>460</td>\n",
       "      <td>298</td>\n",
       "      <td>0</td>\n",
       "      <td>0</td>\n",
       "      <td>2007</td>\n",
       "      <td>31</td>\n",
       "      <td>31</td>\n",
       "      <td>31.0</td>\n",
       "      <td>181500</td>\n",
       "    </tr>\n",
       "    <tr>\n",
       "      <th>3</th>\n",
       "      <td>11250</td>\n",
       "      <td>162.0</td>\n",
       "      <td>486</td>\n",
       "      <td>0</td>\n",
       "      <td>434</td>\n",
       "      <td>920</td>\n",
       "      <td>920</td>\n",
       "      <td>866</td>\n",
       "      <td>0</td>\n",
       "      <td>1786</td>\n",
       "      <td>608</td>\n",
       "      <td>0</td>\n",
       "      <td>42</td>\n",
       "      <td>0</td>\n",
       "      <td>2008</td>\n",
       "      <td>7</td>\n",
       "      <td>6</td>\n",
       "      <td>7.0</td>\n",
       "      <td>223500</td>\n",
       "    </tr>\n",
       "    <tr>\n",
       "      <th>4</th>\n",
       "      <td>9550</td>\n",
       "      <td>0.0</td>\n",
       "      <td>216</td>\n",
       "      <td>0</td>\n",
       "      <td>540</td>\n",
       "      <td>756</td>\n",
       "      <td>961</td>\n",
       "      <td>756</td>\n",
       "      <td>0</td>\n",
       "      <td>1717</td>\n",
       "      <td>642</td>\n",
       "      <td>0</td>\n",
       "      <td>35</td>\n",
       "      <td>0</td>\n",
       "      <td>2006</td>\n",
       "      <td>91</td>\n",
       "      <td>36</td>\n",
       "      <td>8.0</td>\n",
       "      <td>140000</td>\n",
       "    </tr>\n",
       "    <tr>\n",
       "      <th>5</th>\n",
       "      <td>14260</td>\n",
       "      <td>350.0</td>\n",
       "      <td>655</td>\n",
       "      <td>0</td>\n",
       "      <td>490</td>\n",
       "      <td>1145</td>\n",
       "      <td>1145</td>\n",
       "      <td>1053</td>\n",
       "      <td>0</td>\n",
       "      <td>2198</td>\n",
       "      <td>836</td>\n",
       "      <td>192</td>\n",
       "      <td>84</td>\n",
       "      <td>0</td>\n",
       "      <td>2008</td>\n",
       "      <td>8</td>\n",
       "      <td>8</td>\n",
       "      <td>8.0</td>\n",
       "      <td>250000</td>\n",
       "    </tr>\n",
       "  </tbody>\n",
       "</table>\n",
       "</div>"
      ],
      "text/plain": [
       "    LotArea  MasVnrArea  BsmtFinSF1  BsmtFinSF2  BsmtUnfSF  TotalBsmtSF  \\\n",
       "Id                                                                        \n",
       "1      8450       196.0         706           0        150          856   \n",
       "2      9600         0.0         978           0        284         1262   \n",
       "3     11250       162.0         486           0        434          920   \n",
       "4      9550         0.0         216           0        540          756   \n",
       "5     14260       350.0         655           0        490         1145   \n",
       "\n",
       "    1stFlrSF  2ndFlrSF  LowQualFinSF  GrLivArea  GarageArea  WoodDeckSF  \\\n",
       "Id                                                                        \n",
       "1        856       854             0       1710         548           0   \n",
       "2       1262         0             0       1262         460         298   \n",
       "3        920       866             0       1786         608           0   \n",
       "4        961       756             0       1717         642           0   \n",
       "5       1145      1053             0       2198         836         192   \n",
       "\n",
       "    OpenPorchSF  PoolArea  YrSold  YearBuilt_YrSold  YearRemodAdd_YrSold  \\\n",
       "Id                                                                         \n",
       "1            61         0    2008                 5                    5   \n",
       "2             0         0    2007                31                   31   \n",
       "3            42         0    2008                 7                    6   \n",
       "4            35         0    2006                91                   36   \n",
       "5            84         0    2008                 8                    8   \n",
       "\n",
       "    GarageYrBlt_YrSold  SalePrice  \n",
       "Id                                 \n",
       "1                  5.0     208500  \n",
       "2                 31.0     181500  \n",
       "3                  7.0     223500  \n",
       "4                  8.0     140000  \n",
       "5                  8.0     250000  "
      ]
     },
     "execution_count": 9,
     "metadata": {},
     "output_type": "execute_result"
    }
   ],
   "source": [
    "df_output = df.copy()\n",
    "df_output.drop(columns=lst_columns_null, inplace=True)\n",
    "\n",
    "lst_final_columns = lst_area.copy()\n",
    "lst_final_columns.extend(lst_time)\n",
    "lst_final_columns.append('YrSold')\n",
    "lst_final_columns.append('SalePrice')\n",
    "\n",
    "df_output = df_output[lst_final_columns]\n",
    "df_output = create_time_dif_columns(df=df_output, lst=lst_time)\n",
    "\n",
    "df_output = df_output[[\n",
    "    'LotArea', 'MasVnrArea', 'BsmtFinSF1', 'BsmtFinSF2', 'BsmtUnfSF', 'TotalBsmtSF',\n",
    "    '1stFlrSF', '2ndFlrSF', 'LowQualFinSF', 'GrLivArea', 'GarageArea', 'WoodDeckSF',\n",
    "    'OpenPorchSF', 'PoolArea', 'YrSold', 'YearBuilt_YrSold', 'YearRemodAdd_YrSold',\n",
    "    'GarageYrBlt_YrSold', 'SalePrice'\n",
    "]]\n",
    "\n",
    "df_output.head()"
   ]
  },
  {
   "cell_type": "markdown",
   "id": "3d514176",
   "metadata": {},
   "source": [
    "## Presence of null values\n",
    "\n",
    "The 1st experiment will be a simple linear regression. This method do not allowed null values in the dataset nor in production model. The following steps we'll fill the null values:"
   ]
  },
  {
   "cell_type": "code",
   "execution_count": 10,
   "id": "ccf951c9",
   "metadata": {
    "ExecuteTime": {
     "end_time": "2022-06-19T22:35:31.218869Z",
     "start_time": "2022-06-19T22:35:31.066866Z"
    }
   },
   "outputs": [
    {
     "name": "stdout",
     "output_type": "stream",
     "text": [
      "2 atributos/features/campos possuem mais de 0 de valores nulos.\n"
     ]
    },
    {
     "data": {
      "text/plain": [
       "GarageYrBlt_YrSold    0.055479\n",
       "MasVnrArea            0.005479\n",
       "dtype: float64"
      ]
     },
     "execution_count": 10,
     "metadata": {},
     "output_type": "execute_result"
    }
   ],
   "source": [
    "serie_nulos(df_output, corte=0)"
   ]
  },
  {
   "cell_type": "markdown",
   "id": "0892c78a",
   "metadata": {},
   "source": [
    "### Filling attribute: *GarageYrBlt_YrSold*\n",
    "\n",
    "This attribute could mean that the building has no garage. For this one we'll just fill the null values with a high number (e.g.: 999)."
   ]
  },
  {
   "cell_type": "code",
   "execution_count": 11,
   "id": "4c5b4a24",
   "metadata": {
    "ExecuteTime": {
     "end_time": "2022-06-19T22:35:31.360887Z",
     "start_time": "2022-06-19T22:35:31.220867Z"
    }
   },
   "outputs": [
    {
     "data": {
      "text/html": [
       "<div>\n",
       "<style scoped>\n",
       "    .dataframe tbody tr th:only-of-type {\n",
       "        vertical-align: middle;\n",
       "    }\n",
       "\n",
       "    .dataframe tbody tr th {\n",
       "        vertical-align: top;\n",
       "    }\n",
       "\n",
       "    .dataframe thead th {\n",
       "        text-align: right;\n",
       "    }\n",
       "</style>\n",
       "<table border=\"1\" class=\"dataframe\">\n",
       "  <thead>\n",
       "    <tr style=\"text-align: right;\">\n",
       "      <th></th>\n",
       "      <th>GarageType</th>\n",
       "      <th>GarageYrBlt</th>\n",
       "      <th>GarageFinish</th>\n",
       "      <th>GarageCars</th>\n",
       "      <th>GarageArea</th>\n",
       "      <th>GarageQual</th>\n",
       "      <th>GarageCond</th>\n",
       "    </tr>\n",
       "    <tr>\n",
       "      <th>Id</th>\n",
       "      <th></th>\n",
       "      <th></th>\n",
       "      <th></th>\n",
       "      <th></th>\n",
       "      <th></th>\n",
       "      <th></th>\n",
       "      <th></th>\n",
       "    </tr>\n",
       "  </thead>\n",
       "  <tbody>\n",
       "    <tr>\n",
       "      <th>529</th>\n",
       "      <td>NaN</td>\n",
       "      <td>NaN</td>\n",
       "      <td>NaN</td>\n",
       "      <td>0</td>\n",
       "      <td>0</td>\n",
       "      <td>NaN</td>\n",
       "      <td>NaN</td>\n",
       "    </tr>\n",
       "    <tr>\n",
       "      <th>40</th>\n",
       "      <td>NaN</td>\n",
       "      <td>NaN</td>\n",
       "      <td>NaN</td>\n",
       "      <td>0</td>\n",
       "      <td>0</td>\n",
       "      <td>NaN</td>\n",
       "      <td>NaN</td>\n",
       "    </tr>\n",
       "    <tr>\n",
       "      <th>387</th>\n",
       "      <td>NaN</td>\n",
       "      <td>NaN</td>\n",
       "      <td>NaN</td>\n",
       "      <td>0</td>\n",
       "      <td>0</td>\n",
       "      <td>NaN</td>\n",
       "      <td>NaN</td>\n",
       "    </tr>\n",
       "    <tr>\n",
       "      <th>534</th>\n",
       "      <td>NaN</td>\n",
       "      <td>NaN</td>\n",
       "      <td>NaN</td>\n",
       "      <td>0</td>\n",
       "      <td>0</td>\n",
       "      <td>NaN</td>\n",
       "      <td>NaN</td>\n",
       "    </tr>\n",
       "    <tr>\n",
       "      <th>288</th>\n",
       "      <td>NaN</td>\n",
       "      <td>NaN</td>\n",
       "      <td>NaN</td>\n",
       "      <td>0</td>\n",
       "      <td>0</td>\n",
       "      <td>NaN</td>\n",
       "      <td>NaN</td>\n",
       "    </tr>\n",
       "  </tbody>\n",
       "</table>\n",
       "</div>"
      ],
      "text/plain": [
       "    GarageType  GarageYrBlt GarageFinish  GarageCars  GarageArea GarageQual  \\\n",
       "Id                                                                            \n",
       "529        NaN          NaN          NaN           0           0        NaN   \n",
       "40         NaN          NaN          NaN           0           0        NaN   \n",
       "387        NaN          NaN          NaN           0           0        NaN   \n",
       "534        NaN          NaN          NaN           0           0        NaN   \n",
       "288        NaN          NaN          NaN           0           0        NaN   \n",
       "\n",
       "    GarageCond  \n",
       "Id              \n",
       "529        NaN  \n",
       "40         NaN  \n",
       "387        NaN  \n",
       "534        NaN  \n",
       "288        NaN  "
      ]
     },
     "execution_count": 11,
     "metadata": {},
     "output_type": "execute_result"
    }
   ],
   "source": [
    "# This dataframe below shows there is NO information about the attributes with 'Garage' in the name.\n",
    "df.loc[df['GarageYrBlt'].isna(), [x for x in df.columns if 'arage' in x]].sample(5, random_state=RANDOM_STATE)"
   ]
  },
  {
   "cell_type": "code",
   "execution_count": 12,
   "id": "25328b61",
   "metadata": {
    "ExecuteTime": {
     "end_time": "2022-06-19T22:35:31.500884Z",
     "start_time": "2022-06-19T22:35:31.362868Z"
    }
   },
   "outputs": [
    {
     "data": {
      "text/html": [
       "<div>\n",
       "<style scoped>\n",
       "    .dataframe tbody tr th:only-of-type {\n",
       "        vertical-align: middle;\n",
       "    }\n",
       "\n",
       "    .dataframe tbody tr th {\n",
       "        vertical-align: top;\n",
       "    }\n",
       "\n",
       "    .dataframe thead th {\n",
       "        text-align: right;\n",
       "    }\n",
       "</style>\n",
       "<table border=\"1\" class=\"dataframe\">\n",
       "  <thead>\n",
       "    <tr style=\"text-align: right;\">\n",
       "      <th></th>\n",
       "      <th>GarageArea</th>\n",
       "      <th>GarageYrBlt_YrSold</th>\n",
       "    </tr>\n",
       "    <tr>\n",
       "      <th>Id</th>\n",
       "      <th></th>\n",
       "      <th></th>\n",
       "    </tr>\n",
       "  </thead>\n",
       "  <tbody>\n",
       "    <tr>\n",
       "      <th>529</th>\n",
       "      <td>0</td>\n",
       "      <td>999.0</td>\n",
       "    </tr>\n",
       "    <tr>\n",
       "      <th>40</th>\n",
       "      <td>0</td>\n",
       "      <td>999.0</td>\n",
       "    </tr>\n",
       "    <tr>\n",
       "      <th>387</th>\n",
       "      <td>0</td>\n",
       "      <td>999.0</td>\n",
       "    </tr>\n",
       "    <tr>\n",
       "      <th>534</th>\n",
       "      <td>0</td>\n",
       "      <td>999.0</td>\n",
       "    </tr>\n",
       "    <tr>\n",
       "      <th>288</th>\n",
       "      <td>0</td>\n",
       "      <td>999.0</td>\n",
       "    </tr>\n",
       "  </tbody>\n",
       "</table>\n",
       "</div>"
      ],
      "text/plain": [
       "     GarageArea  GarageYrBlt_YrSold\n",
       "Id                                 \n",
       "529           0               999.0\n",
       "40            0               999.0\n",
       "387           0               999.0\n",
       "534           0               999.0\n",
       "288           0               999.0"
      ]
     },
     "execution_count": 12,
     "metadata": {},
     "output_type": "execute_result"
    }
   ],
   "source": [
    "df_output[['GarageYrBlt_YrSold']] = df_output[['GarageYrBlt_YrSold']].fillna(999)\n",
    "\n",
    "df_output.loc[\n",
    "    df_output['GarageYrBlt_YrSold']==999, [x for x in df_output.columns if 'arage' in x]\n",
    "].sample(5, random_state=RANDOM_STATE)"
   ]
  },
  {
   "cell_type": "markdown",
   "id": "93580f93",
   "metadata": {},
   "source": [
    "### Filling attribute: *MasVnrArea*\n",
    "\n",
    "As showed above, this attribute or factor has only 8 null value entries (0,5% of total). As a first try, it is possible to delete these 8 entries, but we want to build a data prep pipeline to deal with these cases.\n",
    "\n",
    "Here we are going to try [KNN](https://scikit-learn.org/stable/modules/generated/sklearn.impute.KNNImputer.html) approach, without the target or response, obviously."
   ]
  },
  {
   "cell_type": "code",
   "execution_count": 13,
   "id": "4566472e",
   "metadata": {
    "ExecuteTime": {
     "end_time": "2022-06-19T22:35:31.643674Z",
     "start_time": "2022-06-19T22:35:31.502868Z"
    }
   },
   "outputs": [
    {
     "data": {
      "text/html": [
       "<div>\n",
       "<style scoped>\n",
       "    .dataframe tbody tr th:only-of-type {\n",
       "        vertical-align: middle;\n",
       "    }\n",
       "\n",
       "    .dataframe tbody tr th {\n",
       "        vertical-align: top;\n",
       "    }\n",
       "\n",
       "    .dataframe thead th {\n",
       "        text-align: right;\n",
       "    }\n",
       "</style>\n",
       "<table border=\"1\" class=\"dataframe\">\n",
       "  <thead>\n",
       "    <tr style=\"text-align: right;\">\n",
       "      <th></th>\n",
       "      <th>LotArea</th>\n",
       "      <th>MasVnrArea</th>\n",
       "      <th>BsmtFinSF1</th>\n",
       "      <th>BsmtFinSF2</th>\n",
       "      <th>BsmtUnfSF</th>\n",
       "      <th>TotalBsmtSF</th>\n",
       "      <th>1stFlrSF</th>\n",
       "      <th>2ndFlrSF</th>\n",
       "      <th>LowQualFinSF</th>\n",
       "      <th>GrLivArea</th>\n",
       "      <th>GarageArea</th>\n",
       "      <th>WoodDeckSF</th>\n",
       "      <th>OpenPorchSF</th>\n",
       "      <th>PoolArea</th>\n",
       "      <th>YrSold</th>\n",
       "      <th>YearBuilt_YrSold</th>\n",
       "      <th>YearRemodAdd_YrSold</th>\n",
       "      <th>GarageYrBlt_YrSold</th>\n",
       "      <th>SalePrice</th>\n",
       "    </tr>\n",
       "    <tr>\n",
       "      <th>Id</th>\n",
       "      <th></th>\n",
       "      <th></th>\n",
       "      <th></th>\n",
       "      <th></th>\n",
       "      <th></th>\n",
       "      <th></th>\n",
       "      <th></th>\n",
       "      <th></th>\n",
       "      <th></th>\n",
       "      <th></th>\n",
       "      <th></th>\n",
       "      <th></th>\n",
       "      <th></th>\n",
       "      <th></th>\n",
       "      <th></th>\n",
       "      <th></th>\n",
       "      <th></th>\n",
       "      <th></th>\n",
       "      <th></th>\n",
       "    </tr>\n",
       "  </thead>\n",
       "  <tbody>\n",
       "    <tr>\n",
       "      <th>235</th>\n",
       "      <td>7851</td>\n",
       "      <td>NaN</td>\n",
       "      <td>625</td>\n",
       "      <td>0</td>\n",
       "      <td>235</td>\n",
       "      <td>860</td>\n",
       "      <td>860</td>\n",
       "      <td>1100</td>\n",
       "      <td>0</td>\n",
       "      <td>1960</td>\n",
       "      <td>440</td>\n",
       "      <td>288</td>\n",
       "      <td>48</td>\n",
       "      <td>0</td>\n",
       "      <td>2010</td>\n",
       "      <td>8</td>\n",
       "      <td>8</td>\n",
       "      <td>8.0</td>\n",
       "      <td>216500</td>\n",
       "    </tr>\n",
       "    <tr>\n",
       "      <th>530</th>\n",
       "      <td>32668</td>\n",
       "      <td>NaN</td>\n",
       "      <td>1219</td>\n",
       "      <td>0</td>\n",
       "      <td>816</td>\n",
       "      <td>2035</td>\n",
       "      <td>2515</td>\n",
       "      <td>0</td>\n",
       "      <td>0</td>\n",
       "      <td>2515</td>\n",
       "      <td>484</td>\n",
       "      <td>0</td>\n",
       "      <td>0</td>\n",
       "      <td>0</td>\n",
       "      <td>2007</td>\n",
       "      <td>50</td>\n",
       "      <td>32</td>\n",
       "      <td>32.0</td>\n",
       "      <td>200624</td>\n",
       "    </tr>\n",
       "    <tr>\n",
       "      <th>651</th>\n",
       "      <td>8125</td>\n",
       "      <td>NaN</td>\n",
       "      <td>0</td>\n",
       "      <td>0</td>\n",
       "      <td>813</td>\n",
       "      <td>813</td>\n",
       "      <td>822</td>\n",
       "      <td>843</td>\n",
       "      <td>0</td>\n",
       "      <td>1665</td>\n",
       "      <td>562</td>\n",
       "      <td>0</td>\n",
       "      <td>0</td>\n",
       "      <td>0</td>\n",
       "      <td>2008</td>\n",
       "      <td>1</td>\n",
       "      <td>1</td>\n",
       "      <td>1.0</td>\n",
       "      <td>205950</td>\n",
       "    </tr>\n",
       "    <tr>\n",
       "      <th>937</th>\n",
       "      <td>10083</td>\n",
       "      <td>NaN</td>\n",
       "      <td>833</td>\n",
       "      <td>0</td>\n",
       "      <td>343</td>\n",
       "      <td>1176</td>\n",
       "      <td>1200</td>\n",
       "      <td>0</td>\n",
       "      <td>0</td>\n",
       "      <td>1200</td>\n",
       "      <td>555</td>\n",
       "      <td>0</td>\n",
       "      <td>41</td>\n",
       "      <td>0</td>\n",
       "      <td>2009</td>\n",
       "      <td>6</td>\n",
       "      <td>6</td>\n",
       "      <td>6.0</td>\n",
       "      <td>184900</td>\n",
       "    </tr>\n",
       "    <tr>\n",
       "      <th>974</th>\n",
       "      <td>11639</td>\n",
       "      <td>NaN</td>\n",
       "      <td>0</td>\n",
       "      <td>0</td>\n",
       "      <td>1428</td>\n",
       "      <td>1428</td>\n",
       "      <td>1428</td>\n",
       "      <td>0</td>\n",
       "      <td>0</td>\n",
       "      <td>1428</td>\n",
       "      <td>480</td>\n",
       "      <td>0</td>\n",
       "      <td>120</td>\n",
       "      <td>0</td>\n",
       "      <td>2008</td>\n",
       "      <td>1</td>\n",
       "      <td>0</td>\n",
       "      <td>1.0</td>\n",
       "      <td>182000</td>\n",
       "    </tr>\n",
       "    <tr>\n",
       "      <th>978</th>\n",
       "      <td>4274</td>\n",
       "      <td>NaN</td>\n",
       "      <td>1106</td>\n",
       "      <td>0</td>\n",
       "      <td>135</td>\n",
       "      <td>1241</td>\n",
       "      <td>1241</td>\n",
       "      <td>0</td>\n",
       "      <td>0</td>\n",
       "      <td>1241</td>\n",
       "      <td>569</td>\n",
       "      <td>0</td>\n",
       "      <td>116</td>\n",
       "      <td>0</td>\n",
       "      <td>2007</td>\n",
       "      <td>1</td>\n",
       "      <td>0</td>\n",
       "      <td>0.0</td>\n",
       "      <td>199900</td>\n",
       "    </tr>\n",
       "    <tr>\n",
       "      <th>1244</th>\n",
       "      <td>13891</td>\n",
       "      <td>NaN</td>\n",
       "      <td>1386</td>\n",
       "      <td>0</td>\n",
       "      <td>690</td>\n",
       "      <td>2076</td>\n",
       "      <td>2076</td>\n",
       "      <td>0</td>\n",
       "      <td>0</td>\n",
       "      <td>2076</td>\n",
       "      <td>850</td>\n",
       "      <td>216</td>\n",
       "      <td>229</td>\n",
       "      <td>0</td>\n",
       "      <td>2006</td>\n",
       "      <td>0</td>\n",
       "      <td>0</td>\n",
       "      <td>0.0</td>\n",
       "      <td>465000</td>\n",
       "    </tr>\n",
       "    <tr>\n",
       "      <th>1279</th>\n",
       "      <td>9473</td>\n",
       "      <td>NaN</td>\n",
       "      <td>804</td>\n",
       "      <td>0</td>\n",
       "      <td>324</td>\n",
       "      <td>1128</td>\n",
       "      <td>1128</td>\n",
       "      <td>903</td>\n",
       "      <td>0</td>\n",
       "      <td>2031</td>\n",
       "      <td>577</td>\n",
       "      <td>0</td>\n",
       "      <td>211</td>\n",
       "      <td>0</td>\n",
       "      <td>2008</td>\n",
       "      <td>6</td>\n",
       "      <td>6</td>\n",
       "      <td>6.0</td>\n",
       "      <td>237000</td>\n",
       "    </tr>\n",
       "  </tbody>\n",
       "</table>\n",
       "</div>"
      ],
      "text/plain": [
       "      LotArea  MasVnrArea  BsmtFinSF1  BsmtFinSF2  BsmtUnfSF  TotalBsmtSF  \\\n",
       "Id                                                                          \n",
       "235      7851         NaN         625           0        235          860   \n",
       "530     32668         NaN        1219           0        816         2035   \n",
       "651      8125         NaN           0           0        813          813   \n",
       "937     10083         NaN         833           0        343         1176   \n",
       "974     11639         NaN           0           0       1428         1428   \n",
       "978      4274         NaN        1106           0        135         1241   \n",
       "1244    13891         NaN        1386           0        690         2076   \n",
       "1279     9473         NaN         804           0        324         1128   \n",
       "\n",
       "      1stFlrSF  2ndFlrSF  LowQualFinSF  GrLivArea  GarageArea  WoodDeckSF  \\\n",
       "Id                                                                          \n",
       "235        860      1100             0       1960         440         288   \n",
       "530       2515         0             0       2515         484           0   \n",
       "651        822       843             0       1665         562           0   \n",
       "937       1200         0             0       1200         555           0   \n",
       "974       1428         0             0       1428         480           0   \n",
       "978       1241         0             0       1241         569           0   \n",
       "1244      2076         0             0       2076         850         216   \n",
       "1279      1128       903             0       2031         577           0   \n",
       "\n",
       "      OpenPorchSF  PoolArea  YrSold  YearBuilt_YrSold  YearRemodAdd_YrSold  \\\n",
       "Id                                                                           \n",
       "235            48         0    2010                 8                    8   \n",
       "530             0         0    2007                50                   32   \n",
       "651             0         0    2008                 1                    1   \n",
       "937            41         0    2009                 6                    6   \n",
       "974           120         0    2008                 1                    0   \n",
       "978           116         0    2007                 1                    0   \n",
       "1244          229         0    2006                 0                    0   \n",
       "1279          211         0    2008                 6                    6   \n",
       "\n",
       "      GarageYrBlt_YrSold  SalePrice  \n",
       "Id                                   \n",
       "235                  8.0     216500  \n",
       "530                 32.0     200624  \n",
       "651                  1.0     205950  \n",
       "937                  6.0     184900  \n",
       "974                  1.0     182000  \n",
       "978                  0.0     199900  \n",
       "1244                 0.0     465000  \n",
       "1279                 6.0     237000  "
      ]
     },
     "execution_count": 13,
     "metadata": {},
     "output_type": "execute_result"
    }
   ],
   "source": [
    "# Creating a copy of the df_output:\n",
    "df_prep_MasVnrArea = df_output.copy()\n",
    "\n",
    "# listing the indexes with null values.\n",
    "lst_nulls_MasVnrArea = df_prep_MasVnrArea[(df_prep_MasVnrArea['MasVnrArea'].isna())].index.tolist()\n",
    "\n",
    "# listing the indexes WITHOUT null values.\n",
    "lst_keep_MasVnrArea = [x for x in df_prep_MasVnrArea.index if x not in lst_nulls_MasVnrArea]\n",
    "\n",
    "df_prep_MasVnrArea[(df_prep_MasVnrArea['MasVnrArea'].isna())]"
   ]
  },
  {
   "cell_type": "code",
   "execution_count": 14,
   "id": "d8ab520c",
   "metadata": {
    "ExecuteTime": {
     "end_time": "2022-06-19T22:35:31.787681Z",
     "start_time": "2022-06-19T22:35:31.645675Z"
    }
   },
   "outputs": [
    {
     "name": "stdout",
     "output_type": "stream",
     "text": [
      "train: X - (1452, 17), y - (1452, 1)\n",
      "test: X - (8, 17), y - (8, 1)\n"
     ]
    }
   ],
   "source": [
    "X_train = df_prep_MasVnrArea.drop(columns=['MasVnrArea', 'SalePrice'], index=lst_nulls_MasVnrArea)\n",
    "X_test = df_prep_MasVnrArea.drop(columns=['MasVnrArea', 'SalePrice'], index=lst_keep_MasVnrArea)\n",
    "y_train = df_prep_MasVnrArea.loc[lst_keep_MasVnrArea, ['MasVnrArea']]\n",
    "y_test = df_prep_MasVnrArea.loc[lst_nulls_MasVnrArea, ['MasVnrArea']]\n",
    "\n",
    "print(f\"\"\"train: X - {X_train.shape}, y - {y_train.shape}\n",
    "test: X - {X_test.shape}, y - {y_test.shape}\"\"\")"
   ]
  },
  {
   "cell_type": "markdown",
   "id": "e0b18841",
   "metadata": {},
   "source": [
    "#### Trying to use PMML"
   ]
  },
  {
   "cell_type": "code",
   "execution_count": 15,
   "id": "f3fc475d",
   "metadata": {
    "ExecuteTime": {
     "end_time": "2022-06-19T22:35:35.478393Z",
     "start_time": "2022-06-19T22:35:31.789674Z"
    }
   },
   "outputs": [
    {
     "data": {
      "text/plain": [
       "array([[450. ],\n",
       "       [ 97.4],\n",
       "       [  0. ],\n",
       "       [ 44.4],\n",
       "       [114.2],\n",
       "       [260.8],\n",
       "       [587. ],\n",
       "       [103.6]])"
      ]
     },
     "execution_count": 15,
     "metadata": {},
     "output_type": "execute_result"
    }
   ],
   "source": [
    "pipeline = PMMLPipeline([\n",
    "    (\"knn\", KNeighborsRegressor(n_neighbors=5, n_jobs=-1))\n",
    "])\n",
    "\n",
    "pipeline.fit(X_train, y_train)\n",
    "\n",
    "sklearn2pmml(pipeline, MODELS_FOLDER + 'data_prep_knn.pmml', with_repr = True)\n",
    "\n",
    "y_pred_imputer = pipeline.predict(X_test)\n",
    "\n",
    "y_pred_imputer\n",
    "\n",
    "# df_output.loc[lst_nulls_MasVnrArea, 'MasVnrArea_pred'] = y_pred_imputer\n",
    "\n",
    "# df_output.loc[lst_nulls_MasVnrArea, ['MasVnrArea', 'MasVnrArea_pred']]"
   ]
  },
  {
   "cell_type": "markdown",
   "id": "46a8a2d8",
   "metadata": {},
   "source": [
    "#### Using Pickle"
   ]
  },
  {
   "cell_type": "code",
   "execution_count": 16,
   "id": "d92ccb27",
   "metadata": {
    "ExecuteTime": {
     "end_time": "2022-06-19T22:35:35.652393Z",
     "start_time": "2022-06-19T22:35:35.480394Z"
    }
   },
   "outputs": [
    {
     "data": {
      "text/plain": [
       "array([[450. ],\n",
       "       [ 97.4],\n",
       "       [  0. ],\n",
       "       [ 44.4],\n",
       "       [114.2],\n",
       "       [260.8],\n",
       "       [587. ],\n",
       "       [103.6]])"
      ]
     },
     "execution_count": 16,
     "metadata": {},
     "output_type": "execute_result"
    }
   ],
   "source": [
    "pipeline = KNeighborsRegressor(n_neighbors=5, n_jobs=-1)\n",
    "\n",
    "pipeline.fit(X_train, y_train)\n",
    "\n",
    "pickle.dump(pipeline, open(MODELS_FOLDER + 'data_prep_knn.pkl', 'wb'))\n",
    "\n",
    "y_pred_imputer = pipeline.predict(X_test)\n",
    "\n",
    "y_pred_imputer"
   ]
  },
  {
   "cell_type": "code",
   "execution_count": 17,
   "id": "318e7240",
   "metadata": {
    "ExecuteTime": {
     "end_time": "2022-06-19T22:35:35.810426Z",
     "start_time": "2022-06-19T22:35:35.654393Z"
    }
   },
   "outputs": [
    {
     "data": {
      "text/html": [
       "<div>\n",
       "<style scoped>\n",
       "    .dataframe tbody tr th:only-of-type {\n",
       "        vertical-align: middle;\n",
       "    }\n",
       "\n",
       "    .dataframe tbody tr th {\n",
       "        vertical-align: top;\n",
       "    }\n",
       "\n",
       "    .dataframe thead th {\n",
       "        text-align: right;\n",
       "    }\n",
       "</style>\n",
       "<table border=\"1\" class=\"dataframe\">\n",
       "  <thead>\n",
       "    <tr style=\"text-align: right;\">\n",
       "      <th></th>\n",
       "      <th>LotArea</th>\n",
       "      <th>MasVnrArea</th>\n",
       "      <th>BsmtFinSF1</th>\n",
       "      <th>BsmtFinSF2</th>\n",
       "      <th>BsmtUnfSF</th>\n",
       "      <th>TotalBsmtSF</th>\n",
       "      <th>1stFlrSF</th>\n",
       "      <th>2ndFlrSF</th>\n",
       "      <th>LowQualFinSF</th>\n",
       "      <th>GrLivArea</th>\n",
       "      <th>GarageArea</th>\n",
       "      <th>WoodDeckSF</th>\n",
       "      <th>OpenPorchSF</th>\n",
       "      <th>PoolArea</th>\n",
       "      <th>YrSold</th>\n",
       "      <th>YearBuilt_YrSold</th>\n",
       "      <th>YearRemodAdd_YrSold</th>\n",
       "      <th>GarageYrBlt_YrSold</th>\n",
       "      <th>SalePrice</th>\n",
       "    </tr>\n",
       "    <tr>\n",
       "      <th>Id</th>\n",
       "      <th></th>\n",
       "      <th></th>\n",
       "      <th></th>\n",
       "      <th></th>\n",
       "      <th></th>\n",
       "      <th></th>\n",
       "      <th></th>\n",
       "      <th></th>\n",
       "      <th></th>\n",
       "      <th></th>\n",
       "      <th></th>\n",
       "      <th></th>\n",
       "      <th></th>\n",
       "      <th></th>\n",
       "      <th></th>\n",
       "      <th></th>\n",
       "      <th></th>\n",
       "      <th></th>\n",
       "      <th></th>\n",
       "    </tr>\n",
       "  </thead>\n",
       "  <tbody>\n",
       "    <tr>\n",
       "      <th>235</th>\n",
       "      <td>7851</td>\n",
       "      <td>450.0</td>\n",
       "      <td>625</td>\n",
       "      <td>0</td>\n",
       "      <td>235</td>\n",
       "      <td>860</td>\n",
       "      <td>860</td>\n",
       "      <td>1100</td>\n",
       "      <td>0</td>\n",
       "      <td>1960</td>\n",
       "      <td>440</td>\n",
       "      <td>288</td>\n",
       "      <td>48</td>\n",
       "      <td>0</td>\n",
       "      <td>2010</td>\n",
       "      <td>8</td>\n",
       "      <td>8</td>\n",
       "      <td>8.0</td>\n",
       "      <td>216500</td>\n",
       "    </tr>\n",
       "    <tr>\n",
       "      <th>530</th>\n",
       "      <td>32668</td>\n",
       "      <td>97.4</td>\n",
       "      <td>1219</td>\n",
       "      <td>0</td>\n",
       "      <td>816</td>\n",
       "      <td>2035</td>\n",
       "      <td>2515</td>\n",
       "      <td>0</td>\n",
       "      <td>0</td>\n",
       "      <td>2515</td>\n",
       "      <td>484</td>\n",
       "      <td>0</td>\n",
       "      <td>0</td>\n",
       "      <td>0</td>\n",
       "      <td>2007</td>\n",
       "      <td>50</td>\n",
       "      <td>32</td>\n",
       "      <td>32.0</td>\n",
       "      <td>200624</td>\n",
       "    </tr>\n",
       "    <tr>\n",
       "      <th>651</th>\n",
       "      <td>8125</td>\n",
       "      <td>0.0</td>\n",
       "      <td>0</td>\n",
       "      <td>0</td>\n",
       "      <td>813</td>\n",
       "      <td>813</td>\n",
       "      <td>822</td>\n",
       "      <td>843</td>\n",
       "      <td>0</td>\n",
       "      <td>1665</td>\n",
       "      <td>562</td>\n",
       "      <td>0</td>\n",
       "      <td>0</td>\n",
       "      <td>0</td>\n",
       "      <td>2008</td>\n",
       "      <td>1</td>\n",
       "      <td>1</td>\n",
       "      <td>1.0</td>\n",
       "      <td>205950</td>\n",
       "    </tr>\n",
       "    <tr>\n",
       "      <th>937</th>\n",
       "      <td>10083</td>\n",
       "      <td>44.4</td>\n",
       "      <td>833</td>\n",
       "      <td>0</td>\n",
       "      <td>343</td>\n",
       "      <td>1176</td>\n",
       "      <td>1200</td>\n",
       "      <td>0</td>\n",
       "      <td>0</td>\n",
       "      <td>1200</td>\n",
       "      <td>555</td>\n",
       "      <td>0</td>\n",
       "      <td>41</td>\n",
       "      <td>0</td>\n",
       "      <td>2009</td>\n",
       "      <td>6</td>\n",
       "      <td>6</td>\n",
       "      <td>6.0</td>\n",
       "      <td>184900</td>\n",
       "    </tr>\n",
       "    <tr>\n",
       "      <th>974</th>\n",
       "      <td>11639</td>\n",
       "      <td>114.2</td>\n",
       "      <td>0</td>\n",
       "      <td>0</td>\n",
       "      <td>1428</td>\n",
       "      <td>1428</td>\n",
       "      <td>1428</td>\n",
       "      <td>0</td>\n",
       "      <td>0</td>\n",
       "      <td>1428</td>\n",
       "      <td>480</td>\n",
       "      <td>0</td>\n",
       "      <td>120</td>\n",
       "      <td>0</td>\n",
       "      <td>2008</td>\n",
       "      <td>1</td>\n",
       "      <td>0</td>\n",
       "      <td>1.0</td>\n",
       "      <td>182000</td>\n",
       "    </tr>\n",
       "    <tr>\n",
       "      <th>978</th>\n",
       "      <td>4274</td>\n",
       "      <td>260.8</td>\n",
       "      <td>1106</td>\n",
       "      <td>0</td>\n",
       "      <td>135</td>\n",
       "      <td>1241</td>\n",
       "      <td>1241</td>\n",
       "      <td>0</td>\n",
       "      <td>0</td>\n",
       "      <td>1241</td>\n",
       "      <td>569</td>\n",
       "      <td>0</td>\n",
       "      <td>116</td>\n",
       "      <td>0</td>\n",
       "      <td>2007</td>\n",
       "      <td>1</td>\n",
       "      <td>0</td>\n",
       "      <td>0.0</td>\n",
       "      <td>199900</td>\n",
       "    </tr>\n",
       "    <tr>\n",
       "      <th>1244</th>\n",
       "      <td>13891</td>\n",
       "      <td>587.0</td>\n",
       "      <td>1386</td>\n",
       "      <td>0</td>\n",
       "      <td>690</td>\n",
       "      <td>2076</td>\n",
       "      <td>2076</td>\n",
       "      <td>0</td>\n",
       "      <td>0</td>\n",
       "      <td>2076</td>\n",
       "      <td>850</td>\n",
       "      <td>216</td>\n",
       "      <td>229</td>\n",
       "      <td>0</td>\n",
       "      <td>2006</td>\n",
       "      <td>0</td>\n",
       "      <td>0</td>\n",
       "      <td>0.0</td>\n",
       "      <td>465000</td>\n",
       "    </tr>\n",
       "    <tr>\n",
       "      <th>1279</th>\n",
       "      <td>9473</td>\n",
       "      <td>103.6</td>\n",
       "      <td>804</td>\n",
       "      <td>0</td>\n",
       "      <td>324</td>\n",
       "      <td>1128</td>\n",
       "      <td>1128</td>\n",
       "      <td>903</td>\n",
       "      <td>0</td>\n",
       "      <td>2031</td>\n",
       "      <td>577</td>\n",
       "      <td>0</td>\n",
       "      <td>211</td>\n",
       "      <td>0</td>\n",
       "      <td>2008</td>\n",
       "      <td>6</td>\n",
       "      <td>6</td>\n",
       "      <td>6.0</td>\n",
       "      <td>237000</td>\n",
       "    </tr>\n",
       "  </tbody>\n",
       "</table>\n",
       "</div>"
      ],
      "text/plain": [
       "      LotArea  MasVnrArea  BsmtFinSF1  BsmtFinSF2  BsmtUnfSF  TotalBsmtSF  \\\n",
       "Id                                                                          \n",
       "235      7851       450.0         625           0        235          860   \n",
       "530     32668        97.4        1219           0        816         2035   \n",
       "651      8125         0.0           0           0        813          813   \n",
       "937     10083        44.4         833           0        343         1176   \n",
       "974     11639       114.2           0           0       1428         1428   \n",
       "978      4274       260.8        1106           0        135         1241   \n",
       "1244    13891       587.0        1386           0        690         2076   \n",
       "1279     9473       103.6         804           0        324         1128   \n",
       "\n",
       "      1stFlrSF  2ndFlrSF  LowQualFinSF  GrLivArea  GarageArea  WoodDeckSF  \\\n",
       "Id                                                                          \n",
       "235        860      1100             0       1960         440         288   \n",
       "530       2515         0             0       2515         484           0   \n",
       "651        822       843             0       1665         562           0   \n",
       "937       1200         0             0       1200         555           0   \n",
       "974       1428         0             0       1428         480           0   \n",
       "978       1241         0             0       1241         569           0   \n",
       "1244      2076         0             0       2076         850         216   \n",
       "1279      1128       903             0       2031         577           0   \n",
       "\n",
       "      OpenPorchSF  PoolArea  YrSold  YearBuilt_YrSold  YearRemodAdd_YrSold  \\\n",
       "Id                                                                           \n",
       "235            48         0    2010                 8                    8   \n",
       "530             0         0    2007                50                   32   \n",
       "651             0         0    2008                 1                    1   \n",
       "937            41         0    2009                 6                    6   \n",
       "974           120         0    2008                 1                    0   \n",
       "978           116         0    2007                 1                    0   \n",
       "1244          229         0    2006                 0                    0   \n",
       "1279          211         0    2008                 6                    6   \n",
       "\n",
       "      GarageYrBlt_YrSold  SalePrice  \n",
       "Id                                   \n",
       "235                  8.0     216500  \n",
       "530                 32.0     200624  \n",
       "651                  1.0     205950  \n",
       "937                  6.0     184900  \n",
       "974                  1.0     182000  \n",
       "978                  0.0     199900  \n",
       "1244                 0.0     465000  \n",
       "1279                 6.0     237000  "
      ]
     },
     "execution_count": 17,
     "metadata": {},
     "output_type": "execute_result"
    }
   ],
   "source": [
    "df_output.loc[lst_nulls_MasVnrArea, 'MasVnrArea'] = y_pred_imputer\n",
    "              \n",
    "df_output.loc[lst_nulls_MasVnrArea, :]"
   ]
  },
  {
   "cell_type": "code",
   "execution_count": 18,
   "id": "18c7d86f",
   "metadata": {
    "ExecuteTime": {
     "end_time": "2022-06-19T22:35:35.950393Z",
     "start_time": "2022-06-19T22:35:35.812394Z"
    }
   },
   "outputs": [
    {
     "name": "stdout",
     "output_type": "stream",
     "text": [
      "<class 'pandas.core.frame.DataFrame'>\n",
      "Int64Index: 1460 entries, 1 to 1460\n",
      "Data columns (total 19 columns):\n",
      " #   Column               Non-Null Count  Dtype  \n",
      "---  ------               --------------  -----  \n",
      " 0   LotArea              1460 non-null   int64  \n",
      " 1   MasVnrArea           1460 non-null   float64\n",
      " 2   BsmtFinSF1           1460 non-null   int64  \n",
      " 3   BsmtFinSF2           1460 non-null   int64  \n",
      " 4   BsmtUnfSF            1460 non-null   int64  \n",
      " 5   TotalBsmtSF          1460 non-null   int64  \n",
      " 6   1stFlrSF             1460 non-null   int64  \n",
      " 7   2ndFlrSF             1460 non-null   int64  \n",
      " 8   LowQualFinSF         1460 non-null   int64  \n",
      " 9   GrLivArea            1460 non-null   int64  \n",
      " 10  GarageArea           1460 non-null   int64  \n",
      " 11  WoodDeckSF           1460 non-null   int64  \n",
      " 12  OpenPorchSF          1460 non-null   int64  \n",
      " 13  PoolArea             1460 non-null   int64  \n",
      " 14  YrSold               1460 non-null   int64  \n",
      " 15  YearBuilt_YrSold     1460 non-null   int64  \n",
      " 16  YearRemodAdd_YrSold  1460 non-null   int64  \n",
      " 17  GarageYrBlt_YrSold   1460 non-null   float64\n",
      " 18  SalePrice            1460 non-null   int64  \n",
      "dtypes: float64(2), int64(17)\n",
      "memory usage: 260.4 KB\n"
     ]
    }
   ],
   "source": [
    "df_output.info()"
   ]
  },
  {
   "cell_type": "markdown",
   "id": "e5285521",
   "metadata": {},
   "source": [
    "### Conclusion\n",
    "\n",
    "As we can see above, there is no null values. Now let's code our dataprep pipeline:"
   ]
  },
  {
   "cell_type": "markdown",
   "id": "7e05c7c3",
   "metadata": {},
   "source": [
    "## Dataprep pipeline"
   ]
  },
  {
   "cell_type": "code",
   "execution_count": 26,
   "id": "0e20365a",
   "metadata": {
    "ExecuteTime": {
     "end_time": "2022-06-19T22:37:01.868303Z",
     "start_time": "2022-06-19T22:37:01.723347Z"
    }
   },
   "outputs": [],
   "source": [
    "def use_data_prep_baseline(df: pd.DataFrame, target_to_impute: str = 'MasVnrArea') -> pd.DataFrame:\n",
    "    \n",
    "    if 'SalePrice' in df.columns:\n",
    "        df_prepared = df.drop(columns='SalePrice').copy()\n",
    "    else:\n",
    "        df_prepared = df.copy()\n",
    "    \n",
    "    # listing the indexes with null values.\n",
    "    lst_nulls = df_prepared[(df_prepared[target_to_impute].isna())].index.tolist()\n",
    "\n",
    "    # listing the indexes WITHOUT null values.\n",
    "    lst_keep = [x for x in df_prepared.index if x not in lst_nulls]\n",
    "    \n",
    "    X = df_prepared.drop(columns=target_to_impute, index=lst_keep).copy()\n",
    "    \n",
    "#     Load model\n",
    "#     TODO: Add the model as a parameter of this function.\n",
    "#     model = Model.load(MODELS_FOLDER + 'data_prep_knn.pmml')\n",
    "    model = pickle.load(open(MODELS_FOLDER + 'data_prep_knn.pkl', 'rb'))\n",
    "    y_pred = model.predict(X)\n",
    "    print(y_pred.shape)\n",
    "    \n",
    "    df_prepared.loc[lst_nulls, 'MasVnrArea'] = y_pred     \n",
    "    \n",
    "    return df_prepared"
   ]
  },
  {
   "cell_type": "code",
   "execution_count": 27,
   "id": "710dab31",
   "metadata": {
    "ExecuteTime": {
     "end_time": "2022-06-19T22:42:31.492598Z",
     "start_time": "2022-06-19T22:42:31.330601Z"
    }
   },
   "outputs": [
    {
     "name": "stdout",
     "output_type": "stream",
     "text": [
      "(8, 1)\n",
      "<class 'pandas.core.frame.DataFrame'>\n",
      "Int64Index: 8 entries, 235 to 1279\n",
      "Data columns (total 18 columns):\n",
      " #   Column               Non-Null Count  Dtype  \n",
      "---  ------               --------------  -----  \n",
      " 0   LotArea              8 non-null      int64  \n",
      " 1   BsmtFinSF1           8 non-null      int64  \n",
      " 2   BsmtFinSF2           8 non-null      int64  \n",
      " 3   BsmtUnfSF            8 non-null      int64  \n",
      " 4   TotalBsmtSF          8 non-null      int64  \n",
      " 5   1stFlrSF             8 non-null      int64  \n",
      " 6   2ndFlrSF             8 non-null      int64  \n",
      " 7   LowQualFinSF         8 non-null      int64  \n",
      " 8   GrLivArea            8 non-null      int64  \n",
      " 9   GarageArea           8 non-null      int64  \n",
      " 10  WoodDeckSF           8 non-null      int64  \n",
      " 11  OpenPorchSF          8 non-null      int64  \n",
      " 12  PoolArea             8 non-null      int64  \n",
      " 13  YrSold               8 non-null      int64  \n",
      " 14  YearBuilt_YrSold     8 non-null      int64  \n",
      " 15  YearRemodAdd_YrSold  8 non-null      int64  \n",
      " 16  GarageYrBlt_YrSold   8 non-null      float64\n",
      " 17  MasVnrArea           8 non-null      float64\n",
      "dtypes: float64(2), int64(16)\n",
      "memory usage: 1.5 KB\n"
     ]
    }
   ],
   "source": [
    "# This cell represents the final pipeline.\n",
    "\n",
    "df_test = pd.concat([X_test, y_test], axis=1)\n",
    "\n",
    "df_test[['GarageYrBlt_YrSold']] = df_test[['GarageYrBlt_YrSold']].fillna(999)\n",
    "\n",
    "df_teste_prep = use_data_prep_baseline(df_prepared)\n",
    "\n",
    "df_teste_prep.info()"
   ]
  },
  {
   "cell_type": "code",
   "execution_count": 33,
   "id": "12c599e9",
   "metadata": {
    "ExecuteTime": {
     "end_time": "2022-06-19T22:44:41.826541Z",
     "start_time": "2022-06-19T22:44:41.674543Z"
    }
   },
   "outputs": [],
   "source": [
    "df_output.to_parquet(INTERIM_FOLDER + 'df_train_interim_01_baseline.pqt')"
   ]
  }
 ],
 "metadata": {
  "hide_input": false,
  "kernelspec": {
   "display_name": "Python 3 (ipykernel)",
   "language": "python",
   "name": "python3"
  },
  "language_info": {
   "codemirror_mode": {
    "name": "ipython",
    "version": 3
   },
   "file_extension": ".py",
   "mimetype": "text/x-python",
   "name": "python",
   "nbconvert_exporter": "python",
   "pygments_lexer": "ipython3",
   "version": "3.9.7"
  },
  "toc": {
   "base_numbering": 1,
   "nav_menu": {},
   "number_sections": true,
   "sideBar": true,
   "skip_h1_title": false,
   "title_cell": "Table of Contents",
   "title_sidebar": "Contents",
   "toc_cell": false,
   "toc_position": {
    "height": "calc(100% - 180px)",
    "left": "10px",
    "top": "150px",
    "width": "384px"
   },
   "toc_section_display": true,
   "toc_window_display": true
  }
 },
 "nbformat": 4,
 "nbformat_minor": 5
}
